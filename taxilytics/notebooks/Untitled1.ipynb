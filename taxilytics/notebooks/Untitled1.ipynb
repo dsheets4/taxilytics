{
 "cells": [
  {
   "cell_type": "code",
   "execution_count": 3,
   "metadata": {
    "collapsed": false
   },
   "outputs": [],
   "source": [
    "from entity.models import TripDataCommon, TripDataDecimal, TripDataInt, TripDataString"
   ]
  },
  {
   "cell_type": "code",
   "execution_count": 4,
   "metadata": {
    "collapsed": false
   },
   "outputs": [],
   "source": [
    "for d in TripDataCommon.objects.all():\n",
    "    print(d)"
   ]
  },
  {
   "cell_type": "code",
   "execution_count": 37,
   "metadata": {
    "collapsed": true
   },
   "outputs": [],
   "source": [
    "from datetime import datetime\n",
    "timestamps = [\n",
    "    datetime(2011,1,1,0,0,1, tzinfo=timezone.utc),\n",
    "    datetime(2011,1,1,0,0,2, tzinfo=timezone.utc),\n",
    "    datetime(2011,1,1,0,0,3, tzinfo=timezone.utc)\n",
    "]"
   ]
  },
  {
   "cell_type": "code",
   "execution_count": 49,
   "metadata": {
    "collapsed": false
   },
   "outputs": [],
   "source": [
    "td_com = TripDataCommon()\n",
    "td_com.ts = timestamps\n",
    "td_com.trip_id = 1501000000000000002\n",
    "td_com.save()"
   ]
  },
  {
   "cell_type": "code",
   "execution_count": 58,
   "metadata": {
    "collapsed": false
   },
   "outputs": [
    {
     "data": {
      "text/plain": [
       "{'_state': <django.db.models.base.ModelState at 0x7ff7a2b84470>,\n",
       " 'columns': ['Int1', 'Int2', 'Int3'],\n",
       " 'id': 4,\n",
       " 'trip_id': 1501000000000000002,\n",
       " 'tripdatacommon_ptr_id': 4,\n",
       " 'ts': [datetime.datetime(2011, 1, 1, 0, 0, 1, tzinfo=<UTC>),\n",
       "  datetime.datetime(2011, 1, 1, 0, 0, 2, tzinfo=<UTC>),\n",
       "  datetime.datetime(2011, 1, 1, 0, 0, 3, tzinfo=<UTC>)],\n",
       " 'values': [1, 2, 3]}"
      ]
     },
     "execution_count": 58,
     "metadata": {},
     "output_type": "execute_result"
    }
   ],
   "source": [
    "td_int = TripDataInt()\n",
    "td_int.columns = ['Int1', 'Int2', 'Int3']\n",
    "td_int.values = [1, 2, 3]\n",
    "td_int.tripdatacommon_ptr = td_com\n",
    "td_int.ts = td_com.ts\n",
    "td_int.trip_id = td_com.trip_id\n",
    "td_int.save()\n",
    "vars(td_int)"
   ]
  },
  {
   "cell_type": "code",
   "execution_count": 59,
   "metadata": {
    "collapsed": false
   },
   "outputs": [
    {
     "data": {
      "text/plain": [
       "{'_state': <django.db.models.base.ModelState at 0x7ff7a2befeb8>,\n",
       " 'columns': ['Decimal1', 'Decimal2', 'Decimal3'],\n",
       " 'id': 4,\n",
       " 'trip_id': 1501000000000000002,\n",
       " 'tripdatacommon_ptr_id': 4,\n",
       " 'ts': [datetime.datetime(2011, 1, 1, 0, 0, 1, tzinfo=<UTC>),\n",
       "  datetime.datetime(2011, 1, 1, 0, 0, 2, tzinfo=<UTC>),\n",
       "  datetime.datetime(2011, 1, 1, 0, 0, 3, tzinfo=<UTC>)],\n",
       " 'values': [1.1, 2.22, 3.333]}"
      ]
     },
     "execution_count": 59,
     "metadata": {},
     "output_type": "execute_result"
    }
   ],
   "source": [
    "td_dec = TripDataDecimal()\n",
    "td_dec.columns = ['Decimal1', 'Decimal2', 'Decimal3']\n",
    "td_dec.values = [1.1, 2.22, 3.333]\n",
    "td_dec.tripdatacommon_ptr = td_com\n",
    "td_dec.ts = td_com.ts\n",
    "td_dec.trip_id = td_com.trip_id\n",
    "td_dec.save()\n",
    "vars(td_dec)"
   ]
  },
  {
   "cell_type": "code",
   "execution_count": 60,
   "metadata": {
    "collapsed": false
   },
   "outputs": [
    {
     "data": {
      "text/plain": [
       "{'_state': <django.db.models.base.ModelState at 0x7ff7a2b84eb8>,\n",
       " 'columns': ['String1', 'String2', 'String3'],\n",
       " 'id': 4,\n",
       " 'trip_id': 1501000000000000002,\n",
       " 'tripdatacommon_ptr_id': 4,\n",
       " 'ts': [datetime.datetime(2011, 1, 1, 0, 0, 1, tzinfo=<UTC>),\n",
       "  datetime.datetime(2011, 1, 1, 0, 0, 2, tzinfo=<UTC>),\n",
       "  datetime.datetime(2011, 1, 1, 0, 0, 3, tzinfo=<UTC>)],\n",
       " 'values': ['1111', '2222', '3333']}"
      ]
     },
     "execution_count": 60,
     "metadata": {},
     "output_type": "execute_result"
    }
   ],
   "source": [
    "td_str = TripDataString()\n",
    "td_str.columns = ['String1', 'String2', 'String3']\n",
    "td_str.values = ['1111', '2222', '3333']\n",
    "td_str.tripdatacommon_ptr = td_com\n",
    "td_str.ts = td_com.ts\n",
    "td_str.trip_id = td_com.trip_id\n",
    "td_str.save()\n",
    "vars(td_str)"
   ]
  },
  {
   "cell_type": "code",
   "execution_count": 61,
   "metadata": {
    "collapsed": false
   },
   "outputs": [
    {
     "name": "stdout",
     "output_type": "stream",
     "text": [
      "TripDataCommon object\n",
      "TripDataCommon object\n",
      "TripDataCommon object\n"
     ]
    }
   ],
   "source": [
    "for d in TripDataCommon.objects.all():\n",
    "    print(d)"
   ]
  },
  {
   "cell_type": "code",
   "execution_count": 62,
   "metadata": {
    "collapsed": false
   },
   "outputs": [
    {
     "data": {
      "text/plain": [
       "<TripDataCommon: TripDataCommon object>"
      ]
     },
     "execution_count": 62,
     "metadata": {},
     "output_type": "execute_result"
    }
   ],
   "source": [
    "d"
   ]
  },
  {
   "cell_type": "code",
   "execution_count": 63,
   "metadata": {
    "collapsed": false
   },
   "outputs": [
    {
     "data": {
      "text/plain": [
       "{'_state': <django.db.models.base.ModelState at 0x7ff7a2b844a8>,\n",
       " 'id': 4,\n",
       " 'trip_id': 1501000000000000002,\n",
       " 'ts': [datetime.datetime(2011, 1, 1, 0, 0, 1, tzinfo=<UTC>),\n",
       "  datetime.datetime(2011, 1, 1, 0, 0, 2, tzinfo=<UTC>),\n",
       "  datetime.datetime(2011, 1, 1, 0, 0, 3, tzinfo=<UTC>)]}"
      ]
     },
     "execution_count": 63,
     "metadata": {},
     "output_type": "execute_result"
    }
   ],
   "source": [
    "vars(d)"
   ]
  },
  {
   "cell_type": "code",
   "execution_count": 64,
   "metadata": {
    "collapsed": false
   },
   "outputs": [
    {
     "data": {
      "text/plain": [
       "['DoesNotExist',\n",
       " 'MultipleObjectsReturned',\n",
       " '__class__',\n",
       " '__delattr__',\n",
       " '__dict__',\n",
       " '__dir__',\n",
       " '__doc__',\n",
       " '__eq__',\n",
       " '__format__',\n",
       " '__ge__',\n",
       " '__getattribute__',\n",
       " '__gt__',\n",
       " '__hash__',\n",
       " '__init__',\n",
       " '__le__',\n",
       " '__lt__',\n",
       " '__module__',\n",
       " '__ne__',\n",
       " '__new__',\n",
       " '__reduce__',\n",
       " '__reduce_ex__',\n",
       " '__repr__',\n",
       " '__setattr__',\n",
       " '__setstate__',\n",
       " '__sizeof__',\n",
       " '__str__',\n",
       " '__subclasshook__',\n",
       " '__weakref__',\n",
       " '_check_column_name_clashes',\n",
       " '_check_field_name_clashes',\n",
       " '_check_fields',\n",
       " '_check_id_field',\n",
       " '_check_index_together',\n",
       " '_check_local_fields',\n",
       " '_check_long_column_names',\n",
       " '_check_m2m_through_same_relationship',\n",
       " '_check_managers',\n",
       " '_check_model',\n",
       " '_check_ordering',\n",
       " '_check_swappable',\n",
       " '_check_unique_together',\n",
       " '_do_insert',\n",
       " '_do_update',\n",
       " '_get_FIELD_display',\n",
       " '_get_next_or_previous_by_FIELD',\n",
       " '_get_next_or_previous_in_order',\n",
       " '_get_pk_val',\n",
       " '_get_unique_checks',\n",
       " '_meta',\n",
       " '_perform_date_checks',\n",
       " '_perform_unique_checks',\n",
       " '_save_parents',\n",
       " '_save_table',\n",
       " '_set_pk_val',\n",
       " '_state',\n",
       " 'check',\n",
       " 'clean',\n",
       " 'clean_fields',\n",
       " 'commit_from_df',\n",
       " 'date_error_message',\n",
       " 'delete',\n",
       " 'from_db',\n",
       " 'full_clean',\n",
       " 'get_deferred_fields',\n",
       " 'id',\n",
       " 'objects',\n",
       " 'pk',\n",
       " 'prepare_database_save',\n",
       " 'refresh_from_db',\n",
       " 'save',\n",
       " 'save_base',\n",
       " 'serializable_value',\n",
       " 'trip',\n",
       " 'trip_id',\n",
       " 'tripdatadecimal',\n",
       " 'tripdataint',\n",
       " 'tripdatastring',\n",
       " 'ts',\n",
       " 'unique_error_message',\n",
       " 'validate_unique']"
      ]
     },
     "execution_count": 64,
     "metadata": {},
     "output_type": "execute_result"
    }
   ],
   "source": [
    "dir(d)"
   ]
  },
  {
   "cell_type": "code",
   "execution_count": 65,
   "metadata": {
    "collapsed": false
   },
   "outputs": [
    {
     "data": {
      "text/plain": [
       "<TripDataDecimal: TripDataDecimal object>"
      ]
     },
     "execution_count": 65,
     "metadata": {},
     "output_type": "execute_result"
    }
   ],
   "source": [
    "d.tripdatadecimal"
   ]
  },
  {
   "cell_type": "code",
   "execution_count": 66,
   "metadata": {
    "collapsed": false
   },
   "outputs": [
    {
     "data": {
      "text/plain": [
       "<TripDataInt: TripDataInt object>"
      ]
     },
     "execution_count": 66,
     "metadata": {},
     "output_type": "execute_result"
    }
   ],
   "source": [
    "d.tripdataint"
   ]
  },
  {
   "cell_type": "code",
   "execution_count": 67,
   "metadata": {
    "collapsed": false
   },
   "outputs": [
    {
     "data": {
      "text/plain": [
       "<TripDataString: TripDataString object>"
      ]
     },
     "execution_count": 67,
     "metadata": {},
     "output_type": "execute_result"
    }
   ],
   "source": [
    "d.tripdatastring"
   ]
  },
  {
   "cell_type": "code",
   "execution_count": null,
   "metadata": {
    "collapsed": true
   },
   "outputs": [],
   "source": []
  }
 ],
 "metadata": {
  "kernelspec": {
   "display_name": "Django Shell-Plus",
   "language": "python",
   "name": "django_extensions"
  },
  "language_info": {
   "codemirror_mode": {
    "name": "ipython",
    "version": 3
   },
   "file_extension": ".py",
   "mimetype": "text/x-python",
   "name": "python",
   "nbconvert_exporter": "python",
   "pygments_lexer": "ipython3",
   "version": "3.5.3"
  }
 },
 "nbformat": 4,
 "nbformat_minor": 1
}
