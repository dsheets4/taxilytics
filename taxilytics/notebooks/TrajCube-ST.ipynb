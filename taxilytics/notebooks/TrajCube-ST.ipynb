{
 "cells": [
  {
   "cell_type": "markdown",
   "metadata": {},
   "source": [
    "# Setup\n",
    "This street cube is created using Hangzhou data from November and December of 2011."
   ]
  },
  {
   "cell_type": "code",
   "execution_count": 1,
   "metadata": {
    "collapsed": false
   },
   "outputs": [],
   "source": [
    "# Imports to help query the cube, these are used for the following sections.\n",
    "from IPython.display import display, HTML\n",
    "from itertools import islice\n",
    "from django.db import connection\n",
    "\n",
    "from datetime import datetime\n",
    "from collections import namedtuple\n",
    "from IPython.display import Markdown\n",
    "\n",
    "cursor = connection.cursor()\n",
    "\n",
    "num_results = 20  # Maximum results to print from a query\n",
    "def format_results(results):\n",
    "    if len(results) > 1:\n",
    "        sep = '-:'\n",
    "        nl = '\\n'\n",
    "        col_sep = '|'\n",
    "    else:\n",
    "        sep = ' = '\n",
    "        nl = ''\n",
    "        col_sep = ', '\n",
    "    return Markdown(nl.join((\n",
    "        col_sep.join([f for f in results[0]._fields]),  # Header row\n",
    "        col_sep.join(['-:'] * len(results[0]._fields)) if len(results) > 1 else ' = ',  # Alignment Row\n",
    "        '\\n'.join([col_sep.join([str(getattr(r, f)) if getattr(r, f) is not None else 'ANY' for f in r._fields]) for r in results]).rstrip())\n",
    "    ))\n",
    "\n",
    "def execute(q_str, max_results=num_results):\n",
    "    cursor.execute(q_str)\n",
    "    nt_result = namedtuple('Result', [col[0] for col in cursor.description])\n",
    "    return [nt_result(*r) for r in islice(cursor, None, max_results)]"
   ]
  },
  {
   "cell_type": "markdown",
   "metadata": {},
   "source": [
    "# Street Cube Statistics"
   ]
  },
  {
   "cell_type": "markdown",
   "metadata": {},
   "source": [
    "### Total GPS Samples Processed to Create the Cube"
   ]
  },
  {
   "cell_type": "code",
   "execution_count": 3,
   "metadata": {
    "collapsed": false
   },
   "outputs": [
    {
     "data": {
      "text/markdown": [
       "num_trips, num_samples = 17385125, 288284766"
      ],
      "text/plain": [
       "<IPython.core.display.Markdown object>"
      ]
     },
     "execution_count": 3,
     "metadata": {},
     "output_type": "execute_result"
    }
   ],
   "source": [
    "q = \"\"\"\n",
    "SELECT\n",
    "    COUNT(geometry) AS \"num_trips\",\n",
    "    SUM(ST_NPoints(geometry)) AS \"num_samples\"\n",
    "FROM entity_trip\n",
    "\"\"\"\n",
    "format_results(execute(q))"
   ]
  },
  {
   "cell_type": "code",
   "execution_count": 14,
   "metadata": {
    "collapsed": false,
    "scrolled": false
   },
   "outputs": [
    {
     "name": "stdout",
     "output_type": "stream",
     "text": [
      "The slowest run took 5.95 times longer than the fastest. This could mean that an intermediate result is being cached.\n",
      "1 loop, best of 3: 6.29 s per loop\n"
     ]
    },
    {
     "data": {
      "text/markdown": [
       "Total_Samples = 40630901"
      ],
      "text/plain": [
       "<IPython.core.display.Markdown object>"
      ]
     },
     "execution_count": 14,
     "metadata": {},
     "output_type": "execute_result"
    }
   ],
   "source": [
    "q = \"\"\"\n",
    "    SELECT sum((measures->>'cnt')::int) as \"Total_Samples\" \n",
    "    FROM streetcube_streetcell\n",
    "    \"\"\".replace('\\n', ' ')\n",
    "%timeit execute(q)\n",
    "format_results(execute(q))"
   ]
  },
  {
   "cell_type": "markdown",
   "metadata": {},
   "source": [
    "### Number of Non-Empty Cells in the Cube"
   ]
  },
  {
   "cell_type": "code",
   "execution_count": 5,
   "metadata": {
    "collapsed": false,
    "scrolled": true
   },
   "outputs": [
    {
     "data": {
      "text/markdown": [
       "data_cell_count = 81310980"
      ],
      "text/plain": [
       "<IPython.core.display.Markdown object>"
      ]
     },
     "execution_count": 5,
     "metadata": {},
     "output_type": "execute_result"
    }
   ],
   "source": [
    "# Count of data cells.  These are the direct cube cells for all dimensions.\n",
    "q = \"\"\"\n",
    "    SELECT count(*) as data_cell_count\n",
    "    FROM streetcube_streetcell\n",
    "    WHERE NOT (time_inc IS NULL OR street_id IS NULL)\n",
    "    \"\"\".replace('\\n', ' ')\n",
    "# %timeit execute(q)\n",
    "results = execute(q)\n",
    "data_cell_count = results[0].data_cell_count\n",
    "format_results(results)"
   ]
  },
  {
   "cell_type": "code",
   "execution_count": 6,
   "metadata": {
    "collapsed": false
   },
   "outputs": [
    {
     "data": {
      "text/markdown": [
       "agg_cell_count = 18244928"
      ],
      "text/plain": [
       "<IPython.core.display.Markdown object>"
      ]
     },
     "execution_count": 6,
     "metadata": {},
     "output_type": "execute_result"
    }
   ],
   "source": [
    "# Count of aggregate cells.  These are the cells that aggregate along a dimension.\n",
    "q = \"\"\"\n",
    "    SELECT count(*) as agg_cell_count\n",
    "    FROM streetcube_streetcell\n",
    "    WHERE (time_inc IS NULL OR osm_id IS NULL)\n",
    "    \"\"\".replace('\\n', ' ')\n",
    "# %timeit execute(q)\n",
    "results = execute(q)\n",
    "agg_cell_count = results[0].agg_cell_count\n",
    "format_results(results)"
   ]
  },
  {
   "cell_type": "code",
   "execution_count": 7,
   "metadata": {
    "collapsed": false
   },
   "outputs": [
    {
     "data": {
      "text/markdown": [
       "total_cell_count = 99555908"
      ],
      "text/plain": [
       "<IPython.core.display.Markdown object>"
      ]
     },
     "execution_count": 7,
     "metadata": {},
     "output_type": "execute_result"
    }
   ],
   "source": [
    "# Count of total cells.\n",
    "q = \"\"\"\n",
    "    SELECT count(*) as total_cell_count\n",
    "    FROM streetcube_streettaxicell\n",
    "    \"\"\".replace('\\n', ' ')\n",
    "# %timeit execute(q)\n",
    "results = execute(q)\n",
    "total_cell_count = results[0].total_cell_count\n",
    "format_results(results)"
   ]
  },
  {
   "cell_type": "markdown",
   "metadata": {},
   "source": [
    "# Cube Size Information\n",
    "Having built the cube it's useful to know how much data was processed to build the cube and what kind of size each dimension has in the cube.  The queries below provide some useful statistics related to the cube that was created above.\n",
    "\n",
    "## Memory\n",
    "### Intermediate cube data"
   ]
  },
  {
   "cell_type": "code",
   "execution_count": 15,
   "metadata": {
    "collapsed": false
   },
   "outputs": [
    {
     "data": {
      "text/plain": [
       "'TrajCube::ST is size 3332 MB on disk.'"
      ]
     },
     "execution_count": 15,
     "metadata": {},
     "output_type": "execute_result"
    }
   ],
   "source": [
    "# Get the size on disk of the cube table.\n",
    "q = \"\"\"\n",
    "    SELECT pg_size_pretty(\n",
    "        pg_total_relation_size('streetcube_streetcell')\n",
    "    ) AS traj_cube_size__od\n",
    "\"\"\"\n",
    "results = execute(q)\n",
    "'TrajCube::ST is size {} on disk.'.format(results[0].traj_cube_size__od)"
   ]
  },
  {
   "cell_type": "markdown",
   "metadata": {},
   "source": [
    "### Cube set table\n",
    "This is the table that stores the generates cube sets"
   ]
  },
  {
   "cell_type": "code",
   "execution_count": 16,
   "metadata": {
    "collapsed": false
   },
   "outputs": [
    {
     "data": {
      "text/plain": [
       "'Cube sets size 10 MB on disk.'"
      ]
     },
     "execution_count": 16,
     "metadata": {},
     "output_type": "execute_result"
    }
   ],
   "source": [
    "# Get the size on disk of the cube set table.\n",
    "q = \"\"\"\n",
    "    SELECT pg_size_pretty(\n",
    "        pg_total_relation_size('cache_table')\n",
    "    ) AS cube_set_size\n",
    "\"\"\"\n",
    "results = execute(q)\n",
    "'Cube sets size {} on disk.'.format(results[0].cube_set_size)"
   ]
  },
  {
   "cell_type": "markdown",
   "metadata": {},
   "source": [
    "## Date ranges"
   ]
  },
  {
   "cell_type": "code",
   "execution_count": 9,
   "metadata": {
    "collapsed": false,
    "scrolled": true
   },
   "outputs": [
    {
     "name": "stdout",
     "output_type": "stream",
     "text": [
      "The slowest run took 125.89 times longer than the fastest. This could mean that an intermediate result is being cached.\n",
      "1000 loops, best of 3: 571 µs per loop\n"
     ]
    },
    {
     "data": {
      "text/markdown": [
       "min, max = 1999-11-30 00:42:48+00:00, 2080-01-12 11:07:23+00:00"
      ],
      "text/plain": [
       "<IPython.core.display.Markdown object>"
      ]
     },
     "execution_count": 9,
     "metadata": {},
     "output_type": "execute_result"
    }
   ],
   "source": [
    "q = \"\"\"\n",
    "    SELECT min(start_datetime), max(start_datetime)\n",
    "    FROM entity_trip\n",
    "\"\"\".replace('\\n', ' ')\n",
    "%timeit execute(q)\n",
    "format_results(execute(q))"
   ]
  },
  {
   "cell_type": "markdown",
   "metadata": {},
   "source": [
    "## Most prevalent feature in each dimension"
   ]
  },
  {
   "cell_type": "code",
   "execution_count": 10,
   "metadata": {
    "collapsed": false
   },
   "outputs": [
    {
     "name": "stdout",
     "output_type": "stream",
     "text": [
      "The slowest run took 5.57 times longer than the fastest. This could mean that an intermediate result is being cached.\n",
      "1 loop, best of 3: 54.6 s per loop\n"
     ]
    },
    {
     "data": {
      "text/markdown": [
       "entity_id|entity_count|osm_count|time_count\n",
       "-:|-:|-:|-:\n",
       "2711|24760|1831|708\n",
       "3023|24657|1958|639\n",
       "2429|22367|1794|691\n",
       "5833|20722|2051|639\n",
       "6460|20495|1841|668"
      ],
      "text/plain": [
       "<IPython.core.display.Markdown object>"
      ]
     },
     "execution_count": 10,
     "metadata": {},
     "output_type": "execute_result"
    }
   ],
   "source": [
    "# List the most prevalent taxis\n",
    "q = \"\"\"\n",
    "    SELECT\n",
    "        entity_id,\n",
    "        count(entity_id) as entity_count,\n",
    "        count(distinct osm_id) as osm_count,\n",
    "        count(distinct time_inc) as time_count\n",
    "    FROM streetcube_streettaxicell GROUP BY entity_id ORDER BY entity_count DESC\n",
    "    LIMIT 5\"\"\".replace('\\n', ' ')\n",
    "%timeit execute(q)\n",
    "results = execute(q)\n",
    "taxi_id_list = str(tuple(r.entity_id for r in results))\n",
    "format_results(results)"
   ]
  },
  {
   "cell_type": "code",
   "execution_count": 11,
   "metadata": {
    "collapsed": false,
    "scrolled": false
   },
   "outputs": [
    {
     "name": "stdout",
     "output_type": "stream",
     "text": [
      "The slowest run took 9.90 times longer than the fastest. This could mean that an intermediate result is being cached.\n",
      "1 loop, best of 3: 2min 43s per loop\n"
     ]
    },
    {
     "data": {
      "text/markdown": [
       "osm_id|osm_cells|entity_cells|time_cells\n",
       "-:|-:|-:|-:\n",
       "636180|758404|8258|794\n",
       "633894|664998|8240|734\n",
       "1855111|568258|8173|728\n",
       "1644171|534252|8191|725\n",
       "625228|512220|8203|728"
      ],
      "text/plain": [
       "<IPython.core.display.Markdown object>"
      ]
     },
     "execution_count": 11,
     "metadata": {},
     "output_type": "execute_result"
    }
   ],
   "source": [
    "# List the most prevalent streets\n",
    "q = \"\"\"\n",
    "    SELECT\n",
    "        osm_id,\n",
    "        count(osm_id) as osm_cells,\n",
    "        count(distinct entity_id) as entity_cells,\n",
    "        count(distinct time_inc) as time_cells\n",
    "    FROM streetcube_streettaxicell GROUP BY osm_id ORDER BY osm_cells DESC\n",
    "    LIMIT 5\"\"\".replace('\\n', ' ')\n",
    "%timeit execute(q)\n",
    "\n",
    "results = execute(q)\n",
    "street_id_list = str(tuple(r.osm_id for r in results))\n",
    "format_results(results)"
   ]
  },
  {
   "cell_type": "code",
   "execution_count": 12,
   "metadata": {
    "collapsed": false
   },
   "outputs": [
    {
     "name": "stdout",
     "output_type": "stream",
     "text": [
      "The slowest run took 11.88 times longer than the fastest. This could mean that an intermediate result is being cached.\n",
      "1 loop, best of 3: 2min 57s per loop\n"
     ]
    },
    {
     "data": {
      "text/markdown": [
       "time_inc|time_cells|entity_cells|osm_cells\n",
       "-:|-:|-:|-:\n",
       "2011-12-10 02:00:00+00:00|277820|7825|3336\n",
       "2011-12-10 01:00:00+00:00|277160|7820|3263\n",
       "2011-12-11 01:00:00+00:00|272339|7770|3337\n",
       "2011-12-10 00:00:00+00:00|271051|7795|3255\n",
       "2011-12-11 00:00:00+00:00|263014|7756|3391"
      ],
      "text/plain": [
       "<IPython.core.display.Markdown object>"
      ]
     },
     "execution_count": 12,
     "metadata": {},
     "output_type": "execute_result"
    }
   ],
   "source": [
    "# List the most prevalent times\n",
    "q = \"\"\"\n",
    "    SELECT\n",
    "        time_inc,\n",
    "        count(time_inc) as time_cells,\n",
    "        count(distinct entity_id) as entity_cells,\n",
    "        count(distinct osm_id) as osm_cells\n",
    "    FROM streetcube_streettaxicell GROUP BY time_inc ORDER BY time_cells DESC\n",
    "    LIMIT 5\n",
    "    \"\"\".replace('\\n', ' ')\n",
    "%timeit execute(q)\n",
    "results = execute(q)\n",
    "time_id_list = str(tuple(r.time_inc for r in results))\n",
    "format_results(results)"
   ]
  },
  {
   "cell_type": "markdown",
   "metadata": {},
   "source": [
    "### Dimension counts"
   ]
  },
  {
   "cell_type": "code",
   "execution_count": 13,
   "metadata": {
    "collapsed": false
   },
   "outputs": [
    {
     "name": "stdout",
     "output_type": "stream",
     "text": [
      "1 loop, best of 3: 1min 14s per loop\n"
     ]
    },
    {
     "data": {
      "text/markdown": [
       "count_taxis = 10294"
      ],
      "text/plain": [
       "<IPython.core.display.Markdown object>"
      ]
     },
     "execution_count": 13,
     "metadata": {},
     "output_type": "execute_result"
    }
   ],
   "source": [
    "q = \"SELECT count(distinct entity_id) as count_taxis FROM streetcube_streettaxicell\"\n",
    "%timeit execute(q)\n",
    "format_results(execute(q))"
   ]
  },
  {
   "cell_type": "code",
   "execution_count": 14,
   "metadata": {
    "collapsed": false,
    "scrolled": true
   },
   "outputs": [
    {
     "name": "stdout",
     "output_type": "stream",
     "text": [
      "1 loop, best of 3: 1min 16s per loop\n"
     ]
    },
    {
     "data": {
      "text/markdown": [
       "count_streets = 5628"
      ],
      "text/plain": [
       "<IPython.core.display.Markdown object>"
      ]
     },
     "execution_count": 14,
     "metadata": {},
     "output_type": "execute_result"
    }
   ],
   "source": [
    "q = \"SELECT count(distinct osm_id) as count_streets FROM streetcube_streettaxicell\"\n",
    "%timeit execute(q)\n",
    "format_results(execute(q))"
   ]
  },
  {
   "cell_type": "code",
   "execution_count": 15,
   "metadata": {
    "collapsed": false
   },
   "outputs": [
    {
     "name": "stdout",
     "output_type": "stream",
     "text": [
      "1 loop, best of 3: 1min 9s per loop\n"
     ]
    },
    {
     "data": {
      "text/markdown": [
       "count_times = 1035"
      ],
      "text/plain": [
       "<IPython.core.display.Markdown object>"
      ]
     },
     "execution_count": 15,
     "metadata": {},
     "output_type": "execute_result"
    }
   ],
   "source": [
    "q = \"SELECT count(distinct time_inc) as count_times FROM streetcube_streettaxicell\"\n",
    "%timeit execute(q)\n",
    "format_results(execute(q))"
   ]
  },
  {
   "cell_type": "markdown",
   "metadata": {},
   "source": [
    "# Lookups and Dimension Aggregation\n",
    "The creation of the cube provides some initial aggregation below the smallest level of fidelity that is needed for reporting or continued analysis.  The cube puts this data into a form that is easy for the database to query but also easy for the database to perform additional aggegations, which are called rollups.  A rollup summarizes the data along one or more dimensions in the cube.  Since rollups can be performed along any dimension, we demonstrate the queries using those dimensions.\n",
    "\n",
    "1. Street\n",
    "1. Taxi\n",
    "1. Time"
   ]
  },
  {
   "cell_type": "code",
   "execution_count": 16,
   "metadata": {
    "collapsed": false
   },
   "outputs": [],
   "source": [
    "# Query portion to calculate average speed using PostGres NOSQL fields\n",
    "count_measure = \"\"\"\n",
    "        sum((measures->'speed'->>'count')::int)\n",
    "\"\"\"\n",
    "\n",
    "avg_speed_measure = \"\"\"\n",
    "        (sum(CAST(measures->'speed'->>'sum' as float))\n",
    "        / sum(CAST(measures->'speed'->>'count' as float))\n",
    "        )\n",
    "\"\"\"\n",
    "\n",
    "combined_measure = \"\"\"{count} as \"count\", {avg_speed}\n",
    "\"\"\".format(count=count_measure, avg_speed=avg_speed_measure)\n",
    "\n",
    "measure_column = combined_measure"
   ]
  },
  {
   "cell_type": "markdown",
   "metadata": {},
   "source": [
    "## Street-centric data and Rollups\n",
    "For these queries we rollup along time and taxi. Note that the common street id is chosen so that all the queries demonstrate the same street for connectivity as well as to limit the results.  In practice the streets chosen would be done through another pre-query such as brushing an area on a map.  The common taxi used in each query is to provide connectivity between each example.  In practice the query would return all taxis per any additional filter criteria. This same concept applies to the other examples but on different dimensions."
   ]
  },
  {
   "cell_type": "markdown",
   "metadata": {},
   "source": [
    "### Cells Related to Each of the Chosen Example Dimensions\n",
    "Some specific values were chosen as rollup values, and consequently filters, in order to provide better continuity between each example.  By applying the value as a filter on the non-rollup version of the query, it's possible to see that the cube supports the higher fidelity results as well as the rollup.  That is, an initial example shows the individual results and a subsequent example shows the rollup of those results."
   ]
  },
  {
   "cell_type": "code",
   "execution_count": 17,
   "metadata": {
    "collapsed": false
   },
   "outputs": [
    {
     "name": "stdout",
     "output_type": "stream",
     "text": [
      "1 loop, best of 3: 4.23 s per loop\n"
     ]
    },
    {
     "data": {
      "text/markdown": [
       "street_count = 3038132"
      ],
      "text/plain": [
       "<IPython.core.display.Markdown object>"
      ]
     },
     "execution_count": 17,
     "metadata": {},
     "output_type": "execute_result"
    }
   ],
   "source": [
    "q = (\"\"\"\n",
    "    SELECT count(*) AS street_count FROM streetcube_streettaxicell\n",
    "    WHERE osm_id IN %s\"\"\" % street_id_list).replace('\\n', ' ')\n",
    "%timeit execute(q)\n",
    "format_results(execute(q))"
   ]
  },
  {
   "cell_type": "code",
   "execution_count": 18,
   "metadata": {
    "collapsed": false
   },
   "outputs": [
    {
     "name": "stdout",
     "output_type": "stream",
     "text": [
      "The slowest run took 4.34 times longer than the fastest. This could mean that an intermediate result is being cached.\n",
      "10 loops, best of 3: 36.3 ms per loop\n"
     ]
    },
    {
     "data": {
      "text/markdown": [
       "taxi_count = 113001"
      ],
      "text/plain": [
       "<IPython.core.display.Markdown object>"
      ]
     },
     "execution_count": 18,
     "metadata": {},
     "output_type": "execute_result"
    }
   ],
   "source": [
    "q = (\"\"\"\n",
    "    SELECT count(*) AS taxi_count FROM streetcube_streettaxicell\n",
    "    WHERE entity_id IN %s\"\"\"  % taxi_id_list).replace('\\n', ' ')\n",
    "%timeit execute(q)\n",
    "format_results(execute(q))"
   ]
  },
  {
   "cell_type": "code",
   "execution_count": 19,
   "metadata": {
    "collapsed": false
   },
   "outputs": [
    {
     "name": "stdout",
     "output_type": "stream",
     "text": [
      "The slowest run took 93.43 times longer than the fastest. This could mean that an intermediate result is being cached.\n",
      "1 loop, best of 3: 5.94 ms per loop\n"
     ]
    },
    {
     "data": {
      "text/markdown": [
       "combined_count = 2764"
      ],
      "text/plain": [
       "<IPython.core.display.Markdown object>"
      ]
     },
     "execution_count": 19,
     "metadata": {},
     "output_type": "execute_result"
    }
   ],
   "source": [
    "q = (\"\"\"\n",
    "    SELECT count(*) AS combined_count\n",
    "    FROM streetcube_streettaxicell\n",
    "    WHERE osm_id IN %s and entity_id IN %s\n",
    "    \"\"\" % (street_id_list, taxi_id_list)).replace('\\n', '')\n",
    "%timeit execute(q)\n",
    "format_results(execute(q))"
   ]
  },
  {
   "cell_type": "markdown",
   "metadata": {},
   "source": [
    "### Full-Fidelity Query Filtered by Street and Taxi\n",
    "This shows a snippet of the full fidelity of the cube, which can provide information related to an individual taxi on an individual street for an individual time increment. That is, a single cell indexed by all the cube dimensions.  The query below filters these results by taxi id and street id. "
   ]
  },
  {
   "cell_type": "code",
   "execution_count": 20,
   "metadata": {
    "collapsed": false
   },
   "outputs": [
    {
     "name": "stdout",
     "output_type": "stream",
     "text": [
      "The slowest run took 12.53 times longer than the fastest. This could mean that an intermediate result is being cached.\n",
      "100 loops, best of 3: 10.9 ms per loop\n"
     ]
    },
    {
     "data": {
      "text/markdown": [
       "time|street_id|taxi_id|count|measure\n",
       "-:|-:|-:|-:|-:\n",
       "2011-12-16 21:00:00+00:00|1855111|2429|4|93.0\n",
       "2011-12-04 21:00:00+00:00|1855111|6460|2|90.0\n",
       "2011-12-28 11:00:00+00:00|1855111|6460|4|90.0\n",
       "2011-12-01 17:00:00+00:00|1855111|2711|5|89.2\n",
       "2011-12-12 19:00:00+00:00|1855111|2711|1|88.0\n",
       "2011-12-10 04:00:00+00:00|1855111|2711|3|86.3333333333333\n",
       "2011-12-15 15:00:00+00:00|1855111|2711|5|85.4\n",
       "2011-12-30 21:00:00+00:00|1855111|2429|3|85.3333333333333\n",
       "2011-12-01 20:00:00+00:00|1644171|6460|1|85.0\n",
       "2011-12-26 16:00:00+00:00|1855111|2429|3|85.0\n",
       "2011-12-06 20:00:00+00:00|1855111|2711|5|84.8\n",
       "2011-12-03 20:00:00+00:00|1855111|2711|2|84.5\n",
       "2011-12-07 21:00:00+00:00|1855111|2711|8|84.5\n",
       "2011-12-10 20:00:00+00:00|1855111|2711|12|84.4166666666667\n",
       "2011-12-24 20:00:00+00:00|1855111|5833|1|84.08\n",
       "2011-12-16 21:00:00+00:00|1644171|2711|1|84.0\n",
       "2011-12-19 18:00:00+00:00|1855111|2711|18|83.8888888888889\n",
       "2011-12-27 19:00:00+00:00|1855111|2711|5|83.8\n",
       "2011-12-01 20:00:00+00:00|1855111|2711|6|83.5\n",
       "2011-12-19 20:00:00+00:00|1644171|2711|9|83.3333333333333"
      ],
      "text/plain": [
       "<IPython.core.display.Markdown object>"
      ]
     },
     "execution_count": 20,
     "metadata": {},
     "output_type": "execute_result"
    }
   ],
   "source": [
    "q = (\"\"\"\n",
    "    SELECT time_inc as time, osm_id as street_id, entity_id as taxi_id, %s as measure\n",
    "    FROM streetcube_streettaxicell\n",
    "    WHERE osm_id IN %s and entity_id IN %s\n",
    "    GROUP BY osm_id, time_inc, entity_id\n",
    "    ORDER BY measure DESC\n",
    "    \"\"\" % (measure_column, street_id_list, taxi_id_list)).replace('\\n', ' ')\n",
    "%timeit execute(q)\n",
    "format_results(execute(q))"
   ]
  },
  {
   "cell_type": "markdown",
   "metadata": {},
   "source": [
    "### Rollup on Time\n",
    "This query is largely the same as the previous except that it will rollup on the time dimension.  The result is the average speed of the defined street for the defined taxi including all time data in the cube."
   ]
  },
  {
   "cell_type": "code",
   "execution_count": 21,
   "metadata": {
    "collapsed": false
   },
   "outputs": [
    {
     "name": "stdout",
     "output_type": "stream",
     "text": [
      "100 loops, best of 3: 5.77 ms per loop\n"
     ]
    },
    {
     "data": {
      "text/markdown": [
       "street_id|taxi_id|count|measure\n",
       "-:|-:|-:|-:\n",
       "625228|2429|1436|20.1768802228412\n",
       "636180|2429|2380|19.6529411764706\n",
       "1644171|2429|1632|35.8774509803922\n",
       "633894|2429|1160|23.1879310344828\n",
       "1855111|2429|1512|36.989417989418\n",
       "633894|2711|2966|21.490222521915\n",
       "1855111|2711|1776|51.9786036036036\n",
       "1644171|2711|2500|32.8912\n",
       "625228|2711|2754|19.3558460421206\n",
       "636180|2711|5072|17.9286277602524\n",
       "636180|3023|14650|19.759014334471\n",
       "625228|3023|9228|18.2051495448635\n",
       "1644171|3023|3126|25.6517210492642\n",
       "633894|3023|8526|19.1079849870983\n",
       "1855111|3023|3622|31.6386195472115\n",
       "633894|5833|11222|16.4220049901978\n",
       "1644171|5833|2208|32.3039855072464\n",
       "1855111|5833|1868|26.5649571734475\n",
       "625228|5833|4896|18.5988807189542\n",
       "636180|5833|8204|23.9688127742565"
      ],
      "text/plain": [
       "<IPython.core.display.Markdown object>"
      ]
     },
     "execution_count": 21,
     "metadata": {},
     "output_type": "execute_result"
    }
   ],
   "source": [
    "q = (\"\"\"\n",
    "    SELECT osm_id as street_id, entity_id as taxi_id, %s as measure\n",
    "    FROM streetcube_streettaxicell\n",
    "    WHERE osm_id IN %s and entity_id IN %s\n",
    "    GROUP BY osm_id, entity_id\n",
    "    ORDER BY entity_id\n",
    "    \"\"\" % (measure_column, street_id_list, taxi_id_list)).replace('\\n', ' ')\n",
    "%timeit execute(q)\n",
    "format_results(execute(q))"
   ]
  },
  {
   "cell_type": "markdown",
   "metadata": {},
   "source": [
    "### Full-Fidelity Query Filtered by Street\n",
    "This query is the same as the first except the filter by taxi id is not applied here.  This shows that the cube can return results for multiple values on the taxi dimension."
   ]
  },
  {
   "cell_type": "code",
   "execution_count": 22,
   "metadata": {
    "collapsed": false
   },
   "outputs": [
    {
     "name": "stdout",
     "output_type": "stream",
     "text": [
      "1 loop, best of 3: 7.64 s per loop\n"
     ]
    },
    {
     "data": {
      "text/markdown": [
       "street_id|taxi_id|count|measure\n",
       "-:|-:|-:|-:\n",
       "1644171|5|2|107.42\n",
       "1855111|9487|2|80.01\n",
       "1855111|8745|2|77.23\n",
       "633894|9577|2|77.0\n",
       "1855111|10185|4|76.49\n",
       "1855111|6302|2|74.0\n",
       "1855111|5197|14|70.9057142857143\n",
       "1644171|9336|2|70.75\n",
       "1644171|8079|2|70.38\n",
       "1855111|9057|2|70.38\n",
       "1855111|8756|2|69.82\n",
       "1855111|9363|2|69.64\n",
       "1855111|9404|2|69.08\n",
       "1855111|8139|4|68.62\n",
       "636180|9537|2|68.52\n",
       "1855111|8504|4|68.245\n",
       "1855111|10179|2|66.67\n",
       "1644171|9536|2|66.67\n",
       "636180|9409|2|66.67\n",
       "1644171|9210|2|66.67"
      ],
      "text/plain": [
       "<IPython.core.display.Markdown object>"
      ]
     },
     "execution_count": 22,
     "metadata": {},
     "output_type": "execute_result"
    }
   ],
   "source": [
    "q = (\"\"\"\n",
    "    SELECT osm_id as street_id, entity_id as taxi_id, %s as measure\n",
    "    FROM streetcube_streettaxicell\n",
    "    WHERE osm_id IN %s\n",
    "    GROUP BY osm_id, entity_id\n",
    "    ORDER BY measure DESC\n",
    "    \"\"\" % (measure_column, street_id_list)).replace('\\n', ' ')\n",
    "%timeit execute(q)\n",
    "format_results(execute(q))"
   ]
  },
  {
   "cell_type": "markdown",
   "metadata": {},
   "source": [
    "### Rollup on Taxi and Time\n",
    "This query still filters by the defined street ID but the result is the combination of all values in the time dimension and all values in the taxi dimension.  Since the result is filtered by street, there is a single result."
   ]
  },
  {
   "cell_type": "code",
   "execution_count": 23,
   "metadata": {
    "collapsed": false
   },
   "outputs": [
    {
     "name": "stdout",
     "output_type": "stream",
     "text": [
      "1 loop, best of 3: 7.3 s per loop\n"
     ]
    },
    {
     "data": {
      "text/markdown": [
       "street_id|count|measure\n",
       "-:|-:|-:\n",
       "1644171|6545320|31.9793958798056\n",
       "1855111|7374536|31.2373378501388\n",
       "625228|7803620|19.3497997698483\n",
       "636180|23563112|17.0677495519281\n",
       "633894|16222012|16.3162846039086"
      ],
      "text/plain": [
       "<IPython.core.display.Markdown object>"
      ]
     },
     "execution_count": 23,
     "metadata": {},
     "output_type": "execute_result"
    }
   ],
   "source": [
    "q = (\"\"\"\n",
    "    SELECT osm_id as street_id, %s as measure\n",
    "    FROM streetcube_streettaxicell\n",
    "    WHERE osm_id IN %s\n",
    "    GROUP BY osm_id\n",
    "    ORDER BY measure DESC\n",
    "    \"\"\" % (measure_column, street_id_list)).replace('\\n', ' ')\n",
    "%timeit execute(q)\n",
    "format_results(execute(q))"
   ]
  },
  {
   "cell_type": "markdown",
   "metadata": {},
   "source": [
    "## Taxi-centric data and Rollups\n",
    "In the previous examples For these queries we roll up on time and and taxi to get information related to a specific street.  In order to show the cube supports the dimensions arbitrarily, these queries will show the queries to get information on a specific taxi.\n",
    "\n",
    "### Rollup on Street\n",
    "Here we query the database to roll up on the street and chose the first hour of rush hour"
   ]
  },
  {
   "cell_type": "code",
   "execution_count": 24,
   "metadata": {
    "collapsed": false
   },
   "outputs": [
    {
     "name": "stdout",
     "output_type": "stream",
     "text": [
      "10 loops, best of 3: 166 ms per loop\n"
     ]
    },
    {
     "data": {
      "text/markdown": [
       "time|taxi_id|count|measure\n",
       "-:|-:|-:|-:\n",
       "2011-12-19 18:00:00+00:00|5833|1098|92.6157194899817\n",
       "2011-12-11 16:00:00+00:00|6460|208|85.4615384615385\n",
       "2011-12-12 16:00:00+00:00|6460|298|83.2818791946309\n",
       "2011-12-13 14:00:00+00:00|6460|234|82.3760683760684\n",
       "2011-12-19 15:00:00+00:00|5833|1430|77.1123076923077\n",
       "2011-12-21 16:00:00+00:00|6460|338|75.5207100591716\n",
       "2011-12-24 03:00:00+00:00|5833|1014|73.6644773175542\n",
       "2011-12-02 06:00:00+00:00|6460|266|73.4135338345865\n",
       "2011-12-20 15:00:00+00:00|2711|276|70.7391304347826\n",
       "2011-12-30 00:00:00+00:00|6460|332|70.5722891566265\n",
       "2011-12-18 08:00:00+00:00|2711|406|69.935960591133\n",
       "2011-12-12 13:00:00+00:00|6460|398|67.3668341708543\n",
       "2011-12-12 05:00:00+00:00|2429|456|66.4254385964912\n",
       "2011-12-03 03:00:00+00:00|2429|274|66.3941605839416\n",
       "2011-12-22 04:00:00+00:00|2429|210|66.3904761904762\n",
       "2011-12-12 22:00:00+00:00|6460|350|66.1485714285714\n",
       "2011-12-18 22:00:00+00:00|2429|444|65.8018018018018\n",
       "2011-12-13 07:00:00+00:00|2429|408|65.5392156862745\n",
       "2011-12-20 07:00:00+00:00|2711|514|65.2334630350195\n",
       "2011-12-09 13:00:00+00:00|6460|324|64.9320987654321"
      ],
      "text/plain": [
       "<IPython.core.display.Markdown object>"
      ]
     },
     "execution_count": 24,
     "metadata": {},
     "output_type": "execute_result"
    }
   ],
   "source": [
    "q = (\"\"\"\n",
    "    SELECT time_inc as time, entity_id as taxi_id, %s as measure\n",
    "    FROM streetcube_streettaxicell\n",
    "    WHERE entity_id IN %s\n",
    "    GROUP BY time_inc, entity_id\n",
    "    ORDER BY measure DESC\n",
    "    \"\"\" % (measure_column, taxi_id_list)).replace('\\n', ' ')\n",
    "%timeit execute(q)\n",
    "format_results(execute(q))"
   ]
  },
  {
   "cell_type": "markdown",
   "metadata": {},
   "source": [
    "### Rollup on Street and Time\n",
    "Here we query the database to roll up on the street and chose the first hour of rush hour"
   ]
  },
  {
   "cell_type": "code",
   "execution_count": 25,
   "metadata": {
    "collapsed": false,
    "scrolled": true
   },
   "outputs": [
    {
     "name": "stdout",
     "output_type": "stream",
     "text": [
      "1 loop, best of 3: 138 ms per loop\n"
     ]
    },
    {
     "data": {
      "text/markdown": [
       "taxi_id|count|measure\n",
       "-:|-:|-:\n",
       "2429|81146|25.6250831833978\n",
       "2711|104083|25.864992361865\n",
       "3023|382369|22.1307308123829\n",
       "5833|526981|14.4939565563085\n",
       "6460|92641|26.0047063395257"
      ],
      "text/plain": [
       "<IPython.core.display.Markdown object>"
      ]
     },
     "execution_count": 25,
     "metadata": {},
     "output_type": "execute_result"
    }
   ],
   "source": [
    "q = (\"\"\"\n",
    "    SELECT entity_id as taxi_id, %s as measure\n",
    "    FROM streetcube_streettaxicell\n",
    "    WHERE entity_id IN %s AND NOT (time_inc IS NULL OR osm_id IS NULL)\n",
    "    GROUP BY entity_id\n",
    "    \"\"\" % (measure_column, taxi_id_list)).replace('\\n', ' ')\n",
    "%timeit execute(q)\n",
    "format_results(execute(q))"
   ]
  },
  {
   "cell_type": "markdown",
   "metadata": {},
   "source": [
    "# Projected Cubes\n",
    "Here we're trying to reduce the size of the working cube."
   ]
  },
  {
   "cell_type": "code",
   "execution_count": 26,
   "metadata": {
    "collapsed": false
   },
   "outputs": [
    {
     "data": {
      "text/plain": [
       "'There are 99555908 total cells in the 3 dimension cube'"
      ]
     },
     "execution_count": 26,
     "metadata": {},
     "output_type": "execute_result"
    }
   ],
   "source": [
    "'There are ' + str(agg_cell_count+data_cell_count) + ' total cells in the 3 dimension cube'"
   ]
  },
  {
   "cell_type": "code",
   "execution_count": 27,
   "metadata": {
    "collapsed": false
   },
   "outputs": [
    {
     "data": {
      "text/markdown": [
       "count = 1978961"
      ],
      "text/plain": [
       "<IPython.core.display.Markdown object>"
      ]
     },
     "execution_count": 27,
     "metadata": {},
     "output_type": "execute_result"
    }
   ],
   "source": [
    "# Cells for the 2 dimension projected cube on time and streets\n",
    "q = \"\"\"\n",
    "    SELECT count(*)\n",
    "    FROM streetcube_streettaxicell\n",
    "    WHERE entity_id IS NULL\n",
    "    \"\"\".replace('\\n', ' ')\n",
    "# %timeit execute(q)\n",
    "format_results(execute(q))"
   ]
  },
  {
   "cell_type": "code",
   "execution_count": 28,
   "metadata": {
    "collapsed": false,
    "scrolled": false
   },
   "outputs": [
    {
     "data": {
      "text/markdown": [
       "count = 4790199"
      ],
      "text/plain": [
       "<IPython.core.display.Markdown object>"
      ]
     },
     "execution_count": 28,
     "metadata": {},
     "output_type": "execute_result"
    }
   ],
   "source": [
    "# Cells for the 2 dimension projected cube on time and taxis\n",
    "q = \"\"\"\n",
    "    SELECT count(*)\n",
    "    FROM streetcube_streettaxicell\n",
    "    WHERE osm_id IS NULL\n",
    "    \"\"\".replace('\\n', ' ')\n",
    "# %timeit execute(q)\n",
    "format_results(execute(q))"
   ]
  },
  {
   "cell_type": "code",
   "execution_count": null,
   "metadata": {
    "collapsed": true
   },
   "outputs": [],
   "source": []
  }
 ],
 "metadata": {
  "kernelspec": {
   "display_name": "Django Shell-Plus",
   "language": "python",
   "name": "django_extensions"
  },
  "language_info": {
   "codemirror_mode": {
    "name": "ipython",
    "version": 3
   },
   "file_extension": ".py",
   "mimetype": "text/x-python",
   "name": "python",
   "nbconvert_exporter": "python",
   "pygments_lexer": "ipython3",
   "version": "3.5.2"
  }
 },
 "nbformat": 4,
 "nbformat_minor": 0
}
