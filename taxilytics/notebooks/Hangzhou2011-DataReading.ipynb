{
 "cells": [
  {
   "cell_type": "markdown",
   "metadata": {},
   "source": [
    "# Hangzhou Data\n",
    "\n",
    "\n",
    "## Observations\n",
    "The following sections capture some of the observations on the data.\n",
    "\n",
    "### Taxi Plate\n",
    "In Hangzhou, or more accurately for all licenses issued in Zhejiang, the first character of the license plate is 浙 (Zhè). In the data, this sometimes appears as ¿ and sometimes as zhe in the input data files.  Specifically for Hangzhou, the second character of the license plate is A."
   ]
  },
  {
   "cell_type": "markdown",
   "metadata": {},
   "source": [
    "## Setup"
   ]
  },
  {
   "cell_type": "code",
   "execution_count": 1,
   "metadata": {
    "collapsed": false
   },
   "outputs": [
    {
     "name": "stderr",
     "output_type": "stream",
     "text": [
      "/home/dingbat/src/taxi/venv/lib/python3.5/site-packages/IPython/core/interactiveshell.py:2869: FutureWarning: \n",
      "mpl_style had been deprecated and will be removed in a future version.\n",
      "Use `matplotlib.pyplot.style.use` instead.\n",
      "\n",
      "  exec(code_obj, self.user_global_ns, self.user_ns)\n",
      "\n"
     ]
    },
    {
     "name": "stdout",
     "output_type": "stream",
     "text": [
      "Populating the interactive namespace from numpy and matplotlib\n",
      "Using pandas version 0.18.1\n"
     ]
    }
   ],
   "source": [
    "# These packages are here solely to support the use of the IPython Notebook.\n",
    "%matplotlib inline\n",
    "%pylab inline\n",
    "\n",
    "from IPython.display import HTML, display  # Allows rendering data as HTML, for example DataFrame tables.\n",
    "\n",
    "import pandas as pd\n",
    "pd.set_option('display.mpl_style', 'default')\n",
    "figsize(15, 5)\n",
    "print('Using pandas version', pd.__version__)\n",
    "\n",
    "import os\n",
    "from datetime import datetime"
   ]
  },
  {
   "cell_type": "markdown",
   "metadata": {},
   "source": [
    "## Reading in the Data\n",
    "\n",
    "With the UNIX time format, it is much faster to read in the data directly and then perform conversions on the time column.  You'll note in the cells below that we do this incrementally over a few cells."
   ]
  },
  {
   "cell_type": "code",
   "execution_count": 2,
   "metadata": {
    "collapsed": false
   },
   "outputs": [
    {
     "name": "stdout",
     "output_type": "stream",
     "text": [
      "Organization Hangzhou created\n",
      "Composing /home/dingbat/data/taxi/hangzhou/2011/12/2011-12-01_09/01/result_5M.txt for DataFrame\n",
      "Composing /home/dingbat/data/taxi/hangzhou/2011/12/2011-12-01_09/01/result_7M.txt for DataFrame\n",
      "Composing /home/dingbat/data/taxi/hangzhou/2011/12/2011-12-01_09/01/result_6M.txt for DataFrame\n",
      "Composing /home/dingbat/data/taxi/hangzhou/2011/12/2011-12-01_09/01/result_8M.txt for DataFrame\n",
      "Composing /home/dingbat/data/taxi/hangzhou/2011/12/2011-12-01_09/01/result_2M.txt for DataFrame\n",
      "Composing /home/dingbat/data/taxi/hangzhou/2011/12/2011-12-01_09/01/result_3M.txt for DataFrame\n",
      "Composing /home/dingbat/data/taxi/hangzhou/2011/12/2011-12-01_09/01/result_1M.txt for DataFrame\n",
      "Composing /home/dingbat/data/taxi/hangzhou/2011/12/2011-12-01_09/01/result_4M.txt for DataFrame\n",
      "Composing /home/dingbat/data/taxi/hangzhou/2011/12/2011-12-01_09/01/result_9M.txt for DataFrame\n",
      "Composing /home/dingbat/data/taxi/hangzhou/2011/12/2011-12-01_09/01/result_10M.txt for DataFrame\n",
      "DataFrame composition from /home/dingbat/data/taxi/hangzhou/2011/12/2011-12-01_09/01 complete\n",
      "0:07:00.038092 to read in 4.0K data\n"
     ]
    },
    {
     "data": {
      "text/html": [
       "<div>\n",
       "<table border=\"1\" class=\"dataframe\">\n",
       "  <thead>\n",
       "    <tr style=\"text-align: right;\">\n",
       "      <th></th>\n",
       "      <th></th>\n",
       "      <th>latitude</th>\n",
       "      <th>longitude</th>\n",
       "      <th>speed</th>\n",
       "      <th>heading</th>\n",
       "      <th>passenger</th>\n",
       "      <th>state</th>\n",
       "    </tr>\n",
       "    <tr>\n",
       "      <th>common_id</th>\n",
       "      <th>timestamp</th>\n",
       "      <th></th>\n",
       "      <th></th>\n",
       "      <th></th>\n",
       "      <th></th>\n",
       "      <th></th>\n",
       "      <th></th>\n",
       "    </tr>\n",
       "  </thead>\n",
       "  <tbody>\n",
       "    <tr>\n",
       "      <th>zheAT1776</th>\n",
       "      <th>2011-12-01 04:06:47+08:00</th>\n",
       "      <td>30.334283</td>\n",
       "      <td>120.173900</td>\n",
       "      <td>0.00</td>\n",
       "      <td>270</td>\n",
       "      <td>0</td>\n",
       "      <td>0</td>\n",
       "    </tr>\n",
       "    <tr>\n",
       "      <th>zheAT6720</th>\n",
       "      <th>2011-12-01 08:47:26+08:00</th>\n",
       "      <td>30.330990</td>\n",
       "      <td>120.101160</td>\n",
       "      <td>0.00</td>\n",
       "      <td>0</td>\n",
       "      <td>1</td>\n",
       "      <td>0</td>\n",
       "    </tr>\n",
       "    <tr>\n",
       "      <th>zheAT9629</th>\n",
       "      <th>2011-12-01 17:07:40+08:00</th>\n",
       "      <td>30.331408</td>\n",
       "      <td>120.140470</td>\n",
       "      <td>14.82</td>\n",
       "      <td>170</td>\n",
       "      <td>1</td>\n",
       "      <td>0</td>\n",
       "    </tr>\n",
       "    <tr>\n",
       "      <th>zheATA060</th>\n",
       "      <th>2011-12-01 23:00:57+08:00</th>\n",
       "      <td>30.275856</td>\n",
       "      <td>120.090380</td>\n",
       "      <td>48.15</td>\n",
       "      <td>340</td>\n",
       "      <td>0</td>\n",
       "      <td>0</td>\n",
       "    </tr>\n",
       "    <tr>\n",
       "      <th>zheATA233</th>\n",
       "      <th>2011-12-01 11:44:01+08:00</th>\n",
       "      <td>30.322386</td>\n",
       "      <td>120.168434</td>\n",
       "      <td>0.00</td>\n",
       "      <td>170</td>\n",
       "      <td>1</td>\n",
       "      <td>0</td>\n",
       "    </tr>\n",
       "  </tbody>\n",
       "</table>\n",
       "</div>"
      ],
      "text/plain": [
       "                                      latitude   longitude  speed  heading  \\\n",
       "common_id timestamp                                                          \n",
       "zheAT1776 2011-12-01 04:06:47+08:00  30.334283  120.173900   0.00      270   \n",
       "zheAT6720 2011-12-01 08:47:26+08:00  30.330990  120.101160   0.00        0   \n",
       "zheAT9629 2011-12-01 17:07:40+08:00  30.331408  120.140470  14.82      170   \n",
       "zheATA060 2011-12-01 23:00:57+08:00  30.275856  120.090380  48.15      340   \n",
       "zheATA233 2011-12-01 11:44:01+08:00  30.322386  120.168434   0.00      170   \n",
       "\n",
       "                                     passenger  state  \n",
       "common_id timestamp                                    \n",
       "zheAT1776 2011-12-01 04:06:47+08:00          0      0  \n",
       "zheAT6720 2011-12-01 08:47:26+08:00          1      0  \n",
       "zheAT9629 2011-12-01 17:07:40+08:00          1      0  \n",
       "zheATA060 2011-12-01 23:00:57+08:00          0      0  \n",
       "zheATA233 2011-12-01 11:44:01+08:00          1      0  "
      ]
     },
     "execution_count": 2,
     "metadata": {},
     "output_type": "execute_result"
    }
   ],
   "source": [
    "from entity.loader.taxi.taxi_common import sample_df, human_size\n",
    "from entity.loader.taxi.hangzhou import Hangzhou\n",
    "\n",
    "start_time = datetime.now()\n",
    "\n",
    "taxi_file = '/home/dingbat/data/taxi/hangzhou/2011/12/2011-12-01_09/01'\n",
    "reader = Hangzhou()\n",
    "df = reader.resource_to_dataframe(taxi_file, workers=10)\n",
    "\n",
    "print('{} to read in {} data'.format(\n",
    "    datetime.now() - start_time,\n",
    "    human_size(os.path.getsize(taxi_file))\n",
    "))\n",
    "sample_df(df)"
   ]
  },
  {
   "cell_type": "code",
   "execution_count": 3,
   "metadata": {
    "collapsed": false
   },
   "outputs": [
    {
     "name": "stdout",
     "output_type": "stream",
     "text": [
      "0:00:43.123839\n"
     ]
    }
   ],
   "source": [
    "from entity.loader.taxi.taxi_common import (\n",
    "    remove_impossible,\n",
    "    remove_implausible,\n",
    "    remove_safe_dups,\n",
    ")\n",
    "start_time = datetime.now()\n",
    "df = remove_safe_dups(df)  # Remove rows where all data is the same\n",
    "df = remove_impossible(df)  # Remove rows with data that is impossible\n",
    "df = df[~df.index.duplicated()]  # Removes all duplicates based on the index (taxi ID + timestamp)\n",
    "df.sort_index(inplace=True)\n",
    "print(datetime.now() - start_time)"
   ]
  },
  {
   "cell_type": "code",
   "execution_count": 4,
   "metadata": {
    "collapsed": false
   },
   "outputs": [
    {
     "data": {
      "text/html": [
       "<div>\n",
       "<table border=\"1\" class=\"dataframe\">\n",
       "  <thead>\n",
       "    <tr style=\"text-align: right;\">\n",
       "      <th></th>\n",
       "      <th></th>\n",
       "      <th>latitude</th>\n",
       "      <th>longitude</th>\n",
       "      <th>speed</th>\n",
       "      <th>heading</th>\n",
       "      <th>passenger</th>\n",
       "      <th>state</th>\n",
       "    </tr>\n",
       "    <tr>\n",
       "      <th>common_id</th>\n",
       "      <th>timestamp</th>\n",
       "      <th></th>\n",
       "      <th></th>\n",
       "      <th></th>\n",
       "      <th></th>\n",
       "      <th></th>\n",
       "      <th></th>\n",
       "    </tr>\n",
       "  </thead>\n",
       "  <tbody>\n",
       "    <tr>\n",
       "      <th rowspan=\"15\" valign=\"top\">zhe305680</th>\n",
       "      <th>2011-12-01 06:41:52+08:00</th>\n",
       "      <td>30.335026</td>\n",
       "      <td>120.164630</td>\n",
       "      <td>18.52</td>\n",
       "      <td>310</td>\n",
       "      <td>0</td>\n",
       "      <td>0</td>\n",
       "    </tr>\n",
       "    <tr>\n",
       "      <th>2011-12-01 06:44:16+08:00</th>\n",
       "      <td>30.337242</td>\n",
       "      <td>120.156980</td>\n",
       "      <td>32.41</td>\n",
       "      <td>210</td>\n",
       "      <td>0</td>\n",
       "      <td>0</td>\n",
       "    </tr>\n",
       "    <tr>\n",
       "      <th>2011-12-01 06:44:36+08:00</th>\n",
       "      <td>30.335821</td>\n",
       "      <td>120.155945</td>\n",
       "      <td>29.82</td>\n",
       "      <td>210</td>\n",
       "      <td>0</td>\n",
       "      <td>0</td>\n",
       "    </tr>\n",
       "    <tr>\n",
       "      <th>2011-12-01 06:44:57+08:00</th>\n",
       "      <td>30.334871</td>\n",
       "      <td>120.155040</td>\n",
       "      <td>24.26</td>\n",
       "      <td>280</td>\n",
       "      <td>0</td>\n",
       "      <td>0</td>\n",
       "    </tr>\n",
       "    <tr>\n",
       "      <th>2011-12-01 06:46:39+08:00</th>\n",
       "      <td>30.334784</td>\n",
       "      <td>120.144104</td>\n",
       "      <td>35.93</td>\n",
       "      <td>270</td>\n",
       "      <td>0</td>\n",
       "      <td>0</td>\n",
       "    </tr>\n",
       "    <tr>\n",
       "      <th>2011-12-01 06:47:00+08:00</th>\n",
       "      <td>30.334770</td>\n",
       "      <td>120.141556</td>\n",
       "      <td>42.97</td>\n",
       "      <td>270</td>\n",
       "      <td>0</td>\n",
       "      <td>0</td>\n",
       "    </tr>\n",
       "    <tr>\n",
       "      <th>2011-12-01 06:47:20+08:00</th>\n",
       "      <td>30.334757</td>\n",
       "      <td>120.140710</td>\n",
       "      <td>1.67</td>\n",
       "      <td>310</td>\n",
       "      <td>0</td>\n",
       "      <td>0</td>\n",
       "    </tr>\n",
       "    <tr>\n",
       "      <th>2011-12-01 06:47:41+08:00</th>\n",
       "      <td>30.334816</td>\n",
       "      <td>120.140495</td>\n",
       "      <td>3.70</td>\n",
       "      <td>310</td>\n",
       "      <td>0</td>\n",
       "      <td>0</td>\n",
       "    </tr>\n",
       "    <tr>\n",
       "      <th>2011-12-01 06:48:01+08:00</th>\n",
       "      <td>30.334799</td>\n",
       "      <td>120.140490</td>\n",
       "      <td>1.85</td>\n",
       "      <td>280</td>\n",
       "      <td>0</td>\n",
       "      <td>0</td>\n",
       "    </tr>\n",
       "    <tr>\n",
       "      <th>2011-12-01 06:48:22+08:00</th>\n",
       "      <td>30.334269</td>\n",
       "      <td>120.140260</td>\n",
       "      <td>32.41</td>\n",
       "      <td>170</td>\n",
       "      <td>0</td>\n",
       "      <td>0</td>\n",
       "    </tr>\n",
       "    <tr>\n",
       "      <th>2011-12-01 06:48:42+08:00</th>\n",
       "      <td>30.332561</td>\n",
       "      <td>120.140305</td>\n",
       "      <td>38.52</td>\n",
       "      <td>170</td>\n",
       "      <td>0</td>\n",
       "      <td>0</td>\n",
       "    </tr>\n",
       "    <tr>\n",
       "      <th>2011-12-01 06:49:03+08:00</th>\n",
       "      <td>30.330685</td>\n",
       "      <td>120.140540</td>\n",
       "      <td>0.37</td>\n",
       "      <td>170</td>\n",
       "      <td>0</td>\n",
       "      <td>0</td>\n",
       "    </tr>\n",
       "    <tr>\n",
       "      <th>2011-12-01 06:49:23+08:00</th>\n",
       "      <td>30.330685</td>\n",
       "      <td>120.140540</td>\n",
       "      <td>0.37</td>\n",
       "      <td>170</td>\n",
       "      <td>0</td>\n",
       "      <td>0</td>\n",
       "    </tr>\n",
       "    <tr>\n",
       "      <th>2011-12-01 06:49:44+08:00</th>\n",
       "      <td>30.330685</td>\n",
       "      <td>120.140540</td>\n",
       "      <td>0.37</td>\n",
       "      <td>170</td>\n",
       "      <td>0</td>\n",
       "      <td>0</td>\n",
       "    </tr>\n",
       "    <tr>\n",
       "      <th>2011-12-01 06:50:45+08:00</th>\n",
       "      <td>30.330310</td>\n",
       "      <td>120.138824</td>\n",
       "      <td>26.11</td>\n",
       "      <td>260</td>\n",
       "      <td>0</td>\n",
       "      <td>0</td>\n",
       "    </tr>\n",
       "  </tbody>\n",
       "</table>\n",
       "</div>"
      ],
      "text/plain": [
       "                                      latitude   longitude  speed  heading  \\\n",
       "common_id timestamp                                                          \n",
       "zhe305680 2011-12-01 06:41:52+08:00  30.335026  120.164630  18.52      310   \n",
       "          2011-12-01 06:44:16+08:00  30.337242  120.156980  32.41      210   \n",
       "          2011-12-01 06:44:36+08:00  30.335821  120.155945  29.82      210   \n",
       "          2011-12-01 06:44:57+08:00  30.334871  120.155040  24.26      280   \n",
       "          2011-12-01 06:46:39+08:00  30.334784  120.144104  35.93      270   \n",
       "          2011-12-01 06:47:00+08:00  30.334770  120.141556  42.97      270   \n",
       "          2011-12-01 06:47:20+08:00  30.334757  120.140710   1.67      310   \n",
       "          2011-12-01 06:47:41+08:00  30.334816  120.140495   3.70      310   \n",
       "          2011-12-01 06:48:01+08:00  30.334799  120.140490   1.85      280   \n",
       "          2011-12-01 06:48:22+08:00  30.334269  120.140260  32.41      170   \n",
       "          2011-12-01 06:48:42+08:00  30.332561  120.140305  38.52      170   \n",
       "          2011-12-01 06:49:03+08:00  30.330685  120.140540   0.37      170   \n",
       "          2011-12-01 06:49:23+08:00  30.330685  120.140540   0.37      170   \n",
       "          2011-12-01 06:49:44+08:00  30.330685  120.140540   0.37      170   \n",
       "          2011-12-01 06:50:45+08:00  30.330310  120.138824  26.11      260   \n",
       "\n",
       "                                     passenger  state  \n",
       "common_id timestamp                                    \n",
       "zhe305680 2011-12-01 06:41:52+08:00          0      0  \n",
       "          2011-12-01 06:44:16+08:00          0      0  \n",
       "          2011-12-01 06:44:36+08:00          0      0  \n",
       "          2011-12-01 06:44:57+08:00          0      0  \n",
       "          2011-12-01 06:46:39+08:00          0      0  \n",
       "          2011-12-01 06:47:00+08:00          0      0  \n",
       "          2011-12-01 06:47:20+08:00          0      0  \n",
       "          2011-12-01 06:47:41+08:00          0      0  \n",
       "          2011-12-01 06:48:01+08:00          0      0  \n",
       "          2011-12-01 06:48:22+08:00          0      0  \n",
       "          2011-12-01 06:48:42+08:00          0      0  \n",
       "          2011-12-01 06:49:03+08:00          0      0  \n",
       "          2011-12-01 06:49:23+08:00          0      0  \n",
       "          2011-12-01 06:49:44+08:00          0      0  \n",
       "          2011-12-01 06:50:45+08:00          0      0  "
      ]
     },
     "execution_count": 4,
     "metadata": {},
     "output_type": "execute_result"
    }
   ],
   "source": [
    "df.iloc[:15]  # Use iloc instead of sample to help illustrate sort (next cell)"
   ]
  },
  {
   "cell_type": "code",
   "execution_count": 5,
   "metadata": {
    "collapsed": false
   },
   "outputs": [
    {
     "data": {
      "text/plain": [
       "(Timestamp('1999-11-30 08:42:48+0800', tz='Asia/Shanghai'),\n",
       " Timestamp('2011-12-01 23:59:59+0800', tz='Asia/Shanghai'))"
      ]
     },
     "execution_count": 5,
     "metadata": {},
     "output_type": "execute_result"
    }
   ],
   "source": [
    "# Time range of the data can be pulled from the timestamp index.\n",
    "df.index.levels[1].min(), df.index.levels[1].max()"
   ]
  },
  {
   "cell_type": "code",
   "execution_count": 6,
   "metadata": {
    "collapsed": false
   },
   "outputs": [
    {
     "data": {
      "text/plain": [
       "Index(['zhe305680', 'zhe305691', 'zheAT0000', 'zheAT0001', 'zheAT0002',\n",
       "       'zheAT0004', 'zheAT0005', 'zheAT0007', 'zheAT0008', 'zheAT0010',\n",
       "       ...\n",
       "       'zheATD183', 'zheATD186', 'zheATD188', 'zheATD189', 'zheATD198',\n",
       "       'zheATD200', 'zhe¿LED', 'zhe¿¿', 'zhe¿¿1', 'zhe¿¿4'],\n",
       "      dtype='object', name='common_id', length=7997)"
      ]
     },
     "execution_count": 6,
     "metadata": {},
     "output_type": "execute_result"
    }
   ],
   "source": [
    "# Provides each plate and will printout total number of taxis\n",
    "df.index.levels[0]"
   ]
  },
  {
   "cell_type": "code",
   "execution_count": 7,
   "metadata": {
    "collapsed": false
   },
   "outputs": [
    {
     "name": "stdout",
     "output_type": "stream",
     "text": [
      "<class 'pandas.core.frame.DataFrame'>\n",
      "MultiIndex: 9249070 entries, (zhe305680, 2011-12-01 06:41:52+08:00) to (zhe¿¿4, 2011-12-01 23:01:54+08:00)\n",
      "Data columns (total 6 columns):\n",
      "latitude     float64\n",
      "longitude    float64\n",
      "speed        float64\n",
      "heading      int64\n",
      "passenger    int64\n",
      "state        int64\n",
      "dtypes: float64(3), int64(3)\n",
      "memory usage: 494.0+ MB\n"
     ]
    }
   ],
   "source": [
    "# Provides useful information such as:\n",
    "#   the data types of each column,\n",
    "#   number of rows in the index,\n",
    "#   memory use.\n",
    "df.info()"
   ]
  },
  {
   "cell_type": "code",
   "execution_count": 8,
   "metadata": {
    "collapsed": false
   },
   "outputs": [
    {
     "data": {
      "text/html": [
       "<div>\n",
       "<table border=\"1\" class=\"dataframe\">\n",
       "  <thead>\n",
       "    <tr style=\"text-align: right;\">\n",
       "      <th></th>\n",
       "      <th>latitude</th>\n",
       "      <th>longitude</th>\n",
       "      <th>speed</th>\n",
       "      <th>heading</th>\n",
       "      <th>passenger</th>\n",
       "      <th>state</th>\n",
       "    </tr>\n",
       "  </thead>\n",
       "  <tbody>\n",
       "    <tr>\n",
       "      <th>count</th>\n",
       "      <td>9.249070e+06</td>\n",
       "      <td>9.249070e+06</td>\n",
       "      <td>9.249070e+06</td>\n",
       "      <td>9.249070e+06</td>\n",
       "      <td>9.249070e+06</td>\n",
       "      <td>9.249070e+06</td>\n",
       "    </tr>\n",
       "    <tr>\n",
       "      <th>mean</th>\n",
       "      <td>3.027924e+01</td>\n",
       "      <td>1.201632e+02</td>\n",
       "      <td>2.056499e+01</td>\n",
       "      <td>1.675673e+02</td>\n",
       "      <td>5.725062e-01</td>\n",
       "      <td>5.999144e-02</td>\n",
       "    </tr>\n",
       "    <tr>\n",
       "      <th>std</th>\n",
       "      <td>4.155185e-02</td>\n",
       "      <td>5.808465e-02</td>\n",
       "      <td>2.428859e+01</td>\n",
       "      <td>1.101296e+02</td>\n",
       "      <td>4.947149e-01</td>\n",
       "      <td>2.374710e-01</td>\n",
       "    </tr>\n",
       "    <tr>\n",
       "      <th>min</th>\n",
       "      <td>2.990508e+01</td>\n",
       "      <td>1.197016e+02</td>\n",
       "      <td>0.000000e+00</td>\n",
       "      <td>0.000000e+00</td>\n",
       "      <td>0.000000e+00</td>\n",
       "      <td>0.000000e+00</td>\n",
       "    </tr>\n",
       "    <tr>\n",
       "      <th>25%</th>\n",
       "      <td>3.025083e+01</td>\n",
       "      <td>1.201314e+02</td>\n",
       "      <td>0.000000e+00</td>\n",
       "      <td>7.000000e+01</td>\n",
       "      <td>0.000000e+00</td>\n",
       "      <td>0.000000e+00</td>\n",
       "    </tr>\n",
       "    <tr>\n",
       "      <th>50%</th>\n",
       "      <td>3.028245e+01</td>\n",
       "      <td>1.201618e+02</td>\n",
       "      <td>9.000000e+00</td>\n",
       "      <td>1.700000e+02</td>\n",
       "      <td>1.000000e+00</td>\n",
       "      <td>0.000000e+00</td>\n",
       "    </tr>\n",
       "    <tr>\n",
       "      <th>75%</th>\n",
       "      <td>3.031024e+01</td>\n",
       "      <td>1.201824e+02</td>\n",
       "      <td>3.704000e+01</td>\n",
       "      <td>2.600000e+02</td>\n",
       "      <td>1.000000e+00</td>\n",
       "      <td>0.000000e+00</td>\n",
       "    </tr>\n",
       "    <tr>\n",
       "      <th>max</th>\n",
       "      <td>3.053508e+01</td>\n",
       "      <td>1.206045e+02</td>\n",
       "      <td>2.407600e+02</td>\n",
       "      <td>9.900000e+02</td>\n",
       "      <td>1.000000e+00</td>\n",
       "      <td>1.000000e+00</td>\n",
       "    </tr>\n",
       "  </tbody>\n",
       "</table>\n",
       "</div>"
      ],
      "text/plain": [
       "           latitude     longitude         speed       heading     passenger  \\\n",
       "count  9.249070e+06  9.249070e+06  9.249070e+06  9.249070e+06  9.249070e+06   \n",
       "mean   3.027924e+01  1.201632e+02  2.056499e+01  1.675673e+02  5.725062e-01   \n",
       "std    4.155185e-02  5.808465e-02  2.428859e+01  1.101296e+02  4.947149e-01   \n",
       "min    2.990508e+01  1.197016e+02  0.000000e+00  0.000000e+00  0.000000e+00   \n",
       "25%    3.025083e+01  1.201314e+02  0.000000e+00  7.000000e+01  0.000000e+00   \n",
       "50%    3.028245e+01  1.201618e+02  9.000000e+00  1.700000e+02  1.000000e+00   \n",
       "75%    3.031024e+01  1.201824e+02  3.704000e+01  2.600000e+02  1.000000e+00   \n",
       "max    3.053508e+01  1.206045e+02  2.407600e+02  9.900000e+02  1.000000e+00   \n",
       "\n",
       "              state  \n",
       "count  9.249070e+06  \n",
       "mean   5.999144e-02  \n",
       "std    2.374710e-01  \n",
       "min    0.000000e+00  \n",
       "25%    0.000000e+00  \n",
       "50%    0.000000e+00  \n",
       "75%    0.000000e+00  \n",
       "max    1.000000e+00  "
      ]
     },
     "execution_count": 8,
     "metadata": {},
     "output_type": "execute_result"
    }
   ],
   "source": [
    "# Provides information for each column such as:\n",
    "#   the number of samples\n",
    "#   Statistics such as mean, std dev, min, max\n",
    "df.describe()"
   ]
  },
  {
   "cell_type": "markdown",
   "metadata": {},
   "source": [
    "## Convert to Postgres"
   ]
  },
  {
   "cell_type": "code",
   "execution_count": null,
   "metadata": {
    "collapsed": false
   },
   "outputs": [],
   "source": [
    "for c in df.columns:\n",
    "    print(df.index[:5], df[c][:5])"
   ]
  },
  {
   "cell_type": "markdown",
   "metadata": {},
   "source": [
    "## Create a LineString\n",
    "Apply gps filters and create a LineString.  The LineString is used in the database to support geospatial analysis."
   ]
  },
  {
   "cell_type": "code",
   "execution_count": null,
   "metadata": {
    "collapsed": false
   },
   "outputs": [],
   "source": [
    "from entity.loader.taxi.taxi_common import create_linestring\n",
    "\n",
    "taxi_partitions = df.groupby(level='common_id', sort=False)\n",
    "for common_id, taxi_df in taxi_partitions:\n",
    "    taxi_df.index = taxi_df.index.droplevel(0)\n",
    "    ls = create_linestring(taxi_df)\n",
    "    break\n",
    "ls.json"
   ]
  },
  {
   "cell_type": "markdown",
   "metadata": {},
   "source": [
    "# Speed Time vs. DB Time\n",
    "Here we load dataframes for a few days and output the data in a per taxi form to get a better feel for the Speed Time and DB Time over a few days of data."
   ]
  },
  {
   "cell_type": "code",
   "execution_count": null,
   "metadata": {
    "collapsed": false
   },
   "outputs": [],
   "source": [
    "import pandas as pd\n",
    "from entity.loader.taxi.hangzhou import Hangzhou\n",
    "from entity.loader.taxi.taxi_common import (\n",
    "    sample_df, human_size,\n",
    "    remove_impossible, remove_implausible, remove_safe_dups,\n",
    ")\n",
    "\n",
    "\n",
    "reader = Hangzhou()\n",
    "\n",
    "\n",
    "def load_day(dir_name):\n",
    "    df = reader.resource_to_dataframe(dir_name)\n",
    "    df = remove_safe_dups(df)  # Remove rows where all data is the same\n",
    "    df = remove_impossible(df)  # Remove rows with data that is impossible\n",
    "    df = df[~df.index.duplicated()]  # Removes all duplicates based on the index (taxi ID + timestamp)\n",
    "    df.sort_index(inplace=True)\n",
    "    return df\n",
    "\n",
    "\n",
    "days = [\n",
    "    load_day('/home/dingbat/data/taxi/hangzhou/shamal_processed/2011/12/1'),\n",
    "#     load_day('/home/dingbat/data/taxi/hangzhou/shamal_processed/2011/12/2'),\n",
    "#     load_day('/home/dingbat/data/taxi/hangzhou/shamal_processed/2011/12/3'),\n",
    "]\n",
    "\n",
    "days_df = pd.concat(days)\n",
    "days_df = reader.clean(days_df)\n",
    "sample_df(days_df)"
   ]
  },
  {
   "cell_type": "code",
   "execution_count": null,
   "metadata": {
    "collapsed": false
   },
   "outputs": [],
   "source": [
    "days_df.index.levels[1].min(), days_df.index.levels[1].max()"
   ]
  },
  {
   "cell_type": "code",
   "execution_count": null,
   "metadata": {
    "collapsed": false
   },
   "outputs": [],
   "source": [
    "days_df.index.levels[0]"
   ]
  }
 ],
 "metadata": {
  "kernelspec": {
   "display_name": "Django Shell-Plus",
   "language": "python",
   "name": "django_extensions"
  },
  "language_info": {
   "codemirror_mode": {
    "name": "ipython",
    "version": 3
   },
   "file_extension": ".py",
   "mimetype": "text/x-python",
   "name": "python",
   "nbconvert_exporter": "python",
   "pygments_lexer": "ipython3",
   "version": "3.5.1"
  }
 },
 "nbformat": 4,
 "nbformat_minor": 0
}
