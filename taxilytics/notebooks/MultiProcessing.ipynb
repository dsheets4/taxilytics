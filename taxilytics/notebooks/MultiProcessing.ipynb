{
 "cells": [
  {
   "cell_type": "markdown",
   "metadata": {},
   "source": [
    "# General Setup for Multiprocessing Communication"
   ]
  },
  {
   "cell_type": "code",
   "execution_count": null,
   "metadata": {
    "collapsed": false
   },
   "outputs": [],
   "source": [
    "import logging\n",
    "logger = logging.getLogger()\n",
    "logger.setLevel('INFO')\n",
    "logger.info('Yo, Yo!')"
   ]
  },
  {
   "cell_type": "markdown",
   "metadata": {},
   "source": [
    "# General Example of each Multiprocessing Function"
   ]
  },
  {
   "cell_type": "markdown",
   "metadata": {},
   "source": [
    "## Setup to make running each more common"
   ]
  },
  {
   "cell_type": "code",
   "execution_count": null,
   "metadata": {
    "collapsed": true
   },
   "outputs": [],
   "source": [
    "with open('mp.py', 'w') as test_code:\n",
    "    test_code.write(\"\"\"\n",
    "import time\n",
    "import logging\n",
    "\n",
    "def run(proc_id, *args, **kwargs):\n",
    "    sleep_time = proc_id\n",
    "    logging.info('Process {}: {}'.format(proc_id, args))\n",
    "    #logging.info(delay)#, kwargs)\n",
    "    time.sleep(sleep_time)\n",
    "    return proc_id, args, kwargs\n",
    "\"\"\")"
   ]
  },
  {
   "cell_type": "code",
   "execution_count": null,
   "metadata": {
    "collapsed": false
   },
   "outputs": [],
   "source": [
    "# The code being multi-processed must have an importable main\n",
    "# so it can't be defined in IPython.\n",
    "import mp\n",
    "\n",
    "mp.run(0)"
   ]
  },
  {
   "cell_type": "code",
   "execution_count": null,
   "metadata": {
    "collapsed": true
   },
   "outputs": [],
   "source": [
    "from multiprocessing import Pool\n",
    "\n",
    "def callback(res):\n",
    "    logger.info('Callback:', res)\n",
    "    \n",
    "def error_callback(res):\n",
    "    logger.info('Error Callback:', res)\n",
    "\n",
    "def test(pool_func, **kwargs):\n",
    "    pool = Pool(processes=4)\n",
    "    f = getattr(pool, pool_func)\n",
    "    logger.info('Starting MP run with: {}'.format(kwargs))\n",
    "    res = f(mp.run, **kwargs)\n",
    "    pool.close()\n",
    "    pool.join()\n",
    "    return res"
   ]
  },
  {
   "cell_type": "code",
   "execution_count": null,
   "metadata": {
    "collapsed": true
   },
   "outputs": [],
   "source": [
    "args = (\n",
    "    (1,{'hello':'test'}),\n",
    "    (2, 'goodbye'),\n",
    "    (3,{'hello':'test'}),\n",
    "    (4, 'goodbye'),\n",
    "    (5,{'hello':'test'}),\n",
    "    (6, 'goodbye'),\n",
    "    (7,{'hello':'test'}),\n",
    "    (8, 'goodbye'),\n",
    "    (9,{'hello':'test'}),\n",
    "    (10, 'goodbye'),\n",
    ")"
   ]
  },
  {
   "cell_type": "markdown",
   "metadata": {},
   "source": [
    "## apply(func[, args[, kwds]])\n",
    "\n",
    "This runs this one function in the pool passing in the arguments to that function in the worker."
   ]
  },
  {
   "cell_type": "code",
   "execution_count": null,
   "metadata": {
    "collapsed": false
   },
   "outputs": [],
   "source": [
    "test('apply', args=tuple(range(2)))"
   ]
  },
  {
   "cell_type": "markdown",
   "metadata": {},
   "source": [
    "## apply_async(func[, args[, kwds[, callback[, error_callback]]]])\n",
    "A variant of the apply() method which returns a result object.\n",
    "\n",
    "If callback is specified then it should be a callable which accepts a single argument. When the result becomes ready callback is applied to it, that is unless the call failed, in which case the error_callback is applied instead.\n",
    "\n",
    "If error_callback is specified then it should be a callable which accepts a single argument. If the target function fails, then the error_callback is called with the exception instance.\n",
    "\n",
    "Callbacks should complete immediately since otherwise the thread which handles the results will get blocked."
   ]
  },
  {
   "cell_type": "code",
   "execution_count": null,
   "metadata": {
    "collapsed": false
   },
   "outputs": [],
   "source": [
    "res = test('apply_async', args=tuple(range(2)))\n",
    "res.get(-1)"
   ]
  },
  {
   "cell_type": "markdown",
   "metadata": {},
   "source": [
    "## map(func, iterable[, chunksize])\n",
    "A parallel equivalent of the map() built-in function (it supports only one iterable argument though). It blocks until the result is ready.\n",
    "\n",
    "This method chops the iterable into a number of chunks which it submits to the process pool as separate tasks. The (approximate) size of these chunks can be specified by setting chunksize to a positive integer."
   ]
  },
  {
   "cell_type": "code",
   "execution_count": null,
   "metadata": {
    "collapsed": false
   },
   "outputs": [],
   "source": [
    "test('map', iterable=tuple(range(2)))"
   ]
  },
  {
   "cell_type": "markdown",
   "metadata": {},
   "source": [
    "## map_async(func, iterable[, chunksize[, callback[, error_callback]]])\n",
    "A variant of the map() method which returns a result object.\n",
    "\n",
    "If callback is specified then it should be a callable which accepts a single argument. When the result becomes ready callback is applied to it, that is unless the call failed, in which case the error_callback is applied instead.\n",
    "\n",
    "If error_callback is specified then it should be a callable which accepts a single argument. If the target function fails, then the error_callback is called with the exception instance.\n",
    "\n",
    "Callbacks should complete immediately since otherwise the thread which handles the results will get blocked."
   ]
  },
  {
   "cell_type": "code",
   "execution_count": null,
   "metadata": {
    "collapsed": false
   },
   "outputs": [],
   "source": [
    "res = test('map_async', iterable=tuple(range(2)))\n",
    "res.get(-1)"
   ]
  },
  {
   "cell_type": "markdown",
   "metadata": {},
   "source": [
    "## imap(func, iterable[, chunksize])\n",
    "A lazier version of map().\n",
    "\n",
    "The chunksize argument is the same as the one used by the map() method. For very long iterables using a large value for chunksize can make the job complete much faster than using the default value of 1.\n",
    "\n",
    "Also if chunksize is 1 then the next() method of the iterator returned by the imap() method has an optional timeout parameter: next(timeout) will raise multiprocessing.TimeoutError if the result cannot be returned within timeout seconds."
   ]
  },
  {
   "cell_type": "code",
   "execution_count": null,
   "metadata": {
    "collapsed": false
   },
   "outputs": [],
   "source": [
    "res = test('imap', iterable=tuple(range(2)))\n",
    "for r in res:\n",
    "    logger.info('Return value: {}'.format(r))"
   ]
  },
  {
   "cell_type": "markdown",
   "metadata": {},
   "source": [
    "## imap_unordered(func, iterable[, chunksize])\n",
    "The same as imap() except that the ordering of the results from the returned iterator should be considered arbitrary. (Only when there is only one worker process is the order guaranteed to be “correct”.)"
   ]
  },
  {
   "cell_type": "code",
   "execution_count": null,
   "metadata": {
    "collapsed": false
   },
   "outputs": [],
   "source": [
    "res = test('imap_unordered', iterable=tuple(range(2)))\n",
    "for r in res:\n",
    "    logger.info('Return value: {}'.format(r))"
   ]
  },
  {
   "cell_type": "markdown",
   "metadata": {},
   "source": [
    "## starmap(func, iterable[, chunksize])\n",
    "Like map() except that the elements of the iterable are expected to be iterables that are unpacked as arguments.\n",
    "\n",
    "Hence an iterable of [(1,2), (3, 4)] results in [func(1,2), func(3,4)].\n",
    "\n",
    "New in version 3.3."
   ]
  },
  {
   "cell_type": "code",
   "execution_count": null,
   "metadata": {
    "collapsed": false
   },
   "outputs": [],
   "source": [
    "test('starmap', iterable=((1,{'hello':'test'}), (2, 'goodbye')))"
   ]
  },
  {
   "cell_type": "markdown",
   "metadata": {},
   "source": [
    "## starmap_async(func, iterable[, chunksize[, callback[, error_back]]])\n",
    "A combination of starmap() and map_async() that iterates over iterable of iterables and calls func with the iterables unpacked. Returns a result object.\n",
    "\n",
    "New in version 3.3."
   ]
  },
  {
   "cell_type": "code",
   "execution_count": null,
   "metadata": {
    "collapsed": false,
    "scrolled": true
   },
   "outputs": [],
   "source": [
    "def starmap_callback(res):\n",
    "    print('Callback:', res)\n",
    "\n",
    "res = test('starmap_async', iterable=args, callback=starmap_callback, chunksize=4)\n",
    "%timeit res.get(-1)"
   ]
  },
  {
   "cell_type": "markdown",
   "metadata": {},
   "source": [
    "# Effect of Chunksize"
   ]
  },
  {
   "cell_type": "code",
   "execution_count": null,
   "metadata": {
    "collapsed": false
   },
   "outputs": [],
   "source": [
    "logger.setLevel('WARN')\n",
    "pool = Pool(processes=1)\n",
    "%timeit pool.starmap(mp.run, iterable=args)\n",
    "%timeit pool.starmap(mp.run, iterable=args, chunksize=4)\n",
    "pool.close()\n",
    "pool.join()"
   ]
  },
  {
   "cell_type": "markdown",
   "metadata": {},
   "source": [
    "# Using Queues"
   ]
  },
  {
   "cell_type": "code",
   "execution_count": null,
   "metadata": {
    "collapsed": false
   },
   "outputs": [],
   "source": [
    "from multiprocessing import Pool, Manager\n",
    "\n",
    "# The Manager class is needed to use a Queue with the multiprocessing.Pool\n",
    "m = Manager()\n",
    "q = m.Queue()\n",
    "args = (\n",
    "    (1, 2, q, \"Twice#1\"),\n",
    "    (2, 3, q, \"Thrice\"),\n",
    "    (3, 1, q, \"Once\"),\n",
    "    (4, 5, q, \"Penta\"),\n",
    "    (5, 2, q, \"Twice#2\"),\n",
    ")"
   ]
  },
  {
   "cell_type": "code",
   "execution_count": null,
   "metadata": {
    "collapsed": true
   },
   "outputs": [],
   "source": [
    "# As before, the function used to drive each child process must have an importable main\n",
    "# so we must create a separate module containing the worker function since the notebook\n",
    "# cannot be used directly.\n",
    "with open('queue_test.py', 'w') as test_code:\n",
    "    test_code.write(\"\"\"\n",
    "import logging\n",
    "logger = logging.getLogger()\n",
    "logger.setLevel('INFO')\n",
    "import time\n",
    "\n",
    "def run(job_id, reps, q, message):\n",
    "    time.sleep(2)\n",
    "    q.put([\n",
    "        'Job({}): {} #{} of {}'.format(job_id, message, i+1, reps) for i in range(reps)\n",
    "    ])\n",
    "    logger.info('Job {} completed.'.format(job_id))\n",
    "\"\"\")\n",
    "\n",
    "import queue_test"
   ]
  },
  {
   "cell_type": "code",
   "execution_count": null,
   "metadata": {
    "collapsed": false
   },
   "outputs": [],
   "source": [
    "import queue\n",
    "from IPython.display import Markdown, display\n",
    "\n",
    "def the_callback(res):\n",
    "    \"\"\" Simple callback executed as each child process completes. \"\"\"\n",
    "    for r in res:\n",
    "        logger.info('   Callback called with result: {}'.format(r))\n",
    "    \n",
    "display(Markdown('* {}'.format('\\n* '.join([str(a) for a in args]))))\n",
    "\n",
    "# Create the pool and assign the work function and arguments.\n",
    "logger.info('Starting child processes:')\n",
    "pool = Pool(processes=2)\n",
    "res = pool.starmap_async(queue_test.run, iterable=args, callback=the_callback)\n",
    "\n",
    "# In the parent/main process, handle the data coming from each of each of the child workers.\n",
    "logger.info('Start checking queue:')\n",
    "exit_cond = 1\n",
    "while not res.ready() or not q.empty():\n",
    "    # Catching the queue.Empty is needed because the last message can be processed before the result\n",
    "    # indicates completion.\n",
    "    try:\n",
    "        value = q.get(block=True, timeout=1)\n",
    "        logger.info('   Queue message: {}'.format(value))\n",
    "        q.task_done()\n",
    "    except queue.Empty:\n",
    "        pass\n",
    "results = res.get(-1)\n",
    "for r in results:\n",
    "    logger.info(r)\n",
    "\n",
    "pool.close()\n",
    "pool.join()\n",
    "logger.info('Done')"
   ]
  },
  {
   "cell_type": "code",
   "execution_count": null,
   "metadata": {
    "collapsed": true
   },
   "outputs": [],
   "source": [
    "pool.close()\n",
    "pool.join()"
   ]
  },
  {
   "cell_type": "markdown",
   "metadata": {
    "collapsed": true
   },
   "source": [
    "# Queues"
   ]
  },
  {
   "cell_type": "code",
   "execution_count": null,
   "metadata": {
    "collapsed": true
   },
   "outputs": [],
   "source": [
    "from multiprocessing import Process, Queue\n",
    "\n",
    "def f(q):\n",
    "    q.put([42, None, 'hello'])\n",
    "\n",
    "if __name__ == '__main__':\n",
    "    q = Queue()\n",
    "    p = Process(target=f, args=(q,))\n",
    "    p.start()\n",
    "    print q.get()    # prints \"[42, None, 'hello']\"\n",
    "    p.join()"
   ]
  }
 ],
 "metadata": {
  "kernelspec": {
   "display_name": "Python 3",
   "language": "python",
   "name": "python3"
  },
  "language_info": {
   "codemirror_mode": {
    "name": "ipython",
    "version": 3
   },
   "file_extension": ".py",
   "mimetype": "text/x-python",
   "name": "python",
   "nbconvert_exporter": "python",
   "pygments_lexer": "ipython3",
   "version": "3.5.3"
  }
 },
 "nbformat": 4,
 "nbformat_minor": 0
}
