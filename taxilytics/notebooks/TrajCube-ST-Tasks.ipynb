{
 "cells": [
  {
   "cell_type": "markdown",
   "metadata": {},
   "source": [
    "# Tasks\n",
    "\n",
    "## Definitions\n",
    "\n",
    "Tasks relate to:\n",
    "1. Region\n",
    "1. Time\n",
    "1. Vehicle\n",
    "1. Origin\n",
    "1. Destination \n",
    "\n",
    "Statistics can include count, average speed, average fare, and other parametric calculations based on the select criteria. It can also include locating major constructs such as finding destinations from a chosen origin.\n",
    "\n",
    "## Street-Taxi Tasks\n",
    "\n",
    "1. Select R and T: present the statistics for the region(s) at that time(s).\n",
    "1. Select V and T: present the statistics for the vehicle(s) and time(s).\n",
    "1. Select T'p as a subset of the times during the day such as 6AM to 9AM for all tasks using T.\n",
    "1. Select R'p as a subset of streets by road types such as primary, residential, etc. "
   ]
  },
  {
   "cell_type": "markdown",
   "metadata": {},
   "source": [
    "# Setup\n",
    "This section is setting up the code for the jupyter notebook."
   ]
  },
  {
   "cell_type": "code",
   "execution_count": 1,
   "metadata": {
    "collapsed": false
   },
   "outputs": [],
   "source": [
    "# Imports to help query the cube, these are used for the following sections.\n",
    "from IPython.display import display, HTML\n",
    "from itertools import islice\n",
    "from django.db import connection\n",
    "\n",
    "cursor = connection.cursor()"
   ]
  },
  {
   "cell_type": "code",
   "execution_count": 2,
   "metadata": {
    "collapsed": true
   },
   "outputs": [],
   "source": [
    "from datetime import datetime\n",
    "from collections import namedtuple\n",
    "from IPython.display import Markdown\n",
    "\n",
    "num_results = 20  # Maximum results to print from a query\n",
    "def format_results(results):\n",
    "    if len(results) > 1:\n",
    "        sep = '-:'\n",
    "        nl = '\\n'\n",
    "        col_sep = '|'\n",
    "    else:\n",
    "        sep = ' = '\n",
    "        nl = ''\n",
    "        col_sep = ', '\n",
    "    return Markdown(nl.join((\n",
    "        col_sep.join([f for f in results[0]._fields]),  # Header row\n",
    "        col_sep.join(['-:'] * len(results[0]._fields)) if len(results) > 1 else ' = ',  # Alignment Row\n",
    "        '\\n'.join([col_sep.join([str(getattr(r, f)) if getattr(r, f) is not None else 'ANY' for f in r._fields]) for r in results]).rstrip())\n",
    "    ))\n",
    "\n",
    "def execute(q_str, max_results=num_results):\n",
    "    cursor.execute(q_str)\n",
    "    nt_result = namedtuple('Result', [col[0] for col in cursor.description])\n",
    "    return [nt_result(*r) for r in islice(cursor, None, max_results)]"
   ]
  },
  {
   "cell_type": "markdown",
   "metadata": {},
   "source": [
    "# Tasks and Timing"
   ]
  },
  {
   "cell_type": "markdown",
   "metadata": {},
   "source": [
    "## StreetCube\n",
    "There are three main query elements used in the StreetCube version of TrajCube and each can have variations on the form it takes in the query:\n",
    "1. Time\n",
    "    1. Timestamp (T) representing a range of dates with times for which results should be returned.\n",
    "    1. Time of Day (T<sub>tod</sub>) representing an range of times without a date where results should for all days should be returned where they are within the provided times.\n",
    "1. Region\n",
    "    1. Region (R) as a polygon encompassing an area for which results should be returned.\n",
    "    1. Street Type (R<sub>st</sub>) such as whether the street is primary, secondary, residential, etc.\n",
    "1. Vehicle\n",
    "    1. Vehicle (R) identifying the actual vehcile.\n",
    "    1. Vehicle Type (R<sub>vt</sub>) such as the organization or class of the vehicle (e.g. NYC yellow vs. green taxi)"
   ]
  },
  {
   "cell_type": "markdown",
   "metadata": {},
   "source": [
    "### R"
   ]
  },
  {
   "cell_type": "code",
   "execution_count": 1,
   "metadata": {
    "collapsed": true
   },
   "outputs": [],
   "source": [
    "# Naive implementation:\n",
    "#   Query the table for records containing OSM IDs in the selected region"
   ]
  },
  {
   "cell_type": "code",
   "execution_count": 2,
   "metadata": {
    "collapsed": true
   },
   "outputs": [],
   "source": [
    "# TrajCube"
   ]
  },
  {
   "cell_type": "markdown",
   "metadata": {},
   "source": [
    "### T"
   ]
  },
  {
   "cell_type": "code",
   "execution_count": null,
   "metadata": {
    "collapsed": true
   },
   "outputs": [],
   "source": []
  },
  {
   "cell_type": "markdown",
   "metadata": {},
   "source": [
    "### Time of Day and Region\n",
    "The query takes times without a date and a region as a polygon and returns values for that time of day regardless of date within the given region."
   ]
  },
  {
   "cell_type": "code",
   "execution_count": null,
   "metadata": {
    "collapsed": true
   },
   "outputs": [],
   "source": []
  },
  {
   "cell_type": "markdown",
   "metadata": {},
   "source": [
    "### Timestamp and Road Types"
   ]
  },
  {
   "cell_type": "code",
   "execution_count": null,
   "metadata": {
    "collapsed": true
   },
   "outputs": [],
   "source": []
  },
  {
   "cell_type": "markdown",
   "metadata": {},
   "source": [
    "## Select Vehicle and Time\n",
    "Present the statistics for the vehicle(s) and time(s)."
   ]
  },
  {
   "cell_type": "code",
   "execution_count": null,
   "metadata": {
    "collapsed": true
   },
   "outputs": [],
   "source": []
  },
  {
   "cell_type": "markdown",
   "metadata": {},
   "source": [
    "## Select T'p as a subset of the times during the day such as 6AM to 9AM for all tasks using T."
   ]
  },
  {
   "cell_type": "code",
   "execution_count": null,
   "metadata": {
    "collapsed": true
   },
   "outputs": [],
   "source": []
  },
  {
   "cell_type": "markdown",
   "metadata": {},
   "source": [
    "## Select R'p as a subset of streets by road types such as primary, residential, etc. "
   ]
  },
  {
   "cell_type": "code",
   "execution_count": null,
   "metadata": {
    "collapsed": true
   },
   "outputs": [],
   "source": []
  }
 ],
 "metadata": {
  "kernelspec": {
   "display_name": "Django Shell-Plus",
   "language": "python",
   "name": "django_extensions"
  },
  "language_info": {
   "codemirror_mode": {
    "name": "ipython",
    "version": 3
   },
   "file_extension": ".py",
   "mimetype": "text/x-python",
   "name": "python",
   "nbconvert_exporter": "python",
   "pygments_lexer": "ipython3",
   "version": "3.5.2"
  }
 },
 "nbformat": 4,
 "nbformat_minor": 0
}
