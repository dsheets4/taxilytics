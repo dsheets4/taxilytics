{
 "cells": [
  {
   "cell_type": "code",
   "execution_count": 1,
   "metadata": {
    "collapsed": false
   },
   "outputs": [
    {
     "name": "stdout",
     "output_type": "stream",
     "text": [
      "Populating the interactive namespace from numpy and matplotlib\n"
     ]
    }
   ],
   "source": [
    "%matplotlib inline\n",
    "%pylab inline\n",
    "import pandas as pd\n",
    "import numpy as np\n",
    "import matplotlib.pyplot as plt\n",
    "import matplotlib\n",
    "\n",
    "matplotlib.style.use('ggplot')\n",
    "figsize(15, 5)"
   ]
  },
  {
   "cell_type": "code",
   "execution_count": 2,
   "metadata": {
    "collapsed": false
   },
   "outputs": [
    {
     "data": {
      "text/html": [
       "<div style=\"max-height:1000px;max-width:1500px;overflow:auto;\">\n",
       "<table border=\"1\" class=\"dataframe\">\n",
       "  <thead>\n",
       "    <tr style=\"text-align: right;\">\n",
       "      <th></th>\n",
       "      <th>lat</th>\n",
       "      <th>lon</th>\n",
       "    </tr>\n",
       "  </thead>\n",
       "  <tbody>\n",
       "    <tr>\n",
       "      <th>2013-01-01</th>\n",
       "      <td>87.734438</td>\n",
       "      <td>-58.268079</td>\n",
       "    </tr>\n",
       "    <tr>\n",
       "      <th>2013-01-02</th>\n",
       "      <td>-72.770339</td>\n",
       "      <td>-51.047801</td>\n",
       "    </tr>\n",
       "    <tr>\n",
       "      <th>2013-01-03</th>\n",
       "      <td>-2.810664</td>\n",
       "      <td>-189.161201</td>\n",
       "    </tr>\n",
       "    <tr>\n",
       "      <th>2013-01-04</th>\n",
       "      <td>88.444339</td>\n",
       "      <td>174.274723</td>\n",
       "    </tr>\n",
       "    <tr>\n",
       "      <th>2013-01-05</th>\n",
       "      <td>51.165727</td>\n",
       "      <td>-189.332378</td>\n",
       "    </tr>\n",
       "    <tr>\n",
       "      <th>2013-01-06</th>\n",
       "      <td>28.393326</td>\n",
       "      <td>-4.941915</td>\n",
       "    </tr>\n",
       "    <tr>\n",
       "      <th>2013-01-07</th>\n",
       "      <td>-33.346629</td>\n",
       "      <td>-18.147293</td>\n",
       "    </tr>\n",
       "    <tr>\n",
       "      <th>2013-01-08</th>\n",
       "      <td>-78.566096</td>\n",
       "      <td>187.292464</td>\n",
       "    </tr>\n",
       "    <tr>\n",
       "      <th>2013-01-09</th>\n",
       "      <td>-76.617959</td>\n",
       "      <td>-195.631009</td>\n",
       "    </tr>\n",
       "    <tr>\n",
       "      <th>2013-01-10</th>\n",
       "      <td>67.372003</td>\n",
       "      <td>-85.977518</td>\n",
       "    </tr>\n",
       "  </tbody>\n",
       "</table>\n",
       "</div>"
      ],
      "text/plain": [
       "                  lat         lon\n",
       "2013-01-01  87.734438  -58.268079\n",
       "2013-01-02 -72.770339  -51.047801\n",
       "2013-01-03  -2.810664 -189.161201\n",
       "2013-01-04  88.444339  174.274723\n",
       "2013-01-05  51.165727 -189.332378\n",
       "2013-01-06  28.393326   -4.941915\n",
       "2013-01-07 -33.346629  -18.147293\n",
       "2013-01-08 -78.566096  187.292464\n",
       "2013-01-09 -76.617959 -195.631009\n",
       "2013-01-10  67.372003  -85.977518"
      ]
     },
     "execution_count": 2,
     "metadata": {},
     "output_type": "execute_result"
    }
   ],
   "source": [
    "sample_size = 100\n",
    "lon = list(map(lambda x: np.random.rand() * 400 - 200, [0] * sample_size))\n",
    "lat = list(map(lambda x: np.random.rand() * 200 - 100, [0] * sample_size))\n",
    "dates = pd.date_range('20130101', periods=sample_size)\n",
    "df = pd.DataFrame({'lon': lon, 'lat': lat}, index=dates)\n",
    "df[:10]"
   ]
  },
  {
   "cell_type": "code",
   "execution_count": 3,
   "metadata": {
    "collapsed": false
   },
   "outputs": [
    {
     "data": {
      "text/plain": [
       "2013-01-01     True\n",
       "2013-01-02     True\n",
       "2013-01-03    False\n",
       "2013-01-04     True\n",
       "2013-01-05    False\n",
       "2013-01-06     True\n",
       "2013-01-07     True\n",
       "2013-01-08    False\n",
       "2013-01-09    False\n",
       "2013-01-10     True\n",
       "Freq: D, dtype: bool"
      ]
     },
     "execution_count": 3,
     "metadata": {},
     "output_type": "execute_result"
    }
   ],
   "source": [
    "f = (\n",
    "    (df['lon'] >= -180) & (df['lon'] <= 180) &\n",
    "    (df['lat'] >= -90) & (df['lat'] <= 90) \n",
    ")\n",
    "f[:10]"
   ]
  },
  {
   "cell_type": "code",
   "execution_count": 13,
   "metadata": {
    "collapsed": false
   },
   "outputs": [
    {
     "data": {
      "text/plain": [
       "100"
      ]
     },
     "execution_count": 13,
     "metadata": {},
     "output_type": "execute_result"
    }
   ],
   "source": [
    "len(f)"
   ]
  },
  {
   "cell_type": "code",
   "execution_count": 4,
   "metadata": {
    "collapsed": false
   },
   "outputs": [
    {
     "data": {
      "text/plain": [
       "2013-01-01    False\n",
       "2013-01-02    False\n",
       "2013-01-03     True\n",
       "2013-01-04    False\n",
       "2013-01-05     True\n",
       "2013-01-06    False\n",
       "2013-01-07    False\n",
       "2013-01-08     True\n",
       "2013-01-09     True\n",
       "2013-01-10    False\n",
       "Freq: D, dtype: bool"
      ]
     },
     "execution_count": 4,
     "metadata": {},
     "output_type": "execute_result"
    }
   ],
   "source": [
    "~f[:10]"
   ]
  },
  {
   "cell_type": "code",
   "execution_count": 5,
   "metadata": {
    "collapsed": false
   },
   "outputs": [
    {
     "data": {
      "text/html": [
       "<div style=\"max-height:1000px;max-width:1500px;overflow:auto;\">\n",
       "<table border=\"1\" class=\"dataframe\">\n",
       "  <thead>\n",
       "    <tr style=\"text-align: right;\">\n",
       "      <th></th>\n",
       "      <th>lat</th>\n",
       "      <th>lon</th>\n",
       "      <th>valid</th>\n",
       "    </tr>\n",
       "  </thead>\n",
       "  <tbody>\n",
       "    <tr>\n",
       "      <th>2013-01-01</th>\n",
       "      <td>87.734438</td>\n",
       "      <td>-58.268079</td>\n",
       "      <td>True</td>\n",
       "    </tr>\n",
       "    <tr>\n",
       "      <th>2013-01-02</th>\n",
       "      <td>-72.770339</td>\n",
       "      <td>-51.047801</td>\n",
       "      <td>True</td>\n",
       "    </tr>\n",
       "    <tr>\n",
       "      <th>2013-01-03</th>\n",
       "      <td>-2.810664</td>\n",
       "      <td>-189.161201</td>\n",
       "      <td>False</td>\n",
       "    </tr>\n",
       "    <tr>\n",
       "      <th>2013-01-04</th>\n",
       "      <td>88.444339</td>\n",
       "      <td>174.274723</td>\n",
       "      <td>True</td>\n",
       "    </tr>\n",
       "    <tr>\n",
       "      <th>2013-01-05</th>\n",
       "      <td>51.165727</td>\n",
       "      <td>-189.332378</td>\n",
       "      <td>False</td>\n",
       "    </tr>\n",
       "    <tr>\n",
       "      <th>2013-01-06</th>\n",
       "      <td>28.393326</td>\n",
       "      <td>-4.941915</td>\n",
       "      <td>True</td>\n",
       "    </tr>\n",
       "    <tr>\n",
       "      <th>2013-01-07</th>\n",
       "      <td>-33.346629</td>\n",
       "      <td>-18.147293</td>\n",
       "      <td>True</td>\n",
       "    </tr>\n",
       "    <tr>\n",
       "      <th>2013-01-08</th>\n",
       "      <td>-78.566096</td>\n",
       "      <td>187.292464</td>\n",
       "      <td>False</td>\n",
       "    </tr>\n",
       "    <tr>\n",
       "      <th>2013-01-09</th>\n",
       "      <td>-76.617959</td>\n",
       "      <td>-195.631009</td>\n",
       "      <td>False</td>\n",
       "    </tr>\n",
       "    <tr>\n",
       "      <th>2013-01-10</th>\n",
       "      <td>67.372003</td>\n",
       "      <td>-85.977518</td>\n",
       "      <td>True</td>\n",
       "    </tr>\n",
       "  </tbody>\n",
       "</table>\n",
       "</div>"
      ],
      "text/plain": [
       "                  lat         lon  valid\n",
       "2013-01-01  87.734438  -58.268079   True\n",
       "2013-01-02 -72.770339  -51.047801   True\n",
       "2013-01-03  -2.810664 -189.161201  False\n",
       "2013-01-04  88.444339  174.274723   True\n",
       "2013-01-05  51.165727 -189.332378  False\n",
       "2013-01-06  28.393326   -4.941915   True\n",
       "2013-01-07 -33.346629  -18.147293   True\n",
       "2013-01-08 -78.566096  187.292464  False\n",
       "2013-01-09 -76.617959 -195.631009  False\n",
       "2013-01-10  67.372003  -85.977518   True"
      ]
     },
     "execution_count": 5,
     "metadata": {},
     "output_type": "execute_result"
    }
   ],
   "source": [
    "df['valid'] = f\n",
    "df[:10]"
   ]
  },
  {
   "cell_type": "code",
   "execution_count": 12,
   "metadata": {
    "collapsed": false
   },
   "outputs": [
    {
     "data": {
      "text/html": [
       "<div style=\"max-height:1000px;max-width:1500px;overflow:auto;\">\n",
       "<table border=\"1\" class=\"dataframe\">\n",
       "  <thead>\n",
       "    <tr style=\"text-align: right;\">\n",
       "      <th></th>\n",
       "      <th>lon</th>\n",
       "      <th>lat</th>\n",
       "      <th>valid</th>\n",
       "      <th>dist</th>\n",
       "    </tr>\n",
       "  </thead>\n",
       "  <tbody>\n",
       "    <tr>\n",
       "      <th>2013-01-01</th>\n",
       "      <td>-58.268079</td>\n",
       "      <td>87.734438</td>\n",
       "      <td>True</td>\n",
       "      <td>0.312542</td>\n",
       "    </tr>\n",
       "    <tr>\n",
       "      <th>2013-01-02</th>\n",
       "      <td>-51.047801</td>\n",
       "      <td>-72.770339</td>\n",
       "      <td>True</td>\n",
       "      <td>0.646351</td>\n",
       "    </tr>\n",
       "    <tr>\n",
       "      <th>2013-01-03</th>\n",
       "      <td>-189.161201</td>\n",
       "      <td>-2.810664</td>\n",
       "      <td>False</td>\n",
       "      <td>NaN</td>\n",
       "    </tr>\n",
       "    <tr>\n",
       "      <th>2013-01-04</th>\n",
       "      <td>174.274723</td>\n",
       "      <td>88.444339</td>\n",
       "      <td>True</td>\n",
       "      <td>0.173620</td>\n",
       "    </tr>\n",
       "    <tr>\n",
       "      <th>2013-01-05</th>\n",
       "      <td>-189.332378</td>\n",
       "      <td>51.165727</td>\n",
       "      <td>False</td>\n",
       "      <td>NaN</td>\n",
       "    </tr>\n",
       "    <tr>\n",
       "      <th>2013-01-06</th>\n",
       "      <td>-4.941915</td>\n",
       "      <td>28.393326</td>\n",
       "      <td>True</td>\n",
       "      <td>0.039156</td>\n",
       "    </tr>\n",
       "    <tr>\n",
       "      <th>2013-01-07</th>\n",
       "      <td>-18.147293</td>\n",
       "      <td>-33.346629</td>\n",
       "      <td>True</td>\n",
       "      <td>0.326047</td>\n",
       "    </tr>\n",
       "    <tr>\n",
       "      <th>2013-01-08</th>\n",
       "      <td>187.292464</td>\n",
       "      <td>-78.566096</td>\n",
       "      <td>False</td>\n",
       "      <td>NaN</td>\n",
       "    </tr>\n",
       "    <tr>\n",
       "      <th>2013-01-09</th>\n",
       "      <td>-195.631009</td>\n",
       "      <td>-76.617959</td>\n",
       "      <td>False</td>\n",
       "      <td>NaN</td>\n",
       "    </tr>\n",
       "    <tr>\n",
       "      <th>2013-01-10</th>\n",
       "      <td>-85.977518</td>\n",
       "      <td>67.372003</td>\n",
       "      <td>True</td>\n",
       "      <td>0.168791</td>\n",
       "    </tr>\n",
       "  </tbody>\n",
       "</table>\n",
       "</div>"
      ],
      "text/plain": [
       "                   lon        lat  valid      dist\n",
       "2013-01-01  -58.268079  87.734438   True  0.312542\n",
       "2013-01-02  -51.047801 -72.770339   True  0.646351\n",
       "2013-01-03 -189.161201  -2.810664  False       NaN\n",
       "2013-01-04  174.274723  88.444339   True  0.173620\n",
       "2013-01-05 -189.332378  51.165727  False       NaN\n",
       "2013-01-06   -4.941915  28.393326   True  0.039156\n",
       "2013-01-07  -18.147293 -33.346629   True  0.326047\n",
       "2013-01-08  187.292464 -78.566096  False       NaN\n",
       "2013-01-09 -195.631009 -76.617959  False       NaN\n",
       "2013-01-10  -85.977518  67.372003   True  0.168791"
      ]
     },
     "execution_count": 12,
     "metadata": {},
     "output_type": "execute_result"
    }
   ],
   "source": [
    "df['dist'] = f\n",
    "\n",
    "def geofilter(point):\n",
    "    if point['valid'] == True:\n",
    "        point.dist = np.random.rand()\n",
    "    else:\n",
    "        point.dist = None\n",
    "    return point\n",
    "df = df[['lon','lat','valid','dist']].apply(geofilter, axis=1)\n",
    "df[:10]"
   ]
  },
  {
   "cell_type": "code",
   "execution_count": 148,
   "metadata": {
    "collapsed": false
   },
   "outputs": [
    {
     "data": {
      "text/html": [
       "<div style=\"max-height:1000px;max-width:1500px;overflow:auto;\">\n",
       "<table border=\"1\" class=\"dataframe\">\n",
       "  <thead>\n",
       "    <tr style=\"text-align: right;\">\n",
       "      <th></th>\n",
       "      <th>lon</th>\n",
       "      <th>lat</th>\n",
       "      <th>valid</th>\n",
       "      <th>dist</th>\n",
       "      <th>group</th>\n",
       "    </tr>\n",
       "  </thead>\n",
       "  <tbody>\n",
       "    <tr>\n",
       "      <th>2013-01-01</th>\n",
       "      <td>-176.001971</td>\n",
       "      <td>7.671023</td>\n",
       "      <td>True</td>\n",
       "      <td>0.264962</td>\n",
       "      <td>1</td>\n",
       "    </tr>\n",
       "    <tr>\n",
       "      <th>2013-01-02</th>\n",
       "      <td>186.142630</td>\n",
       "      <td>-48.798893</td>\n",
       "      <td>False</td>\n",
       "      <td>NaN</td>\n",
       "      <td>2</td>\n",
       "    </tr>\n",
       "    <tr>\n",
       "      <th>2013-01-03</th>\n",
       "      <td>-198.293423</td>\n",
       "      <td>-28.919813</td>\n",
       "      <td>False</td>\n",
       "      <td>NaN</td>\n",
       "      <td>2</td>\n",
       "    </tr>\n",
       "    <tr>\n",
       "      <th>2013-01-04</th>\n",
       "      <td>12.379192</td>\n",
       "      <td>-45.560273</td>\n",
       "      <td>True</td>\n",
       "      <td>0.190335</td>\n",
       "      <td>3</td>\n",
       "    </tr>\n",
       "    <tr>\n",
       "      <th>2013-01-05</th>\n",
       "      <td>-172.965209</td>\n",
       "      <td>38.558306</td>\n",
       "      <td>True</td>\n",
       "      <td>0.031693</td>\n",
       "      <td>3</td>\n",
       "    </tr>\n",
       "    <tr>\n",
       "      <th>2013-01-06</th>\n",
       "      <td>-175.101141</td>\n",
       "      <td>14.903476</td>\n",
       "      <td>True</td>\n",
       "      <td>0.418072</td>\n",
       "      <td>3</td>\n",
       "    </tr>\n",
       "    <tr>\n",
       "      <th>2013-01-07</th>\n",
       "      <td>-155.640155</td>\n",
       "      <td>42.486752</td>\n",
       "      <td>True</td>\n",
       "      <td>0.295750</td>\n",
       "      <td>3</td>\n",
       "    </tr>\n",
       "    <tr>\n",
       "      <th>2013-01-08</th>\n",
       "      <td>-77.897308</td>\n",
       "      <td>77.587518</td>\n",
       "      <td>True</td>\n",
       "      <td>0.419689</td>\n",
       "      <td>3</td>\n",
       "    </tr>\n",
       "    <tr>\n",
       "      <th>2013-01-09</th>\n",
       "      <td>-174.093260</td>\n",
       "      <td>41.234317</td>\n",
       "      <td>True</td>\n",
       "      <td>0.058868</td>\n",
       "      <td>3</td>\n",
       "    </tr>\n",
       "    <tr>\n",
       "      <th>2013-01-10</th>\n",
       "      <td>124.624604</td>\n",
       "      <td>-33.577783</td>\n",
       "      <td>True</td>\n",
       "      <td>0.559910</td>\n",
       "      <td>3</td>\n",
       "    </tr>\n",
       "  </tbody>\n",
       "</table>\n",
       "</div>"
      ],
      "text/plain": [
       "                   lon        lat  valid      dist  group\n",
       "2013-01-01 -176.001971   7.671023   True  0.264962      1\n",
       "2013-01-02  186.142630 -48.798893  False       NaN      2\n",
       "2013-01-03 -198.293423 -28.919813  False       NaN      2\n",
       "2013-01-04   12.379192 -45.560273   True  0.190335      3\n",
       "2013-01-05 -172.965209  38.558306   True  0.031693      3\n",
       "2013-01-06 -175.101141  14.903476   True  0.418072      3\n",
       "2013-01-07 -155.640155  42.486752   True  0.295750      3\n",
       "2013-01-08  -77.897308  77.587518   True  0.419689      3\n",
       "2013-01-09 -174.093260  41.234317   True  0.058868      3\n",
       "2013-01-10  124.624604 -33.577783   True  0.559910      3"
      ]
     },
     "execution_count": 148,
     "metadata": {},
     "output_type": "execute_result"
    }
   ],
   "source": [
    "evt = df.copy()\n",
    "groups = (df.valid - df.valid.shift(1)).cumsum()\n",
    "evt['group'] = (groups.diff(1) != 0).astype('int').cumsum()\n",
    "evt[:10]"
   ]
  },
  {
   "cell_type": "code",
   "execution_count": 157,
   "metadata": {
    "collapsed": false
   },
   "outputs": [
    {
     "name": "stdout",
     "output_type": "stream",
     "text": [
      "2013-01-01 00:00:00 : 0 days 00:00:00\n",
      "2013-01-02 00:00:00 : 1 days 00:00:00\n",
      "2013-01-04 00:00:00 : 6 days 00:00:00\n",
      "2013-01-11 00:00:00 : 0 days 00:00:00\n",
      "2013-01-12 00:00:00 : 3 days 00:00:00\n",
      "2013-01-16 00:00:00 : 0 days 00:00:00\n",
      "2013-01-17 00:00:00 : 8 days 00:00:00\n",
      "2013-01-26 00:00:00 : 0 days 00:00:00\n",
      "2013-01-27 00:00:00 : 2 days 00:00:00\n",
      "2013-01-30 00:00:00 : 0 days 00:00:00\n",
      "2013-01-31 00:00:00 : 5 days 00:00:00\n",
      "2013-02-06 00:00:00 : 0 days 00:00:00\n",
      "2013-02-07 00:00:00 : 4 days 00:00:00\n",
      "2013-02-12 00:00:00 : 1 days 00:00:00\n",
      "2013-02-14 00:00:00 : 4 days 00:00:00\n",
      "2013-02-19 00:00:00 : 1 days 00:00:00\n",
      "2013-02-21 00:00:00 : 5 days 00:00:00\n",
      "2013-02-27 00:00:00 : 0 days 00:00:00\n",
      "2013-02-28 00:00:00 : 3 days 00:00:00\n",
      "2013-03-04 00:00:00 : 0 days 00:00:00\n",
      "2013-03-05 00:00:00 : 5 days 00:00:00\n",
      "2013-03-11 00:00:00 : 0 days 00:00:00\n",
      "2013-03-12 00:00:00 : 2 days 00:00:00\n",
      "2013-03-15 00:00:00 : 0 days 00:00:00\n",
      "2013-03-16 00:00:00 : 6 days 00:00:00\n",
      "2013-03-23 00:00:00 : 0 days 00:00:00\n",
      "2013-03-24 00:00:00 : 2 days 00:00:00\n",
      "2013-03-27 00:00:00 : 0 days 00:00:00\n",
      "2013-03-28 00:00:00 : 1 days 00:00:00\n",
      "2013-03-30 00:00:00 : 0 days 00:00:00\n",
      "2013-03-31 00:00:00 : 2 days 00:00:00\n",
      "2013-04-03 00:00:00 : 0 days 00:00:00\n",
      "2013-04-04 00:00:00 : 0 days 00:00:00\n",
      "2013-04-05 00:00:00 : 0 days 00:00:00\n",
      "2013-04-06 00:00:00 : 1 days 00:00:00\n",
      "2013-04-08 00:00:00 : 0 days 00:00:00\n",
      "2013-04-09 00:00:00 : 1 days 00:00:00\n"
     ]
    }
   ],
   "source": [
    "groups = evt.groupby('group', sort=False)\n",
    "for name, group in groups:\n",
    "    print(group.index[0], ':', group.index[-1]-group.index[0])"
   ]
  },
  {
   "cell_type": "code",
   "execution_count": 129,
   "metadata": {
    "collapsed": false
   },
   "outputs": [
    {
     "ename": "AttributeError",
     "evalue": "Cannot access attribute 'index' of 'DataFrameGroupBy' objects, try using the 'apply' method",
     "output_type": "error",
     "traceback": [
      "\u001b[1;31m---------------------------------------------------------------------------\u001b[0m\n\u001b[1;31mAttributeError\u001b[0m                            Traceback (most recent call last)",
      "\u001b[1;32m<ipython-input-129-f045a58a2465>\u001b[0m in \u001b[0;36m<module>\u001b[1;34m()\u001b[0m\n\u001b[0;32m      3\u001b[0m \u001b[1;31m#               'Consecutive' : evt.groupby('group').size(),\u001b[0m\u001b[1;33m\u001b[0m\u001b[1;33m\u001b[0m\u001b[0m\n\u001b[0;32m      4\u001b[0m \u001b[1;31m#               'No' : evt.groupby('group').No.first()}).reset_index(drop=True)\u001b[0m\u001b[1;33m\u001b[0m\u001b[1;33m\u001b[0m\u001b[0m\n\u001b[1;32m----> 5\u001b[1;33m \u001b[0mpd\u001b[0m\u001b[1;33m.\u001b[0m\u001b[0mDataFrame\u001b[0m\u001b[1;33m(\u001b[0m\u001b[1;33m{\u001b[0m\u001b[1;34m'start'\u001b[0m \u001b[1;33m:\u001b[0m \u001b[0mevt\u001b[0m\u001b[1;33m.\u001b[0m\u001b[0mgroupby\u001b[0m\u001b[1;33m(\u001b[0m\u001b[1;34m'group'\u001b[0m\u001b[1;33m)\u001b[0m\u001b[1;33m.\u001b[0m\u001b[0mindex\u001b[0m\u001b[1;33m.\u001b[0m\u001b[0mfirst\u001b[0m\u001b[1;33m(\u001b[0m\u001b[1;33m)\u001b[0m\u001b[1;33m}\u001b[0m\u001b[1;33m)\u001b[0m\u001b[1;33m\u001b[0m\u001b[0m\n\u001b[0m",
      "\u001b[1;32m/usr/lib64/python3.4/site-packages/pandas/core/groupby.py\u001b[0m in \u001b[0;36m__getattr__\u001b[1;34m(self, attr)\u001b[0m\n\u001b[0;32m    507\u001b[0m             \u001b[1;32mreturn\u001b[0m \u001b[0mself\u001b[0m\u001b[1;33m[\u001b[0m\u001b[0mattr\u001b[0m\u001b[1;33m]\u001b[0m\u001b[1;33m\u001b[0m\u001b[0m\n\u001b[0;32m    508\u001b[0m         \u001b[1;32mif\u001b[0m \u001b[0mhasattr\u001b[0m\u001b[1;33m(\u001b[0m\u001b[0mself\u001b[0m\u001b[1;33m.\u001b[0m\u001b[0mobj\u001b[0m\u001b[1;33m,\u001b[0m \u001b[0mattr\u001b[0m\u001b[1;33m)\u001b[0m\u001b[1;33m:\u001b[0m\u001b[1;33m\u001b[0m\u001b[0m\n\u001b[1;32m--> 509\u001b[1;33m             \u001b[1;32mreturn\u001b[0m \u001b[0mself\u001b[0m\u001b[1;33m.\u001b[0m\u001b[0m_make_wrapper\u001b[0m\u001b[1;33m(\u001b[0m\u001b[0mattr\u001b[0m\u001b[1;33m)\u001b[0m\u001b[1;33m\u001b[0m\u001b[0m\n\u001b[0m\u001b[0;32m    510\u001b[0m \u001b[1;33m\u001b[0m\u001b[0m\n\u001b[0;32m    511\u001b[0m         raise AttributeError(\"%r object has no attribute %r\" %\n",
      "\u001b[1;32m/usr/lib64/python3.4/site-packages/pandas/core/groupby.py\u001b[0m in \u001b[0;36m_make_wrapper\u001b[1;34m(self, name)\u001b[0m\n\u001b[0;32m    522\u001b[0m                    \"using the 'apply' method\".format(kind, name,\n\u001b[0;32m    523\u001b[0m                                                      type(self).__name__))\n\u001b[1;32m--> 524\u001b[1;33m             \u001b[1;32mraise\u001b[0m \u001b[0mAttributeError\u001b[0m\u001b[1;33m(\u001b[0m\u001b[0mmsg\u001b[0m\u001b[1;33m)\u001b[0m\u001b[1;33m\u001b[0m\u001b[0m\n\u001b[0m\u001b[0;32m    525\u001b[0m \u001b[1;33m\u001b[0m\u001b[0m\n\u001b[0;32m    526\u001b[0m         \u001b[1;31m# need to setup the selection\u001b[0m\u001b[1;33m\u001b[0m\u001b[1;33m\u001b[0m\u001b[0m\n",
      "\u001b[1;31mAttributeError\u001b[0m: Cannot access attribute 'index' of 'DataFrameGroupBy' objects, try using the 'apply' method"
     ]
    }
   ],
   "source": [
    "# pd.DataFrame({'start' : evt.groupby('group').index.first(), \n",
    "#               'end' : evt.groupby('group').index.last(),\n",
    "#               'Consecutive' : evt.groupby('group').size(), \n",
    "#               'No' : evt.groupby('group').No.first()}).reset_index(drop=True)\n",
    "pd.DataFrame({'start' : groups.index.first()})"
   ]
  },
  {
   "cell_type": "code",
   "execution_count": null,
   "metadata": {
    "collapsed": false
   },
   "outputs": [],
   "source": []
  }
 ],
 "metadata": {
  "kernelspec": {
   "display_name": "Python 3",
   "language": "python",
   "name": "python3"
  },
  "language_info": {
   "codemirror_mode": {
    "name": "ipython",
    "version": 3
   },
   "file_extension": ".py",
   "mimetype": "text/x-python",
   "name": "python",
   "nbconvert_exporter": "python",
   "pygments_lexer": "ipython3",
   "version": "3.5.3"
  }
 },
 "nbformat": 4,
 "nbformat_minor": 0
}
