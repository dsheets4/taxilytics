{
 "cells": [
  {
   "cell_type": "code",
   "execution_count": 30,
   "metadata": {
    "collapsed": false
   },
   "outputs": [
    {
     "data": {
      "application/javascript": [
       "element.append(\"<div id='out'></div>\")\n",
       "\n",
       "function callback(msg) {\n",
       "   var ret = msg.content.data['text/plain'];\n",
       "   $('#out').text('Value: ' + ret);\n",
       "}\n",
       "IPython.notebook.kernel.execute('2+2', {iopub: {output: callback}}, {silent: false});"
      ],
      "text/plain": [
       "<IPython.core.display.Javascript object>"
      ]
     },
     "metadata": {},
     "output_type": "display_data"
    }
   ],
   "source": [
    "%%javascript\n",
    "element.append(\"<div id='out'></div>\")\n",
    "\n",
    "function callback(msg) {\n",
    "   var ret = msg.content.data['text/plain'];\n",
    "   $('#out').text('Value: ' + ret);\n",
    "}\n",
    "IPython.notebook.kernel.execute('2+2', {iopub: {output: callback}}, {silent: false});"
   ]
  },
  {
   "cell_type": "code",
   "execution_count": 79,
   "metadata": {
    "collapsed": false
   },
   "outputs": [
    {
     "data": {
      "text/plain": [
       "'{\"type\": \"Feature\", \"id\": 1, \"geometry\": {\"type\": \"LineString\", \"coordinates\": [[114.262917, 22.740432, 0.0], [114.261382, 22.736615, 40.0], [114.261825, 22.732816, 81.0], [114.266039, 22.731084, 120.0], [114.26765, 22.730658, 160.0], [114.270703, 22.729444, 200.0], [114.27055, 22.72668, 240.0], [114.269589, 22.724578, 280.0], [114.270207, 22.722909, 320.0], [114.272788, 22.723858, 360.0], [114.271398, 22.725235, 399.0], [114.272436, 22.726007, 438.0], [114.272864, 22.72628, 478.0], [114.275879, 22.727931, 518.0], [114.276269, 22.728072, 558.0], [114.276284, 22.728063, 598.0], [114.276276, 22.728065, 638.0], [114.276276, 22.728063, 679.0], [114.276276, 22.728049, 719.0], [114.276292, 22.728048, 759.0], [114.276803, 22.728334, 798.0], [114.280108, 22.729905, 838.0], [114.284483, 22.726287, 878.0], [114.288941, 22.72459, 918.0000000000001], [114.293063, 22.722917, 958.0000000000001], [114.294979, 22.721437, 998.0000000000001], [114.296674, 22.721321, 1038.0], [114.299819, 22.719961, 1076.0], [114.304277, 22.717947, 1116.0], [114.306453, 22.715996, 1157.0], [114.306942, 22.715392, 1196.0], [114.309506, 22.711098, 1236.0], [114.312796, 22.70893, 1275.0], [114.31837, 22.705709, 1315.0], [114.321127, 22.703739, 1354.0], [114.325885, 22.700525, 1394.0], [114.331729, 22.6984, 1434.0], [114.336685, 22.695578, 1474.0], [114.337449, 22.692758, 1512.0], [114.339649, 22.68881, 1552.0], [114.343682, 22.686748, 1592.0], [114.348653, 22.684517, 1632.0], [114.354573, 22.685832, 1671.0], [114.358927, 22.685777, 1711.0], [114.358805, 22.685245, 1751.0], [114.358805, 22.685242, 1791.0], [114.358889, 22.685599, 1831.0], [114.358866, 22.68583, 1871.0], [114.358851, 22.685832, 1911.0], [114.358782, 22.686115, 1950.0], [114.363204, 22.686381, 1991.0], [114.363051, 22.686459, 2031.0], [114.357208, 22.68629, 2071.0], [114.351724, 22.685217, 2111.0], [114.350357, 22.684796, 2151.0], [114.34605, 22.685618, 2191.0], [114.342475, 22.687501, 2231.0], [114.343384, 22.691049, 2271.0], [114.34094, 22.692988, 2311.0], [114.337235, 22.695475, 2351.0], [114.30472, 22.717754, 2634.0], [114.299949, 22.720174, 2674.0], [114.29643, 22.721685, 2715.0], [114.297834, 22.725373, 2755.0], [114.29488, 22.727616, 2795.0], [114.292078, 22.728829, 2835.0], [114.290322, 22.725579, 2875.0], [114.289788, 22.724475, 2916.0], [114.285826, 22.725762, 2956.0], [114.2822, 22.729012, 2996.0], [114.278421, 22.729495, 3036.0], [114.276635, 22.729271, 3076.0], [114.275642, 22.730249, 3116.0], [114.272795, 22.729953, 3156.0], [114.270749, 22.729421, 3197.0], [114.270726, 22.728855, 3236.0], [114.270016, 22.724601, 3397.0], [114.273116, 22.726505, 3437.0], [114.27694, 22.7284, 3559.0], [114.276833, 22.728478, 4036.0], [114.277611, 22.728747, 4801.0], [114.277642, 22.728811, 4841.0], [114.27765, 22.728792, 4881.0], [114.277666, 22.728766, 4921.0], [114.277681, 22.728754, 4961.0], [114.27765, 22.728783, 4999.0], [114.277674, 22.728781, 5039.0], [114.277674, 22.728764, 5080.0], [114.277666, 22.728781, 5120.0], [114.277642, 22.72885, 5160.0], [114.277666, 22.728806, 5201.0], [114.277666, 22.728781, 5241.0], [114.277657, 22.728789, 5281.0], [114.277963, 22.728937, 5321.0], [114.280413, 22.730166, 5361.0], [114.28133, 22.731103, 5401.0], [114.282085, 22.735554, 5441.0], [114.282299, 22.737624, 5482.0], [114.268054, 22.741499, 5841.0], [114.2681, 22.740922, 5881.0], [114.268558, 22.737759, 5921.0], [114.269902, 22.733025, 6001.0], [114.265512, 22.729002, 6081.0], [114.263916, 22.726074, 6122.0], [114.263687, 22.722239, 6202.0], [114.267955, 22.719389, 6322.0]]}}'"
      ]
     },
     "execution_count": 79,
     "metadata": {},
     "output_type": "execute_result"
    }
   ],
   "source": [
    "import json\n",
    "gcj_data = json.dumps({\n",
    "    \"type\": \"Feature\",\n",
    "    \"id\": 1,\n",
    "    \"geometry\": { \"type\": \"LineString\", \"coordinates\": [ [ 114.262917, 22.740432, 0.0 ], [ 114.261382, 22.736615, 40.0 ], [ 114.261825, 22.732816, 81.0 ], [ 114.266039, 22.731084, 120.0 ], [ 114.26765, 22.730658, 160.0 ], [ 114.270703, 22.729444, 200.0 ], [ 114.27055, 22.72668, 240.0 ], [ 114.269589, 22.724578, 280.0 ], [ 114.270207, 22.722909, 320.0 ], [ 114.272788, 22.723858, 360.0 ], [ 114.271398, 22.725235, 399.0 ], [ 114.272436, 22.726007, 438.0 ], [ 114.272864, 22.72628, 478.0 ], [ 114.275879, 22.727931, 518.0 ], [ 114.276269, 22.728072, 558.0 ], [ 114.276284, 22.728063, 598.0 ], [ 114.276276, 22.728065, 638.0 ], [ 114.276276, 22.728063, 679.0 ], [ 114.276276, 22.728049, 719.0 ], [ 114.276292, 22.728048, 759.0 ], [ 114.276803, 22.728334, 798.0 ], [ 114.280108, 22.729905, 838.0 ], [ 114.284483, 22.726287, 878.0 ], [ 114.288941, 22.72459, 918.000000000000114 ], [ 114.293063, 22.722917, 958.000000000000114 ], [ 114.294979, 22.721437, 998.000000000000114 ], [ 114.296674, 22.721321, 1038.0 ], [ 114.299819, 22.719961, 1076.0 ], [ 114.304277, 22.717947, 1116.0 ], [ 114.306453, 22.715996, 1157.0 ], [ 114.306942, 22.715392, 1196.0 ], [ 114.309506, 22.711098, 1236.0 ], [ 114.312796, 22.70893, 1275.0 ], [ 114.31837, 22.705709, 1315.0 ], [ 114.321127, 22.703739, 1354.0 ], [ 114.325885, 22.700525, 1394.0 ], [ 114.331729, 22.6984, 1434.0 ], [ 114.336685, 22.695578, 1474.0 ], [ 114.337449, 22.692758, 1512.0 ], [ 114.339649, 22.68881, 1552.0 ], [ 114.343682, 22.686748, 1592.0 ], [ 114.348653, 22.684517, 1632.0 ], [ 114.354573, 22.685832, 1671.0 ], [ 114.358927, 22.685777, 1711.0 ], [ 114.358805, 22.685245, 1751.0 ], [ 114.358805, 22.685242, 1791.0 ], [ 114.358889, 22.685599, 1831.0 ], [ 114.358866, 22.68583, 1871.0 ], [ 114.358851, 22.685832, 1911.0 ], [ 114.358782, 22.686115, 1950.0 ], [ 114.363204, 22.686381, 1991.0 ], [ 114.363051, 22.686459, 2031.0 ], [ 114.357208, 22.68629, 2071.0 ], [ 114.351724, 22.685217, 2111.0 ], [ 114.350357, 22.684796, 2151.0 ], [ 114.34605, 22.685618, 2191.0 ], [ 114.342475, 22.687501, 2231.0 ], [ 114.343384, 22.691049, 2271.0 ], [ 114.34094, 22.692988, 2311.0 ], [ 114.337235, 22.695475, 2351.0 ], [ 114.30472, 22.717754, 2634.0 ], [ 114.299949, 22.720174, 2674.0 ], [ 114.29643, 22.721685, 2715.0 ], [ 114.297834, 22.725373, 2755.0 ], [ 114.29488, 22.727616, 2795.0 ], [ 114.292078, 22.728829, 2835.0 ], [ 114.290322, 22.725579, 2875.0 ], [ 114.289788, 22.724475, 2916.0 ], [ 114.285826, 22.725762, 2956.0 ], [ 114.2822, 22.729012, 2996.0 ], [ 114.278421, 22.729495, 3036.0 ], [ 114.276635, 22.729271, 3076.0 ], [ 114.275642, 22.730249, 3116.0 ], [ 114.272795, 22.729953, 3156.0 ], [ 114.270749, 22.729421, 3197.0 ], [ 114.270726, 22.728855, 3236.0 ], [ 114.270016, 22.724601, 3397.0 ], [ 114.273116, 22.726505, 3437.0 ], [ 114.27694, 22.7284, 3559.0 ], [ 114.276833, 22.728478, 4036.0 ], [ 114.277611, 22.728747, 4801.0 ], [ 114.277642, 22.728811, 4841.0 ], [ 114.27765, 22.728792, 4881.0 ], [ 114.277666, 22.728766, 4921.0 ], [ 114.277681, 22.728754, 4961.0 ], [ 114.27765, 22.728783, 4999.0 ], [ 114.277674, 22.728781, 5039.0 ], [ 114.277674, 22.728764, 5080.0 ], [ 114.277666, 22.728781, 5120.0 ], [ 114.277642, 22.72885, 5160.0 ], [ 114.277666, 22.728806, 5201.0 ], [ 114.277666, 22.728781, 5241.0 ], [ 114.277657, 22.728789, 5281.0 ], [ 114.277963, 22.728937, 5321.0 ], [ 114.280413, 22.730166, 5361.0 ], [ 114.28133, 22.731103, 5401.0 ], [ 114.282085, 22.735554, 5441.0 ], [ 114.282299, 22.737624, 5482.0 ], [ 114.268054, 22.741499, 5841.0 ], [ 114.2681, 22.740922, 5881.0 ], [ 114.268558, 22.737759, 5921.0 ], [ 114.269902, 22.733025, 6001.0 ], [ 114.265512, 22.729002, 6081.0 ], [ 114.263916, 22.726074, 6122.0 ], [ 114.263687, 22.722239, 6202.0 ], [ 114.267955, 22.719389, 6322.0 ] ] }\n",
    "})\n",
    "wgs_data = gcj_data\n",
    "gcj_data"
   ]
  },
  {
   "cell_type": "code",
   "execution_count": 80,
   "metadata": {
    "collapsed": false,
    "scrolled": true
   },
   "outputs": [
    {
     "data": {
      "application/javascript": [
       "function load_css(css_href) {\n",
       "    var ss = document.createElement(\"link\");\n",
       "    ss.type = \"text/css\";\n",
       "    ss.rel = \"stylesheet\";\n",
       "    ss.href = css_href;\n",
       "    document.getElementsByTagName(\"head\")[0].appendChild(ss);\n",
       "}\n",
       "load_css('../tree/entity/static/entity/css/ol.css');\n",
       "element.append(\"<div id='gcj'></div>\");\n",
       "element.append(\"<div id='wgs'></div>\");\n",
       "require.config({\n",
       "    'baseUrl': '/',\n",
       "    \n",
       "    // When a request for the key comes in, look in value instead.\n",
       "    // e.g. data: '../data/\n",
       "    paths : {\n",
       "        \"entity/js/ol\": \"tree/entity/static/entity/js/ol\",\n",
       "        \"entity/js/map\": \"tree/entity/static/entity/js/map\",\n",
       "        \"entity/js/color\": \"tree/entity/static/entity/js/color\",\n",
       "        \"js/3rdparty/tinycolor\": \"tree/static/js/3rdparty/tinycolor\"\n",
       "    },\n",
       "    shim: {\n",
       "        \"js/3rdparty/tinycolor\": {\n",
       "            \"exports\": \"tinycolor\"\n",
       "        },\n",
       "        \"ol\": {\n",
       "            \"exports\": \"ol\"\n",
       "        },\n",
       "    }\n",
       "});\n",
       "\n",
       "require(['tree/entity/static/entity/js/map'], function(map) {\n",
       "        var initial_data = undefined\n",
       "        function callback(msg, element_name){\n",
       "            var data = msg.content.data[\"text/plain\"].replace(/\\'/g, \"\")\n",
       "            initial_data = JSON.parse(data);\n",
       "            map.init(initial_data, element_name);\n",
       "        }\n",
       "        function gcj_callback(msg){ callback(msg, 'gcj'); }\n",
       "        function wgs_callback(msg){ callback(msg, 'wgs'); }\n",
       "        var kernel = IPython.notebook.kernel;\n",
       "        kernel.execute(\"gcj_data\", {iopub: {output: gcj_callback}}, {silent:false});\n",
       "        kernel.execute(\"wgs_data\", {iopub: {output: wgs_callback}}, {silent:false});\n",
       "});"
      ],
      "text/plain": [
       "<IPython.core.display.Javascript object>"
      ]
     },
     "metadata": {},
     "output_type": "display_data"
    }
   ],
   "source": [
    "-"
   ]
  },
  {
   "cell_type": "code",
   "execution_count": null,
   "metadata": {
    "collapsed": true
   },
   "outputs": [],
   "source": [
    "from IPython.display import HTML\n",
    "from cStringIO import StringIO\n",
    "\n",
    "# We'll use HTML to create a control panel with an\n",
    "# empty image and a number of navigation buttons.\n",
    "\n",
    "class DisplayAnimation(object):\n",
    "    disp_html = \"\"\"\n",
    "    <link rel=\"stylesheet\" href=\"../tree/entity/static/entity/css/ol.css\" />\n",
    "    <div id=\"{}\"></div>\n",
    "    \"\"\"\n",
    "\n",
    "# now the javascript to drive it.  The nextFrame() and prevFrame()\n",
    "# functions will call the kernel and pull-down the frame which\n",
    "# is generated.  The play() and reverse() functions use timeouts\n",
    "# to repeatedly call nextFrame() and prevFrame().\n",
    "\n",
    "javascript = \"\"\"\n",
    "<script type=\"text/Javascript\">\n",
    "function load_css(css_href) {\n",
    "    var ss = document.createElement(\"link\");\n",
    "    ss.type = \"text/css\";\n",
    "    ss.rel = \"stylesheet\";\n",
    "    ss.href = css_href;\n",
    "    document.getElementsByTagName(\"head\")[0].appendChild(ss);\n",
    "}\n",
    "//load_css('../tree/entity/static/entity/css/ol.css');\n",
    "element.append(\"<div id='gcj'></div>\");\n",
    "element.append(\"<div id='wgs'></div>\");\n",
    "require.config({\n",
    "    'baseUrl': '/',\n",
    "    \n",
    "    // When a request for the key comes in, look in value instead.\n",
    "    // e.g. data: '../data/\n",
    "    paths : {\n",
    "        \"entity/js/ol\": \"tree/entity/static/entity/js/ol\",\n",
    "        \"entity/js/map\": \"tree/entity/static/entity/js/map\",\n",
    "        \"entity/js/color\": \"tree/entity/static/entity/js/color\",\n",
    "        \"js/3rdparty/tinycolor\": \"tree/static/js/3rdparty/tinycolor\"\n",
    "    },\n",
    "    shim: {\n",
    "        \"js/3rdparty/tinycolor\": {\n",
    "            \"exports\": \"tinycolor\"\n",
    "        },\n",
    "        \"ol\": {\n",
    "            \"exports\": \"ol\"\n",
    "        },\n",
    "    }\n",
    "});\n",
    "\n",
    "require(['tree/entity/static/entity/js/map'], function(map) {\n",
    "        console.log('Sup?');\n",
    "        var initial_data = test_data\n",
    "        map.init(initial_data, 'gcj');\n",
    "        map.init(initial_data, 'wgs');\n",
    "});\n",
    "</script>\n",
    "\"\"\"\n",
    "\n",
    "# Here we create a class whose HTML representation is the above\n",
    "# HTML and javascript.  Note that we've hard-coded the global\n",
    "# variable name `disp` in the Javascript, so you'll have to assign\n",
    "# the resulting object to this name in order to view it.\n",
    "\n",
    "    def __init__(self, anim):\n",
    "        self.anim = anim\n",
    "        self.fig = anim._fig\n",
    "        plt.close(self.fig)\n",
    "        \n",
    "    def _get_frame_data(self, i):\n",
    "        anim._draw_frame(i)\n",
    "        buffer = StringIO()\n",
    "        fig.savefig(buffer, format='png')\n",
    "        buffer.reset()\n",
    "        data = buffer.read().encode('base64')\n",
    "        return \"data:image/png;base64,{0}\".format(data.replace('\\n', ''))\n",
    "    \n",
    "    def _repr_html_(self):\n",
    "        return self.disp_html + self.javascript"
   ]
  }
 ],
 "metadata": {
  "kernelspec": {
   "display_name": "Django Shell-Plus",
   "language": "python",
   "name": "django_extensions"
  },
  "language_info": {
   "codemirror_mode": {
    "name": "ipython",
    "version": 3
   },
   "file_extension": ".py",
   "mimetype": "text/x-python",
   "name": "python",
   "nbconvert_exporter": "python",
   "pygments_lexer": "ipython3",
   "version": "3.5.3"
  }
 },
 "nbformat": 4,
 "nbformat_minor": 0
}
