{
 "cells": [
  {
   "cell_type": "code",
   "execution_count": 1,
   "metadata": {
    "collapsed": false,
    "scrolled": true
   },
   "outputs": [
    {
     "data": {
      "text/plain": [
       "<TripData: Trip(1501000000000000002)|2015-01-16T00:05:39+00:00|97157>"
      ]
     },
     "execution_count": 1,
     "metadata": {},
     "output_type": "execute_result"
    }
   ],
   "source": [
    "from entity.models import Trip\n",
    "trip = Trip.objects.all().prefetch_related('entity')[0]\n",
    "trip\n",
    "for td in trip.tripdata_set.all():\n",
    "    pass\n",
    "td"
   ]
  },
  {
   "cell_type": "code",
   "execution_count": 7,
   "metadata": {
    "collapsed": false
   },
   "outputs": [
    {
     "data": {
      "text/plain": [
       "<django.db.models.fields.related_descriptors.create_reverse_many_to_one_manager.<locals>.RelatedManager at 0x7ff7329ff470>"
      ]
     },
     "execution_count": 7,
     "metadata": {},
     "output_type": "execute_result"
    }
   ],
   "source": [
    "trip.tripdata_set"
   ]
  },
  {
   "cell_type": "code",
   "execution_count": 1,
   "metadata": {
    "collapsed": true
   },
   "outputs": [],
   "source": [
    "# Imports to help query the cube, these are used for the following sections.\n",
    "from IPython.display import display, HTML\n",
    "from itertools import islice\n",
    "from django.db import connection\n",
    "\n",
    "from datetime import datetime\n",
    "from collections import namedtuple\n",
    "from IPython.display import Markdown\n",
    "\n",
    "\n",
    "cursor = connection.cursor()\n",
    "\n",
    "num_results = 20  # Maximum results to print from a query\n",
    "def format_results(results):\n",
    "    if len(results) > 1:\n",
    "        sep = '-:'\n",
    "        nl = '\\n'\n",
    "        col_sep = '|'\n",
    "    else:\n",
    "        sep = ' = '\n",
    "        nl = ''\n",
    "        col_sep = ', '\n",
    "    return Markdown(nl.join((\n",
    "        col_sep.join([f for f in results[0]._fields]),  # Header row\n",
    "        col_sep.join(['-:'] * len(results[0]._fields)) if len(results) > 1 else ' = ',  # Alignment Row\n",
    "        '\\n'.join([col_sep.join([str(getattr(r, f)) if getattr(r, f) is not None else 'ANY' for f in r._fields]) for r in results]).rstrip())\n",
    "    ))\n",
    "\n",
    "def execute(q_str, max_results=num_results):\n",
    "    cursor.execute(q_str)\n",
    "    nt_result = namedtuple('Result', [col[0] for col in cursor.description])\n",
    "    return [nt_result(*r) for r in islice(cursor, None, max_results)]"
   ]
  },
  {
   "cell_type": "code",
   "execution_count": 2,
   "metadata": {
    "collapsed": false
   },
   "outputs": [
    {
     "name": "stdout",
     "output_type": "stream",
     "text": [
      "[0]\n",
      "['F']\n",
      "[0, 'F']\n"
     ]
    }
   ],
   "source": [
    "l = [0, 1, 2, 3, 4, 5, 6, 7, 8, 9, 'A', 'B', 'C', 'D', 'E', 'F']\n",
    "print(l[0:1:None])\n",
    "print(l[-1:None:None])\n",
    "print(l[::len(l)-1])"
   ]
  },
  {
   "cell_type": "code",
   "execution_count": 3,
   "metadata": {
    "collapsed": false
   },
   "outputs": [
    {
     "data": {
      "text/plain": [
       "<Trip: zhe305691|2011-12-19T23:16:02+00:00>"
      ]
     },
     "execution_count": 3,
     "metadata": {},
     "output_type": "execute_result"
    }
   ],
   "source": [
    "from entity.models import Trip, TripData\n",
    "\n",
    "trip = Trip.objects.all()[0]\n",
    "trip"
   ]
  },
  {
   "cell_type": "code",
   "execution_count": 4,
   "metadata": {
    "collapsed": false
   },
   "outputs": [
    {
     "data": {
      "text/plain": [
       "<Organization: Hangzhou>"
      ]
     },
     "execution_count": 4,
     "metadata": {},
     "output_type": "execute_result"
    }
   ],
   "source": [
    "trip.organization"
   ]
  },
  {
   "cell_type": "code",
   "execution_count": 5,
   "metadata": {
    "collapsed": false
   },
   "outputs": [
    {
     "data": {
      "text/plain": [
       "[<TripData: zhe305691|2011-12-19T23:16:02+00:00|1033679>, <TripData: zhe305691|2011-12-19T23:16:02+00:00|1>]"
      ]
     },
     "execution_count": 5,
     "metadata": {},
     "output_type": "execute_result"
    }
   ],
   "source": [
    "qs = trip.tripdata_set.all()\n",
    "qs"
   ]
  },
  {
   "cell_type": "code",
   "execution_count": 6,
   "metadata": {
    "collapsed": false
   },
   "outputs": [],
   "source": [
    "osm = qs[0].dataframe\n",
    "rec = qs[1].dataframe"
   ]
  },
  {
   "cell_type": "code",
   "execution_count": 7,
   "metadata": {
    "collapsed": false
   },
   "outputs": [
    {
     "data": {
      "text/plain": [
       "(20, 18)"
      ]
     },
     "execution_count": 7,
     "metadata": {},
     "output_type": "execute_result"
    }
   ],
   "source": [
    "len(rec), len(osm)"
   ]
  },
  {
   "cell_type": "code",
   "execution_count": 8,
   "metadata": {
    "collapsed": false
   },
   "outputs": [
    {
     "data": {
      "text/html": [
       "<div>\n",
       "<table border=\"1\" class=\"dataframe\">\n",
       "  <thead>\n",
       "    <tr style=\"text-align: right;\">\n",
       "      <th></th>\n",
       "      <th>osm</th>\n",
       "    </tr>\n",
       "    <tr>\n",
       "      <th>timestamp</th>\n",
       "      <th></th>\n",
       "    </tr>\n",
       "  </thead>\n",
       "  <tbody>\n",
       "    <tr>\n",
       "      <th>2011-12-20 07:17:44+08:00</th>\n",
       "      <td>1641423.0</td>\n",
       "    </tr>\n",
       "  </tbody>\n",
       "</table>\n",
       "</div>"
      ],
      "text/plain": [
       "                                 osm\n",
       "timestamp                           \n",
       "2011-12-20 07:17:44+08:00  1641423.0"
      ]
     },
     "execution_count": 8,
     "metadata": {},
     "output_type": "execute_result"
    }
   ],
   "source": [
    "osm[0:1:None]  # First point"
   ]
  },
  {
   "cell_type": "code",
   "execution_count": 9,
   "metadata": {
    "collapsed": false
   },
   "outputs": [
    {
     "data": {
      "text/html": [
       "<div>\n",
       "<table border=\"1\" class=\"dataframe\">\n",
       "  <thead>\n",
       "    <tr style=\"text-align: right;\">\n",
       "      <th></th>\n",
       "      <th>osm</th>\n",
       "    </tr>\n",
       "    <tr>\n",
       "      <th>timestamp</th>\n",
       "      <th></th>\n",
       "    </tr>\n",
       "  </thead>\n",
       "  <tbody>\n",
       "    <tr>\n",
       "      <th>2011-12-20 07:26:37+08:00</th>\n",
       "      <td>634288.0</td>\n",
       "    </tr>\n",
       "  </tbody>\n",
       "</table>\n",
       "</div>"
      ],
      "text/plain": [
       "                                osm\n",
       "timestamp                          \n",
       "2011-12-20 07:26:37+08:00  634288.0"
      ]
     },
     "execution_count": 9,
     "metadata": {},
     "output_type": "execute_result"
    }
   ],
   "source": [
    "osm[-1:None:None]  # Last point"
   ]
  },
  {
   "cell_type": "code",
   "execution_count": 10,
   "metadata": {
    "collapsed": false
   },
   "outputs": [
    {
     "data": {
      "text/html": [
       "<div>\n",
       "<table border=\"1\" class=\"dataframe\">\n",
       "  <thead>\n",
       "    <tr style=\"text-align: right;\">\n",
       "      <th></th>\n",
       "      <th>osm</th>\n",
       "    </tr>\n",
       "    <tr>\n",
       "      <th>timestamp</th>\n",
       "      <th></th>\n",
       "    </tr>\n",
       "  </thead>\n",
       "  <tbody>\n",
       "    <tr>\n",
       "      <th>2011-12-20 07:17:44+08:00</th>\n",
       "      <td>1641423.0</td>\n",
       "    </tr>\n",
       "    <tr>\n",
       "      <th>2011-12-20 07:26:37+08:00</th>\n",
       "      <td>634288.0</td>\n",
       "    </tr>\n",
       "  </tbody>\n",
       "</table>\n",
       "</div>"
      ],
      "text/plain": [
       "                                 osm\n",
       "timestamp                           \n",
       "2011-12-20 07:17:44+08:00  1641423.0\n",
       "2011-12-20 07:26:37+08:00   634288.0"
      ]
     },
     "execution_count": 10,
     "metadata": {},
     "output_type": "execute_result"
    }
   ],
   "source": [
    "osm[None:None:len(osm)-1]  # First and last point"
   ]
  },
  {
   "cell_type": "code",
   "execution_count": 12,
   "metadata": {
    "collapsed": false
   },
   "outputs": [
    {
     "data": {
      "text/html": [
       "<div>\n",
       "<table border=\"1\" class=\"dataframe\">\n",
       "  <thead>\n",
       "    <tr style=\"text-align: right;\">\n",
       "      <th></th>\n",
       "      <th>osm</th>\n",
       "    </tr>\n",
       "    <tr>\n",
       "      <th>timestamp</th>\n",
       "      <th></th>\n",
       "    </tr>\n",
       "  </thead>\n",
       "  <tbody>\n",
       "    <tr>\n",
       "      <th>2011-12-20 07:17:44+08:00</th>\n",
       "      <td>1641423.0</td>\n",
       "    </tr>\n",
       "    <tr>\n",
       "      <th>2011-12-20 07:18:05+08:00</th>\n",
       "      <td>1641423.0</td>\n",
       "    </tr>\n",
       "    <tr>\n",
       "      <th>2011-12-20 07:18:25+08:00</th>\n",
       "      <td>1641423.0</td>\n",
       "    </tr>\n",
       "    <tr>\n",
       "      <th>2011-12-20 07:18:46+08:00</th>\n",
       "      <td>1641423.0</td>\n",
       "    </tr>\n",
       "    <tr>\n",
       "      <th>2011-12-20 07:19:06+08:00</th>\n",
       "      <td>1641423.0</td>\n",
       "    </tr>\n",
       "    <tr>\n",
       "      <th>2011-12-20 07:19:47+08:00</th>\n",
       "      <td>1641423.0</td>\n",
       "    </tr>\n",
       "    <tr>\n",
       "      <th>2011-12-20 07:20:08+08:00</th>\n",
       "      <td>1641423.0</td>\n",
       "    </tr>\n",
       "    <tr>\n",
       "      <th>2011-12-20 07:20:28+08:00</th>\n",
       "      <td>1641423.0</td>\n",
       "    </tr>\n",
       "    <tr>\n",
       "      <th>2011-12-20 07:20:49+08:00</th>\n",
       "      <td>1641423.0</td>\n",
       "    </tr>\n",
       "    <tr>\n",
       "      <th>2011-12-20 07:21:30+08:00</th>\n",
       "      <td>1641423.0</td>\n",
       "    </tr>\n",
       "    <tr>\n",
       "      <th>2011-12-20 07:21:50+08:00</th>\n",
       "      <td>1641429.0</td>\n",
       "    </tr>\n",
       "    <tr>\n",
       "      <th>2011-12-20 07:24:34+08:00</th>\n",
       "      <td>636179.0</td>\n",
       "    </tr>\n",
       "    <tr>\n",
       "      <th>2011-12-20 07:24:55+08:00</th>\n",
       "      <td>636179.0</td>\n",
       "    </tr>\n",
       "    <tr>\n",
       "      <th>2011-12-20 07:25:15+08:00</th>\n",
       "      <td>636179.0</td>\n",
       "    </tr>\n",
       "    <tr>\n",
       "      <th>2011-12-20 07:25:36+08:00</th>\n",
       "      <td>636179.0</td>\n",
       "    </tr>\n",
       "    <tr>\n",
       "      <th>2011-12-20 07:25:56+08:00</th>\n",
       "      <td>636179.0</td>\n",
       "    </tr>\n",
       "    <tr>\n",
       "      <th>2011-12-20 07:26:17+08:00</th>\n",
       "      <td>634288.0</td>\n",
       "    </tr>\n",
       "    <tr>\n",
       "      <th>2011-12-20 07:26:37+08:00</th>\n",
       "      <td>634288.0</td>\n",
       "    </tr>\n",
       "  </tbody>\n",
       "</table>\n",
       "</div>"
      ],
      "text/plain": [
       "                                 osm\n",
       "timestamp                           \n",
       "2011-12-20 07:17:44+08:00  1641423.0\n",
       "2011-12-20 07:18:05+08:00  1641423.0\n",
       "2011-12-20 07:18:25+08:00  1641423.0\n",
       "2011-12-20 07:18:46+08:00  1641423.0\n",
       "2011-12-20 07:19:06+08:00  1641423.0\n",
       "2011-12-20 07:19:47+08:00  1641423.0\n",
       "2011-12-20 07:20:08+08:00  1641423.0\n",
       "2011-12-20 07:20:28+08:00  1641423.0\n",
       "2011-12-20 07:20:49+08:00  1641423.0\n",
       "2011-12-20 07:21:30+08:00  1641423.0\n",
       "2011-12-20 07:21:50+08:00  1641429.0\n",
       "2011-12-20 07:24:34+08:00   636179.0\n",
       "2011-12-20 07:24:55+08:00   636179.0\n",
       "2011-12-20 07:25:15+08:00   636179.0\n",
       "2011-12-20 07:25:36+08:00   636179.0\n",
       "2011-12-20 07:25:56+08:00   636179.0\n",
       "2011-12-20 07:26:17+08:00   634288.0\n",
       "2011-12-20 07:26:37+08:00   634288.0"
      ]
     },
     "execution_count": 12,
     "metadata": {},
     "output_type": "execute_result"
    }
   ],
   "source": [
    "new_osm = osm.copy()\n",
    "new_osm"
   ]
  },
  {
   "cell_type": "code",
   "execution_count": 13,
   "metadata": {
    "collapsed": false,
    "scrolled": true
   },
   "outputs": [
    {
     "data": {
      "text/html": [
       "<div>\n",
       "<table border=\"1\" class=\"dataframe\">\n",
       "  <thead>\n",
       "    <tr style=\"text-align: right;\">\n",
       "      <th></th>\n",
       "      <th>New_ID</th>\n",
       "      <th>osm</th>\n",
       "    </tr>\n",
       "    <tr>\n",
       "      <th>timestamp</th>\n",
       "      <th></th>\n",
       "      <th></th>\n",
       "    </tr>\n",
       "  </thead>\n",
       "  <tbody>\n",
       "    <tr>\n",
       "      <th>2011-12-20 07:17:44+08:00</th>\n",
       "      <td>1</td>\n",
       "      <td>1641423.0</td>\n",
       "    </tr>\n",
       "    <tr>\n",
       "      <th>2011-12-20 07:18:05+08:00</th>\n",
       "      <td>2</td>\n",
       "      <td>1641423.0</td>\n",
       "    </tr>\n",
       "    <tr>\n",
       "      <th>2011-12-20 07:18:25+08:00</th>\n",
       "      <td>3</td>\n",
       "      <td>1641423.0</td>\n",
       "    </tr>\n",
       "    <tr>\n",
       "      <th>2011-12-20 07:18:46+08:00</th>\n",
       "      <td>4</td>\n",
       "      <td>1641423.0</td>\n",
       "    </tr>\n",
       "    <tr>\n",
       "      <th>2011-12-20 07:19:06+08:00</th>\n",
       "      <td>5</td>\n",
       "      <td>1641423.0</td>\n",
       "    </tr>\n",
       "  </tbody>\n",
       "</table>\n",
       "</div>"
      ],
      "text/plain": [
       "                           New_ID        osm\n",
       "timestamp                                   \n",
       "2011-12-20 07:17:44+08:00       1  1641423.0\n",
       "2011-12-20 07:18:05+08:00       2  1641423.0\n",
       "2011-12-20 07:18:25+08:00       3  1641423.0\n",
       "2011-12-20 07:18:46+08:00       4  1641423.0\n",
       "2011-12-20 07:19:06+08:00       5  1641423.0"
      ]
     },
     "execution_count": 13,
     "metadata": {},
     "output_type": "execute_result"
    }
   ],
   "source": [
    "new_osm.insert(0, 'New_ID', range(1, 1 + len(new_osm)))\n",
    "new_osm[:5]"
   ]
  },
  {
   "cell_type": "code",
   "execution_count": 14,
   "metadata": {
    "collapsed": false
   },
   "outputs": [
    {
     "data": {
      "text/html": [
       "<div>\n",
       "<table border=\"1\" class=\"dataframe\">\n",
       "  <thead>\n",
       "    <tr style=\"text-align: right;\">\n",
       "      <th></th>\n",
       "      <th>osm</th>\n",
       "    </tr>\n",
       "    <tr>\n",
       "      <th>timestamp</th>\n",
       "      <th></th>\n",
       "    </tr>\n",
       "  </thead>\n",
       "  <tbody>\n",
       "    <tr>\n",
       "      <th>2011-12-20 07:17:44+08:00</th>\n",
       "      <td>1641423.0</td>\n",
       "    </tr>\n",
       "    <tr>\n",
       "      <th>2011-12-20 07:18:05+08:00</th>\n",
       "      <td>1641423.0</td>\n",
       "    </tr>\n",
       "    <tr>\n",
       "      <th>2011-12-20 07:18:25+08:00</th>\n",
       "      <td>1641423.0</td>\n",
       "    </tr>\n",
       "    <tr>\n",
       "      <th>2011-12-20 07:18:46+08:00</th>\n",
       "      <td>1641423.0</td>\n",
       "    </tr>\n",
       "    <tr>\n",
       "      <th>2011-12-20 07:19:06+08:00</th>\n",
       "      <td>1641423.0</td>\n",
       "    </tr>\n",
       "  </tbody>\n",
       "</table>\n",
       "</div>"
      ],
      "text/plain": [
       "                                 osm\n",
       "timestamp                           \n",
       "2011-12-20 07:17:44+08:00  1641423.0\n",
       "2011-12-20 07:18:05+08:00  1641423.0\n",
       "2011-12-20 07:18:25+08:00  1641423.0\n",
       "2011-12-20 07:18:46+08:00  1641423.0\n",
       "2011-12-20 07:19:06+08:00  1641423.0"
      ]
     },
     "execution_count": 14,
     "metadata": {},
     "output_type": "execute_result"
    }
   ],
   "source": [
    "osm[:5]  # Show that new_osm is a copy."
   ]
  },
  {
   "cell_type": "code",
   "execution_count": 15,
   "metadata": {
    "collapsed": false
   },
   "outputs": [
    {
     "data": {
      "text/html": [
       "<div>\n",
       "<table border=\"1\" class=\"dataframe\">\n",
       "  <thead>\n",
       "    <tr style=\"text-align: right;\">\n",
       "      <th></th>\n",
       "      <th>latitude</th>\n",
       "      <th>longitude</th>\n",
       "      <th>speed</th>\n",
       "      <th>heading</th>\n",
       "      <th>state</th>\n",
       "    </tr>\n",
       "    <tr>\n",
       "      <th>timestamp</th>\n",
       "      <th></th>\n",
       "      <th></th>\n",
       "      <th></th>\n",
       "      <th></th>\n",
       "      <th></th>\n",
       "    </tr>\n",
       "  </thead>\n",
       "  <tbody>\n",
       "    <tr>\n",
       "      <th>2011-12-20 07:16:02+08:00</th>\n",
       "      <td>30.380787</td>\n",
       "      <td>120.107710</td>\n",
       "      <td>39.63</td>\n",
       "      <td>260</td>\n",
       "      <td>0</td>\n",
       "    </tr>\n",
       "    <tr>\n",
       "      <th>2011-12-20 07:17:03+08:00</th>\n",
       "      <td>30.380617</td>\n",
       "      <td>120.101770</td>\n",
       "      <td>29.82</td>\n",
       "      <td>270</td>\n",
       "      <td>0</td>\n",
       "    </tr>\n",
       "    <tr>\n",
       "      <th>2011-12-20 07:17:44+08:00</th>\n",
       "      <td>30.377728</td>\n",
       "      <td>120.100130</td>\n",
       "      <td>19.26</td>\n",
       "      <td>190</td>\n",
       "      <td>0</td>\n",
       "    </tr>\n",
       "    <tr>\n",
       "      <th>2011-12-20 07:18:05+08:00</th>\n",
       "      <td>30.377623</td>\n",
       "      <td>120.100105</td>\n",
       "      <td>1.30</td>\n",
       "      <td>190</td>\n",
       "      <td>0</td>\n",
       "    </tr>\n",
       "    <tr>\n",
       "      <th>2011-12-20 07:18:25+08:00</th>\n",
       "      <td>30.377623</td>\n",
       "      <td>120.100105</td>\n",
       "      <td>1.30</td>\n",
       "      <td>190</td>\n",
       "      <td>0</td>\n",
       "    </tr>\n",
       "  </tbody>\n",
       "</table>\n",
       "</div>"
      ],
      "text/plain": [
       "                            latitude   longitude  speed  heading  state\n",
       "timestamp                                                              \n",
       "2011-12-20 07:16:02+08:00  30.380787  120.107710  39.63      260      0\n",
       "2011-12-20 07:17:03+08:00  30.380617  120.101770  29.82      270      0\n",
       "2011-12-20 07:17:44+08:00  30.377728  120.100130  19.26      190      0\n",
       "2011-12-20 07:18:05+08:00  30.377623  120.100105   1.30      190      0\n",
       "2011-12-20 07:18:25+08:00  30.377623  120.100105   1.30      190      0"
      ]
     },
     "execution_count": 15,
     "metadata": {},
     "output_type": "execute_result"
    }
   ],
   "source": [
    "rec[:5]"
   ]
  },
  {
   "cell_type": "code",
   "execution_count": 16,
   "metadata": {
    "collapsed": false
   },
   "outputs": [
    {
     "data": {
      "text/plain": [
       "timestamp\n",
       "2011-12-20 07:16:02+08:00    30.380787\n",
       "2011-12-20 07:17:03+08:00    30.380617\n",
       "2011-12-20 07:17:44+08:00    30.377728\n",
       "2011-12-20 07:18:05+08:00    30.377623\n",
       "2011-12-20 07:18:25+08:00    30.377623\n",
       "2011-12-20 07:18:46+08:00    30.376156\n",
       "2011-12-20 07:19:06+08:00    30.373629\n",
       "2011-12-20 07:19:47+08:00    30.369015\n",
       "2011-12-20 07:20:08+08:00    30.367266\n",
       "2011-12-20 07:20:28+08:00    30.365444\n",
       "2011-12-20 07:20:49+08:00    30.363827\n",
       "2011-12-20 07:21:30+08:00    30.362396\n",
       "2011-12-20 07:21:50+08:00    30.361885\n",
       "2011-12-20 07:24:34+08:00    30.359710\n",
       "2011-12-20 07:24:55+08:00    30.358230\n",
       "2011-12-20 07:25:15+08:00    30.357206\n",
       "2011-12-20 07:25:36+08:00    30.356838\n",
       "2011-12-20 07:25:56+08:00    30.356731\n",
       "2011-12-20 07:26:17+08:00    30.356546\n",
       "2011-12-20 07:26:37+08:00    30.355724\n",
       "Name: latitude, dtype: float64"
      ]
     },
     "execution_count": 16,
     "metadata": {},
     "output_type": "execute_result"
    }
   ],
   "source": [
    "rec['latitude']  # Returns a Series"
   ]
  },
  {
   "cell_type": "code",
   "execution_count": 17,
   "metadata": {
    "collapsed": false
   },
   "outputs": [
    {
     "data": {
      "text/plain": [
       "DatetimeIndex(['2011-12-20 07:16:02+08:00', '2011-12-20 07:17:03+08:00',\n",
       "               '2011-12-20 07:17:44+08:00', '2011-12-20 07:18:05+08:00',\n",
       "               '2011-12-20 07:18:25+08:00', '2011-12-20 07:18:46+08:00',\n",
       "               '2011-12-20 07:19:06+08:00', '2011-12-20 07:19:47+08:00',\n",
       "               '2011-12-20 07:20:08+08:00', '2011-12-20 07:20:28+08:00',\n",
       "               '2011-12-20 07:20:49+08:00', '2011-12-20 07:21:30+08:00',\n",
       "               '2011-12-20 07:21:50+08:00', '2011-12-20 07:24:34+08:00',\n",
       "               '2011-12-20 07:24:55+08:00', '2011-12-20 07:25:15+08:00',\n",
       "               '2011-12-20 07:25:36+08:00', '2011-12-20 07:25:56+08:00',\n",
       "               '2011-12-20 07:26:17+08:00', '2011-12-20 07:26:37+08:00'],\n",
       "              dtype='datetime64[ns, Asia/Shanghai]', name='timestamp', freq=None)"
      ]
     },
     "execution_count": 17,
     "metadata": {},
     "output_type": "execute_result"
    }
   ],
   "source": [
    "rec.index"
   ]
  },
  {
   "cell_type": "code",
   "execution_count": 18,
   "metadata": {
    "collapsed": false
   },
   "outputs": [
    {
     "data": {
      "text/plain": [
       "DatetimeIndex(['2011-12-20 07:17:44+08:00', '2011-12-20 07:18:05+08:00',\n",
       "               '2011-12-20 07:18:25+08:00', '2011-12-20 07:18:46+08:00',\n",
       "               '2011-12-20 07:19:06+08:00', '2011-12-20 07:19:47+08:00',\n",
       "               '2011-12-20 07:20:08+08:00', '2011-12-20 07:20:28+08:00',\n",
       "               '2011-12-20 07:20:49+08:00', '2011-12-20 07:21:30+08:00',\n",
       "               '2011-12-20 07:21:50+08:00', '2011-12-20 07:24:34+08:00',\n",
       "               '2011-12-20 07:24:55+08:00', '2011-12-20 07:25:15+08:00',\n",
       "               '2011-12-20 07:25:36+08:00', '2011-12-20 07:25:56+08:00',\n",
       "               '2011-12-20 07:26:17+08:00', '2011-12-20 07:26:37+08:00'],\n",
       "              dtype='datetime64[ns, Asia/Shanghai]', name='timestamp', freq=None)"
      ]
     },
     "execution_count": 18,
     "metadata": {},
     "output_type": "execute_result"
    }
   ],
   "source": [
    "osm.index"
   ]
  },
  {
   "cell_type": "code",
   "execution_count": 19,
   "metadata": {
    "collapsed": false
   },
   "outputs": [
    {
     "data": {
      "text/html": [
       "<div>\n",
       "<table border=\"1\" class=\"dataframe\">\n",
       "  <thead>\n",
       "    <tr style=\"text-align: right;\">\n",
       "      <th></th>\n",
       "      <th>latitude</th>\n",
       "      <th>longitude</th>\n",
       "      <th>speed</th>\n",
       "      <th>heading</th>\n",
       "      <th>state</th>\n",
       "      <th>osm</th>\n",
       "    </tr>\n",
       "    <tr>\n",
       "      <th>timestamp</th>\n",
       "      <th></th>\n",
       "      <th></th>\n",
       "      <th></th>\n",
       "      <th></th>\n",
       "      <th></th>\n",
       "      <th></th>\n",
       "    </tr>\n",
       "  </thead>\n",
       "  <tbody>\n",
       "    <tr>\n",
       "      <th>2011-12-20 07:16:02+08:00</th>\n",
       "      <td>30.380787</td>\n",
       "      <td>120.107710</td>\n",
       "      <td>39.63</td>\n",
       "      <td>260</td>\n",
       "      <td>0</td>\n",
       "      <td>NaN</td>\n",
       "    </tr>\n",
       "    <tr>\n",
       "      <th>2011-12-20 07:17:03+08:00</th>\n",
       "      <td>30.380617</td>\n",
       "      <td>120.101770</td>\n",
       "      <td>29.82</td>\n",
       "      <td>270</td>\n",
       "      <td>0</td>\n",
       "      <td>NaN</td>\n",
       "    </tr>\n",
       "    <tr>\n",
       "      <th>2011-12-20 07:17:44+08:00</th>\n",
       "      <td>30.377728</td>\n",
       "      <td>120.100130</td>\n",
       "      <td>19.26</td>\n",
       "      <td>190</td>\n",
       "      <td>0</td>\n",
       "      <td>1641423.0</td>\n",
       "    </tr>\n",
       "    <tr>\n",
       "      <th>2011-12-20 07:18:05+08:00</th>\n",
       "      <td>30.377623</td>\n",
       "      <td>120.100105</td>\n",
       "      <td>1.30</td>\n",
       "      <td>190</td>\n",
       "      <td>0</td>\n",
       "      <td>1641423.0</td>\n",
       "    </tr>\n",
       "    <tr>\n",
       "      <th>2011-12-20 07:18:25+08:00</th>\n",
       "      <td>30.377623</td>\n",
       "      <td>120.100105</td>\n",
       "      <td>1.30</td>\n",
       "      <td>190</td>\n",
       "      <td>0</td>\n",
       "      <td>1641423.0</td>\n",
       "    </tr>\n",
       "  </tbody>\n",
       "</table>\n",
       "</div>"
      ],
      "text/plain": [
       "                            latitude   longitude  speed  heading  state  \\\n",
       "timestamp                                                                 \n",
       "2011-12-20 07:16:02+08:00  30.380787  120.107710  39.63      260      0   \n",
       "2011-12-20 07:17:03+08:00  30.380617  120.101770  29.82      270      0   \n",
       "2011-12-20 07:17:44+08:00  30.377728  120.100130  19.26      190      0   \n",
       "2011-12-20 07:18:05+08:00  30.377623  120.100105   1.30      190      0   \n",
       "2011-12-20 07:18:25+08:00  30.377623  120.100105   1.30      190      0   \n",
       "\n",
       "                                 osm  \n",
       "timestamp                             \n",
       "2011-12-20 07:16:02+08:00        NaN  \n",
       "2011-12-20 07:17:03+08:00        NaN  \n",
       "2011-12-20 07:17:44+08:00  1641423.0  \n",
       "2011-12-20 07:18:05+08:00  1641423.0  \n",
       "2011-12-20 07:18:25+08:00  1641423.0  "
      ]
     },
     "execution_count": 19,
     "metadata": {},
     "output_type": "execute_result"
    }
   ],
   "source": [
    "import pandas as pd\n",
    "pd.concat([rec, osm], axis=1)[:5]"
   ]
  },
  {
   "cell_type": "markdown",
   "metadata": {},
   "source": [
    "# Cube Time Partitioning"
   ]
  },
  {
   "cell_type": "code",
   "execution_count": null,
   "metadata": {
    "collapsed": false
   },
   "outputs": [],
   "source": [
    "import pytz\n",
    "\n",
    "# Model value, Human readable\n",
    "max_len = 0\n",
    "for tz in pytz.all_timezones:\n",
    "    max_len = max(len(tz), max_len)\n",
    "max_len"
   ]
  },
  {
   "cell_type": "code",
   "execution_count": 13,
   "metadata": {
    "collapsed": true
   },
   "outputs": [],
   "source": [
    "from datetime import timedelta, datetime\n",
    "\n",
    "\n",
    "def day_partitions_old(start_date, end_date, partition_size=1):\n",
    "    \"\"\"\n",
    "    Returns a generator to get a tuple of start date and end date\n",
    "    partitions that are partition_size.\n",
    "    \"\"\"\n",
    "    units = 'days'  # TODO: Parameterize the units\n",
    "    unit_range = getattr((end_date - start_date)/partition_size, units)\n",
    "    partition_start = start_date\n",
    "    for n in range(int(unit_range + 1)):\n",
    "        partition_end = partition_start + timedelta(**{units: partition_size-1})\n",
    "        yield partition_start, partition_end\n",
    "        partition_start = partition_end + timedelta(**{units: 1})\n",
    "        \n",
    "\n",
    "def day_partitions(start_date, end_date, delta=None, **kwargs):\n",
    "    \"\"\"\n",
    "    Returns a generator to get a tuple of start date and end date\n",
    "    partitions that are partition_size.\n",
    "    \"\"\"\n",
    "    if delta is None:\n",
    "        delta = timedelta(**kwargs)\n",
    "    unit_range = (end_date - start_date)/delta\n",
    "    partition_start = start_date\n",
    "    for n in range(int(unit_range + 1)):\n",
    "        partition_end = partition_start + delta\n",
    "        yield partition_start, partition_end\n",
    "        partition_start = partition_end"
   ]
  },
  {
   "cell_type": "code",
   "execution_count": 20,
   "metadata": {
    "collapsed": true
   },
   "outputs": [],
   "source": [
    "start = datetime.now()\n",
    "end = datetime.now() + timedelta(days=3)"
   ]
  },
  {
   "cell_type": "code",
   "execution_count": 21,
   "metadata": {
    "collapsed": false
   },
   "outputs": [
    {
     "data": {
      "text/plain": [
       "[(datetime.datetime(2016, 6, 21, 21, 10, 1, 844999),\n",
       "  datetime.datetime(2016, 6, 21, 21, 10, 1, 844999)),\n",
       " (datetime.datetime(2016, 6, 22, 21, 10, 1, 844999),\n",
       "  datetime.datetime(2016, 6, 22, 21, 10, 1, 844999)),\n",
       " (datetime.datetime(2016, 6, 23, 21, 10, 1, 844999),\n",
       "  datetime.datetime(2016, 6, 23, 21, 10, 1, 844999)),\n",
       " (datetime.datetime(2016, 6, 24, 21, 10, 1, 844999),\n",
       "  datetime.datetime(2016, 6, 24, 21, 10, 1, 844999))]"
      ]
     },
     "execution_count": 21,
     "metadata": {},
     "output_type": "execute_result"
    }
   ],
   "source": [
    "list(day_partitions_old(start, end, partition_size=1))"
   ]
  },
  {
   "cell_type": "code",
   "execution_count": 22,
   "metadata": {
    "collapsed": false
   },
   "outputs": [
    {
     "data": {
      "text/plain": [
       "[(datetime.datetime(2016, 6, 21, 21, 10, 1, 844999),\n",
       "  datetime.datetime(2016, 6, 22, 7, 10, 1, 844999)),\n",
       " (datetime.datetime(2016, 6, 22, 7, 10, 1, 844999),\n",
       "  datetime.datetime(2016, 6, 22, 17, 10, 1, 844999)),\n",
       " (datetime.datetime(2016, 6, 22, 17, 10, 1, 844999),\n",
       "  datetime.datetime(2016, 6, 23, 3, 10, 1, 844999)),\n",
       " (datetime.datetime(2016, 6, 23, 3, 10, 1, 844999),\n",
       "  datetime.datetime(2016, 6, 23, 13, 10, 1, 844999)),\n",
       " (datetime.datetime(2016, 6, 23, 13, 10, 1, 844999),\n",
       "  datetime.datetime(2016, 6, 23, 23, 10, 1, 844999)),\n",
       " (datetime.datetime(2016, 6, 23, 23, 10, 1, 844999),\n",
       "  datetime.datetime(2016, 6, 24, 9, 10, 1, 844999)),\n",
       " (datetime.datetime(2016, 6, 24, 9, 10, 1, 844999),\n",
       "  datetime.datetime(2016, 6, 24, 19, 10, 1, 844999)),\n",
       " (datetime.datetime(2016, 6, 24, 19, 10, 1, 844999),\n",
       "  datetime.datetime(2016, 6, 25, 5, 10, 1, 844999))]"
      ]
     },
     "execution_count": 22,
     "metadata": {},
     "output_type": "execute_result"
    }
   ],
   "source": [
    "list(day_partitions(start, end, hours=10))"
   ]
  },
  {
   "cell_type": "markdown",
   "metadata": {},
   "source": [
    "# Python Floating Point vs. Integer Division"
   ]
  },
  {
   "cell_type": "code",
   "execution_count": 20,
   "metadata": {
    "collapsed": false,
    "scrolled": true
   },
   "outputs": [
    {
     "data": {
      "text/plain": [
       "5.125"
      ]
     },
     "execution_count": 20,
     "metadata": {},
     "output_type": "execute_result"
    }
   ],
   "source": [
    "82/16"
   ]
  },
  {
   "cell_type": "code",
   "execution_count": 21,
   "metadata": {
    "collapsed": false
   },
   "outputs": [
    {
     "data": {
      "text/plain": [
       "5"
      ]
     },
     "execution_count": 21,
     "metadata": {},
     "output_type": "execute_result"
    }
   ],
   "source": [
    "82//16"
   ]
  },
  {
   "cell_type": "markdown",
   "metadata": {},
   "source": [
    "# Return 2D Array of Column Name, Column Type"
   ]
  },
  {
   "cell_type": "code",
   "execution_count": 28,
   "metadata": {
    "collapsed": false
   },
   "outputs": [
    {
     "data": {
      "text/plain": [
       "['float64', 'float64', 'float64', 'int64', 'int64']"
      ]
     },
     "execution_count": 28,
     "metadata": {},
     "output_type": "execute_result"
    }
   ],
   "source": [
    "[str(t) for t in rec.dtypes]"
   ]
  },
  {
   "cell_type": "code",
   "execution_count": null,
   "metadata": {
    "collapsed": true
   },
   "outputs": [],
   "source": []
  }
 ],
 "metadata": {
  "kernelspec": {
   "display_name": "Django Shell-Plus",
   "language": "python",
   "name": "django_extensions"
  },
  "language_info": {
   "codemirror_mode": {
    "name": "ipython",
    "version": 3
   },
   "file_extension": ".py",
   "mimetype": "text/x-python",
   "name": "python",
   "nbconvert_exporter": "python",
   "pygments_lexer": "ipython3",
   "version": "3.5.3"
  }
 },
 "nbformat": 4,
 "nbformat_minor": 0
}
