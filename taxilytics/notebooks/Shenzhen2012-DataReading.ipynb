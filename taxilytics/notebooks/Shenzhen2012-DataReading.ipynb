{
 "cells": [
  {
   "cell_type": "markdown",
   "metadata": {},
   "source": [
    "# Old Shenzhen Data\n",
    "We where provided several days worth of data for Shenzhen.  At first glance this data seems to be very clean.  This notebook goes through some of the initial processing.\n",
    "\n",
    "## Observations\n",
    "The following sections capture some of the observations on the data.\n",
    "\n",
    "### Cities\n",
    "There are two cities represented in the data.\n",
    "1. Shenzhen\n",
    "    1. Contains the majority of the taxis\n",
    "    1. All taxis whose plate begins with the letter *'B'*\n",
    "1. Dongguan\n",
    "    1. Contains a smaller subset of the total taxis but still a significant amount\n",
    "    1. All taxis whose plate begins with the letter *'S'*\n",
    "\n",
    "For more information, refer to the wikipedia article https://en.wikipedia.org/wiki/Vehicle_registration_plates_of_China#Guangdong\n",
    "\n",
    "### Failed Trip Status\n",
    "Some of the taxis seem to drive around all day and never pick up a passenger.  Interestingly, all of the taxis that do this have the same beginning plate combination.  For example, all taxis beginning *'B51K'*, *'B51V'*, *'B56V'* exhibit this behavior.  Some of the taxis with plates beginning with that combination also don't seem to create any trips at all. The list of taxis observed with this bad passenger flag is provided below.  Where the taxi is listed as having no trips, it means that the taxi is found but all samples are removed due to the implausible or other filters that run AFTER the data file is separated into taxis.  So a rough estimate at how many usable taxis there are would come from finding how many taxis have 2 or more trips.\n",
    "\n",
    "### Final Stats\n",
    "In this notebook there several cells that provide additional statistics on the taxi data."
   ]
  },
  {
   "cell_type": "markdown",
   "metadata": {},
   "source": [
    "## Setup"
   ]
  },
  {
   "cell_type": "code",
   "execution_count": 7,
   "metadata": {
    "collapsed": false
   },
   "outputs": [
    {
     "name": "stdout",
     "output_type": "stream",
     "text": [
      "Using pandas version 0.18.1\n"
     ]
    }
   ],
   "source": [
    "# These packages are here solely to support the use of the IPython Notebook.\n",
    "%matplotlib inline\n",
    "# %pylab inline\n",
    "import numpy as np\n",
    "import pandas as pd\n",
    "import os\n",
    "from IPython.display import HTML, display  # Allows rendering data as HTML, for example DataFrame tables.\n",
    "import matplotlib.pyplot as plt\n",
    "from datetime import datetime\n",
    "\n",
    "# plt styles include:\n",
    "# 'bmh', 'classic', 'seaborn-dark', 'seaborn-muted', 'seaborn-talk', 'fivethirtyeight', 'seaborn-whitegrid',\n",
    "# 'seaborn-white', 'seaborn-darkgrid', 'ggplot', 'seaborn-notebook', 'seaborn-pastel', 'seaborn-deep',\n",
    "# 'seaborn-poster', 'grayscale', 'seaborn-bright', 'seaborn-colorblind', 'dark_background', 'seaborn-ticks',\n",
    "# 'seaborn-dark-palette', 'seaborn-paper'\n",
    "plt.style.use('ggplot')\n",
    "figsize(15, 5)\n",
    "\n",
    "print('Using pandas version', pd.__version__)"
   ]
  },
  {
   "cell_type": "code",
   "execution_count": 8,
   "metadata": {
    "collapsed": true
   },
   "outputs": [],
   "source": [
    "data_dir = '/home/dingbat/data/taxi/shenzhen/2012-Shenzhen'"
   ]
  },
  {
   "cell_type": "markdown",
   "metadata": {},
   "source": [
    "## Helper Functions\n",
    "These are functions used outside the data processing to provide some additional insight into the processing."
   ]
  },
  {
   "cell_type": "code",
   "execution_count": 9,
   "metadata": {
    "collapsed": false
   },
   "outputs": [],
   "source": [
    "def sample_df(df, rows=5):\n",
    "    \"\"\" Returns N rows as a sample of the passed in dataframe. \"\"\"\n",
    "    return df.sample(rows).sort_index()"
   ]
  },
  {
   "cell_type": "code",
   "execution_count": 10,
   "metadata": {
    "collapsed": false
   },
   "outputs": [],
   "source": [
    "def human_size(num, suffix=''):\n",
    "    \"\"\" Given a number in bytes, format it to the nearest size increment.  e.g. 1024 is 1K \"\"\"\n",
    "    for unit in ['','K','M','G','T','P','E','Z']:\n",
    "        if abs(num) < 1024.0:\n",
    "            return \"%3.1f%s%s\" % (num, unit, suffix)\n",
    "        num /= 1024.0\n",
    "    return \"%.1f%s%s\" % (num, 'Yi', suffix)"
   ]
  },
  {
   "cell_type": "markdown",
   "metadata": {},
   "source": [
    "## Reading in the Data\n",
    "\n",
    "With the UNIX time format, it is much faster to read in the data directly and then perform conversions on the time column.  You'll note in the cells below that we do this incrementally over a few cells."
   ]
  },
  {
   "cell_type": "code",
   "execution_count": 11,
   "metadata": {
    "collapsed": true
   },
   "outputs": [],
   "source": [
    "taxi_file = os.path.join(data_dir, '2012-06-27.good.sample')\n",
    "header_names = ['common_id', 'timestamp', 'passenger', 'speed', 'heading', 'latitude', 'longitude']\n",
    "usecols = [0,1,2,3,4,5,6]  # Omit road and road id columns"
   ]
  },
  {
   "cell_type": "code",
   "execution_count": 12,
   "metadata": {
    "collapsed": false
   },
   "outputs": [
    {
     "name": "stdout",
     "output_type": "stream",
     "text": [
      "0:00:06.095388 to read in 68.9M\n"
     ]
    },
    {
     "data": {
      "text/html": [
       "<div>\n",
       "<table border=\"1\" class=\"dataframe\">\n",
       "  <thead>\n",
       "    <tr style=\"text-align: right;\">\n",
       "      <th></th>\n",
       "      <th></th>\n",
       "      <th>passenger</th>\n",
       "      <th>speed</th>\n",
       "      <th>heading</th>\n",
       "      <th>latitude</th>\n",
       "      <th>longitude</th>\n",
       "    </tr>\n",
       "    <tr>\n",
       "      <th>common_id</th>\n",
       "      <th>timestamp</th>\n",
       "      <th></th>\n",
       "      <th></th>\n",
       "      <th></th>\n",
       "      <th></th>\n",
       "      <th></th>\n",
       "    </tr>\n",
       "  </thead>\n",
       "  <tbody>\n",
       "    <tr>\n",
       "      <th>таB087U2</th>\n",
       "      <th>2012-06-27 00:10:52</th>\n",
       "      <td>0</td>\n",
       "      <td>58</td>\n",
       "      <td>0</td>\n",
       "      <td>22.667650</td>\n",
       "      <td>114.207367</td>\n",
       "    </tr>\n",
       "    <tr>\n",
       "      <th>таB27F36</th>\n",
       "      <th>2012-06-27 00:17:20</th>\n",
       "      <td>0</td>\n",
       "      <td>0</td>\n",
       "      <td>315</td>\n",
       "      <td>22.541416</td>\n",
       "      <td>114.117966</td>\n",
       "    </tr>\n",
       "    <tr>\n",
       "      <th>таB357R0</th>\n",
       "      <th>2012-06-27 00:24:56</th>\n",
       "      <td>0</td>\n",
       "      <td>25</td>\n",
       "      <td>135</td>\n",
       "      <td>22.529484</td>\n",
       "      <td>114.046799</td>\n",
       "    </tr>\n",
       "    <tr>\n",
       "      <th>таSKH441</th>\n",
       "      <th>2012-06-27 00:14:16</th>\n",
       "      <td>0</td>\n",
       "      <td>0</td>\n",
       "      <td>180</td>\n",
       "      <td>23.027666</td>\n",
       "      <td>113.808083</td>\n",
       "    </tr>\n",
       "    <tr>\n",
       "      <th>таSKP625</th>\n",
       "      <th>2012-06-27 00:17:57</th>\n",
       "      <td>0</td>\n",
       "      <td>74</td>\n",
       "      <td>315</td>\n",
       "      <td>23.017683</td>\n",
       "      <td>113.704102</td>\n",
       "    </tr>\n",
       "  </tbody>\n",
       "</table>\n",
       "</div>"
      ],
      "text/plain": [
       "                               passenger  speed  heading   latitude  \\\n",
       "common_id timestamp                                                   \n",
       "таB087U2  2012-06-27 00:10:52          0     58        0  22.667650   \n",
       "таB27F36  2012-06-27 00:17:20          0      0      315  22.541416   \n",
       "таB357R0  2012-06-27 00:24:56          0     25      135  22.529484   \n",
       "таSKH441  2012-06-27 00:14:16          0      0      180  23.027666   \n",
       "таSKP625  2012-06-27 00:17:57          0     74      315  23.017683   \n",
       "\n",
       "                                longitude  \n",
       "common_id timestamp                        \n",
       "таB087U2  2012-06-27 00:10:52  114.207367  \n",
       "таB27F36  2012-06-27 00:17:20  114.117966  \n",
       "таB357R0  2012-06-27 00:24:56  114.046799  \n",
       "таSKH441  2012-06-27 00:14:16  113.808083  \n",
       "таSKP625  2012-06-27 00:17:57  113.704102  "
      ]
     },
     "execution_count": 12,
     "metadata": {},
     "output_type": "execute_result"
    }
   ],
   "source": [
    "start_time = datetime.now()\n",
    "df = pd.read_csv(\n",
    "    taxi_file,\n",
    "    index_col=['common_id', 'timestamp'],\n",
    "    parse_dates=['timestamp'],\n",
    "    names=header_names,\n",
    "    usecols=usecols,\n",
    "    converters={\n",
    "        'common_id': lambda p: p.strip()[2:]  # Cleans the corrupted unicode from the front of the plate.\n",
    "    },\n",
    "    engine='python'\n",
    ")\n",
    "\n",
    "print(\n",
    "    datetime.now() - start_time,\n",
    "    'to read in',\n",
    "    human_size(os.path.getsize(taxi_file))\n",
    ")\n",
    "sample_df(df)"
   ]
  },
  {
   "cell_type": "code",
   "execution_count": 13,
   "metadata": {
    "collapsed": false
   },
   "outputs": [
    {
     "name": "stdout",
     "output_type": "stream",
     "text": [
      "0:00:01.803301 to read in 68.9M\n"
     ]
    },
    {
     "data": {
      "text/html": [
       "<div>\n",
       "<table border=\"1\" class=\"dataframe\">\n",
       "  <thead>\n",
       "    <tr style=\"text-align: right;\">\n",
       "      <th></th>\n",
       "      <th></th>\n",
       "      <th>passenger</th>\n",
       "      <th>speed</th>\n",
       "      <th>heading</th>\n",
       "      <th>latitude</th>\n",
       "      <th>longitude</th>\n",
       "    </tr>\n",
       "    <tr>\n",
       "      <th>common_id</th>\n",
       "      <th>timestamp</th>\n",
       "      <th></th>\n",
       "      <th></th>\n",
       "      <th></th>\n",
       "      <th></th>\n",
       "      <th></th>\n",
       "    </tr>\n",
       "  </thead>\n",
       "  <tbody>\n",
       "    <tr>\n",
       "      <th>B22T72</th>\n",
       "      <th>2012-06-27 00:23:31</th>\n",
       "      <td>0</td>\n",
       "      <td>0</td>\n",
       "      <td>0</td>\n",
       "      <td>22.614300</td>\n",
       "      <td>114.038597</td>\n",
       "    </tr>\n",
       "    <tr>\n",
       "      <th>B22T99</th>\n",
       "      <th>2012-06-27 00:22:27</th>\n",
       "      <td>0</td>\n",
       "      <td>72</td>\n",
       "      <td>0</td>\n",
       "      <td>22.674299</td>\n",
       "      <td>113.980904</td>\n",
       "    </tr>\n",
       "    <tr>\n",
       "      <th>B7488B</th>\n",
       "      <th>2012-06-27 00:27:52</th>\n",
       "      <td>0</td>\n",
       "      <td>46</td>\n",
       "      <td>270</td>\n",
       "      <td>22.691233</td>\n",
       "      <td>114.131500</td>\n",
       "    </tr>\n",
       "    <tr>\n",
       "      <th>BL3H29</th>\n",
       "      <th>2012-06-27 00:03:17</th>\n",
       "      <td>0</td>\n",
       "      <td>0</td>\n",
       "      <td>270</td>\n",
       "      <td>22.525949</td>\n",
       "      <td>114.060349</td>\n",
       "    </tr>\n",
       "    <tr>\n",
       "      <th>SBS653</th>\n",
       "      <th>2012-06-27 00:20:38</th>\n",
       "      <td>0</td>\n",
       "      <td>11</td>\n",
       "      <td>180</td>\n",
       "      <td>23.045532</td>\n",
       "      <td>113.744118</td>\n",
       "    </tr>\n",
       "  </tbody>\n",
       "</table>\n",
       "</div>"
      ],
      "text/plain": [
       "                               passenger  speed  heading   latitude  \\\n",
       "common_id timestamp                                                   \n",
       "B22T72    2012-06-27 00:23:31          0      0        0  22.614300   \n",
       "B22T99    2012-06-27 00:22:27          0     72        0  22.674299   \n",
       "B7488B    2012-06-27 00:27:52          0     46      270  22.691233   \n",
       "BL3H29    2012-06-27 00:03:17          0      0      270  22.525949   \n",
       "SBS653    2012-06-27 00:20:38          0     11      180  23.045532   \n",
       "\n",
       "                                longitude  \n",
       "common_id timestamp                        \n",
       "B22T72    2012-06-27 00:23:31  114.038597  \n",
       "B22T99    2012-06-27 00:22:27  113.980904  \n",
       "B7488B    2012-06-27 00:27:52  114.131500  \n",
       "BL3H29    2012-06-27 00:03:17  114.060349  \n",
       "SBS653    2012-06-27 00:20:38  113.744118  "
      ]
     },
     "execution_count": 13,
     "metadata": {},
     "output_type": "execute_result"
    }
   ],
   "source": [
    "start_time = datetime.now()\n",
    "df = pd.read_csv(\n",
    "    taxi_file,\n",
    "    index_col=['common_id', 'timestamp'],\n",
    "    parse_dates=['timestamp'],\n",
    "    names=header_names,\n",
    "    usecols=usecols,\n",
    "    converters={\n",
    "        'common_id': lambda p: p.strip()[2:]  # Cleans the corrupted unicode from the front of the plate.\n",
    "    }\n",
    ")\n",
    "\n",
    "print(\n",
    "    datetime.now() - start_time,\n",
    "    'to read in',\n",
    "    human_size(os.path.getsize(taxi_file))\n",
    ")\n",
    "sample_df(df)"
   ]
  },
  {
   "cell_type": "code",
   "execution_count": 14,
   "metadata": {
    "collapsed": false
   },
   "outputs": [
    {
     "data": {
      "text/html": [
       "<div>\n",
       "<table border=\"1\" class=\"dataframe\">\n",
       "  <thead>\n",
       "    <tr style=\"text-align: right;\">\n",
       "      <th></th>\n",
       "      <th></th>\n",
       "      <th>passenger</th>\n",
       "      <th>speed</th>\n",
       "      <th>heading</th>\n",
       "      <th>latitude</th>\n",
       "      <th>longitude</th>\n",
       "    </tr>\n",
       "    <tr>\n",
       "      <th>common_id</th>\n",
       "      <th>timestamp</th>\n",
       "      <th></th>\n",
       "      <th></th>\n",
       "      <th></th>\n",
       "      <th></th>\n",
       "      <th></th>\n",
       "    </tr>\n",
       "  </thead>\n",
       "  <tbody>\n",
       "    <tr>\n",
       "      <th>B40P00</th>\n",
       "      <th>2012-06-27 00:01:46+08:00</th>\n",
       "      <td>1</td>\n",
       "      <td>0</td>\n",
       "      <td>0</td>\n",
       "      <td>22.541918</td>\n",
       "      <td>114.110046</td>\n",
       "    </tr>\n",
       "    <tr>\n",
       "      <th>SCC661</th>\n",
       "      <th>2012-06-27 00:01:39+08:00</th>\n",
       "      <td>0</td>\n",
       "      <td>55</td>\n",
       "      <td>180</td>\n",
       "      <td>22.649248</td>\n",
       "      <td>113.824486</td>\n",
       "    </tr>\n",
       "    <tr>\n",
       "      <th>SKS991</th>\n",
       "      <th>2012-06-27 00:01:39+08:00</th>\n",
       "      <td>0</td>\n",
       "      <td>85</td>\n",
       "      <td>315</td>\n",
       "      <td>23.087866</td>\n",
       "      <td>113.673447</td>\n",
       "    </tr>\n",
       "    <tr>\n",
       "      <th>SBZ910</th>\n",
       "      <th>2012-06-27 00:01:39+08:00</th>\n",
       "      <td>0</td>\n",
       "      <td>0</td>\n",
       "      <td>0</td>\n",
       "      <td>22.858015</td>\n",
       "      <td>113.843796</td>\n",
       "    </tr>\n",
       "    <tr>\n",
       "      <th>SBS623</th>\n",
       "      <th>2012-06-27 00:01:39+08:00</th>\n",
       "      <td>0</td>\n",
       "      <td>0</td>\n",
       "      <td>270</td>\n",
       "      <td>22.988150</td>\n",
       "      <td>113.701981</td>\n",
       "    </tr>\n",
       "    <tr>\n",
       "      <th>SBR001</th>\n",
       "      <th>2012-06-27 00:01:39+08:00</th>\n",
       "      <td>0</td>\n",
       "      <td>0</td>\n",
       "      <td>270</td>\n",
       "      <td>23.034866</td>\n",
       "      <td>113.761200</td>\n",
       "    </tr>\n",
       "    <tr>\n",
       "      <th>SLP610</th>\n",
       "      <th>2012-06-27 00:01:39+08:00</th>\n",
       "      <td>1</td>\n",
       "      <td>0</td>\n",
       "      <td>0</td>\n",
       "      <td>22.906050</td>\n",
       "      <td>114.062347</td>\n",
       "    </tr>\n",
       "    <tr>\n",
       "      <th>SBZ205</th>\n",
       "      <th>2012-06-27 00:01:39+08:00</th>\n",
       "      <td>0</td>\n",
       "      <td>22</td>\n",
       "      <td>135</td>\n",
       "      <td>23.018200</td>\n",
       "      <td>114.092865</td>\n",
       "    </tr>\n",
       "    <tr>\n",
       "      <th>SBG776</th>\n",
       "      <th>2012-06-27 00:01:39+08:00</th>\n",
       "      <td>0</td>\n",
       "      <td>0</td>\n",
       "      <td>0</td>\n",
       "      <td>22.982033</td>\n",
       "      <td>113.998901</td>\n",
       "    </tr>\n",
       "    <tr>\n",
       "      <th>SKZ403</th>\n",
       "      <th>2012-06-27 00:01:39+08:00</th>\n",
       "      <td>0</td>\n",
       "      <td>0</td>\n",
       "      <td>0</td>\n",
       "      <td>23.040434</td>\n",
       "      <td>113.773163</td>\n",
       "    </tr>\n",
       "  </tbody>\n",
       "</table>\n",
       "</div>"
      ],
      "text/plain": [
       "                                     passenger  speed  heading   latitude  \\\n",
       "common_id timestamp                                                         \n",
       "B40P00    2012-06-27 00:01:46+08:00          1      0        0  22.541918   \n",
       "SCC661    2012-06-27 00:01:39+08:00          0     55      180  22.649248   \n",
       "SKS991    2012-06-27 00:01:39+08:00          0     85      315  23.087866   \n",
       "SBZ910    2012-06-27 00:01:39+08:00          0      0        0  22.858015   \n",
       "SBS623    2012-06-27 00:01:39+08:00          0      0      270  22.988150   \n",
       "SBR001    2012-06-27 00:01:39+08:00          0      0      270  23.034866   \n",
       "SLP610    2012-06-27 00:01:39+08:00          1      0        0  22.906050   \n",
       "SBZ205    2012-06-27 00:01:39+08:00          0     22      135  23.018200   \n",
       "SBG776    2012-06-27 00:01:39+08:00          0      0        0  22.982033   \n",
       "SKZ403    2012-06-27 00:01:39+08:00          0      0        0  23.040434   \n",
       "\n",
       "                                      longitude  \n",
       "common_id timestamp                              \n",
       "B40P00    2012-06-27 00:01:46+08:00  114.110046  \n",
       "SCC661    2012-06-27 00:01:39+08:00  113.824486  \n",
       "SKS991    2012-06-27 00:01:39+08:00  113.673447  \n",
       "SBZ910    2012-06-27 00:01:39+08:00  113.843796  \n",
       "SBS623    2012-06-27 00:01:39+08:00  113.701981  \n",
       "SBR001    2012-06-27 00:01:39+08:00  113.761200  \n",
       "SLP610    2012-06-27 00:01:39+08:00  114.062347  \n",
       "SBZ205    2012-06-27 00:01:39+08:00  114.092865  \n",
       "SBG776    2012-06-27 00:01:39+08:00  113.998901  \n",
       "SKZ403    2012-06-27 00:01:39+08:00  113.773163  "
      ]
     },
     "execution_count": 14,
     "metadata": {},
     "output_type": "execute_result"
    }
   ],
   "source": [
    "# Convert the timestamp column to a DatetimeIndex and assign the correct timezone.\n",
    "df.index = df.index.set_levels(\n",
    "    df.index.levels[1].tz_localize('Asia/Shanghai')  # .tz_convert('UTC')\n",
    "    , level=1\n",
    ")\n",
    "\n",
    "df.iloc[:10]  # Use iloc instead of sample to help illustrate sort (next cell)"
   ]
  },
  {
   "cell_type": "code",
   "execution_count": 15,
   "metadata": {
    "collapsed": false
   },
   "outputs": [
    {
     "name": "stdout",
     "output_type": "stream",
     "text": [
      "0:00:03.198977\n"
     ]
    }
   ],
   "source": [
    "start_time = datetime.now()\n",
    "# Sorts based on the index so that all taxis are together and then all timestamps are chronological.\n",
    "df = df.sort_index()\n",
    "df.iloc[:10]  # Use iloc instead of sample to help illustrate sort (next cell)\n",
    "print(datetime.now() - start_time)"
   ]
  },
  {
   "cell_type": "code",
   "execution_count": 16,
   "metadata": {
    "collapsed": false,
    "scrolled": true
   },
   "outputs": [
    {
     "data": {
      "text/plain": [
       "(Timestamp('2012-06-27 00:00:00+0800', tz='Asia/Shanghai'),\n",
       " Timestamp('2012-06-27 00:29:59+0800', tz='Asia/Shanghai'))"
      ]
     },
     "execution_count": 16,
     "metadata": {},
     "output_type": "execute_result"
    }
   ],
   "source": [
    "# Time range of the data can be pulled from the timestamp index.\n",
    "df.index.levels[1].min(), df.index.levels[1].max()"
   ]
  },
  {
   "cell_type": "code",
   "execution_count": 17,
   "metadata": {
    "collapsed": false
   },
   "outputs": [
    {
     "data": {
      "text/plain": [
       "Index(['B000H6', 'B001B1', 'B001B2', 'B001B6', 'B001B7', 'B001H0', 'B002B1',\n",
       "       'B002V7', 'B002Y1', 'B002Z6',\n",
       "       ...\n",
       "       'SYB470', 'SYB472', 'SYB540', 'SYB541', 'SYB542', 'SYB547', 'SYB747',\n",
       "       'SYC437', 'SYC452', 'SYC472'],\n",
       "      dtype='object', name='common_id', length=21071)"
      ]
     },
     "execution_count": 17,
     "metadata": {},
     "output_type": "execute_result"
    }
   ],
   "source": [
    "# Provides each plate and will printout total number of taxis\n",
    "df.index.levels[0]"
   ]
  },
  {
   "cell_type": "code",
   "execution_count": 18,
   "metadata": {
    "collapsed": false
   },
   "outputs": [
    {
     "name": "stdout",
     "output_type": "stream",
     "text": [
      "Shenzhen Taxis = 14092\n",
      "Dongguan Taxis = 6979\n"
     ]
    }
   ],
   "source": [
    "shenzhen_taxis = [x for x in df.index.levels[0].values.tolist() if x.startswith('B')]\n",
    "dongguan_taxis = [x for x in df.index.levels[0].values.tolist() if x.startswith('S')]\n",
    "print('Shenzhen Taxis = %d\\nDongguan Taxis = %d' % (len(shenzhen_taxis), len(dongguan_taxis)))"
   ]
  },
  {
   "cell_type": "code",
   "execution_count": 19,
   "metadata": {
    "collapsed": false
   },
   "outputs": [
    {
     "name": "stdout",
     "output_type": "stream",
     "text": [
      "<class 'pandas.core.frame.DataFrame'>\n",
      "MultiIndex: 1000000 entries, (B000H6, 2012-06-27 00:00:08+08:00) to (SYC472, 2012-06-27 00:29:36+08:00)\n",
      "Data columns (total 5 columns):\n",
      "passenger    1000000 non-null int64\n",
      "speed        1000000 non-null int64\n",
      "heading      1000000 non-null int64\n",
      "latitude     1000000 non-null float64\n",
      "longitude    1000000 non-null float64\n",
      "dtypes: float64(2), int64(3)\n",
      "memory usage: 45.8+ MB\n"
     ]
    }
   ],
   "source": [
    "# Provides useful information such as:\n",
    "#   the data types of each column,\n",
    "#   number of rows in the index,\n",
    "#   memory use.\n",
    "df.info()"
   ]
  },
  {
   "cell_type": "code",
   "execution_count": 20,
   "metadata": {
    "collapsed": false
   },
   "outputs": [
    {
     "data": {
      "text/html": [
       "<div>\n",
       "<table border=\"1\" class=\"dataframe\">\n",
       "  <thead>\n",
       "    <tr style=\"text-align: right;\">\n",
       "      <th></th>\n",
       "      <th>passenger</th>\n",
       "      <th>speed</th>\n",
       "      <th>heading</th>\n",
       "      <th>latitude</th>\n",
       "      <th>longitude</th>\n",
       "    </tr>\n",
       "  </thead>\n",
       "  <tbody>\n",
       "    <tr>\n",
       "      <th>count</th>\n",
       "      <td>1000000.000000</td>\n",
       "      <td>1000000.000000</td>\n",
       "      <td>1000000.000000</td>\n",
       "      <td>1000000.000000</td>\n",
       "      <td>1000000.000000</td>\n",
       "    </tr>\n",
       "    <tr>\n",
       "      <th>mean</th>\n",
       "      <td>0.237655</td>\n",
       "      <td>20.946756</td>\n",
       "      <td>115.446150</td>\n",
       "      <td>22.743649</td>\n",
       "      <td>113.944251</td>\n",
       "    </tr>\n",
       "    <tr>\n",
       "      <th>std</th>\n",
       "      <td>0.425647</td>\n",
       "      <td>25.715687</td>\n",
       "      <td>110.814725</td>\n",
       "      <td>0.317429</td>\n",
       "      <td>0.458263</td>\n",
       "    </tr>\n",
       "    <tr>\n",
       "      <th>min</th>\n",
       "      <td>0.000000</td>\n",
       "      <td>0.000000</td>\n",
       "      <td>0.000000</td>\n",
       "      <td>1.134467</td>\n",
       "      <td>11.670550</td>\n",
       "    </tr>\n",
       "    <tr>\n",
       "      <th>25%</th>\n",
       "      <td>0.000000</td>\n",
       "      <td>0.000000</td>\n",
       "      <td>0.000000</td>\n",
       "      <td>22.559433</td>\n",
       "      <td>113.808746</td>\n",
       "    </tr>\n",
       "    <tr>\n",
       "      <th>50%</th>\n",
       "      <td>0.000000</td>\n",
       "      <td>7.000000</td>\n",
       "      <td>90.000000</td>\n",
       "      <td>22.663200</td>\n",
       "      <td>113.972847</td>\n",
       "    </tr>\n",
       "    <tr>\n",
       "      <th>75%</th>\n",
       "      <td>0.000000</td>\n",
       "      <td>39.000000</td>\n",
       "      <td>225.000000</td>\n",
       "      <td>22.964333</td>\n",
       "      <td>114.084084</td>\n",
       "    </tr>\n",
       "    <tr>\n",
       "      <th>max</th>\n",
       "      <td>1.000000</td>\n",
       "      <td>136.000000</td>\n",
       "      <td>315.000000</td>\n",
       "      <td>27.113766</td>\n",
       "      <td>174.067581</td>\n",
       "    </tr>\n",
       "  </tbody>\n",
       "</table>\n",
       "</div>"
      ],
      "text/plain": [
       "            passenger           speed         heading        latitude  \\\n",
       "count  1000000.000000  1000000.000000  1000000.000000  1000000.000000   \n",
       "mean         0.237655       20.946756      115.446150       22.743649   \n",
       "std          0.425647       25.715687      110.814725        0.317429   \n",
       "min          0.000000        0.000000        0.000000        1.134467   \n",
       "25%          0.000000        0.000000        0.000000       22.559433   \n",
       "50%          0.000000        7.000000       90.000000       22.663200   \n",
       "75%          0.000000       39.000000      225.000000       22.964333   \n",
       "max          1.000000      136.000000      315.000000       27.113766   \n",
       "\n",
       "            longitude  \n",
       "count  1000000.000000  \n",
       "mean       113.944251  \n",
       "std          0.458263  \n",
       "min         11.670550  \n",
       "25%        113.808746  \n",
       "50%        113.972847  \n",
       "75%        114.084084  \n",
       "max        174.067581  "
      ]
     },
     "execution_count": 20,
     "metadata": {},
     "output_type": "execute_result"
    }
   ],
   "source": [
    "# Provides information for each column such as:\n",
    "#   the number of samples\n",
    "#   Statistics such as mean, std dev, min, max\n",
    "df.describe()"
   ]
  },
  {
   "cell_type": "markdown",
   "metadata": {},
   "source": [
    "## Cleaning up the Data\n",
    "\n",
    "There are several things that can be done at the global level to help clean up the data.  This includes things like removing duplicate rows and checking for bad geo-position data.\n",
    "\n",
    "The Shenzhen data is fairly clean in that regard but still contains duplicates.  We classify duplicates as exact duplicates and index duplicates.  For purposes of studying the data we cannot have any index duplicates as by definition these are impossible.  Exact duplicates are index duplicates where the remaining data is exactly the same.  Removing them is generally benign.  However, duplicates that have different data are problematic."
   ]
  },
  {
   "cell_type": "markdown",
   "metadata": {},
   "source": [
    "### Duplicates"
   ]
  },
  {
   "cell_type": "code",
   "execution_count": 16,
   "metadata": {
    "collapsed": false
   },
   "outputs": [],
   "source": [
    "def safe_duplicate_filter(df):\n",
    "    # Note that pandas 0.17.0 allows use of a keep keyword argument to define\n",
    "    # which duplicates are kept (first, last, none).\n",
    "    dups_data = df.duplicated()\n",
    "    dups_index = df.index.duplicated()\n",
    "    dups = dups_data & dups_index\n",
    "    return dups\n",
    "\n",
    "def index_duplicates_exist(df):\n",
    "    # This will print True if there are rows that violate the duplicate time with different states constraint.\n",
    "    return df.index.duplicated().any()"
   ]
  },
  {
   "cell_type": "code",
   "execution_count": 17,
   "metadata": {
    "collapsed": false,
    "scrolled": true
   },
   "outputs": [
    {
     "name": "stdout",
     "output_type": "stream",
     "text": [
      "Removed 0 exact duplicates in 0:00:00.461839.\n"
     ]
    },
    {
     "data": {
      "text/html": [
       "<div>\n",
       "<table border=\"1\" class=\"dataframe\">\n",
       "  <thead>\n",
       "    <tr style=\"text-align: right;\">\n",
       "      <th></th>\n",
       "      <th></th>\n",
       "      <th>passenger</th>\n",
       "      <th>speed</th>\n",
       "      <th>heading</th>\n",
       "      <th>latitude</th>\n",
       "      <th>longitude</th>\n",
       "    </tr>\n",
       "    <tr>\n",
       "      <th>common_id</th>\n",
       "      <th>timestamp</th>\n",
       "      <th></th>\n",
       "      <th></th>\n",
       "      <th></th>\n",
       "      <th></th>\n",
       "      <th></th>\n",
       "    </tr>\n",
       "  </thead>\n",
       "  <tbody>\n",
       "    <tr>\n",
       "      <th rowspan=\"10\" valign=\"top\">B014G5</th>\n",
       "      <th>2012-06-27 00:01:22+08:00</th>\n",
       "      <td>0</td>\n",
       "      <td>0</td>\n",
       "      <td>135</td>\n",
       "      <td>22.661751</td>\n",
       "      <td>114.026871</td>\n",
       "    </tr>\n",
       "    <tr>\n",
       "      <th>2012-06-27 00:06:02+08:00</th>\n",
       "      <td>0</td>\n",
       "      <td>0</td>\n",
       "      <td>135</td>\n",
       "      <td>22.661751</td>\n",
       "      <td>114.026871</td>\n",
       "    </tr>\n",
       "    <tr>\n",
       "      <th>2012-06-27 00:06:42+08:00</th>\n",
       "      <td>0</td>\n",
       "      <td>26</td>\n",
       "      <td>225</td>\n",
       "      <td>22.660749</td>\n",
       "      <td>114.025948</td>\n",
       "    </tr>\n",
       "    <tr>\n",
       "      <th>2012-06-27 00:07:22+08:00</th>\n",
       "      <td>0</td>\n",
       "      <td>12</td>\n",
       "      <td>45</td>\n",
       "      <td>22.659817</td>\n",
       "      <td>114.024765</td>\n",
       "    </tr>\n",
       "    <tr>\n",
       "      <th>2012-06-27 00:08:02+08:00</th>\n",
       "      <td>0</td>\n",
       "      <td>27</td>\n",
       "      <td>45</td>\n",
       "      <td>22.660900</td>\n",
       "      <td>114.026550</td>\n",
       "    </tr>\n",
       "    <tr>\n",
       "      <th>2012-06-27 00:08:42+08:00</th>\n",
       "      <td>0</td>\n",
       "      <td>26</td>\n",
       "      <td>90</td>\n",
       "      <td>22.660933</td>\n",
       "      <td>114.028435</td>\n",
       "    </tr>\n",
       "    <tr>\n",
       "      <th>2012-06-27 00:09:22+08:00</th>\n",
       "      <td>0</td>\n",
       "      <td>22</td>\n",
       "      <td>225</td>\n",
       "      <td>22.658934</td>\n",
       "      <td>114.029930</td>\n",
       "    </tr>\n",
       "    <tr>\n",
       "      <th>2012-06-27 00:10:02+08:00</th>\n",
       "      <td>0</td>\n",
       "      <td>0</td>\n",
       "      <td>270</td>\n",
       "      <td>22.658533</td>\n",
       "      <td>114.028618</td>\n",
       "    </tr>\n",
       "    <tr>\n",
       "      <th>2012-06-27 00:10:42+08:00</th>\n",
       "      <td>0</td>\n",
       "      <td>17</td>\n",
       "      <td>90</td>\n",
       "      <td>22.658266</td>\n",
       "      <td>114.028503</td>\n",
       "    </tr>\n",
       "    <tr>\n",
       "      <th>2012-06-27 00:11:22+08:00</th>\n",
       "      <td>0</td>\n",
       "      <td>30</td>\n",
       "      <td>225</td>\n",
       "      <td>22.656384</td>\n",
       "      <td>114.026604</td>\n",
       "    </tr>\n",
       "  </tbody>\n",
       "</table>\n",
       "</div>"
      ],
      "text/plain": [
       "                                     passenger  speed  heading   latitude  \\\n",
       "common_id timestamp                                                         \n",
       "B014G5    2012-06-27 00:01:22+08:00          0      0      135  22.661751   \n",
       "          2012-06-27 00:06:02+08:00          0      0      135  22.661751   \n",
       "          2012-06-27 00:06:42+08:00          0     26      225  22.660749   \n",
       "          2012-06-27 00:07:22+08:00          0     12       45  22.659817   \n",
       "          2012-06-27 00:08:02+08:00          0     27       45  22.660900   \n",
       "          2012-06-27 00:08:42+08:00          0     26       90  22.660933   \n",
       "          2012-06-27 00:09:22+08:00          0     22      225  22.658934   \n",
       "          2012-06-27 00:10:02+08:00          0      0      270  22.658533   \n",
       "          2012-06-27 00:10:42+08:00          0     17       90  22.658266   \n",
       "          2012-06-27 00:11:22+08:00          0     30      225  22.656384   \n",
       "\n",
       "                                      longitude  \n",
       "common_id timestamp                              \n",
       "B014G5    2012-06-27 00:01:22+08:00  114.026871  \n",
       "          2012-06-27 00:06:02+08:00  114.026871  \n",
       "          2012-06-27 00:06:42+08:00  114.025948  \n",
       "          2012-06-27 00:07:22+08:00  114.024765  \n",
       "          2012-06-27 00:08:02+08:00  114.026550  \n",
       "          2012-06-27 00:08:42+08:00  114.028435  \n",
       "          2012-06-27 00:09:22+08:00  114.029930  \n",
       "          2012-06-27 00:10:02+08:00  114.028618  \n",
       "          2012-06-27 00:10:42+08:00  114.028503  \n",
       "          2012-06-27 00:11:22+08:00  114.026604  "
      ]
     },
     "execution_count": 17,
     "metadata": {},
     "output_type": "execute_result"
    }
   ],
   "source": [
    "prev_len = len(df)\n",
    "start_time = datetime.now()\n",
    "dups_safe = safe_duplicate_filter(df)\n",
    "prev_len = len(df)\n",
    "print('Removed {} exact duplicates in {}.'.format(\n",
    "    prev_len - len(df),\n",
    "    datetime.now() - start_time\n",
    "))\n",
    "# dups_safe\n",
    "df[dups_safe][:10]"
   ]
  },
  {
   "cell_type": "code",
   "execution_count": 18,
   "metadata": {
    "collapsed": false,
    "scrolled": true
   },
   "outputs": [
    {
     "name": "stdout",
     "output_type": "stream",
     "text": [
      "Removed 20780 samples in 0:00:00.017571.\n"
     ]
    }
   ],
   "source": [
    "# Drop duplicates that are exact copies of data.\n",
    "start_samples = len(df)\n",
    "start_time = datetime.now()\n",
    "df = df[~dups_safe]\n",
    "print('Removed {} samples in {}.'.format(\n",
    "    start_samples - len(df),\n",
    "    datetime.now() - start_time\n",
    "))"
   ]
  },
  {
   "cell_type": "code",
   "execution_count": 19,
   "metadata": {
    "collapsed": false
   },
   "outputs": [
    {
     "data": {
      "text/plain": [
       "979220"
      ]
     },
     "execution_count": 19,
     "metadata": {},
     "output_type": "execute_result"
    }
   ],
   "source": [
    "len(df)"
   ]
  },
  {
   "cell_type": "code",
   "execution_count": 20,
   "metadata": {
    "collapsed": false,
    "scrolled": true
   },
   "outputs": [
    {
     "data": {
      "text/html": [
       "<div>\n",
       "<table border=\"1\" class=\"dataframe\">\n",
       "  <thead>\n",
       "    <tr style=\"text-align: right;\">\n",
       "      <th></th>\n",
       "      <th></th>\n",
       "      <th>passenger</th>\n",
       "      <th>speed</th>\n",
       "      <th>heading</th>\n",
       "      <th>latitude</th>\n",
       "      <th>longitude</th>\n",
       "    </tr>\n",
       "    <tr>\n",
       "      <th>common_id</th>\n",
       "      <th>timestamp</th>\n",
       "      <th></th>\n",
       "      <th></th>\n",
       "      <th></th>\n",
       "      <th></th>\n",
       "      <th></th>\n",
       "    </tr>\n",
       "  </thead>\n",
       "  <tbody>\n",
       "    <tr>\n",
       "      <th rowspan=\"3\" valign=\"top\">B00D16</th>\n",
       "      <th>2012-06-27 00:08:29+08:00</th>\n",
       "      <td>0</td>\n",
       "      <td>27</td>\n",
       "      <td>0</td>\n",
       "      <td>22.571400</td>\n",
       "      <td>113.865402</td>\n",
       "    </tr>\n",
       "    <tr>\n",
       "      <th>2012-06-27 00:10:29+08:00</th>\n",
       "      <td>0</td>\n",
       "      <td>16</td>\n",
       "      <td>0</td>\n",
       "      <td>22.575899</td>\n",
       "      <td>113.868698</td>\n",
       "    </tr>\n",
       "    <tr>\n",
       "      <th>2012-06-27 00:12:30+08:00</th>\n",
       "      <td>0</td>\n",
       "      <td>53</td>\n",
       "      <td>0</td>\n",
       "      <td>22.573799</td>\n",
       "      <td>113.877701</td>\n",
       "    </tr>\n",
       "    <tr>\n",
       "      <th>B02F71</th>\n",
       "      <th>2012-06-27 00:01:48+08:00</th>\n",
       "      <td>0</td>\n",
       "      <td>0</td>\n",
       "      <td>225</td>\n",
       "      <td>22.547750</td>\n",
       "      <td>114.116631</td>\n",
       "    </tr>\n",
       "    <tr>\n",
       "      <th>B02S47</th>\n",
       "      <th>2012-06-27 00:01:47+08:00</th>\n",
       "      <td>1</td>\n",
       "      <td>0</td>\n",
       "      <td>315</td>\n",
       "      <td>22.567734</td>\n",
       "      <td>114.035431</td>\n",
       "    </tr>\n",
       "    <tr>\n",
       "      <th rowspan=\"5\" valign=\"top\">B02T07</th>\n",
       "      <th>2012-06-27 00:19:17+08:00</th>\n",
       "      <td>0</td>\n",
       "      <td>78</td>\n",
       "      <td>180</td>\n",
       "      <td>22.659849</td>\n",
       "      <td>114.212013</td>\n",
       "    </tr>\n",
       "    <tr>\n",
       "      <th>2012-06-27 00:20:17+08:00</th>\n",
       "      <td>0</td>\n",
       "      <td>50</td>\n",
       "      <td>225</td>\n",
       "      <td>22.656799</td>\n",
       "      <td>114.208466</td>\n",
       "    </tr>\n",
       "    <tr>\n",
       "      <th>2012-06-27 00:22:17+08:00</th>\n",
       "      <td>0</td>\n",
       "      <td>24</td>\n",
       "      <td>225</td>\n",
       "      <td>22.644716</td>\n",
       "      <td>114.194435</td>\n",
       "    </tr>\n",
       "    <tr>\n",
       "      <th>2012-06-27 00:26:07+08:00</th>\n",
       "      <td>0</td>\n",
       "      <td>65</td>\n",
       "      <td>225</td>\n",
       "      <td>22.636950</td>\n",
       "      <td>114.174553</td>\n",
       "    </tr>\n",
       "    <tr>\n",
       "      <th>2012-06-27 00:26:27+08:00</th>\n",
       "      <td>0</td>\n",
       "      <td>50</td>\n",
       "      <td>225</td>\n",
       "      <td>22.636583</td>\n",
       "      <td>114.171753</td>\n",
       "    </tr>\n",
       "  </tbody>\n",
       "</table>\n",
       "</div>"
      ],
      "text/plain": [
       "                                     passenger  speed  heading   latitude  \\\n",
       "common_id timestamp                                                         \n",
       "B00D16    2012-06-27 00:08:29+08:00          0     27        0  22.571400   \n",
       "          2012-06-27 00:10:29+08:00          0     16        0  22.575899   \n",
       "          2012-06-27 00:12:30+08:00          0     53        0  22.573799   \n",
       "B02F71    2012-06-27 00:01:48+08:00          0      0      225  22.547750   \n",
       "B02S47    2012-06-27 00:01:47+08:00          1      0      315  22.567734   \n",
       "B02T07    2012-06-27 00:19:17+08:00          0     78      180  22.659849   \n",
       "          2012-06-27 00:20:17+08:00          0     50      225  22.656799   \n",
       "          2012-06-27 00:22:17+08:00          0     24      225  22.644716   \n",
       "          2012-06-27 00:26:07+08:00          0     65      225  22.636950   \n",
       "          2012-06-27 00:26:27+08:00          0     50      225  22.636583   \n",
       "\n",
       "                                      longitude  \n",
       "common_id timestamp                              \n",
       "B00D16    2012-06-27 00:08:29+08:00  113.865402  \n",
       "          2012-06-27 00:10:29+08:00  113.868698  \n",
       "          2012-06-27 00:12:30+08:00  113.877701  \n",
       "B02F71    2012-06-27 00:01:48+08:00  114.116631  \n",
       "B02S47    2012-06-27 00:01:47+08:00  114.035431  \n",
       "B02T07    2012-06-27 00:19:17+08:00  114.212013  \n",
       "          2012-06-27 00:20:17+08:00  114.208466  \n",
       "          2012-06-27 00:22:17+08:00  114.194435  \n",
       "          2012-06-27 00:26:07+08:00  114.174553  \n",
       "          2012-06-27 00:26:27+08:00  114.171753  "
      ]
     },
     "execution_count": 20,
     "metadata": {},
     "output_type": "execute_result"
    }
   ],
   "source": [
    "# Now we see what duplicates are left where the index is the same but different data.\n",
    "# This only prints the second and beyond of the duplicates.\n",
    "dups_index = df.index.duplicated()\n",
    "df[dups_index][:10]"
   ]
  },
  {
   "cell_type": "code",
   "execution_count": 21,
   "metadata": {
    "collapsed": false
   },
   "outputs": [
    {
     "data": {
      "text/html": [
       "<div>\n",
       "<table border=\"1\" class=\"dataframe\">\n",
       "  <thead>\n",
       "    <tr style=\"text-align: right;\">\n",
       "      <th></th>\n",
       "      <th></th>\n",
       "      <th>passenger</th>\n",
       "      <th>speed</th>\n",
       "      <th>heading</th>\n",
       "      <th>latitude</th>\n",
       "      <th>longitude</th>\n",
       "    </tr>\n",
       "    <tr>\n",
       "      <th>common_id</th>\n",
       "      <th>timestamp</th>\n",
       "      <th></th>\n",
       "      <th></th>\n",
       "      <th></th>\n",
       "      <th></th>\n",
       "      <th></th>\n",
       "    </tr>\n",
       "  </thead>\n",
       "  <tbody>\n",
       "    <tr>\n",
       "      <th rowspan=\"6\" valign=\"top\">B00D16</th>\n",
       "      <th>2012-06-27 00:08:29+08:00</th>\n",
       "      <td>0</td>\n",
       "      <td>0</td>\n",
       "      <td>225</td>\n",
       "      <td>22.582899</td>\n",
       "      <td>113.910301</td>\n",
       "    </tr>\n",
       "    <tr>\n",
       "      <th>2012-06-27 00:08:29+08:00</th>\n",
       "      <td>0</td>\n",
       "      <td>27</td>\n",
       "      <td>0</td>\n",
       "      <td>22.571400</td>\n",
       "      <td>113.865402</td>\n",
       "    </tr>\n",
       "    <tr>\n",
       "      <th>2012-06-27 00:10:29+08:00</th>\n",
       "      <td>0</td>\n",
       "      <td>0</td>\n",
       "      <td>225</td>\n",
       "      <td>22.582899</td>\n",
       "      <td>113.910301</td>\n",
       "    </tr>\n",
       "    <tr>\n",
       "      <th>2012-06-27 00:10:29+08:00</th>\n",
       "      <td>0</td>\n",
       "      <td>16</td>\n",
       "      <td>0</td>\n",
       "      <td>22.575899</td>\n",
       "      <td>113.868698</td>\n",
       "    </tr>\n",
       "    <tr>\n",
       "      <th>2012-06-27 00:12:30+08:00</th>\n",
       "      <td>0</td>\n",
       "      <td>0</td>\n",
       "      <td>225</td>\n",
       "      <td>22.582899</td>\n",
       "      <td>113.910301</td>\n",
       "    </tr>\n",
       "    <tr>\n",
       "      <th>2012-06-27 00:12:30+08:00</th>\n",
       "      <td>0</td>\n",
       "      <td>53</td>\n",
       "      <td>0</td>\n",
       "      <td>22.573799</td>\n",
       "      <td>113.877701</td>\n",
       "    </tr>\n",
       "    <tr>\n",
       "      <th rowspan=\"2\" valign=\"top\">B02F71</th>\n",
       "      <th>2012-06-27 00:01:48+08:00</th>\n",
       "      <td>0</td>\n",
       "      <td>0</td>\n",
       "      <td>180</td>\n",
       "      <td>22.547768</td>\n",
       "      <td>114.116936</td>\n",
       "    </tr>\n",
       "    <tr>\n",
       "      <th>2012-06-27 00:01:48+08:00</th>\n",
       "      <td>0</td>\n",
       "      <td>0</td>\n",
       "      <td>225</td>\n",
       "      <td>22.547750</td>\n",
       "      <td>114.116631</td>\n",
       "    </tr>\n",
       "    <tr>\n",
       "      <th rowspan=\"2\" valign=\"top\">B02S47</th>\n",
       "      <th>2012-06-27 00:01:47+08:00</th>\n",
       "      <td>1</td>\n",
       "      <td>58</td>\n",
       "      <td>225</td>\n",
       "      <td>22.565500</td>\n",
       "      <td>114.046318</td>\n",
       "    </tr>\n",
       "    <tr>\n",
       "      <th>2012-06-27 00:01:47+08:00</th>\n",
       "      <td>1</td>\n",
       "      <td>0</td>\n",
       "      <td>315</td>\n",
       "      <td>22.567734</td>\n",
       "      <td>114.035431</td>\n",
       "    </tr>\n",
       "    <tr>\n",
       "      <th rowspan=\"10\" valign=\"top\">B02T07</th>\n",
       "      <th>2012-06-27 00:19:17+08:00</th>\n",
       "      <td>0</td>\n",
       "      <td>79</td>\n",
       "      <td>180</td>\n",
       "      <td>22.660183</td>\n",
       "      <td>114.212250</td>\n",
       "    </tr>\n",
       "    <tr>\n",
       "      <th>2012-06-27 00:19:17+08:00</th>\n",
       "      <td>0</td>\n",
       "      <td>78</td>\n",
       "      <td>180</td>\n",
       "      <td>22.659849</td>\n",
       "      <td>114.212013</td>\n",
       "    </tr>\n",
       "    <tr>\n",
       "      <th>2012-06-27 00:20:17+08:00</th>\n",
       "      <td>0</td>\n",
       "      <td>41</td>\n",
       "      <td>225</td>\n",
       "      <td>22.656950</td>\n",
       "      <td>114.208649</td>\n",
       "    </tr>\n",
       "    <tr>\n",
       "      <th>2012-06-27 00:20:17+08:00</th>\n",
       "      <td>0</td>\n",
       "      <td>50</td>\n",
       "      <td>225</td>\n",
       "      <td>22.656799</td>\n",
       "      <td>114.208466</td>\n",
       "    </tr>\n",
       "    <tr>\n",
       "      <th>2012-06-27 00:22:17+08:00</th>\n",
       "      <td>0</td>\n",
       "      <td>36</td>\n",
       "      <td>225</td>\n",
       "      <td>22.644768</td>\n",
       "      <td>114.194580</td>\n",
       "    </tr>\n",
       "    <tr>\n",
       "      <th>2012-06-27 00:22:17+08:00</th>\n",
       "      <td>0</td>\n",
       "      <td>24</td>\n",
       "      <td>225</td>\n",
       "      <td>22.644716</td>\n",
       "      <td>114.194435</td>\n",
       "    </tr>\n",
       "    <tr>\n",
       "      <th>2012-06-27 00:26:07+08:00</th>\n",
       "      <td>0</td>\n",
       "      <td>66</td>\n",
       "      <td>225</td>\n",
       "      <td>22.637016</td>\n",
       "      <td>114.174896</td>\n",
       "    </tr>\n",
       "    <tr>\n",
       "      <th>2012-06-27 00:26:07+08:00</th>\n",
       "      <td>0</td>\n",
       "      <td>65</td>\n",
       "      <td>225</td>\n",
       "      <td>22.636950</td>\n",
       "      <td>114.174553</td>\n",
       "    </tr>\n",
       "    <tr>\n",
       "      <th>2012-06-27 00:26:27+08:00</th>\n",
       "      <td>0</td>\n",
       "      <td>47</td>\n",
       "      <td>225</td>\n",
       "      <td>22.636633</td>\n",
       "      <td>114.172020</td>\n",
       "    </tr>\n",
       "    <tr>\n",
       "      <th>2012-06-27 00:26:27+08:00</th>\n",
       "      <td>0</td>\n",
       "      <td>50</td>\n",
       "      <td>225</td>\n",
       "      <td>22.636583</td>\n",
       "      <td>114.171753</td>\n",
       "    </tr>\n",
       "    <tr>\n",
       "      <th rowspan=\"2\" valign=\"top\">B02T08</th>\n",
       "      <th>2012-06-27 00:01:48+08:00</th>\n",
       "      <td>0</td>\n",
       "      <td>12</td>\n",
       "      <td>315</td>\n",
       "      <td>22.538816</td>\n",
       "      <td>114.075401</td>\n",
       "    </tr>\n",
       "    <tr>\n",
       "      <th>2012-06-27 00:01:48+08:00</th>\n",
       "      <td>0</td>\n",
       "      <td>3</td>\n",
       "      <td>225</td>\n",
       "      <td>22.539650</td>\n",
       "      <td>114.074219</td>\n",
       "    </tr>\n",
       "    <tr>\n",
       "      <th rowspan=\"2\" valign=\"top\">B02T09</th>\n",
       "      <th>2012-06-27 00:01:49+08:00</th>\n",
       "      <td>1</td>\n",
       "      <td>0</td>\n",
       "      <td>270</td>\n",
       "      <td>22.552967</td>\n",
       "      <td>114.106316</td>\n",
       "    </tr>\n",
       "    <tr>\n",
       "      <th>2012-06-27 00:01:49+08:00</th>\n",
       "      <td>1</td>\n",
       "      <td>0</td>\n",
       "      <td>225</td>\n",
       "      <td>22.552000</td>\n",
       "      <td>114.100586</td>\n",
       "    </tr>\n",
       "    <tr>\n",
       "      <th rowspan=\"16\" valign=\"top\">B02T80</th>\n",
       "      <th>2012-06-27 00:01:35+08:00</th>\n",
       "      <td>0</td>\n",
       "      <td>0</td>\n",
       "      <td>0</td>\n",
       "      <td>22.652367</td>\n",
       "      <td>113.814865</td>\n",
       "    </tr>\n",
       "    <tr>\n",
       "      <th>2012-06-27 00:01:35+08:00</th>\n",
       "      <td>0</td>\n",
       "      <td>0</td>\n",
       "      <td>0</td>\n",
       "      <td>22.652384</td>\n",
       "      <td>113.814865</td>\n",
       "    </tr>\n",
       "    <tr>\n",
       "      <th>2012-06-27 00:03:35+08:00</th>\n",
       "      <td>0</td>\n",
       "      <td>9</td>\n",
       "      <td>225</td>\n",
       "      <td>22.650932</td>\n",
       "      <td>113.814880</td>\n",
       "    </tr>\n",
       "    <tr>\n",
       "      <th>2012-06-27 00:03:35+08:00</th>\n",
       "      <td>0</td>\n",
       "      <td>3</td>\n",
       "      <td>225</td>\n",
       "      <td>22.650917</td>\n",
       "      <td>113.814850</td>\n",
       "    </tr>\n",
       "    <tr>\n",
       "      <th>2012-06-27 00:07:25+08:00</th>\n",
       "      <td>0</td>\n",
       "      <td>2</td>\n",
       "      <td>0</td>\n",
       "      <td>22.651150</td>\n",
       "      <td>113.815300</td>\n",
       "    </tr>\n",
       "    <tr>\n",
       "      <th>2012-06-27 00:07:25+08:00</th>\n",
       "      <td>0</td>\n",
       "      <td>1</td>\n",
       "      <td>0</td>\n",
       "      <td>22.651150</td>\n",
       "      <td>113.815300</td>\n",
       "    </tr>\n",
       "    <tr>\n",
       "      <th>2012-06-27 00:07:45+08:00</th>\n",
       "      <td>0</td>\n",
       "      <td>0</td>\n",
       "      <td>45</td>\n",
       "      <td>22.651133</td>\n",
       "      <td>113.815300</td>\n",
       "    </tr>\n",
       "    <tr>\n",
       "      <th>2012-06-27 00:07:45+08:00</th>\n",
       "      <td>0</td>\n",
       "      <td>0</td>\n",
       "      <td>45</td>\n",
       "      <td>22.651117</td>\n",
       "      <td>113.815300</td>\n",
       "    </tr>\n",
       "    <tr>\n",
       "      <th>2012-06-27 00:08:35+08:00</th>\n",
       "      <td>0</td>\n",
       "      <td>0</td>\n",
       "      <td>0</td>\n",
       "      <td>22.651133</td>\n",
       "      <td>113.815300</td>\n",
       "    </tr>\n",
       "    <tr>\n",
       "      <th>2012-06-27 00:08:35+08:00</th>\n",
       "      <td>0</td>\n",
       "      <td>0</td>\n",
       "      <td>0</td>\n",
       "      <td>22.651133</td>\n",
       "      <td>113.815285</td>\n",
       "    </tr>\n",
       "    <tr>\n",
       "      <th>2012-06-27 00:09:05+08:00</th>\n",
       "      <td>0</td>\n",
       "      <td>14</td>\n",
       "      <td>315</td>\n",
       "      <td>22.651417</td>\n",
       "      <td>113.815269</td>\n",
       "    </tr>\n",
       "    <tr>\n",
       "      <th>2012-06-27 00:09:05+08:00</th>\n",
       "      <td>0</td>\n",
       "      <td>16</td>\n",
       "      <td>315</td>\n",
       "      <td>22.651484</td>\n",
       "      <td>113.815231</td>\n",
       "    </tr>\n",
       "    <tr>\n",
       "      <th>2012-06-27 00:09:55+08:00</th>\n",
       "      <td>0</td>\n",
       "      <td>15</td>\n",
       "      <td>180</td>\n",
       "      <td>22.651217</td>\n",
       "      <td>113.814133</td>\n",
       "    </tr>\n",
       "    <tr>\n",
       "      <th>2012-06-27 00:09:55+08:00</th>\n",
       "      <td>0</td>\n",
       "      <td>17</td>\n",
       "      <td>180</td>\n",
       "      <td>22.651150</td>\n",
       "      <td>113.814079</td>\n",
       "    </tr>\n",
       "    <tr>\n",
       "      <th>2012-06-27 00:14:27+08:00</th>\n",
       "      <td>1</td>\n",
       "      <td>65</td>\n",
       "      <td>45</td>\n",
       "      <td>22.648701</td>\n",
       "      <td>113.823853</td>\n",
       "    </tr>\n",
       "    <tr>\n",
       "      <th>2012-06-27 00:14:27+08:00</th>\n",
       "      <td>1</td>\n",
       "      <td>70</td>\n",
       "      <td>45</td>\n",
       "      <td>22.648767</td>\n",
       "      <td>113.824181</td>\n",
       "    </tr>\n",
       "    <tr>\n",
       "      <th rowspan=\"2\" valign=\"top\">B03C47</th>\n",
       "      <th>2012-06-27 00:26:28+08:00</th>\n",
       "      <td>0</td>\n",
       "      <td>0</td>\n",
       "      <td>0</td>\n",
       "      <td>22.570601</td>\n",
       "      <td>113.897697</td>\n",
       "    </tr>\n",
       "    <tr>\n",
       "      <th>2012-06-27 00:26:28+08:00</th>\n",
       "      <td>1</td>\n",
       "      <td>44</td>\n",
       "      <td>0</td>\n",
       "      <td>22.683001</td>\n",
       "      <td>113.932404</td>\n",
       "    </tr>\n",
       "    <tr>\n",
       "      <th rowspan=\"2\" valign=\"top\">B03F40</th>\n",
       "      <th>2012-06-27 00:01:48+08:00</th>\n",
       "      <td>1</td>\n",
       "      <td>14</td>\n",
       "      <td>45</td>\n",
       "      <td>22.538549</td>\n",
       "      <td>114.018364</td>\n",
       "    </tr>\n",
       "    <tr>\n",
       "      <th>2012-06-27 00:01:48+08:00</th>\n",
       "      <td>1</td>\n",
       "      <td>0</td>\n",
       "      <td>225</td>\n",
       "      <td>22.540916</td>\n",
       "      <td>114.022652</td>\n",
       "    </tr>\n",
       "  </tbody>\n",
       "</table>\n",
       "</div>"
      ],
      "text/plain": [
       "                                     passenger  speed  heading   latitude  \\\n",
       "common_id timestamp                                                         \n",
       "B00D16    2012-06-27 00:08:29+08:00          0      0      225  22.582899   \n",
       "          2012-06-27 00:08:29+08:00          0     27        0  22.571400   \n",
       "          2012-06-27 00:10:29+08:00          0      0      225  22.582899   \n",
       "          2012-06-27 00:10:29+08:00          0     16        0  22.575899   \n",
       "          2012-06-27 00:12:30+08:00          0      0      225  22.582899   \n",
       "          2012-06-27 00:12:30+08:00          0     53        0  22.573799   \n",
       "B02F71    2012-06-27 00:01:48+08:00          0      0      180  22.547768   \n",
       "          2012-06-27 00:01:48+08:00          0      0      225  22.547750   \n",
       "B02S47    2012-06-27 00:01:47+08:00          1     58      225  22.565500   \n",
       "          2012-06-27 00:01:47+08:00          1      0      315  22.567734   \n",
       "B02T07    2012-06-27 00:19:17+08:00          0     79      180  22.660183   \n",
       "          2012-06-27 00:19:17+08:00          0     78      180  22.659849   \n",
       "          2012-06-27 00:20:17+08:00          0     41      225  22.656950   \n",
       "          2012-06-27 00:20:17+08:00          0     50      225  22.656799   \n",
       "          2012-06-27 00:22:17+08:00          0     36      225  22.644768   \n",
       "          2012-06-27 00:22:17+08:00          0     24      225  22.644716   \n",
       "          2012-06-27 00:26:07+08:00          0     66      225  22.637016   \n",
       "          2012-06-27 00:26:07+08:00          0     65      225  22.636950   \n",
       "          2012-06-27 00:26:27+08:00          0     47      225  22.636633   \n",
       "          2012-06-27 00:26:27+08:00          0     50      225  22.636583   \n",
       "B02T08    2012-06-27 00:01:48+08:00          0     12      315  22.538816   \n",
       "          2012-06-27 00:01:48+08:00          0      3      225  22.539650   \n",
       "B02T09    2012-06-27 00:01:49+08:00          1      0      270  22.552967   \n",
       "          2012-06-27 00:01:49+08:00          1      0      225  22.552000   \n",
       "B02T80    2012-06-27 00:01:35+08:00          0      0        0  22.652367   \n",
       "          2012-06-27 00:01:35+08:00          0      0        0  22.652384   \n",
       "          2012-06-27 00:03:35+08:00          0      9      225  22.650932   \n",
       "          2012-06-27 00:03:35+08:00          0      3      225  22.650917   \n",
       "          2012-06-27 00:07:25+08:00          0      2        0  22.651150   \n",
       "          2012-06-27 00:07:25+08:00          0      1        0  22.651150   \n",
       "          2012-06-27 00:07:45+08:00          0      0       45  22.651133   \n",
       "          2012-06-27 00:07:45+08:00          0      0       45  22.651117   \n",
       "          2012-06-27 00:08:35+08:00          0      0        0  22.651133   \n",
       "          2012-06-27 00:08:35+08:00          0      0        0  22.651133   \n",
       "          2012-06-27 00:09:05+08:00          0     14      315  22.651417   \n",
       "          2012-06-27 00:09:05+08:00          0     16      315  22.651484   \n",
       "          2012-06-27 00:09:55+08:00          0     15      180  22.651217   \n",
       "          2012-06-27 00:09:55+08:00          0     17      180  22.651150   \n",
       "          2012-06-27 00:14:27+08:00          1     65       45  22.648701   \n",
       "          2012-06-27 00:14:27+08:00          1     70       45  22.648767   \n",
       "B03C47    2012-06-27 00:26:28+08:00          0      0        0  22.570601   \n",
       "          2012-06-27 00:26:28+08:00          1     44        0  22.683001   \n",
       "B03F40    2012-06-27 00:01:48+08:00          1     14       45  22.538549   \n",
       "          2012-06-27 00:01:48+08:00          1      0      225  22.540916   \n",
       "\n",
       "                                      longitude  \n",
       "common_id timestamp                              \n",
       "B00D16    2012-06-27 00:08:29+08:00  113.910301  \n",
       "          2012-06-27 00:08:29+08:00  113.865402  \n",
       "          2012-06-27 00:10:29+08:00  113.910301  \n",
       "          2012-06-27 00:10:29+08:00  113.868698  \n",
       "          2012-06-27 00:12:30+08:00  113.910301  \n",
       "          2012-06-27 00:12:30+08:00  113.877701  \n",
       "B02F71    2012-06-27 00:01:48+08:00  114.116936  \n",
       "          2012-06-27 00:01:48+08:00  114.116631  \n",
       "B02S47    2012-06-27 00:01:47+08:00  114.046318  \n",
       "          2012-06-27 00:01:47+08:00  114.035431  \n",
       "B02T07    2012-06-27 00:19:17+08:00  114.212250  \n",
       "          2012-06-27 00:19:17+08:00  114.212013  \n",
       "          2012-06-27 00:20:17+08:00  114.208649  \n",
       "          2012-06-27 00:20:17+08:00  114.208466  \n",
       "          2012-06-27 00:22:17+08:00  114.194580  \n",
       "          2012-06-27 00:22:17+08:00  114.194435  \n",
       "          2012-06-27 00:26:07+08:00  114.174896  \n",
       "          2012-06-27 00:26:07+08:00  114.174553  \n",
       "          2012-06-27 00:26:27+08:00  114.172020  \n",
       "          2012-06-27 00:26:27+08:00  114.171753  \n",
       "B02T08    2012-06-27 00:01:48+08:00  114.075401  \n",
       "          2012-06-27 00:01:48+08:00  114.074219  \n",
       "B02T09    2012-06-27 00:01:49+08:00  114.106316  \n",
       "          2012-06-27 00:01:49+08:00  114.100586  \n",
       "B02T80    2012-06-27 00:01:35+08:00  113.814865  \n",
       "          2012-06-27 00:01:35+08:00  113.814865  \n",
       "          2012-06-27 00:03:35+08:00  113.814880  \n",
       "          2012-06-27 00:03:35+08:00  113.814850  \n",
       "          2012-06-27 00:07:25+08:00  113.815300  \n",
       "          2012-06-27 00:07:25+08:00  113.815300  \n",
       "          2012-06-27 00:07:45+08:00  113.815300  \n",
       "          2012-06-27 00:07:45+08:00  113.815300  \n",
       "          2012-06-27 00:08:35+08:00  113.815300  \n",
       "          2012-06-27 00:08:35+08:00  113.815285  \n",
       "          2012-06-27 00:09:05+08:00  113.815269  \n",
       "          2012-06-27 00:09:05+08:00  113.815231  \n",
       "          2012-06-27 00:09:55+08:00  113.814133  \n",
       "          2012-06-27 00:09:55+08:00  113.814079  \n",
       "          2012-06-27 00:14:27+08:00  113.823853  \n",
       "          2012-06-27 00:14:27+08:00  113.824181  \n",
       "B03C47    2012-06-27 00:26:28+08:00  113.897697  \n",
       "          2012-06-27 00:26:28+08:00  113.932404  \n",
       "B03F40    2012-06-27 00:01:48+08:00  114.018364  \n",
       "          2012-06-27 00:01:48+08:00  114.022652  "
      ]
     },
     "execution_count": 21,
     "metadata": {},
     "output_type": "execute_result"
    }
   ],
   "source": [
    "# Print out the first n rows that have the same index.\n",
    "n = 20\n",
    "dup_list = []\n",
    "for i, (idx, data) in enumerate(df[dups_index].iterrows()):\n",
    "    dup_list.append(df.loc[idx])\n",
    "    if i > n:\n",
    "        break\n",
    "pd.concat(dup_list)"
   ]
  },
  {
   "cell_type": "markdown",
   "metadata": {},
   "source": [
    "Looking at each of these items, it appears there are at least two reasons for the duplicates.\n",
    "\n",
    "1. When the state changes is seems that a second point is recorded for some taxis\n",
    "1. Some duplicates appear to be a second sample but the one second time fidelity can't differentiate the points (i.e. the samples are different but less than a second apart."
   ]
  },
  {
   "cell_type": "code",
   "execution_count": 22,
   "metadata": {
    "collapsed": false
   },
   "outputs": [
    {
     "data": {
      "text/html": [
       "<div>\n",
       "<table border=\"1\" class=\"dataframe\">\n",
       "  <thead>\n",
       "    <tr style=\"text-align: right;\">\n",
       "      <th></th>\n",
       "      <th></th>\n",
       "      <th>passenger</th>\n",
       "      <th>speed</th>\n",
       "      <th>heading</th>\n",
       "      <th>latitude</th>\n",
       "      <th>longitude</th>\n",
       "    </tr>\n",
       "    <tr>\n",
       "      <th>common_id</th>\n",
       "      <th>timestamp</th>\n",
       "      <th></th>\n",
       "      <th></th>\n",
       "      <th></th>\n",
       "      <th></th>\n",
       "      <th></th>\n",
       "    </tr>\n",
       "  </thead>\n",
       "  <tbody>\n",
       "    <tr>\n",
       "      <th rowspan=\"21\" valign=\"top\">B00D16</th>\n",
       "      <th>2012-06-27 00:06:59+08:00</th>\n",
       "      <td>0</td>\n",
       "      <td>25</td>\n",
       "      <td>225</td>\n",
       "      <td>22.565399</td>\n",
       "      <td>113.867798</td>\n",
       "    </tr>\n",
       "    <tr>\n",
       "      <th>2012-06-27 00:08:29+08:00</th>\n",
       "      <td>0</td>\n",
       "      <td>0</td>\n",
       "      <td>225</td>\n",
       "      <td>22.582899</td>\n",
       "      <td>113.910301</td>\n",
       "    </tr>\n",
       "    <tr>\n",
       "      <th>2012-06-27 00:08:29+08:00</th>\n",
       "      <td>0</td>\n",
       "      <td>27</td>\n",
       "      <td>0</td>\n",
       "      <td>22.571400</td>\n",
       "      <td>113.865402</td>\n",
       "    </tr>\n",
       "    <tr>\n",
       "      <th>2012-06-27 00:08:59+08:00</th>\n",
       "      <td>0</td>\n",
       "      <td>0</td>\n",
       "      <td>0</td>\n",
       "      <td>22.571699</td>\n",
       "      <td>113.865601</td>\n",
       "    </tr>\n",
       "    <tr>\n",
       "      <th>2012-06-27 00:09:29+08:00</th>\n",
       "      <td>0</td>\n",
       "      <td>0</td>\n",
       "      <td>0</td>\n",
       "      <td>22.571699</td>\n",
       "      <td>113.865601</td>\n",
       "    </tr>\n",
       "    <tr>\n",
       "      <th>2012-06-27 00:09:59+08:00</th>\n",
       "      <td>0</td>\n",
       "      <td>38</td>\n",
       "      <td>0</td>\n",
       "      <td>22.573400</td>\n",
       "      <td>113.866898</td>\n",
       "    </tr>\n",
       "    <tr>\n",
       "      <th>2012-06-27 00:08:59+08:00</th>\n",
       "      <td>0</td>\n",
       "      <td>0</td>\n",
       "      <td>0</td>\n",
       "      <td>22.571699</td>\n",
       "      <td>113.865601</td>\n",
       "    </tr>\n",
       "    <tr>\n",
       "      <th>2012-06-27 00:09:29+08:00</th>\n",
       "      <td>0</td>\n",
       "      <td>0</td>\n",
       "      <td>0</td>\n",
       "      <td>22.571699</td>\n",
       "      <td>113.865601</td>\n",
       "    </tr>\n",
       "    <tr>\n",
       "      <th>2012-06-27 00:09:59+08:00</th>\n",
       "      <td>0</td>\n",
       "      <td>38</td>\n",
       "      <td>0</td>\n",
       "      <td>22.573400</td>\n",
       "      <td>113.866898</td>\n",
       "    </tr>\n",
       "    <tr>\n",
       "      <th>2012-06-27 00:10:29+08:00</th>\n",
       "      <td>0</td>\n",
       "      <td>0</td>\n",
       "      <td>225</td>\n",
       "      <td>22.582899</td>\n",
       "      <td>113.910301</td>\n",
       "    </tr>\n",
       "    <tr>\n",
       "      <th>2012-06-27 00:10:29+08:00</th>\n",
       "      <td>0</td>\n",
       "      <td>16</td>\n",
       "      <td>0</td>\n",
       "      <td>22.575899</td>\n",
       "      <td>113.868698</td>\n",
       "    </tr>\n",
       "    <tr>\n",
       "      <th>2012-06-27 00:11:00+08:00</th>\n",
       "      <td>0</td>\n",
       "      <td>29</td>\n",
       "      <td>0</td>\n",
       "      <td>22.574600</td>\n",
       "      <td>113.871002</td>\n",
       "    </tr>\n",
       "    <tr>\n",
       "      <th>2012-06-27 00:11:30+08:00</th>\n",
       "      <td>0</td>\n",
       "      <td>48</td>\n",
       "      <td>0</td>\n",
       "      <td>22.572599</td>\n",
       "      <td>113.874199</td>\n",
       "    </tr>\n",
       "    <tr>\n",
       "      <th>2012-06-27 00:11:00+08:00</th>\n",
       "      <td>0</td>\n",
       "      <td>29</td>\n",
       "      <td>0</td>\n",
       "      <td>22.574600</td>\n",
       "      <td>113.871002</td>\n",
       "    </tr>\n",
       "    <tr>\n",
       "      <th>2012-06-27 00:11:30+08:00</th>\n",
       "      <td>0</td>\n",
       "      <td>48</td>\n",
       "      <td>0</td>\n",
       "      <td>22.572599</td>\n",
       "      <td>113.874199</td>\n",
       "    </tr>\n",
       "    <tr>\n",
       "      <th>2012-06-27 00:12:00+08:00</th>\n",
       "      <td>0</td>\n",
       "      <td>22</td>\n",
       "      <td>0</td>\n",
       "      <td>22.571800</td>\n",
       "      <td>113.875397</td>\n",
       "    </tr>\n",
       "    <tr>\n",
       "      <th>2012-06-27 00:12:30+08:00</th>\n",
       "      <td>0</td>\n",
       "      <td>0</td>\n",
       "      <td>225</td>\n",
       "      <td>22.582899</td>\n",
       "      <td>113.910301</td>\n",
       "    </tr>\n",
       "    <tr>\n",
       "      <th>2012-06-27 00:12:30+08:00</th>\n",
       "      <td>0</td>\n",
       "      <td>53</td>\n",
       "      <td>0</td>\n",
       "      <td>22.573799</td>\n",
       "      <td>113.877701</td>\n",
       "    </tr>\n",
       "    <tr>\n",
       "      <th>2012-06-27 00:13:00+08:00</th>\n",
       "      <td>0</td>\n",
       "      <td>40</td>\n",
       "      <td>0</td>\n",
       "      <td>22.573200</td>\n",
       "      <td>113.879799</td>\n",
       "    </tr>\n",
       "    <tr>\n",
       "      <th>2012-06-27 00:13:30+08:00</th>\n",
       "      <td>0</td>\n",
       "      <td>31</td>\n",
       "      <td>0</td>\n",
       "      <td>22.571199</td>\n",
       "      <td>113.881897</td>\n",
       "    </tr>\n",
       "    <tr>\n",
       "      <th>2012-06-27 00:14:00+08:00</th>\n",
       "      <td>0</td>\n",
       "      <td>33</td>\n",
       "      <td>0</td>\n",
       "      <td>22.570499</td>\n",
       "      <td>113.882599</td>\n",
       "    </tr>\n",
       "    <tr>\n",
       "      <th rowspan=\"9\" valign=\"top\">B02F71</th>\n",
       "      <th>2012-06-27 00:00:18+08:00</th>\n",
       "      <td>0</td>\n",
       "      <td>0</td>\n",
       "      <td>180</td>\n",
       "      <td>22.547768</td>\n",
       "      <td>114.116936</td>\n",
       "    </tr>\n",
       "    <tr>\n",
       "      <th>2012-06-27 00:00:36+08:00</th>\n",
       "      <td>0</td>\n",
       "      <td>0</td>\n",
       "      <td>180</td>\n",
       "      <td>22.547583</td>\n",
       "      <td>114.116852</td>\n",
       "    </tr>\n",
       "    <tr>\n",
       "      <th>2012-06-27 00:00:38+08:00</th>\n",
       "      <td>0</td>\n",
       "      <td>0</td>\n",
       "      <td>180</td>\n",
       "      <td>22.547583</td>\n",
       "      <td>114.116852</td>\n",
       "    </tr>\n",
       "    <tr>\n",
       "      <th>2012-06-27 00:00:48+08:00</th>\n",
       "      <td>0</td>\n",
       "      <td>0</td>\n",
       "      <td>180</td>\n",
       "      <td>22.547583</td>\n",
       "      <td>114.116852</td>\n",
       "    </tr>\n",
       "    <tr>\n",
       "      <th>2012-06-27 00:01:06+08:00</th>\n",
       "      <td>0</td>\n",
       "      <td>0</td>\n",
       "      <td>180</td>\n",
       "      <td>22.547583</td>\n",
       "      <td>114.116852</td>\n",
       "    </tr>\n",
       "    <tr>\n",
       "      <th>2012-06-27 00:01:08+08:00</th>\n",
       "      <td>0</td>\n",
       "      <td>0</td>\n",
       "      <td>180</td>\n",
       "      <td>22.547583</td>\n",
       "      <td>114.116852</td>\n",
       "    </tr>\n",
       "    <tr>\n",
       "      <th>2012-06-27 00:01:18+08:00</th>\n",
       "      <td>0</td>\n",
       "      <td>0</td>\n",
       "      <td>225</td>\n",
       "      <td>22.547434</td>\n",
       "      <td>114.116653</td>\n",
       "    </tr>\n",
       "    <tr>\n",
       "      <th>2012-06-27 00:01:36+08:00</th>\n",
       "      <td>0</td>\n",
       "      <td>0</td>\n",
       "      <td>225</td>\n",
       "      <td>22.547434</td>\n",
       "      <td>114.116653</td>\n",
       "    </tr>\n",
       "    <tr>\n",
       "      <th>2012-06-27 00:01:38+08:00</th>\n",
       "      <td>0</td>\n",
       "      <td>0</td>\n",
       "      <td>225</td>\n",
       "      <td>22.547434</td>\n",
       "      <td>114.116653</td>\n",
       "    </tr>\n",
       "    <tr>\n",
       "      <th>...</th>\n",
       "      <th>...</th>\n",
       "      <td>...</td>\n",
       "      <td>...</td>\n",
       "      <td>...</td>\n",
       "      <td>...</td>\n",
       "      <td>...</td>\n",
       "    </tr>\n",
       "    <tr>\n",
       "      <th rowspan=\"9\" valign=\"top\">B02T80</th>\n",
       "      <th>2012-06-27 00:15:18+08:00</th>\n",
       "      <td>1</td>\n",
       "      <td>5</td>\n",
       "      <td>90</td>\n",
       "      <td>22.650084</td>\n",
       "      <td>113.830765</td>\n",
       "    </tr>\n",
       "    <tr>\n",
       "      <th>2012-06-27 00:15:19+08:00</th>\n",
       "      <td>1</td>\n",
       "      <td>5</td>\n",
       "      <td>90</td>\n",
       "      <td>22.650084</td>\n",
       "      <td>113.830765</td>\n",
       "    </tr>\n",
       "    <tr>\n",
       "      <th>2012-06-27 00:15:20+08:00</th>\n",
       "      <td>1</td>\n",
       "      <td>5</td>\n",
       "      <td>90</td>\n",
       "      <td>22.650084</td>\n",
       "      <td>113.830765</td>\n",
       "    </tr>\n",
       "    <tr>\n",
       "      <th>2012-06-27 00:15:27+08:00</th>\n",
       "      <td>1</td>\n",
       "      <td>46</td>\n",
       "      <td>135</td>\n",
       "      <td>22.649733</td>\n",
       "      <td>113.831268</td>\n",
       "    </tr>\n",
       "    <tr>\n",
       "      <th>2012-06-27 00:15:28+08:00</th>\n",
       "      <td>1</td>\n",
       "      <td>46</td>\n",
       "      <td>135</td>\n",
       "      <td>22.649733</td>\n",
       "      <td>113.831268</td>\n",
       "    </tr>\n",
       "    <tr>\n",
       "      <th>2012-06-27 00:15:29+08:00</th>\n",
       "      <td>1</td>\n",
       "      <td>46</td>\n",
       "      <td>135</td>\n",
       "      <td>22.649733</td>\n",
       "      <td>113.831268</td>\n",
       "    </tr>\n",
       "    <tr>\n",
       "      <th>2012-06-27 00:15:30+08:00</th>\n",
       "      <td>1</td>\n",
       "      <td>46</td>\n",
       "      <td>135</td>\n",
       "      <td>22.649733</td>\n",
       "      <td>113.831268</td>\n",
       "    </tr>\n",
       "    <tr>\n",
       "      <th>2012-06-27 00:15:47+08:00</th>\n",
       "      <td>1</td>\n",
       "      <td>88</td>\n",
       "      <td>135</td>\n",
       "      <td>22.646999</td>\n",
       "      <td>113.833130</td>\n",
       "    </tr>\n",
       "    <tr>\n",
       "      <th>2012-06-27 00:15:57+08:00</th>\n",
       "      <td>1</td>\n",
       "      <td>105</td>\n",
       "      <td>135</td>\n",
       "      <td>22.645166</td>\n",
       "      <td>113.834648</td>\n",
       "    </tr>\n",
       "    <tr>\n",
       "      <th rowspan=\"6\" valign=\"top\">B03C47</th>\n",
       "      <th>2012-06-27 00:25:28+08:00</th>\n",
       "      <td>1</td>\n",
       "      <td>27</td>\n",
       "      <td>0</td>\n",
       "      <td>22.680901</td>\n",
       "      <td>113.927902</td>\n",
       "    </tr>\n",
       "    <tr>\n",
       "      <th>2012-06-27 00:25:58+08:00</th>\n",
       "      <td>1</td>\n",
       "      <td>18</td>\n",
       "      <td>0</td>\n",
       "      <td>22.683500</td>\n",
       "      <td>113.929398</td>\n",
       "    </tr>\n",
       "    <tr>\n",
       "      <th>2012-06-27 00:26:28+08:00</th>\n",
       "      <td>0</td>\n",
       "      <td>0</td>\n",
       "      <td>0</td>\n",
       "      <td>22.570601</td>\n",
       "      <td>113.897697</td>\n",
       "    </tr>\n",
       "    <tr>\n",
       "      <th>2012-06-27 00:26:28+08:00</th>\n",
       "      <td>1</td>\n",
       "      <td>44</td>\n",
       "      <td>0</td>\n",
       "      <td>22.683001</td>\n",
       "      <td>113.932404</td>\n",
       "    </tr>\n",
       "    <tr>\n",
       "      <th>2012-06-27 00:26:58+08:00</th>\n",
       "      <td>1</td>\n",
       "      <td>27</td>\n",
       "      <td>0</td>\n",
       "      <td>22.683001</td>\n",
       "      <td>113.933403</td>\n",
       "    </tr>\n",
       "    <tr>\n",
       "      <th>2012-06-27 00:27:28+08:00</th>\n",
       "      <td>1</td>\n",
       "      <td>55</td>\n",
       "      <td>0</td>\n",
       "      <td>22.683001</td>\n",
       "      <td>113.937500</td>\n",
       "    </tr>\n",
       "    <tr>\n",
       "      <th rowspan=\"15\" valign=\"top\">B03F40</th>\n",
       "      <th>2012-06-27 00:00:18+08:00</th>\n",
       "      <td>1</td>\n",
       "      <td>27</td>\n",
       "      <td>315</td>\n",
       "      <td>22.540150</td>\n",
       "      <td>114.018135</td>\n",
       "    </tr>\n",
       "    <tr>\n",
       "      <th>2012-06-27 00:00:36+08:00</th>\n",
       "      <td>1</td>\n",
       "      <td>0</td>\n",
       "      <td>0</td>\n",
       "      <td>22.540367</td>\n",
       "      <td>114.017982</td>\n",
       "    </tr>\n",
       "    <tr>\n",
       "      <th>2012-06-27 00:00:38+08:00</th>\n",
       "      <td>1</td>\n",
       "      <td>0</td>\n",
       "      <td>0</td>\n",
       "      <td>22.540367</td>\n",
       "      <td>114.017982</td>\n",
       "    </tr>\n",
       "    <tr>\n",
       "      <th>2012-06-27 00:00:48+08:00</th>\n",
       "      <td>1</td>\n",
       "      <td>35</td>\n",
       "      <td>45</td>\n",
       "      <td>22.540632</td>\n",
       "      <td>114.018318</td>\n",
       "    </tr>\n",
       "    <tr>\n",
       "      <th>2012-06-27 00:00:58+08:00</th>\n",
       "      <td>1</td>\n",
       "      <td>56</td>\n",
       "      <td>45</td>\n",
       "      <td>22.540733</td>\n",
       "      <td>114.019585</td>\n",
       "    </tr>\n",
       "    <tr>\n",
       "      <th>2012-06-27 00:01:08+08:00</th>\n",
       "      <td>1</td>\n",
       "      <td>52</td>\n",
       "      <td>45</td>\n",
       "      <td>22.540899</td>\n",
       "      <td>114.020950</td>\n",
       "    </tr>\n",
       "    <tr>\n",
       "      <th>2012-06-27 00:01:26+08:00</th>\n",
       "      <td>1</td>\n",
       "      <td>9</td>\n",
       "      <td>90</td>\n",
       "      <td>22.541267</td>\n",
       "      <td>114.022598</td>\n",
       "    </tr>\n",
       "    <tr>\n",
       "      <th>2012-06-27 00:01:38+08:00</th>\n",
       "      <td>1</td>\n",
       "      <td>4</td>\n",
       "      <td>135</td>\n",
       "      <td>22.540968</td>\n",
       "      <td>114.022697</td>\n",
       "    </tr>\n",
       "    <tr>\n",
       "      <th>2012-06-27 00:01:46+08:00</th>\n",
       "      <td>1</td>\n",
       "      <td>0</td>\n",
       "      <td>135</td>\n",
       "      <td>22.540968</td>\n",
       "      <td>114.022697</td>\n",
       "    </tr>\n",
       "    <tr>\n",
       "      <th>2012-06-27 00:01:48+08:00</th>\n",
       "      <td>1</td>\n",
       "      <td>14</td>\n",
       "      <td>45</td>\n",
       "      <td>22.538549</td>\n",
       "      <td>114.018364</td>\n",
       "    </tr>\n",
       "    <tr>\n",
       "      <th>2012-06-27 00:01:48+08:00</th>\n",
       "      <td>1</td>\n",
       "      <td>0</td>\n",
       "      <td>225</td>\n",
       "      <td>22.540916</td>\n",
       "      <td>114.022652</td>\n",
       "    </tr>\n",
       "    <tr>\n",
       "      <th>2012-06-27 00:01:56+08:00</th>\n",
       "      <td>1</td>\n",
       "      <td>4</td>\n",
       "      <td>45</td>\n",
       "      <td>22.540882</td>\n",
       "      <td>114.022652</td>\n",
       "    </tr>\n",
       "    <tr>\n",
       "      <th>2012-06-27 00:02:28+08:00</th>\n",
       "      <td>1</td>\n",
       "      <td>9</td>\n",
       "      <td>315</td>\n",
       "      <td>22.542168</td>\n",
       "      <td>114.022797</td>\n",
       "    </tr>\n",
       "    <tr>\n",
       "      <th>2012-06-27 00:03:08+08:00</th>\n",
       "      <td>1</td>\n",
       "      <td>0</td>\n",
       "      <td>315</td>\n",
       "      <td>22.542217</td>\n",
       "      <td>114.022797</td>\n",
       "    </tr>\n",
       "    <tr>\n",
       "      <th>2012-06-27 00:03:18+08:00</th>\n",
       "      <td>1</td>\n",
       "      <td>0</td>\n",
       "      <td>315</td>\n",
       "      <td>22.542217</td>\n",
       "      <td>114.022797</td>\n",
       "    </tr>\n",
       "  </tbody>\n",
       "</table>\n",
       "<p>819 rows × 5 columns</p>\n",
       "</div>"
      ],
      "text/plain": [
       "                                     passenger  speed  heading   latitude  \\\n",
       "common_id timestamp                                                         \n",
       "B00D16    2012-06-27 00:06:59+08:00          0     25      225  22.565399   \n",
       "          2012-06-27 00:08:29+08:00          0      0      225  22.582899   \n",
       "          2012-06-27 00:08:29+08:00          0     27        0  22.571400   \n",
       "          2012-06-27 00:08:59+08:00          0      0        0  22.571699   \n",
       "          2012-06-27 00:09:29+08:00          0      0        0  22.571699   \n",
       "          2012-06-27 00:09:59+08:00          0     38        0  22.573400   \n",
       "          2012-06-27 00:08:59+08:00          0      0        0  22.571699   \n",
       "          2012-06-27 00:09:29+08:00          0      0        0  22.571699   \n",
       "          2012-06-27 00:09:59+08:00          0     38        0  22.573400   \n",
       "          2012-06-27 00:10:29+08:00          0      0      225  22.582899   \n",
       "          2012-06-27 00:10:29+08:00          0     16        0  22.575899   \n",
       "          2012-06-27 00:11:00+08:00          0     29        0  22.574600   \n",
       "          2012-06-27 00:11:30+08:00          0     48        0  22.572599   \n",
       "          2012-06-27 00:11:00+08:00          0     29        0  22.574600   \n",
       "          2012-06-27 00:11:30+08:00          0     48        0  22.572599   \n",
       "          2012-06-27 00:12:00+08:00          0     22        0  22.571800   \n",
       "          2012-06-27 00:12:30+08:00          0      0      225  22.582899   \n",
       "          2012-06-27 00:12:30+08:00          0     53        0  22.573799   \n",
       "          2012-06-27 00:13:00+08:00          0     40        0  22.573200   \n",
       "          2012-06-27 00:13:30+08:00          0     31        0  22.571199   \n",
       "          2012-06-27 00:14:00+08:00          0     33        0  22.570499   \n",
       "B02F71    2012-06-27 00:00:18+08:00          0      0      180  22.547768   \n",
       "          2012-06-27 00:00:36+08:00          0      0      180  22.547583   \n",
       "          2012-06-27 00:00:38+08:00          0      0      180  22.547583   \n",
       "          2012-06-27 00:00:48+08:00          0      0      180  22.547583   \n",
       "          2012-06-27 00:01:06+08:00          0      0      180  22.547583   \n",
       "          2012-06-27 00:01:08+08:00          0      0      180  22.547583   \n",
       "          2012-06-27 00:01:18+08:00          0      0      225  22.547434   \n",
       "          2012-06-27 00:01:36+08:00          0      0      225  22.547434   \n",
       "          2012-06-27 00:01:38+08:00          0      0      225  22.547434   \n",
       "...                                        ...    ...      ...        ...   \n",
       "B02T80    2012-06-27 00:15:18+08:00          1      5       90  22.650084   \n",
       "          2012-06-27 00:15:19+08:00          1      5       90  22.650084   \n",
       "          2012-06-27 00:15:20+08:00          1      5       90  22.650084   \n",
       "          2012-06-27 00:15:27+08:00          1     46      135  22.649733   \n",
       "          2012-06-27 00:15:28+08:00          1     46      135  22.649733   \n",
       "          2012-06-27 00:15:29+08:00          1     46      135  22.649733   \n",
       "          2012-06-27 00:15:30+08:00          1     46      135  22.649733   \n",
       "          2012-06-27 00:15:47+08:00          1     88      135  22.646999   \n",
       "          2012-06-27 00:15:57+08:00          1    105      135  22.645166   \n",
       "B03C47    2012-06-27 00:25:28+08:00          1     27        0  22.680901   \n",
       "          2012-06-27 00:25:58+08:00          1     18        0  22.683500   \n",
       "          2012-06-27 00:26:28+08:00          0      0        0  22.570601   \n",
       "          2012-06-27 00:26:28+08:00          1     44        0  22.683001   \n",
       "          2012-06-27 00:26:58+08:00          1     27        0  22.683001   \n",
       "          2012-06-27 00:27:28+08:00          1     55        0  22.683001   \n",
       "B03F40    2012-06-27 00:00:18+08:00          1     27      315  22.540150   \n",
       "          2012-06-27 00:00:36+08:00          1      0        0  22.540367   \n",
       "          2012-06-27 00:00:38+08:00          1      0        0  22.540367   \n",
       "          2012-06-27 00:00:48+08:00          1     35       45  22.540632   \n",
       "          2012-06-27 00:00:58+08:00          1     56       45  22.540733   \n",
       "          2012-06-27 00:01:08+08:00          1     52       45  22.540899   \n",
       "          2012-06-27 00:01:26+08:00          1      9       90  22.541267   \n",
       "          2012-06-27 00:01:38+08:00          1      4      135  22.540968   \n",
       "          2012-06-27 00:01:46+08:00          1      0      135  22.540968   \n",
       "          2012-06-27 00:01:48+08:00          1     14       45  22.538549   \n",
       "          2012-06-27 00:01:48+08:00          1      0      225  22.540916   \n",
       "          2012-06-27 00:01:56+08:00          1      4       45  22.540882   \n",
       "          2012-06-27 00:02:28+08:00          1      9      315  22.542168   \n",
       "          2012-06-27 00:03:08+08:00          1      0      315  22.542217   \n",
       "          2012-06-27 00:03:18+08:00          1      0      315  22.542217   \n",
       "\n",
       "                                      longitude  \n",
       "common_id timestamp                              \n",
       "B00D16    2012-06-27 00:06:59+08:00  113.867798  \n",
       "          2012-06-27 00:08:29+08:00  113.910301  \n",
       "          2012-06-27 00:08:29+08:00  113.865402  \n",
       "          2012-06-27 00:08:59+08:00  113.865601  \n",
       "          2012-06-27 00:09:29+08:00  113.865601  \n",
       "          2012-06-27 00:09:59+08:00  113.866898  \n",
       "          2012-06-27 00:08:59+08:00  113.865601  \n",
       "          2012-06-27 00:09:29+08:00  113.865601  \n",
       "          2012-06-27 00:09:59+08:00  113.866898  \n",
       "          2012-06-27 00:10:29+08:00  113.910301  \n",
       "          2012-06-27 00:10:29+08:00  113.868698  \n",
       "          2012-06-27 00:11:00+08:00  113.871002  \n",
       "          2012-06-27 00:11:30+08:00  113.874199  \n",
       "          2012-06-27 00:11:00+08:00  113.871002  \n",
       "          2012-06-27 00:11:30+08:00  113.874199  \n",
       "          2012-06-27 00:12:00+08:00  113.875397  \n",
       "          2012-06-27 00:12:30+08:00  113.910301  \n",
       "          2012-06-27 00:12:30+08:00  113.877701  \n",
       "          2012-06-27 00:13:00+08:00  113.879799  \n",
       "          2012-06-27 00:13:30+08:00  113.881897  \n",
       "          2012-06-27 00:14:00+08:00  113.882599  \n",
       "B02F71    2012-06-27 00:00:18+08:00  114.116936  \n",
       "          2012-06-27 00:00:36+08:00  114.116852  \n",
       "          2012-06-27 00:00:38+08:00  114.116852  \n",
       "          2012-06-27 00:00:48+08:00  114.116852  \n",
       "          2012-06-27 00:01:06+08:00  114.116852  \n",
       "          2012-06-27 00:01:08+08:00  114.116852  \n",
       "          2012-06-27 00:01:18+08:00  114.116653  \n",
       "          2012-06-27 00:01:36+08:00  114.116653  \n",
       "          2012-06-27 00:01:38+08:00  114.116653  \n",
       "...                                         ...  \n",
       "B02T80    2012-06-27 00:15:18+08:00  113.830765  \n",
       "          2012-06-27 00:15:19+08:00  113.830765  \n",
       "          2012-06-27 00:15:20+08:00  113.830765  \n",
       "          2012-06-27 00:15:27+08:00  113.831268  \n",
       "          2012-06-27 00:15:28+08:00  113.831268  \n",
       "          2012-06-27 00:15:29+08:00  113.831268  \n",
       "          2012-06-27 00:15:30+08:00  113.831268  \n",
       "          2012-06-27 00:15:47+08:00  113.833130  \n",
       "          2012-06-27 00:15:57+08:00  113.834648  \n",
       "B03C47    2012-06-27 00:25:28+08:00  113.927902  \n",
       "          2012-06-27 00:25:58+08:00  113.929398  \n",
       "          2012-06-27 00:26:28+08:00  113.897697  \n",
       "          2012-06-27 00:26:28+08:00  113.932404  \n",
       "          2012-06-27 00:26:58+08:00  113.933403  \n",
       "          2012-06-27 00:27:28+08:00  113.937500  \n",
       "B03F40    2012-06-27 00:00:18+08:00  114.018135  \n",
       "          2012-06-27 00:00:36+08:00  114.017982  \n",
       "          2012-06-27 00:00:38+08:00  114.017982  \n",
       "          2012-06-27 00:00:48+08:00  114.018318  \n",
       "          2012-06-27 00:00:58+08:00  114.019585  \n",
       "          2012-06-27 00:01:08+08:00  114.020950  \n",
       "          2012-06-27 00:01:26+08:00  114.022598  \n",
       "          2012-06-27 00:01:38+08:00  114.022697  \n",
       "          2012-06-27 00:01:46+08:00  114.022697  \n",
       "          2012-06-27 00:01:48+08:00  114.018364  \n",
       "          2012-06-27 00:01:48+08:00  114.022652  \n",
       "          2012-06-27 00:01:56+08:00  114.022652  \n",
       "          2012-06-27 00:02:28+08:00  114.022797  \n",
       "          2012-06-27 00:03:08+08:00  114.022797  \n",
       "          2012-06-27 00:03:18+08:00  114.022797  \n",
       "\n",
       "[819 rows x 5 columns]"
      ]
     },
     "execution_count": 22,
     "metadata": {},
     "output_type": "execute_result"
    }
   ],
   "source": [
    "# Print a report of the data around the duplicate as defined by the Timedelta.\n",
    "# This is useful to determine what might be causing the duplicates or how to better handle them.\n",
    "td = pd.Timedelta(minutes=1, seconds=30)\n",
    "dup_list = []\n",
    "for i, (idx, data) in enumerate(df[dups_index].iterrows()):\n",
    "    dup_list.append(df.loc[(idx[0],idx[1]-td):(idx[0],idx[1]+td)])\n",
    "    if i > n:\n",
    "        break\n",
    "\n",
    "pd.concat(dup_list)"
   ]
  },
  {
   "cell_type": "code",
   "execution_count": 23,
   "metadata": {
    "collapsed": false
   },
   "outputs": [
    {
     "data": {
      "text/html": [
       "<div>\n",
       "<table border=\"1\" class=\"dataframe\">\n",
       "  <thead>\n",
       "    <tr style=\"text-align: right;\">\n",
       "      <th></th>\n",
       "      <th></th>\n",
       "      <th>passenger</th>\n",
       "      <th>speed</th>\n",
       "      <th>heading</th>\n",
       "      <th>latitude</th>\n",
       "      <th>longitude</th>\n",
       "    </tr>\n",
       "    <tr>\n",
       "      <th>common_id</th>\n",
       "      <th>timestamp</th>\n",
       "      <th></th>\n",
       "      <th></th>\n",
       "      <th></th>\n",
       "      <th></th>\n",
       "      <th></th>\n",
       "    </tr>\n",
       "  </thead>\n",
       "  <tbody>\n",
       "    <tr>\n",
       "      <th>B000H6</th>\n",
       "      <th>2012-06-27 00:06:38+08:00</th>\n",
       "      <td>0</td>\n",
       "      <td>11</td>\n",
       "      <td>315</td>\n",
       "      <td>22.556683</td>\n",
       "      <td>114.219086</td>\n",
       "    </tr>\n",
       "  </tbody>\n",
       "</table>\n",
       "</div>"
      ],
      "text/plain": [
       "                                     passenger  speed  heading   latitude  \\\n",
       "common_id timestamp                                                         \n",
       "B000H6    2012-06-27 00:06:38+08:00          0     11      315  22.556683   \n",
       "\n",
       "                                      longitude  \n",
       "common_id timestamp                              \n",
       "B000H6    2012-06-27 00:06:38+08:00  114.219086  "
      ]
     },
     "execution_count": 23,
     "metadata": {},
     "output_type": "execute_result"
    }
   ],
   "source": [
    "# drop_duplicates will drop all values with duplicate timestamps.\n",
    "# Pandas 17.1 provides an option to keep the first, last, neither.\n",
    "df.drop_duplicates(keep='first').loc['B000H6', pd.Timestamp('2012-06-27 00:06:38+08:00')]"
   ]
  },
  {
   "cell_type": "code",
   "execution_count": 24,
   "metadata": {
    "collapsed": false
   },
   "outputs": [
    {
     "data": {
      "text/plain": [
       "True"
      ]
     },
     "execution_count": 24,
     "metadata": {},
     "output_type": "execute_result"
    }
   ],
   "source": [
    "df.index.duplicated().any()  # Prints True if the index contains any duplicates."
   ]
  },
  {
   "cell_type": "code",
   "execution_count": 25,
   "metadata": {
    "collapsed": false
   },
   "outputs": [
    {
     "data": {
      "text/plain": [
       "passenger      0.000000\n",
       "speed         11.000000\n",
       "heading      315.000000\n",
       "latitude      22.556683\n",
       "longitude    114.219086\n",
       "Name: (B000H6, 2012-06-27 00:06:38+08:00), dtype: float64"
      ]
     },
     "execution_count": 25,
     "metadata": {},
     "output_type": "execute_result"
    }
   ],
   "source": [
    "# Drop only one of the duplicates\n",
    "(df[~df.index.duplicated()]).loc['B000H6', pd.Timestamp('2012-06-27 00:06:38+08:00')]"
   ]
  },
  {
   "cell_type": "code",
   "execution_count": 26,
   "metadata": {
    "collapsed": false,
    "scrolled": true
   },
   "outputs": [
    {
     "data": {
      "text/plain": [
       "('Data points before dropping duplicates', 979220)"
      ]
     },
     "execution_count": 26,
     "metadata": {},
     "output_type": "execute_result"
    }
   ],
   "source": [
    "'Data points before dropping duplicates', len(df)"
   ]
  },
  {
   "cell_type": "code",
   "execution_count": 27,
   "metadata": {
    "collapsed": false
   },
   "outputs": [
    {
     "name": "stdout",
     "output_type": "stream",
     "text": [
      "0:00:00.096972\n"
     ]
    }
   ],
   "source": [
    "start_time = datetime.now()\n",
    "df = df[~df.index.duplicated()]\n",
    "print(datetime.now() - start_time)"
   ]
  },
  {
   "cell_type": "code",
   "execution_count": 28,
   "metadata": {
    "collapsed": false,
    "scrolled": false
   },
   "outputs": [
    {
     "data": {
      "text/plain": [
       "('Data points after dropping duplicates', 978646)"
      ]
     },
     "execution_count": 28,
     "metadata": {},
     "output_type": "execute_result"
    }
   ],
   "source": [
    "'Data points after dropping duplicates', len(df)"
   ]
  },
  {
   "cell_type": "code",
   "execution_count": 29,
   "metadata": {
    "collapsed": false
   },
   "outputs": [
    {
     "data": {
      "text/plain": [
       "False"
      ]
     },
     "execution_count": 29,
     "metadata": {},
     "output_type": "execute_result"
    }
   ],
   "source": [
    "df.index.duplicated().any()  # Should print False at this point."
   ]
  },
  {
   "cell_type": "markdown",
   "metadata": {},
   "source": [
    "### Removing Bad GPS Points"
   ]
  },
  {
   "cell_type": "code",
   "execution_count": 30,
   "metadata": {
    "collapsed": false
   },
   "outputs": [],
   "source": [
    "def remove_impossible_filter(taxi):\n",
    "    \"\"\" Removes GPS points that are impossible for a taxi \"\"\"\n",
    "    return (\n",
    "        (taxi['longitude'] != 0) &\n",
    "        (taxi['latitude'] != 0)\n",
    "    )"
   ]
  },
  {
   "cell_type": "code",
   "execution_count": 31,
   "metadata": {
    "collapsed": false
   },
   "outputs": [
    {
     "name": "stdout",
     "output_type": "stream",
     "text": [
      "Impossible removing 0 points\n",
      "Num bad GPS points 0\n"
     ]
    },
    {
     "data": {
      "text/plain": [
       "common_id  timestamp                \n",
       "B15V56     2012-06-27 00:17:50+08:00    True\n",
       "B52F07     2012-06-27 00:27:27+08:00    True\n",
       "SCL351     2012-06-27 00:29:03+08:00    True\n",
       "SEU532     2012-06-27 00:12:59+08:00    True\n",
       "SKU426     2012-06-27 00:12:13+08:00    True\n",
       "dtype: bool"
      ]
     },
     "execution_count": 31,
     "metadata": {},
     "output_type": "execute_result"
    }
   ],
   "source": [
    "# Let's explore the implementation of the function above.\n",
    "filter_bad_gps = remove_impossible_filter(df)\n",
    "filtered = df[filter_bad_gps]\n",
    "print('Impossible removing', len(df) - len(filtered), 'points')\n",
    "\n",
    "print('Num bad GPS points', len(df[~filter_bad_gps]))\n",
    "sample_df(filter_bad_gps)"
   ]
  },
  {
   "cell_type": "markdown",
   "metadata": {},
   "source": [
    "## Partition by taxi\n",
    "Using the groupby method the big datafile can be broken down into individual taxis and the sub-dataframe accessed using the get_group method.  Here we access the data for a single taxi."
   ]
  },
  {
   "cell_type": "code",
   "execution_count": 32,
   "metadata": {
    "collapsed": false
   },
   "outputs": [
    {
     "name": "stdout",
     "output_type": "stream",
     "text": [
      "0:00:00.024304\n"
     ]
    }
   ],
   "source": [
    "start_time = datetime.now()\n",
    "taxis = df.groupby(level='common_id')\n",
    "print(datetime.now() - start_time)"
   ]
  },
  {
   "cell_type": "code",
   "execution_count": 33,
   "metadata": {
    "collapsed": false
   },
   "outputs": [
    {
     "data": {
      "text/html": [
       "<div>\n",
       "<table border=\"1\" class=\"dataframe\">\n",
       "  <thead>\n",
       "    <tr style=\"text-align: right;\">\n",
       "      <th></th>\n",
       "      <th></th>\n",
       "      <th>passenger</th>\n",
       "      <th>speed</th>\n",
       "      <th>heading</th>\n",
       "      <th>latitude</th>\n",
       "      <th>longitude</th>\n",
       "    </tr>\n",
       "    <tr>\n",
       "      <th>common_id</th>\n",
       "      <th>timestamp</th>\n",
       "      <th></th>\n",
       "      <th></th>\n",
       "      <th></th>\n",
       "      <th></th>\n",
       "      <th></th>\n",
       "    </tr>\n",
       "  </thead>\n",
       "  <tbody>\n",
       "    <tr>\n",
       "      <th rowspan=\"10\" valign=\"top\">BL1M49</th>\n",
       "      <th>2012-06-27 00:04:23+08:00</th>\n",
       "      <td>0</td>\n",
       "      <td>81</td>\n",
       "      <td>180</td>\n",
       "      <td>22.674168</td>\n",
       "      <td>114.218147</td>\n",
       "    </tr>\n",
       "    <tr>\n",
       "      <th>2012-06-27 00:07:14+08:00</th>\n",
       "      <td>0</td>\n",
       "      <td>2</td>\n",
       "      <td>180</td>\n",
       "      <td>22.657566</td>\n",
       "      <td>114.209183</td>\n",
       "    </tr>\n",
       "    <tr>\n",
       "      <th>2012-06-27 00:07:41+08:00</th>\n",
       "      <td>0</td>\n",
       "      <td>4</td>\n",
       "      <td>135</td>\n",
       "      <td>22.656000</td>\n",
       "      <td>114.207901</td>\n",
       "    </tr>\n",
       "    <tr>\n",
       "      <th>2012-06-27 00:10:36+08:00</th>\n",
       "      <td>0</td>\n",
       "      <td>21</td>\n",
       "      <td>225</td>\n",
       "      <td>22.648382</td>\n",
       "      <td>114.200401</td>\n",
       "    </tr>\n",
       "    <tr>\n",
       "      <th>2012-06-27 00:10:44+08:00</th>\n",
       "      <td>0</td>\n",
       "      <td>6</td>\n",
       "      <td>180</td>\n",
       "      <td>22.648251</td>\n",
       "      <td>114.200233</td>\n",
       "    </tr>\n",
       "    <tr>\n",
       "      <th>2012-06-27 00:10:45+08:00</th>\n",
       "      <td>0</td>\n",
       "      <td>6</td>\n",
       "      <td>180</td>\n",
       "      <td>22.648251</td>\n",
       "      <td>114.200233</td>\n",
       "    </tr>\n",
       "    <tr>\n",
       "      <th>2012-06-27 00:11:15+08:00</th>\n",
       "      <td>0</td>\n",
       "      <td>58</td>\n",
       "      <td>225</td>\n",
       "      <td>22.646633</td>\n",
       "      <td>114.197952</td>\n",
       "    </tr>\n",
       "    <tr>\n",
       "      <th>2012-06-27 00:11:23+08:00</th>\n",
       "      <td>0</td>\n",
       "      <td>64</td>\n",
       "      <td>225</td>\n",
       "      <td>22.645800</td>\n",
       "      <td>114.196671</td>\n",
       "    </tr>\n",
       "    <tr>\n",
       "      <th>2012-06-27 00:15:26+08:00</th>\n",
       "      <td>0</td>\n",
       "      <td>44</td>\n",
       "      <td>225</td>\n",
       "      <td>22.636818</td>\n",
       "      <td>114.172798</td>\n",
       "    </tr>\n",
       "    <tr>\n",
       "      <th>2012-06-27 00:21:59+08:00</th>\n",
       "      <td>0</td>\n",
       "      <td>79</td>\n",
       "      <td>225</td>\n",
       "      <td>22.622967</td>\n",
       "      <td>114.147102</td>\n",
       "    </tr>\n",
       "  </tbody>\n",
       "</table>\n",
       "</div>"
      ],
      "text/plain": [
       "                                     passenger  speed  heading   latitude  \\\n",
       "common_id timestamp                                                         \n",
       "BL1M49    2012-06-27 00:04:23+08:00          0     81      180  22.674168   \n",
       "          2012-06-27 00:07:14+08:00          0      2      180  22.657566   \n",
       "          2012-06-27 00:07:41+08:00          0      4      135  22.656000   \n",
       "          2012-06-27 00:10:36+08:00          0     21      225  22.648382   \n",
       "          2012-06-27 00:10:44+08:00          0      6      180  22.648251   \n",
       "          2012-06-27 00:10:45+08:00          0      6      180  22.648251   \n",
       "          2012-06-27 00:11:15+08:00          0     58      225  22.646633   \n",
       "          2012-06-27 00:11:23+08:00          0     64      225  22.645800   \n",
       "          2012-06-27 00:15:26+08:00          0     44      225  22.636818   \n",
       "          2012-06-27 00:21:59+08:00          0     79      225  22.622967   \n",
       "\n",
       "                                      longitude  \n",
       "common_id timestamp                              \n",
       "BL1M49    2012-06-27 00:04:23+08:00  114.218147  \n",
       "          2012-06-27 00:07:14+08:00  114.209183  \n",
       "          2012-06-27 00:07:41+08:00  114.207901  \n",
       "          2012-06-27 00:10:36+08:00  114.200401  \n",
       "          2012-06-27 00:10:44+08:00  114.200233  \n",
       "          2012-06-27 00:10:45+08:00  114.200233  \n",
       "          2012-06-27 00:11:15+08:00  114.197952  \n",
       "          2012-06-27 00:11:23+08:00  114.196671  \n",
       "          2012-06-27 00:15:26+08:00  114.172798  \n",
       "          2012-06-27 00:21:59+08:00  114.147102  "
      ]
     },
     "execution_count": 33,
     "metadata": {},
     "output_type": "execute_result"
    }
   ],
   "source": [
    "# The individual taxi data can be extracted using the get_group method.  We also drop the taxi id from the index.\n",
    "# taxi = taxis.get_group('B002Z6')  # This taxi picks up a passenger and has dups.\n",
    "taxi = taxis.get_group('BL1M49').copy()  # This taxi has duplicate rows.\n",
    "sample_df(taxi, 10)"
   ]
  },
  {
   "cell_type": "code",
   "execution_count": 34,
   "metadata": {
    "collapsed": false
   },
   "outputs": [
    {
     "name": "stdout",
     "output_type": "stream",
     "text": [
      "Taxi ID: BL1M49\n"
     ]
    },
    {
     "data": {
      "text/html": [
       "<div>\n",
       "<table border=\"1\" class=\"dataframe\">\n",
       "  <thead>\n",
       "    <tr style=\"text-align: right;\">\n",
       "      <th></th>\n",
       "      <th>passenger</th>\n",
       "      <th>speed</th>\n",
       "      <th>heading</th>\n",
       "      <th>latitude</th>\n",
       "      <th>longitude</th>\n",
       "    </tr>\n",
       "    <tr>\n",
       "      <th>timestamp</th>\n",
       "      <th></th>\n",
       "      <th></th>\n",
       "      <th></th>\n",
       "      <th></th>\n",
       "      <th></th>\n",
       "    </tr>\n",
       "  </thead>\n",
       "  <tbody>\n",
       "    <tr>\n",
       "      <th>2012-06-27 00:07:34+08:00</th>\n",
       "      <td>0</td>\n",
       "      <td>23</td>\n",
       "      <td>180</td>\n",
       "      <td>22.656099</td>\n",
       "      <td>114.207870</td>\n",
       "    </tr>\n",
       "    <tr>\n",
       "      <th>2012-06-27 00:09:46+08:00</th>\n",
       "      <td>0</td>\n",
       "      <td>2</td>\n",
       "      <td>315</td>\n",
       "      <td>22.649567</td>\n",
       "      <td>114.201782</td>\n",
       "    </tr>\n",
       "    <tr>\n",
       "      <th>2012-06-27 00:12:24+08:00</th>\n",
       "      <td>0</td>\n",
       "      <td>43</td>\n",
       "      <td>225</td>\n",
       "      <td>22.644567</td>\n",
       "      <td>114.193199</td>\n",
       "    </tr>\n",
       "    <tr>\n",
       "      <th>2012-06-27 00:23:23+08:00</th>\n",
       "      <td>0</td>\n",
       "      <td>71</td>\n",
       "      <td>180</td>\n",
       "      <td>22.619133</td>\n",
       "      <td>114.134819</td>\n",
       "    </tr>\n",
       "    <tr>\n",
       "      <th>2012-06-27 00:27:04+08:00</th>\n",
       "      <td>0</td>\n",
       "      <td>59</td>\n",
       "      <td>225</td>\n",
       "      <td>22.610550</td>\n",
       "      <td>114.118767</td>\n",
       "    </tr>\n",
       "  </tbody>\n",
       "</table>\n",
       "</div>"
      ],
      "text/plain": [
       "                           passenger  speed  heading   latitude   longitude\n",
       "timestamp                                                                  \n",
       "2012-06-27 00:07:34+08:00          0     23      180  22.656099  114.207870\n",
       "2012-06-27 00:09:46+08:00          0      2      315  22.649567  114.201782\n",
       "2012-06-27 00:12:24+08:00          0     43      225  22.644567  114.193199\n",
       "2012-06-27 00:23:23+08:00          0     71      180  22.619133  114.134819\n",
       "2012-06-27 00:27:04+08:00          0     59      225  22.610550  114.118767"
      ]
     },
     "execution_count": 34,
     "metadata": {},
     "output_type": "execute_result"
    }
   ],
   "source": [
    "taxi_id = taxi.index.values[0][0]\n",
    "print('Taxi ID:', taxi_id)\n",
    "taxi.index = taxi.index.droplevel(0)\n",
    "sample_df(taxi)"
   ]
  },
  {
   "cell_type": "code",
   "execution_count": 35,
   "metadata": {
    "collapsed": false,
    "scrolled": false
   },
   "outputs": [
    {
     "data": {
      "text/plain": [
       "'[{\"passenger\":0,\"speed\":23,\"heading\":180,\"latitude\":22.705717,\"longitude\":114.232903,\"index\":\"2012-06-26T16:00:03.000Z\"},{\"passenger\":0,\"speed\":30,\"heading\":180,\"latitude\":22.705183,\"longitude\":114.232536,\"index\":\"2012-06-26T16:00:13.000Z\"},{\"passenger\":0,\"speed\":49,\"heading\":180,\"latitude\":22.704483,\"longitude\":114.231949,\"index\":\"2012-06-26T16:00:23.000Z\"},{\"passenger\":0,\"speed\":57,\"heading\":180,\"latitude\":22.703283,\"longitude\":114.231247,\"index\":\"2012-06-26T16:00:33.000Z\"},{\"passenger\":0,\"speed\":69,\"heading\":180,\"latitude\":22.702217,\"longitude\":114.230652,\"index\":\"2012-06-26T16:00:41.000Z\"},{\"passenger\":0,\"speed\":76,\"heading\":180,\"latitude\":22.701883,\"longitude\":114.230453,\"index\":\"2012-06-26T16:00:43.000Z\"},{\"passenger\":0,\"speed\":75,\"heading\":180,\"latitude\":22.700317,\"longitude\":114.229385,\"index\":\"2012-06-26T16:00:53.000Z\"},{\"passenger\":0,\"speed\":72,\"heading\":180,\"latitude\":22.698816,\"longitude\":114.2285,\"index\":\"2012-06-26T16:01:03.000Z\"},{\"passenger\":0,\"speed\":73,\"heading\":180,\"latitude\":22.697517,\"longitude\":114.227531,\"index\":\"2012-06-26T16:01:13.000Z\"},{\"passenger\":0,\"speed\":81,\"heading\":180,\"latitude\":22.695932,\"longitude\":114.226402,\"index\":\"2012-06-26T16:01:23.000Z\"},{\"passenger\":0,\"speed\":68,\"heading\":180,\"latitude\":22.691883,\"longitude\":114.223785,\"index\":\"2012-06-26T16:01:51.000Z\"},{\"passenger\":0,\"speed\":64,\"heading\":180,\"latitude\":22.691601,\"longitude\":114.223648,\"index\":\"2012-06-26T16:01:53.000Z\"},{\"passenger\":0,\"speed\":38,\"heading\":180,\"latitude\":22.690483,\"longitude\":114.223381,\"index\":\"2012-06-26T16:02:03.000Z\"},{\"passenger\":0,\"speed\":38,\"heading\":180,\"latitude\":22.690483,\"longitude\":114.223381,\"index\":\"2012-06-26T16:02:04.000Z\"},{\"passenger\":0,\"speed\":38,\"heading\":180,\"latitude\":22.690483,\"longitude\":114.223381,\"index\":\"2012-06-26T16:02:05.000Z\"},{\"passenger\":0,\"speed\":38,\"heading\":180,\"latitude\":22.690483,\"longitude\":114.223381,\"index\":\"2012-06-26T16:02:06.000Z\"},{\"passenger\":0,\"speed\":62,\"heading\":180,\"latitude\":22.688066,\"longitude\":114.222984,\"index\":\"2012-06-26T16:02:23.000Z\"},{\"passenger\":0,\"speed\":62,\"heading\":180,\"latitude\":22.688066,\"longitude\":114.222984,\"index\":\"2012-06-26T16:02:24.000Z\"},{\"passenger\":0,\"speed\":62,\"heading\":180,\"latitude\":22.688066,\"longitude\":114.222984,\"index\":\"2012-06-26T16:02:25.000Z\"},{\"passenger\":0,\"speed\":62,\"heading\":180,\"latitude\":22.688066,\"longitude\":114.222984,\"index\":\"2012-06-26T16:02:26.000Z\"},{\"passenger\":0,\"speed\":75,\"heading\":180,\"latitude\":22.680384,\"longitude\":114.221718,\"index\":\"2012-06-26T16:03:03.000Z\"},{\"passenger\":0,\"speed\":75,\"heading\":180,\"latitude\":22.680384,\"longitude\":114.221718,\"index\":\"2012-06-26T16:03:04.000Z\"},{\"passenger\":0,\"speed\":75,\"heading\":180,\"latitude\":22.680384,\"longitude\":114.221718,\"index\":\"2012-06-26T16:03:05.000Z\"},{\"passenger\":0,\"speed\":75,\"heading\":180,\"latitude\":22.680384,\"longitude\":114.221718,\"index\":\"2012-06-26T16:03:06.000Z\"},{\"passenger\":0,\"speed\":3,\"heading\":180,\"latitude\":22.679951,\"longitude\":114.221535,\"index\":\"2012-06-26T16:03:13.000Z\"},{\"passenger\":0,\"speed\":3,\"heading\":180,\"latitude\":22.679951,\"longitude\":114.221535,\"index\":\"2012-06-26T16:03:14.000Z\"},{\"passenger\":0,\"speed\":3,\"heading\":180,\"latitude\":22.679951,\"longitude\":114.221535,\"index\":\"2012-06-26T16:03:15.000Z\"},{\"passenger\":0,\"speed\":3,\"heading\":180,\"latitude\":22.679951,\"longitude\":114.221535,\"index\":\"2012-06-26T16:03:16.000Z\"},{\"passenger\":0,\"speed\":33,\"heading\":180,\"latitude\":22.67985,\"longitude\":114.221451,\"index\":\"2012-06-26T16:03:33.000Z\"},{\"passenger\":0,\"speed\":33,\"heading\":180,\"latitude\":22.67985,\"longitude\":114.221451,\"index\":\"2012-06-26T16:03:34.000Z\"},{\"passenger\":0,\"speed\":33,\"heading\":180,\"latitude\":22.67985,\"longitude\":114.221451,\"index\":\"2012-06-26T16:03:35.000Z\"},{\"passenger\":0,\"speed\":33,\"heading\":180,\"latitude\":22.67985,\"longitude\":114.221451,\"index\":\"2012-06-26T16:03:36.000Z\"},{\"passenger\":0,\"speed\":41,\"heading\":180,\"latitude\":22.677334,\"longitude\":114.220085,\"index\":\"2012-06-26T16:03:53.000Z\"},{\"passenger\":0,\"speed\":41,\"heading\":180,\"latitude\":22.677334,\"longitude\":114.220085,\"index\":\"2012-06-26T16:03:54.000Z\"},{\"passenger\":0,\"speed\":41,\"heading\":180,\"latitude\":22.677334,\"longitude\":114.220085,\"index\":\"2012-06-26T16:03:55.000Z\"},{\"passenger\":0,\"speed\":41,\"heading\":180,\"latitude\":22.677334,\"longitude\":114.220085,\"index\":\"2012-06-26T16:03:56.000Z\"},{\"passenger\":0,\"speed\":70,\"heading\":180,\"latitude\":22.675783,\"longitude\":114.219101,\"index\":\"2012-06-26T16:04:13.000Z\"},{\"passenger\":0,\"speed\":70,\"heading\":180,\"latitude\":22.675783,\"longitude\":114.219101,\"index\":\"2012-06-26T16:04:14.000Z\"},{\"passenger\":0,\"speed\":70,\"heading\":180,\"latitude\":22.675783,\"longitude\":114.219101,\"index\":\"2012-06-26T16:04:15.000Z\"},{\"passenger\":0,\"speed\":70,\"heading\":180,\"latitude\":22.675783,\"longitude\":114.219101,\"index\":\"2012-06-26T16:04:16.000Z\"},{\"passenger\":0,\"speed\":81,\"heading\":180,\"latitude\":22.674168,\"longitude\":114.218147,\"index\":\"2012-06-26T16:04:23.000Z\"},{\"passenger\":0,\"speed\":81,\"heading\":180,\"latitude\":22.674168,\"longitude\":114.218147,\"index\":\"2012-06-26T16:04:24.000Z\"},{\"passenger\":0,\"speed\":81,\"heading\":180,\"latitude\":22.674168,\"longitude\":114.218147,\"index\":\"2012-06-26T16:04:25.000Z\"},{\"passenger\":0,\"speed\":81,\"heading\":180,\"latitude\":22.674168,\"longitude\":114.218147,\"index\":\"2012-06-26T16:04:26.000Z\"},{\"passenger\":0,\"speed\":26,\"heading\":180,\"latitude\":22.669933,\"longitude\":114.215836,\"index\":\"2012-06-26T16:05:03.000Z\"},{\"passenger\":0,\"speed\":26,\"heading\":180,\"latitude\":22.669933,\"longitude\":114.215836,\"index\":\"2012-06-26T16:05:04.000Z\"},{\"passenger\":0,\"speed\":26,\"heading\":180,\"latitude\":22.669933,\"longitude\":114.215836,\"index\":\"2012-06-26T16:05:05.000Z\"},{\"passenger\":0,\"speed\":26,\"heading\":180,\"latitude\":22.669933,\"longitude\":114.215836,\"index\":\"2012-06-26T16:05:06.000Z\"},{\"passenger\":0,\"speed\":62,\"heading\":225,\"latitude\":22.657883,\"longitude\":114.209747,\"index\":\"2012-06-26T16:06:23.000Z\"},{\"passenger\":0,\"speed\":62,\"heading\":225,\"latitude\":22.657883,\"longitude\":114.209747,\"index\":\"2012-06-26T16:06:24.000Z\"},{\"passenger\":0,\"speed\":62,\"heading\":225,\"latitude\":22.657883,\"longitude\":114.209747,\"index\":\"2012-06-26T16:06:25.000Z\"},{\"passenger\":0,\"speed\":62,\"heading\":225,\"latitude\":22.657883,\"longitude\":114.209747,\"index\":\"2012-06-26T16:06:26.000Z\"},{\"passenger\":0,\"speed\":0,\"heading\":180,\"latitude\":22.657499,\"longitude\":114.209251,\"index\":\"2012-06-26T16:06:51.000Z\"},{\"passenger\":0,\"speed\":0,\"heading\":180,\"latitude\":22.657499,\"longitude\":114.209251,\"index\":\"2012-06-26T16:06:52.000Z\"},{\"passenger\":0,\"speed\":0,\"heading\":180,\"latitude\":22.657499,\"longitude\":114.209251,\"index\":\"2012-06-26T16:06:53.000Z\"},{\"passenger\":0,\"speed\":0,\"heading\":180,\"latitude\":22.657499,\"longitude\":114.209251,\"index\":\"2012-06-26T16:06:54.000Z\"},{\"passenger\":0,\"speed\":0,\"heading\":180,\"latitude\":22.657499,\"longitude\":114.209267,\"index\":\"2012-06-26T16:06:55.000Z\"},{\"passenger\":0,\"speed\":0,\"heading\":180,\"latitude\":22.657499,\"longitude\":114.209267,\"index\":\"2012-06-26T16:06:56.000Z\"},{\"passenger\":0,\"speed\":2,\"heading\":180,\"latitude\":22.657566,\"longitude\":114.209183,\"index\":\"2012-06-26T16:07:13.000Z\"},{\"passenger\":0,\"speed\":2,\"heading\":180,\"latitude\":22.657566,\"longitude\":114.209183,\"index\":\"2012-06-26T16:07:14.000Z\"},{\"passenger\":0,\"speed\":2,\"heading\":180,\"latitude\":22.657566,\"longitude\":114.209183,\"index\":\"2012-06-26T16:07:15.000Z\"},{\"passenger\":0,\"speed\":2,\"heading\":180,\"latitude\":22.657566,\"longitude\":114.209183,\"index\":\"2012-06-26T16:07:16.000Z\"},{\"passenger\":0,\"speed\":23,\"heading\":180,\"latitude\":22.656099,\"longitude\":114.20787,\"index\":\"2012-06-26T16:07:33.000Z\"},{\"passenger\":0,\"speed\":23,\"heading\":180,\"latitude\":22.656099,\"longitude\":114.20787,\"index\":\"2012-06-26T16:07:34.000Z\"},{\"passenger\":0,\"speed\":23,\"heading\":180,\"latitude\":22.656099,\"longitude\":114.20787,\"index\":\"2012-06-26T16:07:35.000Z\"},{\"passenger\":0,\"speed\":23,\"heading\":180,\"latitude\":22.656099,\"longitude\":114.20787,\"index\":\"2012-06-26T16:07:36.000Z\"},{\"passenger\":0,\"speed\":4,\"heading\":135,\"latitude\":22.656,\"longitude\":114.207901,\"index\":\"2012-06-26T16:07:41.000Z\"},{\"passenger\":0,\"speed\":4,\"heading\":135,\"latitude\":22.656,\"longitude\":114.207901,\"index\":\"2012-06-26T16:07:42.000Z\"},{\"passenger\":0,\"speed\":4,\"heading\":135,\"latitude\":22.656,\"longitude\":114.207901,\"index\":\"2012-06-26T16:07:43.000Z\"},{\"passenger\":0,\"speed\":4,\"heading\":135,\"latitude\":22.656,\"longitude\":114.207901,\"index\":\"2012-06-26T16:07:44.000Z\"},{\"passenger\":0,\"speed\":3,\"heading\":90,\"latitude\":22.655916,\"longitude\":114.20797,\"index\":\"2012-06-26T16:07:53.000Z\"},{\"passenger\":0,\"speed\":3,\"heading\":90,\"latitude\":22.655916,\"longitude\":114.20797,\"index\":\"2012-06-26T16:07:54.000Z\"},{\"passenger\":0,\"speed\":3,\"heading\":90,\"latitude\":22.655916,\"longitude\":114.20797,\"index\":\"2012-06-26T16:07:55.000Z\"},{\"passenger\":0,\"speed\":3,\"heading\":90,\"latitude\":22.655916,\"longitude\":114.20797,\"index\":\"2012-06-26T16:07:56.000Z\"},{\"passenger\":0,\"speed\":14,\"heading\":180,\"latitude\":22.655832,\"longitude\":114.207947,\"index\":\"2012-06-26T16:08:03.000Z\"},{\"passenger\":0,\"speed\":14,\"heading\":180,\"latitude\":22.655832,\"longitude\":114.207947,\"index\":\"2012-06-26T16:08:04.000Z\"},{\"passenger\":0,\"speed\":14,\"heading\":180,\"latitude\":22.655832,\"longitude\":114.207947,\"index\":\"2012-06-26T16:08:05.000Z\"},{\"passenger\":0,\"speed\":14,\"heading\":180,\"latitude\":22.655832,\"longitude\":114.207947,\"index\":\"2012-06-26T16:08:06.000Z\"},{\"passenger\":0,\"speed\":0,\"heading\":180,\"latitude\":22.649532,\"longitude\":114.20182,\"index\":\"2012-06-26T16:09:33.000Z\"},{\"passenger\":0,\"speed\":0,\"heading\":180,\"latitude\":22.649532,\"longitude\":114.20182,\"index\":\"2012-06-26T16:09:34.000Z\"},{\"passenger\":0,\"speed\":0,\"heading\":180,\"latitude\":22.649532,\"longitude\":114.20182,\"index\":\"2012-06-26T16:09:35.000Z\"},{\"passenger\":0,\"speed\":0,\"heading\":180,\"latitude\":22.649532,\"longitude\":114.20182,\"index\":\"2012-06-26T16:09:36.000Z\"},{\"passenger\":0,\"speed\":2,\"heading\":315,\"latitude\":22.649567,\"longitude\":114.201782,\"index\":\"2012-06-26T16:09:43.000Z\"},{\"passenger\":0,\"speed\":2,\"heading\":315,\"latitude\":22.649567,\"longitude\":114.201782,\"index\":\"2012-06-26T16:09:44.000Z\"},{\"passenger\":0,\"speed\":2,\"heading\":315,\"latitude\":22.649567,\"longitude\":114.201782,\"index\":\"2012-06-26T16:09:45.000Z\"},{\"passenger\":0,\"speed\":2,\"heading\":315,\"latitude\":22.649567,\"longitude\":114.201782,\"index\":\"2012-06-26T16:09:46.000Z\"},{\"passenger\":0,\"speed\":2,\"heading\":270,\"latitude\":22.649584,\"longitude\":114.20182,\"index\":\"2012-06-26T16:09:53.000Z\"},{\"passenger\":0,\"speed\":2,\"heading\":270,\"latitude\":22.649584,\"longitude\":114.20182,\"index\":\"2012-06-26T16:09:54.000Z\"},{\"passenger\":0,\"speed\":2,\"heading\":270,\"latitude\":22.649584,\"longitude\":114.20182,\"index\":\"2012-06-26T16:09:55.000Z\"},{\"passenger\":0,\"speed\":2,\"heading\":270,\"latitude\":22.649584,\"longitude\":114.20182,\"index\":\"2012-06-26T16:09:56.000Z\"},{\"passenger\":0,\"speed\":23,\"heading\":225,\"latitude\":22.649366,\"longitude\":114.20163,\"index\":\"2012-06-26T16:10:11.000Z\"},{\"passenger\":0,\"speed\":23,\"heading\":225,\"latitude\":22.649366,\"longitude\":114.20163,\"index\":\"2012-06-26T16:10:12.000Z\"},{\"passenger\":0,\"speed\":23,\"heading\":225,\"latitude\":22.649366,\"longitude\":114.20163,\"index\":\"2012-06-26T16:10:13.000Z\"},{\"passenger\":0,\"speed\":23,\"heading\":225,\"latitude\":22.649366,\"longitude\":114.20163,\"index\":\"2012-06-26T16:10:14.000Z\"},{\"passenger\":0,\"speed\":23,\"heading\":225,\"latitude\":22.649282,\"longitude\":114.201553,\"index\":\"2012-06-26T16:10:15.000Z\"},{\"passenger\":0,\"speed\":23,\"heading\":225,\"latitude\":22.649282,\"longitude\":114.201553,\"index\":\"2012-06-26T16:10:16.000Z\"},{\"passenger\":0,\"speed\":37,\"heading\":225,\"latitude\":22.648867,\"longitude\":114.200996,\"index\":\"2012-06-26T16:10:23.000Z\"},{\"passenger\":0,\"speed\":37,\"heading\":225,\"latitude\":22.648867,\"longitude\":114.200996,\"index\":\"2012-06-26T16:10:24.000Z\"},{\"passenger\":0,\"speed\":37,\"heading\":225,\"latitude\":22.648867,\"longitude\":114.200996,\"index\":\"2012-06-26T16:10:25.000Z\"},{\"passenger\":0,\"speed\":37,\"heading\":225,\"latitude\":22.648867,\"longitude\":114.200996,\"index\":\"2012-06-26T16:10:26.000Z\"},{\"passenger\":0,\"speed\":21,\"heading\":225,\"latitude\":22.648382,\"longitude\":114.200401,\"index\":\"2012-06-26T16:10:33.000Z\"},{\"passenger\":0,\"speed\":21,\"heading\":225,\"latitude\":22.648382,\"longitude\":114.200401,\"index\":\"2012-06-26T16:10:34.000Z\"},{\"passenger\":0,\"speed\":21,\"heading\":225,\"latitude\":22.648382,\"longitude\":114.200401,\"index\":\"2012-06-26T16:10:35.000Z\"},{\"passenger\":0,\"speed\":21,\"heading\":225,\"latitude\":22.648382,\"longitude\":114.200401,\"index\":\"2012-06-26T16:10:36.000Z\"},{\"passenger\":0,\"speed\":6,\"heading\":180,\"latitude\":22.648251,\"longitude\":114.200233,\"index\":\"2012-06-26T16:10:43.000Z\"},{\"passenger\":0,\"speed\":6,\"heading\":180,\"latitude\":22.648251,\"longitude\":114.200233,\"index\":\"2012-06-26T16:10:44.000Z\"},{\"passenger\":0,\"speed\":6,\"heading\":180,\"latitude\":22.648251,\"longitude\":114.200233,\"index\":\"2012-06-26T16:10:45.000Z\"},{\"passenger\":0,\"speed\":6,\"heading\":180,\"latitude\":22.648251,\"longitude\":114.200233,\"index\":\"2012-06-26T16:10:46.000Z\"},{\"passenger\":0,\"speed\":24,\"heading\":225,\"latitude\":22.648132,\"longitude\":114.200081,\"index\":\"2012-06-26T16:10:53.000Z\"},{\"passenger\":0,\"speed\":24,\"heading\":225,\"latitude\":22.648132,\"longitude\":114.200081,\"index\":\"2012-06-26T16:10:54.000Z\"},{\"passenger\":0,\"speed\":24,\"heading\":225,\"latitude\":22.648132,\"longitude\":114.200081,\"index\":\"2012-06-26T16:10:55.000Z\"},{\"passenger\":0,\"speed\":24,\"heading\":225,\"latitude\":22.648132,\"longitude\":114.200081,\"index\":\"2012-06-26T16:10:56.000Z\"},{\"passenger\":0,\"speed\":52,\"heading\":225,\"latitude\":22.647449,\"longitude\":114.19912,\"index\":\"2012-06-26T16:11:03.000Z\"},{\"passenger\":0,\"speed\":52,\"heading\":225,\"latitude\":22.647449,\"longitude\":114.19912,\"index\":\"2012-06-26T16:11:04.000Z\"},{\"passenger\":0,\"speed\":52,\"heading\":225,\"latitude\":22.647449,\"longitude\":114.19912,\"index\":\"2012-06-26T16:11:05.000Z\"},{\"passenger\":0,\"speed\":52,\"heading\":225,\"latitude\":22.647449,\"longitude\":114.19912,\"index\":\"2012-06-26T16:11:06.000Z\"},{\"passenger\":0,\"speed\":58,\"heading\":225,\"latitude\":22.646633,\"longitude\":114.197952,\"index\":\"2012-06-26T16:11:13.000Z\"},{\"passenger\":0,\"speed\":58,\"heading\":225,\"latitude\":22.646633,\"longitude\":114.197952,\"index\":\"2012-06-26T16:11:14.000Z\"},{\"passenger\":0,\"speed\":58,\"heading\":225,\"latitude\":22.646633,\"longitude\":114.197952,\"index\":\"2012-06-26T16:11:15.000Z\"},{\"passenger\":0,\"speed\":58,\"heading\":225,\"latitude\":22.646633,\"longitude\":114.197952,\"index\":\"2012-06-26T16:11:16.000Z\"},{\"passenger\":0,\"speed\":64,\"heading\":225,\"latitude\":22.6458,\"longitude\":114.196671,\"index\":\"2012-06-26T16:11:23.000Z\"},{\"passenger\":0,\"speed\":64,\"heading\":225,\"latitude\":22.6458,\"longitude\":114.196671,\"index\":\"2012-06-26T16:11:24.000Z\"},{\"passenger\":0,\"speed\":64,\"heading\":225,\"latitude\":22.6458,\"longitude\":114.196671,\"index\":\"2012-06-26T16:11:25.000Z\"},{\"passenger\":0,\"speed\":64,\"heading\":225,\"latitude\":22.6458,\"longitude\":114.196671,\"index\":\"2012-06-26T16:11:26.000Z\"},{\"passenger\":0,\"speed\":59,\"heading\":225,\"latitude\":22.645067,\"longitude\":114.195198,\"index\":\"2012-06-26T16:11:33.000Z\"},{\"passenger\":0,\"speed\":59,\"heading\":225,\"latitude\":22.645067,\"longitude\":114.195198,\"index\":\"2012-06-26T16:11:34.000Z\"},{\"passenger\":0,\"speed\":59,\"heading\":225,\"latitude\":22.645067,\"longitude\":114.195198,\"index\":\"2012-06-26T16:11:35.000Z\"},{\"passenger\":0,\"speed\":59,\"heading\":225,\"latitude\":22.645067,\"longitude\":114.195198,\"index\":\"2012-06-26T16:11:36.000Z\"},{\"passenger\":0,\"speed\":7,\"heading\":225,\"latitude\":22.644917,\"longitude\":114.19458,\"index\":\"2012-06-26T16:11:43.000Z\"},{\"passenger\":0,\"speed\":7,\"heading\":225,\"latitude\":22.644917,\"longitude\":114.19458,\"index\":\"2012-06-26T16:11:44.000Z\"},{\"passenger\":0,\"speed\":7,\"heading\":225,\"latitude\":22.644917,\"longitude\":114.19458,\"index\":\"2012-06-26T16:11:45.000Z\"},{\"passenger\":0,\"speed\":7,\"heading\":225,\"latitude\":22.644917,\"longitude\":114.19458,\"index\":\"2012-06-26T16:11:46.000Z\"},{\"passenger\":0,\"speed\":0,\"heading\":225,\"latitude\":22.644882,\"longitude\":114.194603,\"index\":\"2012-06-26T16:11:53.000Z\"},{\"passenger\":0,\"speed\":0,\"heading\":225,\"latitude\":22.644882,\"longitude\":114.194603,\"index\":\"2012-06-26T16:11:54.000Z\"},{\"passenger\":0,\"speed\":0,\"heading\":225,\"latitude\":22.644882,\"longitude\":114.194603,\"index\":\"2012-06-26T16:11:55.000Z\"},{\"passenger\":0,\"speed\":0,\"heading\":225,\"latitude\":22.644882,\"longitude\":114.194603,\"index\":\"2012-06-26T16:11:56.000Z\"},{\"passenger\":0,\"speed\":25,\"heading\":225,\"latitude\":22.644833,\"longitude\":114.194336,\"index\":\"2012-06-26T16:12:11.000Z\"},{\"passenger\":0,\"speed\":25,\"heading\":225,\"latitude\":22.644833,\"longitude\":114.194336,\"index\":\"2012-06-26T16:12:12.000Z\"},{\"passenger\":0,\"speed\":25,\"heading\":225,\"latitude\":22.644833,\"longitude\":114.194336,\"index\":\"2012-06-26T16:12:13.000Z\"},{\"passenger\":0,\"speed\":25,\"heading\":225,\"latitude\":22.644833,\"longitude\":114.194336,\"index\":\"2012-06-26T16:12:14.000Z\"},{\"passenger\":0,\"speed\":28,\"heading\":225,\"latitude\":22.6448,\"longitude\":114.194199,\"index\":\"2012-06-26T16:12:15.000Z\"},{\"passenger\":0,\"speed\":28,\"heading\":225,\"latitude\":22.6448,\"longitude\":114.194199,\"index\":\"2012-06-26T16:12:16.000Z\"},{\"passenger\":0,\"speed\":43,\"heading\":225,\"latitude\":22.644567,\"longitude\":114.193199,\"index\":\"2012-06-26T16:12:23.000Z\"},{\"passenger\":0,\"speed\":43,\"heading\":225,\"latitude\":22.644567,\"longitude\":114.193199,\"index\":\"2012-06-26T16:12:24.000Z\"},{\"passenger\":0,\"speed\":43,\"heading\":225,\"latitude\":22.644567,\"longitude\":114.193199,\"index\":\"2012-06-26T16:12:25.000Z\"},{\"passenger\":0,\"speed\":43,\"heading\":225,\"latitude\":22.644567,\"longitude\":114.193199,\"index\":\"2012-06-26T16:12:26.000Z\"},{\"passenger\":0,\"speed\":42,\"heading\":225,\"latitude\":22.644367,\"longitude\":114.192215,\"index\":\"2012-06-26T16:12:33.000Z\"},{\"passenger\":0,\"speed\":42,\"heading\":225,\"latitude\":22.644367,\"longitude\":114.192215,\"index\":\"2012-06-26T16:12:34.000Z\"},{\"passenger\":0,\"speed\":42,\"heading\":225,\"latitude\":22.644367,\"longitude\":114.192215,\"index\":\"2012-06-26T16:12:35.000Z\"},{\"passenger\":0,\"speed\":42,\"heading\":225,\"latitude\":22.644367,\"longitude\":114.192215,\"index\":\"2012-06-26T16:12:36.000Z\"},{\"passenger\":0,\"speed\":53,\"heading\":225,\"latitude\":22.644083,\"longitude\":114.190948,\"index\":\"2012-06-26T16:12:43.000Z\"},{\"passenger\":0,\"speed\":53,\"heading\":225,\"latitude\":22.644083,\"longitude\":114.190948,\"index\":\"2012-06-26T16:12:44.000Z\"},{\"passenger\":0,\"speed\":53,\"heading\":225,\"latitude\":22.644083,\"longitude\":114.190948,\"index\":\"2012-06-26T16:12:45.000Z\"},{\"passenger\":0,\"speed\":53,\"heading\":225,\"latitude\":22.644083,\"longitude\":114.190948,\"index\":\"2012-06-26T16:12:46.000Z\"},{\"passenger\":0,\"speed\":74,\"heading\":225,\"latitude\":22.643517,\"longitude\":114.189369,\"index\":\"2012-06-26T16:12:53.000Z\"},{\"passenger\":0,\"speed\":74,\"heading\":225,\"latitude\":22.643517,\"longitude\":114.189369,\"index\":\"2012-06-26T16:12:54.000Z\"},{\"passenger\":0,\"speed\":74,\"heading\":225,\"latitude\":22.643517,\"longitude\":114.189369,\"index\":\"2012-06-26T16:12:55.000Z\"},{\"passenger\":0,\"speed\":74,\"heading\":225,\"latitude\":22.643517,\"longitude\":114.189369,\"index\":\"2012-06-26T16:12:56.000Z\"},{\"passenger\":0,\"speed\":74,\"heading\":225,\"latitude\":22.642651,\"longitude\":114.187683,\"index\":\"2012-06-26T16:13:03.000Z\"},{\"passenger\":0,\"speed\":74,\"heading\":225,\"latitude\":22.642651,\"longitude\":114.187683,\"index\":\"2012-06-26T16:13:04.000Z\"},{\"passenger\":0,\"speed\":74,\"heading\":225,\"latitude\":22.642651,\"longitude\":114.187683,\"index\":\"2012-06-26T16:13:05.000Z\"},{\"passenger\":0,\"speed\":74,\"heading\":225,\"latitude\":22.642651,\"longitude\":114.187683,\"index\":\"2012-06-26T16:13:06.000Z\"},{\"passenger\":0,\"speed\":75,\"heading\":225,\"latitude\":22.641783,\"longitude\":114.185997,\"index\":\"2012-06-26T16:13:13.000Z\"},{\"passenger\":0,\"speed\":75,\"heading\":225,\"latitude\":22.641783,\"longitude\":114.185997,\"index\":\"2012-06-26T16:13:14.000Z\"},{\"passenger\":0,\"speed\":75,\"heading\":225,\"latitude\":22.641783,\"longitude\":114.185997,\"index\":\"2012-06-26T16:13:15.000Z\"},{\"passenger\":0,\"speed\":75,\"heading\":225,\"latitude\":22.641783,\"longitude\":114.185997,\"index\":\"2012-06-26T16:13:16.000Z\"},{\"passenger\":0,\"speed\":70,\"heading\":225,\"latitude\":22.640917,\"longitude\":114.184319,\"index\":\"2012-06-26T16:13:23.000Z\"},{\"passenger\":0,\"speed\":70,\"heading\":225,\"latitude\":22.640917,\"longitude\":114.184319,\"index\":\"2012-06-26T16:13:24.000Z\"},{\"passenger\":0,\"speed\":70,\"heading\":225,\"latitude\":22.640917,\"longitude\":114.184319,\"index\":\"2012-06-26T16:13:25.000Z\"},{\"passenger\":0,\"speed\":70,\"heading\":225,\"latitude\":22.640917,\"longitude\":114.184319,\"index\":\"2012-06-26T16:13:26.000Z\"},{\"passenger\":0,\"speed\":21,\"heading\":225,\"latitude\":22.640383,\"longitude\":114.183334,\"index\":\"2012-06-26T16:13:33.000Z\"},{\"passenger\":0,\"speed\":21,\"heading\":225,\"latitude\":22.640383,\"longitude\":114.183334,\"index\":\"2012-06-26T16:13:34.000Z\"},{\"passenger\":0,\"speed\":21,\"heading\":225,\"latitude\":22.640383,\"longitude\":114.183334,\"index\":\"2012-06-26T16:13:35.000Z\"},{\"passenger\":0,\"speed\":21,\"heading\":225,\"latitude\":22.640383,\"longitude\":114.183334,\"index\":\"2012-06-26T16:13:36.000Z\"},{\"passenger\":0,\"speed\":0,\"heading\":225,\"latitude\":22.640383,\"longitude\":114.183334,\"index\":\"2012-06-26T16:13:43.000Z\"},{\"passenger\":0,\"speed\":0,\"heading\":225,\"latitude\":22.640383,\"longitude\":114.183334,\"index\":\"2012-06-26T16:13:44.000Z\"},{\"passenger\":0,\"speed\":0,\"heading\":225,\"latitude\":22.640383,\"longitude\":114.183334,\"index\":\"2012-06-26T16:13:45.000Z\"},{\"passenger\":0,\"speed\":0,\"heading\":225,\"latitude\":22.640383,\"longitude\":114.183334,\"index\":\"2012-06-26T16:13:46.000Z\"},{\"passenger\":0,\"speed\":0,\"heading\":225,\"latitude\":22.6404,\"longitude\":114.183319,\"index\":\"2012-06-26T16:14:03.000Z\"},{\"passenger\":0,\"speed\":0,\"heading\":225,\"latitude\":22.6404,\"longitude\":114.183319,\"index\":\"2012-06-26T16:14:04.000Z\"},{\"passenger\":0,\"speed\":0,\"heading\":225,\"latitude\":22.6404,\"longitude\":114.183319,\"index\":\"2012-06-26T16:14:05.000Z\"},{\"passenger\":0,\"speed\":0,\"heading\":225,\"latitude\":22.6404,\"longitude\":114.183319,\"index\":\"2012-06-26T16:14:06.000Z\"},{\"passenger\":0,\"speed\":24,\"heading\":225,\"latitude\":22.640333,\"longitude\":114.183052,\"index\":\"2012-06-26T16:14:13.000Z\"},{\"passenger\":0,\"speed\":24,\"heading\":225,\"latitude\":22.640333,\"longitude\":114.183052,\"index\":\"2012-06-26T16:14:14.000Z\"},{\"passenger\":0,\"speed\":24,\"heading\":225,\"latitude\":22.640333,\"longitude\":114.183052,\"index\":\"2012-06-26T16:14:15.000Z\"},{\"passenger\":0,\"speed\":24,\"heading\":225,\"latitude\":22.640333,\"longitude\":114.183052,\"index\":\"2012-06-26T16:14:16.000Z\"},{\"passenger\":0,\"speed\":69,\"heading\":225,\"latitude\":22.639032,\"longitude\":114.180634,\"index\":\"2012-06-26T16:14:33.000Z\"},{\"passenger\":0,\"speed\":69,\"heading\":225,\"latitude\":22.639032,\"longitude\":114.180634,\"index\":\"2012-06-26T16:14:34.000Z\"},{\"passenger\":0,\"speed\":69,\"heading\":225,\"latitude\":22.639032,\"longitude\":114.180634,\"index\":\"2012-06-26T16:14:35.000Z\"},{\"passenger\":0,\"speed\":69,\"heading\":225,\"latitude\":22.639032,\"longitude\":114.180634,\"index\":\"2012-06-26T16:14:36.000Z\"},{\"passenger\":0,\"speed\":71,\"heading\":225,\"latitude\":22.638201,\"longitude\":114.179131,\"index\":\"2012-06-26T16:14:43.000Z\"},{\"passenger\":0,\"speed\":71,\"heading\":225,\"latitude\":22.638201,\"longitude\":114.179131,\"index\":\"2012-06-26T16:14:44.000Z\"},{\"passenger\":0,\"speed\":71,\"heading\":225,\"latitude\":22.638201,\"longitude\":114.179131,\"index\":\"2012-06-26T16:14:45.000Z\"},{\"passenger\":0,\"speed\":71,\"heading\":225,\"latitude\":22.638201,\"longitude\":114.179131,\"index\":\"2012-06-26T16:14:46.000Z\"},{\"passenger\":0,\"speed\":65,\"heading\":225,\"latitude\":22.63765,\"longitude\":114.177803,\"index\":\"2012-06-26T16:14:51.000Z\"},{\"passenger\":0,\"speed\":65,\"heading\":225,\"latitude\":22.63765,\"longitude\":114.177803,\"index\":\"2012-06-26T16:14:52.000Z\"},{\"passenger\":0,\"speed\":65,\"heading\":225,\"latitude\":22.63765,\"longitude\":114.177803,\"index\":\"2012-06-26T16:14:53.000Z\"},{\"passenger\":0,\"speed\":65,\"heading\":225,\"latitude\":22.63765,\"longitude\":114.177803,\"index\":\"2012-06-26T16:14:54.000Z\"},{\"passenger\":0,\"speed\":68,\"heading\":225,\"latitude\":22.637318,\"longitude\":114.175949,\"index\":\"2012-06-26T16:15:03.000Z\"},{\"passenger\":0,\"speed\":68,\"heading\":225,\"latitude\":22.637318,\"longitude\":114.175949,\"index\":\"2012-06-26T16:15:04.000Z\"},{\"passenger\":0,\"speed\":68,\"heading\":225,\"latitude\":22.637318,\"longitude\":114.175949,\"index\":\"2012-06-26T16:15:05.000Z\"},{\"passenger\":0,\"speed\":68,\"heading\":225,\"latitude\":22.637318,\"longitude\":114.175949,\"index\":\"2012-06-26T16:15:06.000Z\"},{\"passenger\":0,\"speed\":65,\"heading\":225,\"latitude\":22.637033,\"longitude\":114.174133,\"index\":\"2012-06-26T16:15:13.000Z\"},{\"passenger\":0,\"speed\":65,\"heading\":225,\"latitude\":22.637033,\"longitude\":114.174133,\"index\":\"2012-06-26T16:15:14.000Z\"},{\"passenger\":0,\"speed\":65,\"heading\":225,\"latitude\":22.637033,\"longitude\":114.174133,\"index\":\"2012-06-26T16:15:15.000Z\"},{\"passenger\":0,\"speed\":65,\"heading\":225,\"latitude\":22.637033,\"longitude\":114.174133,\"index\":\"2012-06-26T16:15:16.000Z\"},{\"passenger\":0,\"speed\":48,\"heading\":225,\"latitude\":22.636833,\"longitude\":114.173035,\"index\":\"2012-06-26T16:15:21.000Z\"},{\"passenger\":0,\"speed\":48,\"heading\":225,\"latitude\":22.636833,\"longitude\":114.173035,\"index\":\"2012-06-26T16:15:22.000Z\"},{\"passenger\":0,\"speed\":48,\"heading\":225,\"latitude\":22.636833,\"longitude\":114.173035,\"index\":\"2012-06-26T16:15:23.000Z\"},{\"passenger\":0,\"speed\":48,\"heading\":225,\"latitude\":22.636833,\"longitude\":114.173035,\"index\":\"2012-06-26T16:15:24.000Z\"},{\"passenger\":0,\"speed\":44,\"heading\":225,\"latitude\":22.636818,\"longitude\":114.172798,\"index\":\"2012-06-26T16:15:25.000Z\"},{\"passenger\":0,\"speed\":44,\"heading\":225,\"latitude\":22.636818,\"longitude\":114.172798,\"index\":\"2012-06-26T16:15:26.000Z\"},{\"passenger\":0,\"speed\":59,\"heading\":225,\"latitude\":22.636618,\"longitude\":114.171516,\"index\":\"2012-06-26T16:15:33.000Z\"},{\"passenger\":0,\"speed\":59,\"heading\":225,\"latitude\":22.636618,\"longitude\":114.171516,\"index\":\"2012-06-26T16:15:34.000Z\"},{\"passenger\":0,\"speed\":59,\"heading\":225,\"latitude\":22.636618,\"longitude\":114.171516,\"index\":\"2012-06-26T16:15:35.000Z\"},{\"passenger\":0,\"speed\":59,\"heading\":225,\"latitude\":22.636618,\"longitude\":114.171516,\"index\":\"2012-06-26T16:15:36.000Z\"},{\"passenger\":0,\"speed\":90,\"heading\":225,\"latitude\":22.6359,\"longitude\":114.167603,\"index\":\"2012-06-26T16:15:53.000Z\"},{\"passenger\":0,\"speed\":90,\"heading\":225,\"latitude\":22.6359,\"longitude\":114.167603,\"index\":\"2012-06-26T16:15:54.000Z\"},{\"passenger\":0,\"speed\":90,\"heading\":225,\"latitude\":22.6359,\"longitude\":114.167603,\"index\":\"2012-06-26T16:15:55.000Z\"},{\"passenger\":0,\"speed\":90,\"heading\":225,\"latitude\":22.6359,\"longitude\":114.167603,\"index\":\"2012-06-26T16:15:56.000Z\"},{\"passenger\":0,\"speed\":84,\"heading\":225,\"latitude\":22.632982,\"longitude\":114.160934,\"index\":\"2012-06-26T16:16:27.000Z\"},{\"passenger\":0,\"speed\":24,\"heading\":225,\"latitude\":22.631416,\"longitude\":114.158669,\"index\":\"2012-06-26T16:16:43.000Z\"},{\"passenger\":0,\"speed\":16,\"heading\":180,\"latitude\":22.631184,\"longitude\":114.158485,\"index\":\"2012-06-26T16:16:53.000Z\"},{\"passenger\":0,\"speed\":2,\"heading\":225,\"latitude\":22.631149,\"longitude\":114.158501,\"index\":\"2012-06-26T16:17:03.000Z\"},{\"passenger\":0,\"speed\":0,\"heading\":0,\"latitude\":22.631166,\"longitude\":114.158485,\"index\":\"2012-06-26T16:17:21.000Z\"},{\"passenger\":0,\"speed\":0,\"heading\":0,\"latitude\":22.631184,\"longitude\":114.158485,\"index\":\"2012-06-26T16:17:23.000Z\"},{\"passenger\":0,\"speed\":0,\"heading\":0,\"latitude\":22.631184,\"longitude\":114.158485,\"index\":\"2012-06-26T16:17:33.000Z\"},{\"passenger\":0,\"speed\":0,\"heading\":0,\"latitude\":22.631166,\"longitude\":114.158485,\"index\":\"2012-06-26T16:17:43.000Z\"},{\"passenger\":0,\"speed\":13,\"heading\":225,\"latitude\":22.631001,\"longitude\":114.158279,\"index\":\"2012-06-26T16:17:53.000Z\"},{\"passenger\":0,\"speed\":6,\"heading\":315,\"latitude\":22.630934,\"longitude\":114.158096,\"index\":\"2012-06-26T16:18:03.000Z\"},{\"passenger\":0,\"speed\":0,\"heading\":315,\"latitude\":22.631083,\"longitude\":114.158096,\"index\":\"2012-06-26T16:18:33.000Z\"},{\"passenger\":0,\"speed\":2,\"heading\":315,\"latitude\":22.631018,\"longitude\":114.158119,\"index\":\"2012-06-26T16:18:43.000Z\"},{\"passenger\":0,\"speed\":3,\"heading\":135,\"latitude\":22.630934,\"longitude\":114.158134,\"index\":\"2012-06-26T16:18:53.000Z\"},{\"passenger\":0,\"speed\":6,\"heading\":135,\"latitude\":22.630899,\"longitude\":114.15815,\"index\":\"2012-06-26T16:19:33.000Z\"},{\"passenger\":0,\"speed\":3,\"heading\":315,\"latitude\":22.630951,\"longitude\":114.158165,\"index\":\"2012-06-26T16:19:43.000Z\"},{\"passenger\":0,\"speed\":1,\"heading\":270,\"latitude\":22.630917,\"longitude\":114.158134,\"index\":\"2012-06-26T16:19:53.000Z\"},{\"passenger\":0,\"speed\":3,\"heading\":135,\"latitude\":22.630966,\"longitude\":114.158203,\"index\":\"2012-06-26T16:20:13.000Z\"},{\"passenger\":0,\"speed\":70,\"heading\":180,\"latitude\":22.628918,\"longitude\":114.156502,\"index\":\"2012-06-26T16:21:03.000Z\"},{\"passenger\":0,\"speed\":79,\"heading\":180,\"latitude\":22.627317,\"longitude\":114.155418,\"index\":\"2012-06-26T16:21:13.000Z\"},{\"passenger\":0,\"speed\":85,\"heading\":225,\"latitude\":22.623318,\"longitude\":114.149185,\"index\":\"2012-06-26T16:21:49.000Z\"},{\"passenger\":0,\"speed\":83,\"heading\":225,\"latitude\":22.623167,\"longitude\":114.148369,\"index\":\"2012-06-26T16:21:53.000Z\"},{\"passenger\":0,\"speed\":79,\"heading\":225,\"latitude\":22.622967,\"longitude\":114.147102,\"index\":\"2012-06-26T16:21:59.000Z\"},{\"passenger\":0,\"speed\":79,\"heading\":225,\"latitude\":22.6229,\"longitude\":114.146698,\"index\":\"2012-06-26T16:22:01.000Z\"},{\"passenger\":0,\"speed\":78,\"heading\":225,\"latitude\":22.62285,\"longitude\":114.146301,\"index\":\"2012-06-26T16:22:03.000Z\"},{\"passenger\":0,\"speed\":84,\"heading\":225,\"latitude\":22.622618,\"longitude\":114.144203,\"index\":\"2012-06-26T16:22:13.000Z\"},{\"passenger\":0,\"speed\":58,\"heading\":225,\"latitude\":22.622566,\"longitude\":114.14283,\"index\":\"2012-06-26T16:22:21.000Z\"},{\"passenger\":0,\"speed\":58,\"heading\":270,\"latitude\":22.622583,\"longitude\":114.142532,\"index\":\"2012-06-26T16:22:23.000Z\"},{\"passenger\":0,\"speed\":82,\"heading\":225,\"latitude\":22.622232,\"longitude\":114.13887,\"index\":\"2012-06-26T16:22:43.000Z\"},{\"passenger\":0,\"speed\":42,\"heading\":225,\"latitude\":22.621401,\"longitude\":114.137283,\"index\":\"2012-06-26T16:23:03.000Z\"},{\"passenger\":0,\"speed\":73,\"heading\":180,\"latitude\":22.620417,\"longitude\":114.136131,\"index\":\"2012-06-26T16:23:13.000Z\"},{\"passenger\":0,\"speed\":71,\"heading\":180,\"latitude\":22.619133,\"longitude\":114.134819,\"index\":\"2012-06-26T16:23:23.000Z\"},{\"passenger\":0,\"speed\":0,\"heading\":270,\"latitude\":22.611116,\"longitude\":114.120384,\"index\":\"2012-06-26T16:26:18.000Z\"},{\"passenger\":0,\"speed\":0,\"heading\":270,\"latitude\":22.611082,\"longitude\":114.120384,\"index\":\"2012-06-26T16:26:24.000Z\"},{\"passenger\":0,\"speed\":15,\"heading\":315,\"latitude\":22.611134,\"longitude\":114.120316,\"index\":\"2012-06-26T16:26:44.000Z\"},{\"passenger\":0,\"speed\":33,\"heading\":225,\"latitude\":22.611233,\"longitude\":114.119781,\"index\":\"2012-06-26T16:26:54.000Z\"},{\"passenger\":0,\"speed\":59,\"heading\":225,\"latitude\":22.61055,\"longitude\":114.118767,\"index\":\"2012-06-26T16:27:04.000Z\"},{\"passenger\":0,\"speed\":69,\"heading\":225,\"latitude\":22.6098,\"longitude\":114.11718,\"index\":\"2012-06-26T16:27:14.000Z\"},{\"passenger\":0,\"speed\":72,\"heading\":225,\"latitude\":22.609583,\"longitude\":114.115669,\"index\":\"2012-06-26T16:27:22.000Z\"},{\"passenger\":0,\"speed\":69,\"heading\":225,\"latitude\":22.609583,\"longitude\":114.115318,\"index\":\"2012-06-26T16:27:24.000Z\"},{\"passenger\":0,\"speed\":69,\"heading\":225,\"latitude\":22.60955,\"longitude\":114.113853,\"index\":\"2012-06-26T16:27:32.000Z\"},{\"passenger\":0,\"speed\":68,\"heading\":270,\"latitude\":22.609568,\"longitude\":114.113503,\"index\":\"2012-06-26T16:27:34.000Z\"},{\"passenger\":0,\"speed\":67,\"heading\":225,\"latitude\":22.609449,\"longitude\":114.111786,\"index\":\"2012-06-26T16:27:44.000Z\"}]'"
      ]
     },
     "execution_count": 35,
     "metadata": {},
     "output_type": "execute_result"
    }
   ],
   "source": [
    "taxi.loc[:,'index'] = taxi.index\n",
    "taxi[:20].to_json(\n",
    "    date_format='iso', orient='records'\n",
    ")"
   ]
  },
  {
   "cell_type": "markdown",
   "metadata": {},
   "source": [
    "Another thing that is required is to filter out duplicate data as it seems this is common.  For purposes of taxi data, it is impossible to have the same taxi at two different locations.  This is true at least for as long as scientists are still refining the whole quantum mechanics thing.  We need to verify duplicates on both the time and the data values.  Where those two criteria are the same we can safely drop the row because it does not violate our constraint (or being in only one state at each given time).  After dropping the exact duplicate rows we check again for duplicate times to verify the data is good."
   ]
  },
  {
   "cell_type": "markdown",
   "metadata": {},
   "source": [
    "If there are dups in the data, this will print those duplicates.  It only prints the duplicate records so if there are two copies in the data only one is shown here.  If there are three copies in the data then there will be three records shown here."
   ]
  },
  {
   "cell_type": "markdown",
   "metadata": {},
   "source": [
    "With those items down, it is possible to iterate the groups to perform processing of each taxi one-by-one.  The code below just illustrates the looping logic.  Later sections detail additional processing at the taxi level that would replace the contents of process_taxi.  Note that the data has all duplicates removed and is sorted by timestamp in the main processing loop."
   ]
  },
  {
   "cell_type": "code",
   "execution_count": 36,
   "metadata": {
    "collapsed": false
   },
   "outputs": [
    {
     "name": "stdout",
     "output_type": "stream",
     "text": [
      "There are 21071 taxis\n"
     ]
    },
    {
     "ename": "KeyboardInterrupt",
     "evalue": "",
     "output_type": "error",
     "traceback": [
      "\u001b[0;31m---------------------------------------------------------------------------\u001b[0m",
      "\u001b[0;31mKeyboardInterrupt\u001b[0m                         Traceback (most recent call last)",
      "\u001b[0;32m<ipython-input-36-523ee6d28376>\u001b[0m in \u001b[0;36m<module>\u001b[0;34m()\u001b[0m\n\u001b[1;32m     36\u001b[0m \u001b[0;34m\u001b[0m\u001b[0m\n\u001b[1;32m     37\u001b[0m \u001b[0mstart_time\u001b[0m \u001b[0;34m=\u001b[0m \u001b[0mdatetime\u001b[0m\u001b[0;34m.\u001b[0m\u001b[0mnow\u001b[0m\u001b[0;34m(\u001b[0m\u001b[0;34m)\u001b[0m\u001b[0;34m\u001b[0m\u001b[0m\n\u001b[0;32m---> 38\u001b[0;31m \u001b[0mprocess_data\u001b[0m\u001b[0;34m(\u001b[0m\u001b[0mdf\u001b[0m\u001b[0;34m,\u001b[0m \u001b[0mcount_dups\u001b[0m\u001b[0;34m)\u001b[0m\u001b[0;34m\u001b[0m\u001b[0m\n\u001b[0m\u001b[1;32m     39\u001b[0m \u001b[0mprint\u001b[0m\u001b[0;34m(\u001b[0m\u001b[0mdatetime\u001b[0m\u001b[0;34m.\u001b[0m\u001b[0mnow\u001b[0m\u001b[0;34m(\u001b[0m\u001b[0;34m)\u001b[0m \u001b[0;34m-\u001b[0m \u001b[0mstart_time\u001b[0m\u001b[0;34m)\u001b[0m\u001b[0;34m\u001b[0m\u001b[0m\n\u001b[1;32m     40\u001b[0m \u001b[0;34m\u001b[0m\u001b[0m\n",
      "\u001b[0;32m<ipython-input-36-523ee6d28376>\u001b[0m in \u001b[0;36mprocess_data\u001b[0;34m(df, f)\u001b[0m\n\u001b[1;32m     33\u001b[0m     \u001b[0;32mfor\u001b[0m \u001b[0mtaxi_id\u001b[0m\u001b[0;34m,\u001b[0m \u001b[0mdata\u001b[0m \u001b[0;32min\u001b[0m \u001b[0mtaxis\u001b[0m\u001b[0;34m:\u001b[0m\u001b[0;34m\u001b[0m\u001b[0m\n\u001b[1;32m     34\u001b[0m         \u001b[0mdata\u001b[0m \u001b[0;34m=\u001b[0m \u001b[0mdata\u001b[0m\u001b[0;34m.\u001b[0m\u001b[0msort_index\u001b[0m\u001b[0;34m(\u001b[0m\u001b[0;34m)\u001b[0m\u001b[0;34m\u001b[0m\u001b[0m\n\u001b[0;32m---> 35\u001b[0;31m         \u001b[0mf\u001b[0m\u001b[0;34m(\u001b[0m\u001b[0mtaxi_id\u001b[0m\u001b[0;34m,\u001b[0m \u001b[0mno_dups\u001b[0m\u001b[0;34m)\u001b[0m\u001b[0;34m\u001b[0m\u001b[0m\n\u001b[0m\u001b[1;32m     36\u001b[0m \u001b[0;34m\u001b[0m\u001b[0m\n\u001b[1;32m     37\u001b[0m \u001b[0mstart_time\u001b[0m \u001b[0;34m=\u001b[0m \u001b[0mdatetime\u001b[0m\u001b[0;34m.\u001b[0m\u001b[0mnow\u001b[0m\u001b[0;34m(\u001b[0m\u001b[0;34m)\u001b[0m\u001b[0;34m\u001b[0m\u001b[0m\n",
      "\u001b[0;32m<ipython-input-36-523ee6d28376>\u001b[0m in \u001b[0;36mcount_dups\u001b[0;34m(taxi_id, data)\u001b[0m\n\u001b[1;32m     21\u001b[0m \u001b[0;32mdef\u001b[0m \u001b[0mcount_dups\u001b[0m\u001b[0;34m(\u001b[0m\u001b[0mtaxi_id\u001b[0m\u001b[0;34m,\u001b[0m \u001b[0mdata\u001b[0m\u001b[0;34m)\u001b[0m\u001b[0;34m:\u001b[0m\u001b[0;34m\u001b[0m\u001b[0m\n\u001b[1;32m     22\u001b[0m     \u001b[0;34m\"\"\" Counts the taxis in the data that have duplicate timestamps with different data \"\"\"\u001b[0m\u001b[0;34m\u001b[0m\u001b[0m\n\u001b[0;32m---> 23\u001b[0;31m     \u001b[0;32mif\u001b[0m \u001b[0mcheck_dups\u001b[0m\u001b[0;34m(\u001b[0m\u001b[0mdata\u001b[0m\u001b[0;34m)\u001b[0m\u001b[0;34m:\u001b[0m\u001b[0;34m\u001b[0m\u001b[0m\n\u001b[0m\u001b[1;32m     24\u001b[0m         \u001b[0mcount_dups\u001b[0m\u001b[0;34m.\u001b[0m\u001b[0mnum_dups\u001b[0m \u001b[0;34m+=\u001b[0m \u001b[0;36m1\u001b[0m\u001b[0;34m\u001b[0m\u001b[0m\n\u001b[1;32m     25\u001b[0m         \u001b[0mcount_dups\u001b[0m\u001b[0;34m.\u001b[0m\u001b[0md\u001b[0m \u001b[0;34m=\u001b[0m \u001b[0mtaxi_id\u001b[0m\u001b[0;34m,\u001b[0m \u001b[0mdata\u001b[0m\u001b[0;34m\u001b[0m\u001b[0m\n",
      "\u001b[0;32m<ipython-input-36-523ee6d28376>\u001b[0m in \u001b[0;36mcheck_dups\u001b[0;34m(d)\u001b[0m\n\u001b[1;32m     17\u001b[0m     \u001b[0;34m:\u001b[0m\u001b[0;32mreturn\u001b[0m\u001b[0;34m:\u001b[0m \u001b[0;32mTrue\u001b[0m \u001b[0;32mif\u001b[0m \u001b[0mthere\u001b[0m \u001b[0mare\u001b[0m \u001b[0mduplicates\u001b[0m \u001b[0;32min\u001b[0m \u001b[0mthe\u001b[0m \u001b[0mindex\u001b[0m\u001b[0;34m\u001b[0m\u001b[0m\n\u001b[1;32m     18\u001b[0m     \"\"\"\n\u001b[0;32m---> 19\u001b[0;31m     \u001b[0;32mreturn\u001b[0m \u001b[0md\u001b[0m\u001b[0;34m.\u001b[0m\u001b[0mindex\u001b[0m\u001b[0;34m.\u001b[0m\u001b[0mduplicated\u001b[0m\u001b[0;34m(\u001b[0m\u001b[0;34m)\u001b[0m\u001b[0;34m.\u001b[0m\u001b[0many\u001b[0m\u001b[0;34m(\u001b[0m\u001b[0;34m)\u001b[0m\u001b[0;34m\u001b[0m\u001b[0m\n\u001b[0m\u001b[1;32m     20\u001b[0m \u001b[0;34m\u001b[0m\u001b[0m\n\u001b[1;32m     21\u001b[0m \u001b[0;32mdef\u001b[0m \u001b[0mcount_dups\u001b[0m\u001b[0;34m(\u001b[0m\u001b[0mtaxi_id\u001b[0m\u001b[0;34m,\u001b[0m \u001b[0mdata\u001b[0m\u001b[0;34m)\u001b[0m\u001b[0;34m:\u001b[0m\u001b[0;34m\u001b[0m\u001b[0m\n",
      "\u001b[0;32m/home/dingbat/src/taxi/venv/lib/python3.5/site-packages/pandas/util/decorators.py\u001b[0m in \u001b[0;36mwrapper\u001b[0;34m(*args, **kwargs)\u001b[0m\n\u001b[1;32m     89\u001b[0m                 \u001b[0;32melse\u001b[0m\u001b[0;34m:\u001b[0m\u001b[0;34m\u001b[0m\u001b[0m\n\u001b[1;32m     90\u001b[0m                     \u001b[0mkwargs\u001b[0m\u001b[0;34m[\u001b[0m\u001b[0mnew_arg_name\u001b[0m\u001b[0;34m]\u001b[0m \u001b[0;34m=\u001b[0m \u001b[0mnew_arg_value\u001b[0m\u001b[0;34m\u001b[0m\u001b[0m\n\u001b[0;32m---> 91\u001b[0;31m             \u001b[0;32mreturn\u001b[0m \u001b[0mfunc\u001b[0m\u001b[0;34m(\u001b[0m\u001b[0;34m*\u001b[0m\u001b[0margs\u001b[0m\u001b[0;34m,\u001b[0m \u001b[0;34m**\u001b[0m\u001b[0mkwargs\u001b[0m\u001b[0;34m)\u001b[0m\u001b[0;34m\u001b[0m\u001b[0m\n\u001b[0m\u001b[1;32m     92\u001b[0m         \u001b[0;32mreturn\u001b[0m \u001b[0mwrapper\u001b[0m\u001b[0;34m\u001b[0m\u001b[0m\n\u001b[1;32m     93\u001b[0m     \u001b[0;32mreturn\u001b[0m \u001b[0m_deprecate_kwarg\u001b[0m\u001b[0;34m\u001b[0m\u001b[0m\n",
      "\u001b[0;32m/home/dingbat/src/taxi/venv/lib/python3.5/site-packages/pandas/indexes/multi.py\u001b[0m in \u001b[0;36mduplicated\u001b[0;34m(self, keep)\u001b[0m\n\u001b[1;32m    583\u001b[0m         \u001b[0mids\u001b[0m \u001b[0;34m=\u001b[0m \u001b[0mget_group_index\u001b[0m\u001b[0;34m(\u001b[0m\u001b[0mself\u001b[0m\u001b[0;34m.\u001b[0m\u001b[0mlabels\u001b[0m\u001b[0;34m,\u001b[0m \u001b[0mshape\u001b[0m\u001b[0;34m,\u001b[0m \u001b[0msort\u001b[0m\u001b[0;34m=\u001b[0m\u001b[0;32mFalse\u001b[0m\u001b[0;34m,\u001b[0m \u001b[0mxnull\u001b[0m\u001b[0;34m=\u001b[0m\u001b[0;32mFalse\u001b[0m\u001b[0;34m)\u001b[0m\u001b[0;34m\u001b[0m\u001b[0m\n\u001b[1;32m    584\u001b[0m \u001b[0;34m\u001b[0m\u001b[0m\n\u001b[0;32m--> 585\u001b[0;31m         \u001b[0;32mreturn\u001b[0m \u001b[0mduplicated_int64\u001b[0m\u001b[0;34m(\u001b[0m\u001b[0mids\u001b[0m\u001b[0;34m,\u001b[0m \u001b[0mkeep\u001b[0m\u001b[0;34m)\u001b[0m\u001b[0;34m\u001b[0m\u001b[0m\n\u001b[0m\u001b[1;32m    586\u001b[0m \u001b[0;34m\u001b[0m\u001b[0m\n\u001b[1;32m    587\u001b[0m     \u001b[0;34m@\u001b[0m\u001b[0mAppender\u001b[0m\u001b[0;34m(\u001b[0m\u001b[0mibase\u001b[0m\u001b[0;34m.\u001b[0m\u001b[0m_index_shared_docs\u001b[0m\u001b[0;34m[\u001b[0m\u001b[0;34m'fillna'\u001b[0m\u001b[0;34m]\u001b[0m\u001b[0;34m)\u001b[0m\u001b[0;34m\u001b[0m\u001b[0m\n",
      "\u001b[0;31mKeyboardInterrupt\u001b[0m: "
     ]
    }
   ],
   "source": [
    "# This cell takes a while to execute if there are a lot of samples (i.e. it has to churn through the data)\n",
    "print('There are {} taxis'.format(len(taxis)))\n",
    "\n",
    "def remove_safe_dups(d):\n",
    "    \"\"\"\n",
    "    :param d: The dataframe to check, must have indicies of taxi ID and timetstamp\n",
    "    :return: The dataframe with the exact duplicate rows removed\n",
    "    \"\"\"\n",
    "    dups_data = d.duplicated()\n",
    "    dups_index = d.index.duplicated()\n",
    "    dups = dups_data & dups_index\n",
    "    return d[~dups]\n",
    "\n",
    "def check_dups(d):\n",
    "    \"\"\"\n",
    "    :param d: The dataframe to check, must have indicies of taxi ID and timetstamp\n",
    "    :return: True if there are duplicates in the index\n",
    "    \"\"\"\n",
    "    return d.index.duplicated().any()\n",
    "\n",
    "def count_dups(taxi_id, data):\n",
    "    \"\"\" Counts the taxis in the data that have duplicate timestamps with different data \"\"\"\n",
    "    if check_dups(data):\n",
    "        count_dups.num_dups += 1\n",
    "        count_dups.d = taxi_id, data      \n",
    "count_dups.d = None\n",
    "count_dups.num_dups = 0\n",
    "\n",
    "def process_data(df, f):\n",
    "    \"\"\" Iterates the dataframe by partitioning into individual taxis \"\"\"\n",
    "    no_dups = remove_safe_dups(df)\n",
    "    taxis = no_dups.groupby(level='common_id', sort=False)\n",
    "    for taxi_id, data in taxis:\n",
    "        data = data.sort_index()\n",
    "        f(taxi_id, no_dups)\n",
    "\n",
    "start_time = datetime.now()\n",
    "process_data(df, count_dups)\n",
    "print(datetime.now() - start_time)\n",
    "\n",
    "print('{} taxis violate duplicate timestamp, different data constraint'.format(count_dups.num_dups))\n",
    "if count_dups.d is not None:\n",
    "    print('Sample data from Taxi ID:', count_dups.d[0])\n",
    "    sample_df(count_dups.d[1])"
   ]
  },
  {
   "cell_type": "code",
   "execution_count": 37,
   "metadata": {
    "collapsed": false
   },
   "outputs": [],
   "source": [
    "if count_dups.d is not None:\n",
    "    # Print duplicates that violate the constraints.\n",
    "    dups_data = count_dups.d[1].index.duplicated()\n",
    "    count_dups.d[1][dups_data]"
   ]
  },
  {
   "cell_type": "markdown",
   "metadata": {},
   "source": [
    "For subsequent processing we will remove the truly duplicate records from the data."
   ]
  },
  {
   "cell_type": "markdown",
   "metadata": {},
   "source": [
    "## Taxi Data Filtering\n",
    "\n",
    "There are certain things that require knowing that the data belongs to a single taxi.  This includes implausible filtering, which determines whether the data represents something that could have plausibly occurred.  This helps isolate the more extreme GPS jitter since positional information can be calculated to determine speed (the change in distance over time is speed.  So we detect where the taxi may have traveled more than 180km/hr (there are speed limits up to 160km/r).  This equates to 50m/s\n",
    "\n",
    "The plausible distance calculation is a little more involved as we need to calculate the distance traveled and the time between points.  The following function will calculate the haversince distance in kilometers between vectors of positions.  This will be used for data correction."
   ]
  },
  {
   "cell_type": "code",
   "execution_count": 38,
   "metadata": {
    "collapsed": false
   },
   "outputs": [],
   "source": [
    "def vector_haversine(df_lon_from, df_lat_from, df_lon_to, df_lat_to):    \n",
    "    dlon = df_lon_to - df_lon_from\n",
    "    dlat = df_lat_to - df_lat_from\n",
    "    a = np.sin(dlat/2) * np.sin(dlat/2) + np.cos(df_lat_from) * np.cos(df_lat_to) * np.sin(dlon/2)**2\n",
    "    c = 2 * np.arcsin(np.sqrt(a))\n",
    "    dist_meters = 6371.0 * c\n",
    "    return dist_meters"
   ]
  },
  {
   "cell_type": "markdown",
   "metadata": {},
   "source": [
    "Now we can apply the haversine formula to calculate the distances between points.  To do this as a vector operation the shift method will provide rows that line up for the vector calculations.\n",
    "1. shift(1) will provide the position from the previous point\n",
    "1. shift(-1) will provide the position to the next point\n",
    "\n",
    "To save on calculations, we calculate the distance in one direction (previous position to current) and then shift that distance calculation to obtain the distance to the next point in aligning vectors.  The first value becomes NaN so that is forced to zero so the point is preserved in subsequent calculations."
   ]
  },
  {
   "cell_type": "code",
   "execution_count": 39,
   "metadata": {
    "collapsed": false
   },
   "outputs": [
    {
     "name": "stderr",
     "output_type": "stream",
     "text": [
      "/home/dingbat/src/taxi/venv/lib/python3.5/site-packages/ipykernel/__main__.py:1: UserWarning: Boolean Series key will be reindexed to match DataFrame index.\n",
      "  if __name__ == '__main__':\n"
     ]
    },
    {
     "ename": "ValueError",
     "evalue": "cannot include dtype 'M' in a buffer",
     "output_type": "error",
     "traceback": [
      "\u001b[0;31m---------------------------------------------------------------------------\u001b[0m",
      "\u001b[0;31mValueError\u001b[0m                                Traceback (most recent call last)",
      "\u001b[0;32m<ipython-input-39-03f64f5ba325>\u001b[0m in \u001b[0;36m<module>\u001b[0;34m()\u001b[0m\n\u001b[0;32m----> 1\u001b[0;31m \u001b[0mfiltered_taxi\u001b[0m \u001b[0;34m=\u001b[0m \u001b[0mtaxi\u001b[0m\u001b[0;34m[\u001b[0m\u001b[0mfilter_bad_gps\u001b[0m\u001b[0;34m]\u001b[0m\u001b[0;34m\u001b[0m\u001b[0m\n\u001b[0m\u001b[1;32m      2\u001b[0m \u001b[0;34m\u001b[0m\u001b[0m\n\u001b[1;32m      3\u001b[0m \u001b[0mlon\u001b[0m \u001b[0;34m=\u001b[0m \u001b[0mfiltered_taxi\u001b[0m\u001b[0;34m.\u001b[0m\u001b[0mlongitude\u001b[0m\u001b[0;34m.\u001b[0m\u001b[0mmap\u001b[0m\u001b[0;34m(\u001b[0m\u001b[0mradians\u001b[0m\u001b[0;34m)\u001b[0m\u001b[0;34m\u001b[0m\u001b[0m\n\u001b[1;32m      4\u001b[0m \u001b[0mlat\u001b[0m \u001b[0;34m=\u001b[0m \u001b[0mfiltered_taxi\u001b[0m\u001b[0;34m.\u001b[0m\u001b[0mlatitude\u001b[0m\u001b[0;34m.\u001b[0m\u001b[0mmap\u001b[0m\u001b[0;34m(\u001b[0m\u001b[0mradians\u001b[0m\u001b[0;34m)\u001b[0m\u001b[0;34m\u001b[0m\u001b[0m\n\u001b[1;32m      5\u001b[0m \u001b[0;34m\u001b[0m\u001b[0m\n",
      "\u001b[0;32m/home/dingbat/src/taxi/venv/lib/python3.5/site-packages/pandas/core/frame.py\u001b[0m in \u001b[0;36m__getitem__\u001b[0;34m(self, key)\u001b[0m\n\u001b[1;32m   1989\u001b[0m         \u001b[0;32mif\u001b[0m \u001b[0misinstance\u001b[0m\u001b[0;34m(\u001b[0m\u001b[0mkey\u001b[0m\u001b[0;34m,\u001b[0m \u001b[0;34m(\u001b[0m\u001b[0mSeries\u001b[0m\u001b[0;34m,\u001b[0m \u001b[0mnp\u001b[0m\u001b[0;34m.\u001b[0m\u001b[0mndarray\u001b[0m\u001b[0;34m,\u001b[0m \u001b[0mIndex\u001b[0m\u001b[0;34m,\u001b[0m \u001b[0mlist\u001b[0m\u001b[0;34m)\u001b[0m\u001b[0;34m)\u001b[0m\u001b[0;34m:\u001b[0m\u001b[0;34m\u001b[0m\u001b[0m\n\u001b[1;32m   1990\u001b[0m             \u001b[0;31m# either boolean or fancy integer index\u001b[0m\u001b[0;34m\u001b[0m\u001b[0;34m\u001b[0m\u001b[0m\n\u001b[0;32m-> 1991\u001b[0;31m             \u001b[0;32mreturn\u001b[0m \u001b[0mself\u001b[0m\u001b[0;34m.\u001b[0m\u001b[0m_getitem_array\u001b[0m\u001b[0;34m(\u001b[0m\u001b[0mkey\u001b[0m\u001b[0;34m)\u001b[0m\u001b[0;34m\u001b[0m\u001b[0m\n\u001b[0m\u001b[1;32m   1992\u001b[0m         \u001b[0;32melif\u001b[0m \u001b[0misinstance\u001b[0m\u001b[0;34m(\u001b[0m\u001b[0mkey\u001b[0m\u001b[0;34m,\u001b[0m \u001b[0mDataFrame\u001b[0m\u001b[0;34m)\u001b[0m\u001b[0;34m:\u001b[0m\u001b[0;34m\u001b[0m\u001b[0m\n\u001b[1;32m   1993\u001b[0m             \u001b[0;32mreturn\u001b[0m \u001b[0mself\u001b[0m\u001b[0;34m.\u001b[0m\u001b[0m_getitem_frame\u001b[0m\u001b[0;34m(\u001b[0m\u001b[0mkey\u001b[0m\u001b[0;34m)\u001b[0m\u001b[0;34m\u001b[0m\u001b[0m\n",
      "\u001b[0;32m/home/dingbat/src/taxi/venv/lib/python3.5/site-packages/pandas/core/frame.py\u001b[0m in \u001b[0;36m_getitem_array\u001b[0;34m(self, key)\u001b[0m\n\u001b[1;32m   2029\u001b[0m             \u001b[0;31m# check_bool_indexer will throw exception if Series key cannot\u001b[0m\u001b[0;34m\u001b[0m\u001b[0;34m\u001b[0m\u001b[0m\n\u001b[1;32m   2030\u001b[0m             \u001b[0;31m# be reindexed to match DataFrame rows\u001b[0m\u001b[0;34m\u001b[0m\u001b[0;34m\u001b[0m\u001b[0m\n\u001b[0;32m-> 2031\u001b[0;31m             \u001b[0mkey\u001b[0m \u001b[0;34m=\u001b[0m \u001b[0mcheck_bool_indexer\u001b[0m\u001b[0;34m(\u001b[0m\u001b[0mself\u001b[0m\u001b[0;34m.\u001b[0m\u001b[0mindex\u001b[0m\u001b[0;34m,\u001b[0m \u001b[0mkey\u001b[0m\u001b[0;34m)\u001b[0m\u001b[0;34m\u001b[0m\u001b[0m\n\u001b[0m\u001b[1;32m   2032\u001b[0m             \u001b[0mindexer\u001b[0m \u001b[0;34m=\u001b[0m \u001b[0mkey\u001b[0m\u001b[0;34m.\u001b[0m\u001b[0mnonzero\u001b[0m\u001b[0;34m(\u001b[0m\u001b[0;34m)\u001b[0m\u001b[0;34m[\u001b[0m\u001b[0;36m0\u001b[0m\u001b[0;34m]\u001b[0m\u001b[0;34m\u001b[0m\u001b[0m\n\u001b[1;32m   2033\u001b[0m             \u001b[0;32mreturn\u001b[0m \u001b[0mself\u001b[0m\u001b[0;34m.\u001b[0m\u001b[0mtake\u001b[0m\u001b[0;34m(\u001b[0m\u001b[0mindexer\u001b[0m\u001b[0;34m,\u001b[0m \u001b[0maxis\u001b[0m\u001b[0;34m=\u001b[0m\u001b[0;36m0\u001b[0m\u001b[0;34m,\u001b[0m \u001b[0mconvert\u001b[0m\u001b[0;34m=\u001b[0m\u001b[0;32mFalse\u001b[0m\u001b[0;34m)\u001b[0m\u001b[0;34m\u001b[0m\u001b[0m\n",
      "\u001b[0;32m/home/dingbat/src/taxi/venv/lib/python3.5/site-packages/pandas/core/indexing.py\u001b[0m in \u001b[0;36mcheck_bool_indexer\u001b[0;34m(ax, key)\u001b[0m\n\u001b[1;32m   1796\u001b[0m     \u001b[0mresult\u001b[0m \u001b[0;34m=\u001b[0m \u001b[0mkey\u001b[0m\u001b[0;34m\u001b[0m\u001b[0m\n\u001b[1;32m   1797\u001b[0m     \u001b[0;32mif\u001b[0m \u001b[0misinstance\u001b[0m\u001b[0;34m(\u001b[0m\u001b[0mkey\u001b[0m\u001b[0;34m,\u001b[0m \u001b[0mABCSeries\u001b[0m\u001b[0;34m)\u001b[0m \u001b[0;32mand\u001b[0m \u001b[0;32mnot\u001b[0m \u001b[0mkey\u001b[0m\u001b[0;34m.\u001b[0m\u001b[0mindex\u001b[0m\u001b[0;34m.\u001b[0m\u001b[0mequals\u001b[0m\u001b[0;34m(\u001b[0m\u001b[0max\u001b[0m\u001b[0;34m)\u001b[0m\u001b[0;34m:\u001b[0m\u001b[0;34m\u001b[0m\u001b[0m\n\u001b[0;32m-> 1798\u001b[0;31m         \u001b[0mresult\u001b[0m \u001b[0;34m=\u001b[0m \u001b[0mresult\u001b[0m\u001b[0;34m.\u001b[0m\u001b[0mreindex\u001b[0m\u001b[0;34m(\u001b[0m\u001b[0max\u001b[0m\u001b[0;34m)\u001b[0m\u001b[0;34m\u001b[0m\u001b[0m\n\u001b[0m\u001b[1;32m   1799\u001b[0m         \u001b[0mmask\u001b[0m \u001b[0;34m=\u001b[0m \u001b[0mcom\u001b[0m\u001b[0;34m.\u001b[0m\u001b[0misnull\u001b[0m\u001b[0;34m(\u001b[0m\u001b[0mresult\u001b[0m\u001b[0;34m.\u001b[0m\u001b[0m_values\u001b[0m\u001b[0;34m)\u001b[0m\u001b[0;34m\u001b[0m\u001b[0m\n\u001b[1;32m   1800\u001b[0m         \u001b[0;32mif\u001b[0m \u001b[0mmask\u001b[0m\u001b[0;34m.\u001b[0m\u001b[0many\u001b[0m\u001b[0;34m(\u001b[0m\u001b[0;34m)\u001b[0m\u001b[0;34m:\u001b[0m\u001b[0;34m\u001b[0m\u001b[0m\n",
      "\u001b[0;32m/home/dingbat/src/taxi/venv/lib/python3.5/site-packages/pandas/core/series.py\u001b[0m in \u001b[0;36mreindex\u001b[0;34m(self, index, **kwargs)\u001b[0m\n\u001b[1;32m   2285\u001b[0m     \u001b[0;34m@\u001b[0m\u001b[0mAppender\u001b[0m\u001b[0;34m(\u001b[0m\u001b[0mgeneric\u001b[0m\u001b[0;34m.\u001b[0m\u001b[0m_shared_docs\u001b[0m\u001b[0;34m[\u001b[0m\u001b[0;34m'reindex'\u001b[0m\u001b[0;34m]\u001b[0m \u001b[0;34m%\u001b[0m \u001b[0m_shared_doc_kwargs\u001b[0m\u001b[0;34m)\u001b[0m\u001b[0;34m\u001b[0m\u001b[0m\n\u001b[1;32m   2286\u001b[0m     \u001b[0;32mdef\u001b[0m \u001b[0mreindex\u001b[0m\u001b[0;34m(\u001b[0m\u001b[0mself\u001b[0m\u001b[0;34m,\u001b[0m \u001b[0mindex\u001b[0m\u001b[0;34m=\u001b[0m\u001b[0;32mNone\u001b[0m\u001b[0;34m,\u001b[0m \u001b[0;34m**\u001b[0m\u001b[0mkwargs\u001b[0m\u001b[0;34m)\u001b[0m\u001b[0;34m:\u001b[0m\u001b[0;34m\u001b[0m\u001b[0m\n\u001b[0;32m-> 2287\u001b[0;31m         \u001b[0;32mreturn\u001b[0m \u001b[0msuper\u001b[0m\u001b[0;34m(\u001b[0m\u001b[0mSeries\u001b[0m\u001b[0;34m,\u001b[0m \u001b[0mself\u001b[0m\u001b[0;34m)\u001b[0m\u001b[0;34m.\u001b[0m\u001b[0mreindex\u001b[0m\u001b[0;34m(\u001b[0m\u001b[0mindex\u001b[0m\u001b[0;34m=\u001b[0m\u001b[0mindex\u001b[0m\u001b[0;34m,\u001b[0m \u001b[0;34m**\u001b[0m\u001b[0mkwargs\u001b[0m\u001b[0;34m)\u001b[0m\u001b[0;34m\u001b[0m\u001b[0m\n\u001b[0m\u001b[1;32m   2288\u001b[0m \u001b[0;34m\u001b[0m\u001b[0m\n\u001b[1;32m   2289\u001b[0m     \u001b[0;34m@\u001b[0m\u001b[0mAppender\u001b[0m\u001b[0;34m(\u001b[0m\u001b[0mgeneric\u001b[0m\u001b[0;34m.\u001b[0m\u001b[0m_shared_docs\u001b[0m\u001b[0;34m[\u001b[0m\u001b[0;34m'fillna'\u001b[0m\u001b[0;34m]\u001b[0m \u001b[0;34m%\u001b[0m \u001b[0m_shared_doc_kwargs\u001b[0m\u001b[0;34m)\u001b[0m\u001b[0;34m\u001b[0m\u001b[0m\n",
      "\u001b[0;32m/home/dingbat/src/taxi/venv/lib/python3.5/site-packages/pandas/core/generic.py\u001b[0m in \u001b[0;36mreindex\u001b[0;34m(self, *args, **kwargs)\u001b[0m\n\u001b[1;32m   2227\u001b[0m         \u001b[0;31m# perform the reindex on the axes\u001b[0m\u001b[0;34m\u001b[0m\u001b[0;34m\u001b[0m\u001b[0m\n\u001b[1;32m   2228\u001b[0m         return self._reindex_axes(axes, level, limit, tolerance, method,\n\u001b[0;32m-> 2229\u001b[0;31m                                   fill_value, copy).__finalize__(self)\n\u001b[0m\u001b[1;32m   2230\u001b[0m \u001b[0;34m\u001b[0m\u001b[0m\n\u001b[1;32m   2231\u001b[0m     def _reindex_axes(self, axes, level, limit, tolerance, method, fill_value,\n",
      "\u001b[0;32m/home/dingbat/src/taxi/venv/lib/python3.5/site-packages/pandas/core/generic.py\u001b[0m in \u001b[0;36m_reindex_axes\u001b[0;34m(self, axes, level, limit, tolerance, method, fill_value, copy)\u001b[0m\n\u001b[1;32m   2240\u001b[0m             \u001b[0max\u001b[0m \u001b[0;34m=\u001b[0m \u001b[0mself\u001b[0m\u001b[0;34m.\u001b[0m\u001b[0m_get_axis\u001b[0m\u001b[0;34m(\u001b[0m\u001b[0ma\u001b[0m\u001b[0;34m)\u001b[0m\u001b[0;34m\u001b[0m\u001b[0m\n\u001b[1;32m   2241\u001b[0m             new_index, indexer = ax.reindex(labels, level=level, limit=limit,\n\u001b[0;32m-> 2242\u001b[0;31m                                             tolerance=tolerance, method=method)\n\u001b[0m\u001b[1;32m   2243\u001b[0m \u001b[0;34m\u001b[0m\u001b[0m\n\u001b[1;32m   2244\u001b[0m             \u001b[0maxis\u001b[0m \u001b[0;34m=\u001b[0m \u001b[0mself\u001b[0m\u001b[0;34m.\u001b[0m\u001b[0m_get_axis_number\u001b[0m\u001b[0;34m(\u001b[0m\u001b[0ma\u001b[0m\u001b[0;34m)\u001b[0m\u001b[0;34m\u001b[0m\u001b[0m\n",
      "\u001b[0;32m/home/dingbat/src/taxi/venv/lib/python3.5/site-packages/pandas/indexes/multi.py\u001b[0m in \u001b[0;36mreindex\u001b[0;34m(self, target, method, level, limit, tolerance)\u001b[0m\n\u001b[1;32m   1429\u001b[0m             \u001b[0;32melse\u001b[0m\u001b[0;34m:\u001b[0m\u001b[0;34m\u001b[0m\u001b[0m\n\u001b[1;32m   1430\u001b[0m                 \u001b[0;31m# hopefully?\u001b[0m\u001b[0;34m\u001b[0m\u001b[0;34m\u001b[0m\u001b[0m\n\u001b[0;32m-> 1431\u001b[0;31m                 \u001b[0mtarget\u001b[0m \u001b[0;34m=\u001b[0m \u001b[0mMultiIndex\u001b[0m\u001b[0;34m.\u001b[0m\u001b[0mfrom_tuples\u001b[0m\u001b[0;34m(\u001b[0m\u001b[0mtarget\u001b[0m\u001b[0;34m)\u001b[0m\u001b[0;34m\u001b[0m\u001b[0m\n\u001b[0m\u001b[1;32m   1432\u001b[0m \u001b[0;34m\u001b[0m\u001b[0m\n\u001b[1;32m   1433\u001b[0m         if (preserve_names and target.nlevels == self.nlevels and\n",
      "\u001b[0;32m/home/dingbat/src/taxi/venv/lib/python3.5/site-packages/pandas/indexes/multi.py\u001b[0m in \u001b[0;36mfrom_tuples\u001b[0;34m(cls, tuples, sortorder, names)\u001b[0m\n\u001b[1;32m    887\u001b[0m                 \u001b[0mtuples\u001b[0m \u001b[0;34m=\u001b[0m \u001b[0mtuples\u001b[0m\u001b[0;34m.\u001b[0m\u001b[0m_values\u001b[0m\u001b[0;34m\u001b[0m\u001b[0m\n\u001b[1;32m    888\u001b[0m \u001b[0;34m\u001b[0m\u001b[0m\n\u001b[0;32m--> 889\u001b[0;31m             \u001b[0marrays\u001b[0m \u001b[0;34m=\u001b[0m \u001b[0mlist\u001b[0m\u001b[0;34m(\u001b[0m\u001b[0mlib\u001b[0m\u001b[0;34m.\u001b[0m\u001b[0mtuples_to_object_array\u001b[0m\u001b[0;34m(\u001b[0m\u001b[0mtuples\u001b[0m\u001b[0;34m)\u001b[0m\u001b[0;34m.\u001b[0m\u001b[0mT\u001b[0m\u001b[0;34m)\u001b[0m\u001b[0;34m\u001b[0m\u001b[0m\n\u001b[0m\u001b[1;32m    890\u001b[0m         \u001b[0;32melif\u001b[0m \u001b[0misinstance\u001b[0m\u001b[0;34m(\u001b[0m\u001b[0mtuples\u001b[0m\u001b[0;34m,\u001b[0m \u001b[0mlist\u001b[0m\u001b[0;34m)\u001b[0m\u001b[0;34m:\u001b[0m\u001b[0;34m\u001b[0m\u001b[0m\n\u001b[1;32m    891\u001b[0m             \u001b[0marrays\u001b[0m \u001b[0;34m=\u001b[0m \u001b[0mlist\u001b[0m\u001b[0;34m(\u001b[0m\u001b[0mlib\u001b[0m\u001b[0;34m.\u001b[0m\u001b[0mto_object_array_tuples\u001b[0m\u001b[0;34m(\u001b[0m\u001b[0mtuples\u001b[0m\u001b[0;34m)\u001b[0m\u001b[0;34m.\u001b[0m\u001b[0mT\u001b[0m\u001b[0;34m)\u001b[0m\u001b[0;34m\u001b[0m\u001b[0m\n",
      "\u001b[0;32mpandas/src/inference.pyx\u001b[0m in \u001b[0;36mpandas.lib.tuples_to_object_array (pandas/lib.c:63261)\u001b[0;34m()\u001b[0m\n",
      "\u001b[0;31mValueError\u001b[0m: cannot include dtype 'M' in a buffer"
     ]
    }
   ],
   "source": [
    "filtered_taxi = taxi[filter_bad_gps]\n",
    "\n",
    "lon = filtered_taxi.longitude.map(radians)\n",
    "lat = filtered_taxi.latitude.map(radians)\n",
    "\n",
    "dist = vector_haversine(lon, lat, lon.shift(1), lat.shift(1))\n",
    "dist.iloc[0] = 0\n",
    "dist.iloc[:5]"
   ]
  },
  {
   "cell_type": "markdown",
   "metadata": {},
   "source": [
    "Additionally, we calculate the time delta between the points using the index and the shift operation so that each time is subtracted by the previous time.  The time delta is represented as seconds using the astype('timedelta64[s]') operation.  As with the distance calculation, the first value becomes NaN so that is forced to zero so the point is preserved in subsequent calculations."
   ]
  },
  {
   "cell_type": "code",
   "execution_count": null,
   "metadata": {
    "collapsed": false
   },
   "outputs": [],
   "source": [
    "times = dist.index.to_series()\n",
    "time_delta_prev = (times - times.shift(1)).astype('timedelta64[s]')\n",
    "time_delta_prev.iloc[0] = 0\n",
    "time_delta_prev.iloc[:5]"
   ]
  },
  {
   "cell_type": "markdown",
   "metadata": {},
   "source": [
    "Then, the m/s calculation is a simple vector operation.  Since we know the undefined 0/0 in the first point is still a point to keep, we force it to zero as well."
   ]
  },
  {
   "cell_type": "code",
   "execution_count": null,
   "metadata": {
    "collapsed": false
   },
   "outputs": [],
   "source": [
    "mps = dist / time_delta_prev\n",
    "mps.iloc[0] = 0\n",
    "mps[:5]"
   ]
  },
  {
   "cell_type": "markdown",
   "metadata": {},
   "source": [
    "Now the filter is created by finding points where the speed is too great to have produced that point.  The actual filter is looking at the previous and next points to locate consecutive points where the distance is bad.  This won't find points that have consecutive bad points.  As with the bad GPS point filter, the filter is True at samples where the GPS is good and False when the difference in distance is bad."
   ]
  },
  {
   "cell_type": "code",
   "execution_count": null,
   "metadata": {
    "collapsed": false
   },
   "outputs": [],
   "source": [
    "# Due to the shift(-1), the last value became NaN and is forced to zero here.\n",
    "next_mps = mps.shift(-1)\n",
    "next_mps.iloc[-1] = 0\n",
    "\n",
    "dist_delta = pd.DataFrame({\n",
    "    'prev_mps': mps,\n",
    "    'next_mps': next_mps,\n",
    "})\n",
    "\n",
    "filter_implausible_speed = (\n",
    "    (dist_delta['prev_mps'] < 50) &\n",
    "    (dist_delta['next_mps'] < 50)\n",
    ")\n",
    "\n",
    "# This is used to extract the times at which our implausible speed is identified.\n",
    "filter_implausible_speed[filter_implausible_speed.isin([False])]"
   ]
  },
  {
   "cell_type": "markdown",
   "metadata": {},
   "source": [
    "The following just provides a convenient table to compare the combined results of the individual calculations."
   ]
  },
  {
   "cell_type": "code",
   "execution_count": null,
   "metadata": {
    "collapsed": false
   },
   "outputs": [],
   "source": [
    "kmph = mps * 3.6  # 3600s/hr / 1000m/km\n",
    "dist_df = pd.DataFrame({\n",
    "    'prev_dist': dist,\n",
    "    'prev_time': time_delta_prev,\n",
    "    'prev_mps': mps,\n",
    "    'prev_kmph': kmph,\n",
    "    'next_dist': dist.shift(-1),\n",
    "    'next_time': time_delta_prev.shift(-1),\n",
    "    'next_mps': mps.shift(-1),\n",
    "    'next_kmph': kmph.shift(-1),\n",
    "})\n",
    "dist_df.iloc[:5]"
   ]
  },
  {
   "cell_type": "markdown",
   "metadata": {},
   "source": [
    "Now we put all that together into a handy function for later use."
   ]
  },
  {
   "cell_type": "code",
   "execution_count": 43,
   "metadata": {
    "collapsed": false
   },
   "outputs": [],
   "source": [
    "def remove_implausible(taxi):\n",
    "    \"\"\" Removes GPS points that are implausible for a taxi \"\"\"\n",
    "    # Great circle distance between consecutive GPS samples\n",
    "    lon = taxi.longitude.map(radians)\n",
    "    lat = taxi.latitude.map(radians)\n",
    "\n",
    "    dist = vector_haversine(lon, lat, lon.shift(1), lat.shift(1))\n",
    "    dist.iloc[0] = 0\n",
    "    \n",
    "    # Time difference the distance was traveled.\n",
    "    times = dist.index.to_series()\n",
    "    time_delta_prev = (times - times.shift(1)).astype('timedelta64[s]')\n",
    "    time_delta_prev.iloc[0] = 0\n",
    "    \n",
    "    # Calculate meters per second\n",
    "    mps = dist / time_delta_prev\n",
    "    mps.iloc[0] = 0\n",
    "    \n",
    "    next_mps = mps.shift(-1)\n",
    "    next_mps.iloc[-1] = 0\n",
    "\n",
    "    dist_delta = pd.DataFrame({\n",
    "        'prev_mps': mps,\n",
    "        'next_mps': next_mps,\n",
    "    })\n",
    "\n",
    "    # Speed greater than 50 meters per second is not likely and indicative of GPS error\n",
    "    filter_implausible_speed = (\n",
    "        (dist_delta['prev_mps'] < 50) &\n",
    "        (dist_delta['next_mps'] < 50)\n",
    "    )\n",
    "    \n",
    "    filtered = taxi[filter_implausible_speed]\n",
    "    print('Implausible removing', len(taxi) - len(filtered), 'points')\n",
    "    \n",
    "    return filtered\n",
    "\n",
    "def remove_impossible(taxi):\n",
    "    filter_bad_gps = remove_impossible_filter(taxi)\n",
    "    return taxi[filter_bad_gps]"
   ]
  },
  {
   "cell_type": "code",
   "execution_count": null,
   "metadata": {
    "collapsed": false
   },
   "outputs": [],
   "source": [
    "lon = taxi.longitude.map(radians)\n",
    "lat = taxi.latitude.map(radians)\n",
    "\n",
    "dist = vector_haversine(lon, lat, lon.shift(1), lat.shift(1))\n",
    "dist.iloc[0] = 0\n",
    "\n",
    "# Time difference the distance was traveled.\n",
    "times = dist.index.to_series()\n",
    "times[0]\n",
    "# (times - times.shift(1)).astype('timedelta64[s]')"
   ]
  },
  {
   "cell_type": "markdown",
   "metadata": {},
   "source": [
    "So let's create a function for later use that applies all the filtering."
   ]
  },
  {
   "cell_type": "code",
   "execution_count": 41,
   "metadata": {
    "collapsed": false
   },
   "outputs": [],
   "source": [
    "def clean_taxi(taxi):\n",
    "    taxi = remove_safe_dups(taxi)\n",
    "    taxi = remove_impossible(taxi)\n",
    "    taxi = remove_implausible(taxi)\n",
    "    return taxi"
   ]
  },
  {
   "cell_type": "markdown",
   "metadata": {},
   "source": [
    "## Map Matching\n",
    "\n",
    "Map matching can be done at the global or taxi level.  We choose to do it at the taxi level simply for conciseness of the operation.  This helps with scale  Note that the trip level might produce an even finer grain scalability but we replicate points when partitioning at the trip level so map-matching at the taxi level is the most efficient option.\n",
    "\n",
    "We want to create the following derived data parameters:\n",
    "1. gid of the matched road\n",
    "1. distance from the GPS sample to the closest point on the road\n",
    "1. delta of the sample heading to the calculated road segment heading"
   ]
  },
  {
   "cell_type": "code",
   "execution_count": null,
   "metadata": {
    "collapsed": true
   },
   "outputs": [],
   "source": [
    "# Used for road matching\n",
    "import psycopg2\n",
    "connect_str = \"dbname='osm' user='django' host='127.0.0.1' password='djangopsql2015'\""
   ]
  },
  {
   "cell_type": "code",
   "execution_count": null,
   "metadata": {
    "collapsed": false
   },
   "outputs": [],
   "source": [
    "def road_match(taxi):\n",
    "    conn = psycopg2.connect(connect_str)\n",
    "    curr = conn.cursor()\n",
    "\n",
    "    positions = taxi[['longitude', 'latitude', 'heading']].values\n",
    "    query_str = (\n",
    "        'select gid, dist, road_seg_hdg'\n",
    "        ' from osm_road_match_line_hdg(\\'SRID=4326;LINESTRING M(%s)\\'::geometry);'\n",
    "    ) % (\n",
    "        ', '.join([('%f %f %d' % (lon, lat, hdg)) for lon, lat, hdg in positions])\n",
    "    )\n",
    "\n",
    "    curr.execute(query_str)\n",
    "    res = curr.fetchall()\n",
    "    derived = pd.DataFrame(\n",
    "        data=res,\n",
    "        columns=columns,\n",
    "        index=taxi.index\n",
    "    )\n",
    "\n",
    "    return derived\n",
    "\n",
    "%timeit road_match(taxi)"
   ]
  },
  {
   "cell_type": "markdown",
   "metadata": {},
   "source": [
    "## Partition Taxi by Trip\n",
    "\n",
    "Now that we have some reasonably good data identified, we can split the taxi into trips.  The following partitioning is done using the passenger status such that each time the passenger status changes, a new trip is created.  In order to maintain continuity between the partitions, the first point of the subsequent trip is used as the last point of the current trip.\n",
    "\n",
    "In order to partition the trips by the passenger status, a temporary series can be created as a shifted status and then the changes in the status change added up to label each trip.  The trip ID is added to the taxi DataFrame to enable the pandas groupby functionality."
   ]
  },
  {
   "cell_type": "code",
   "execution_count": 44,
   "metadata": {
    "collapsed": false
   },
   "outputs": [
    {
     "name": "stdout",
     "output_type": "stream",
     "text": [
      "Implausible removing 0 points\n"
     ]
    },
    {
     "data": {
      "text/plain": [
       "timestamp\n",
       "2012-06-27 00:05:09+08:00    2\n",
       "2012-06-27 00:06:59+08:00    3\n",
       "2012-06-27 00:08:29+08:00    3\n",
       "2012-06-27 00:09:29+08:00    3\n",
       "2012-06-27 00:11:09+08:00    3\n",
       "2012-06-27 00:16:47+08:00    4\n",
       "2012-06-27 00:16:49+08:00    4\n",
       "2012-06-27 00:19:39+08:00    4\n",
       "2012-06-27 00:19:59+08:00    4\n",
       "2012-06-27 00:27:19+08:00    5\n",
       "Name: passenger, dtype: int64"
      ]
     },
     "execution_count": 44,
     "metadata": {},
     "output_type": "execute_result"
    }
   ],
   "source": [
    "# Since the column is already a flag it can be used directly.  Otherwise, this would convert it to a flag.\n",
    "# trips = (taxi.passenger - taxi.passenger.shift(1)).cumsum()\n",
    "\n",
    "taxi = taxis.get_group('B002Z6')  # This taxi picks up a passenger and has dups.\n",
    "# taxi = taxis.get_group('BL1M49')  # This taxi has duplicate rows.\n",
    "taxi.index = taxi.index.droplevel(0)\n",
    "taxi = clean_taxi(taxi)\n",
    "trips = (taxi.passenger.diff(1) != 0).astype('int').cumsum()\n",
    "sample_df(trips, 10)"
   ]
  },
  {
   "cell_type": "markdown",
   "metadata": {},
   "source": [
    "Now the trips can be iterated to integrate into the functionality for other systems.  When creating the trips we want to add the first point of the next sequence in to the current sequence to preserve continuity.  After the loop there is one final, albeit incomplete, trip left."
   ]
  },
  {
   "cell_type": "code",
   "execution_count": null,
   "metadata": {
    "collapsed": false
   },
   "outputs": [],
   "source": [
    "def process_trip(trip):\n",
    "    print(\n",
    "        trip.index[0], ':',\n",
    "        trip.index[-1] - trip.index[0],\n",
    "        'Samples:', len(trip),\n",
    "        '- Passenger' if trip.iloc[0].passenger else ''\n",
    "    )\n",
    "\n",
    "def process_taxi(taxi, f):\n",
    "    trip_groups = taxi.groupby(trips, sort=False)\n",
    "    prev_seq = None\n",
    "    for name, trip in trip_groups:\n",
    "        if prev_seq is not None:\n",
    "            # Trip from beginning of previous sequence through first point of current.\n",
    "            start_time = prev_seq.index[0]\n",
    "            end_time = trip.index[0]\n",
    "            passenger = '- Passenger' if prev_seq.iloc[0].passenger else ''\n",
    "            # Combined represents the desired trajectory partition.\n",
    "            combined = pd.concat([prev_seq, trip.iloc[:1]])\n",
    "            f(combined)\n",
    "        prev_seq = trip\n",
    "    \n",
    "    f(prev_seq)\n",
    "\n",
    "process_taxi(taxi, process_trip)"
   ]
  },
  {
   "cell_type": "markdown",
   "metadata": {},
   "source": [
    "#### Taxis with one Trip\n",
    "Some of the taxis seem to drive around all day and never pick up a passenger.  This is more likely that the status flag for these taxis is broken or the taxis do not have the appropriate instrumentation to provide the data.  Here we determine how many taxis exhibit this behavior."
   ]
  },
  {
   "cell_type": "code",
   "execution_count": null,
   "metadata": {
    "collapsed": false
   },
   "outputs": [],
   "source": [
    "no_trip_taxis = []\n",
    "for taxi_id, taxi_data in taxis:\n",
    "    trips = (taxi_data.passenger.diff(1) != 0).astype('int').cumsum()\n",
    "    trip_groups = taxi_data.groupby(trips, sort=False)\n",
    "    if len(trip_groups) == 1:\n",
    "        no_trip_taxis.append(taxi_id)\n",
    "max_print = 100\n",
    "print(len(no_trip_taxis), ' taxis have only one trip.  ID listed below (up to {}).'.format(max_print))\n",
    "print(no_trip_taxis[:max_print])"
   ]
  },
  {
   "cell_type": "markdown",
   "metadata": {},
   "source": [
    "## Convert dataframe to array for postgres"
   ]
  },
  {
   "cell_type": "code",
   "execution_count": 45,
   "metadata": {
    "collapsed": false,
    "scrolled": true
   },
   "outputs": [
    {
     "name": "stdout",
     "output_type": "stream",
     "text": [
      "There is a passenger\n"
     ]
    },
    {
     "data": {
      "text/html": [
       "<div>\n",
       "<table border=\"1\" class=\"dataframe\">\n",
       "  <thead>\n",
       "    <tr style=\"text-align: right;\">\n",
       "      <th></th>\n",
       "      <th>passenger</th>\n",
       "      <th>speed</th>\n",
       "      <th>heading</th>\n",
       "      <th>latitude</th>\n",
       "      <th>longitude</th>\n",
       "    </tr>\n",
       "    <tr>\n",
       "      <th>timestamp</th>\n",
       "      <th></th>\n",
       "      <th></th>\n",
       "      <th></th>\n",
       "      <th></th>\n",
       "      <th></th>\n",
       "    </tr>\n",
       "  </thead>\n",
       "  <tbody>\n",
       "    <tr>\n",
       "      <th>2012-06-27 00:00:05+08:00</th>\n",
       "      <td>0</td>\n",
       "      <td>0</td>\n",
       "      <td>180</td>\n",
       "      <td>22.534018</td>\n",
       "      <td>114.113785</td>\n",
       "    </tr>\n",
       "    <tr>\n",
       "      <th>2012-06-27 00:00:07+08:00</th>\n",
       "      <td>0</td>\n",
       "      <td>0</td>\n",
       "      <td>180</td>\n",
       "      <td>22.533800</td>\n",
       "      <td>114.113815</td>\n",
       "    </tr>\n",
       "    <tr>\n",
       "      <th>2012-06-27 00:00:17+08:00</th>\n",
       "      <td>0</td>\n",
       "      <td>0</td>\n",
       "      <td>180</td>\n",
       "      <td>22.534033</td>\n",
       "      <td>114.113914</td>\n",
       "    </tr>\n",
       "    <tr>\n",
       "      <th>2012-06-27 00:00:27+08:00</th>\n",
       "      <td>0</td>\n",
       "      <td>0</td>\n",
       "      <td>180</td>\n",
       "      <td>22.534033</td>\n",
       "      <td>114.113914</td>\n",
       "    </tr>\n",
       "    <tr>\n",
       "      <th>2012-06-27 00:00:37+08:00</th>\n",
       "      <td>0</td>\n",
       "      <td>0</td>\n",
       "      <td>180</td>\n",
       "      <td>22.534033</td>\n",
       "      <td>114.113914</td>\n",
       "    </tr>\n",
       "  </tbody>\n",
       "</table>\n",
       "</div>"
      ],
      "text/plain": [
       "                           passenger  speed  heading   latitude   longitude\n",
       "timestamp                                                                  \n",
       "2012-06-27 00:00:05+08:00          0      0      180  22.534018  114.113785\n",
       "2012-06-27 00:00:07+08:00          0      0      180  22.533800  114.113815\n",
       "2012-06-27 00:00:17+08:00          0      0      180  22.534033  114.113914\n",
       "2012-06-27 00:00:27+08:00          0      0      180  22.534033  114.113914\n",
       "2012-06-27 00:00:37+08:00          0      0      180  22.534033  114.113914"
      ]
     },
     "execution_count": 45,
     "metadata": {},
     "output_type": "execute_result"
    }
   ],
   "source": [
    "taxi\n",
    "trips = (taxi.passenger.diff(1) != 0).astype('int').cumsum()\n",
    "trip_groups = taxi.groupby(trips, sort=False)\n",
    "for passenger, trip_data in trip_groups:\n",
    "    break\n",
    "print(\"There is a passenger\" if passenger else \"Thereis not a passenger\")\n",
    "trip_data"
   ]
  },
  {
   "cell_type": "code",
   "execution_count": 48,
   "metadata": {
    "collapsed": false
   },
   "outputs": [
    {
     "data": {
      "text/plain": [
       "\"{'2012-06-27 00:00:05','2012-06-27 00:00:07','2012-06-27 00:00:17','2012-06-27 00:00:27','2012-06-27 00:00:37'}\""
      ]
     },
     "execution_count": 48,
     "metadata": {},
     "output_type": "execute_result"
    }
   ],
   "source": [
    "'{{{}}}'.format(','.join(trip_data.index.strftime(\"'%Y-%m-%d %H:%M:%S'\")))"
   ]
  },
  {
   "cell_type": "code",
   "execution_count": 49,
   "metadata": {
    "collapsed": false
   },
   "outputs": [
    {
     "data": {
      "text/plain": [
       "'{passenger,speed,heading,latitude,longitude}'"
      ]
     },
     "execution_count": 49,
     "metadata": {},
     "output_type": "execute_result"
    }
   ],
   "source": [
    "'{{{}}}'.format(','.join(trip_data.columns))"
   ]
  },
  {
   "cell_type": "code",
   "execution_count": 53,
   "metadata": {
    "collapsed": false,
    "scrolled": true
   },
   "outputs": [
    {
     "data": {
      "text/plain": [
       "'{{0,0,180,22.534018,114.11378500000001},{0,0,180,22.5338,114.11381499999999},{0,0,180,22.534032999999997,114.113914},{0,0,180,22.534032999999997,114.113914},{0,0,180,22.534032999999997,114.113914}}'"
      ]
     },
     "execution_count": 53,
     "metadata": {},
     "output_type": "execute_result"
    }
   ],
   "source": [
    "'{{{{{}}}'.format(trip_data.to_csv(header=False, index=False, line_terminator='},{')[:-2])"
   ]
  },
  {
   "cell_type": "code",
   "execution_count": 83,
   "metadata": {
    "collapsed": false
   },
   "outputs": [
    {
     "data": {
      "text/plain": [
       "[array([0, 0, 0, 0, 0]),\n",
       " array([0, 0, 0, 0, 0]),\n",
       " array([180, 180, 180, 180, 180]),\n",
       " array([ 22.534018,  22.5338  ,  22.534033,  22.534033,  22.534033]),\n",
       " array([ 114.113785,  114.113815,  114.113914,  114.113914,  114.113914])]"
      ]
     },
     "execution_count": 83,
     "metadata": {},
     "output_type": "execute_result"
    }
   ],
   "source": [
    "values"
   ]
  },
  {
   "cell_type": "markdown",
   "metadata": {},
   "source": [
    "## Create a LineString\n",
    "Apply gps filters and create a LineString.  The LineString is used in the database to support geospatial analysis."
   ]
  },
  {
   "cell_type": "code",
   "execution_count": null,
   "metadata": {
    "collapsed": false
   },
   "outputs": [],
   "source": [
    "from django.contrib.gis.geos import LineString\n",
    "\n",
    "def create_linestring(taxi):\n",
    "    positions = taxi[['longitude', 'latitude']]\n",
    "    start_time = taxi.index[0]\n",
    "    tuples = [\n",
    "        tuple((x[0][0], x[0][1], (x[1]-start_time).total_seconds()))\n",
    "        for x in zip(positions.values, taxi.index)\n",
    "    ]\n",
    "    if len(tuples) == 1:\n",
    "        tuples = (tuples[0], tuples[0])\n",
    "    return LineString(tuples, srid=4326)\n",
    "\n",
    "def print_linestring_geojson(trip):\n",
    "    print(create_linestring(trip).json, ',')\n",
    "\n",
    "# At this point the taxi data frame has been filtered to remove impossible and implausible data.\n",
    "# Calling this will print the linestring for each trip.\n",
    "process_taxi(taxi, print_linestring_geojson)"
   ]
  },
  {
   "cell_type": "code",
   "execution_count": null,
   "metadata": {
    "collapsed": false
   },
   "outputs": [],
   "source": [
    "%timeit create_linestring(taxi)"
   ]
  },
  {
   "cell_type": "code",
   "execution_count": null,
   "metadata": {
    "collapsed": false
   },
   "outputs": [],
   "source": [
    "def create_linestring2(taxi):\n",
    "    start_datetime = taxi.index[0]\n",
    "    positions = [\n",
    "        [d.longitude, d.latitude, (time - start_datetime).total_seconds()]\n",
    "        for time, d in taxi[['longitude', 'latitude']].dropna().iterrows()\n",
    "    ]\n",
    "    return LineString(positions, srid=4326)"
   ]
  },
  {
   "cell_type": "code",
   "execution_count": null,
   "metadata": {
    "collapsed": false
   },
   "outputs": [],
   "source": [
    "%timeit create_linestring2(taxi)"
   ]
  },
  {
   "cell_type": "markdown",
   "metadata": {},
   "source": [
    "## Miscellaneous Code\n",
    "\n",
    "This section just captures some things that were useful when assessing the data but aren't actually needed for the final processing code.  They are retained in case further assessment is needed."
   ]
  },
  {
   "cell_type": "markdown",
   "metadata": {},
   "source": [
    "### Create a LineString to Display on a Map\n",
    "This bit of code will dump out a line string that can be copied to a mapping application such as:\n",
    "1. http://arthur-e.github.io/Wicket/sandbox-gmaps3.html\n",
    "    1. Uses Google Maps, which apply the China Map shift\n",
    "    1. Requires WKT format\n",
    "1. http://geojsonlint.com/\n",
    "    1. Uses OpenStreetMap data (processed by MapQuest)\n",
    "    1. Requires GeoJSON format"
   ]
  },
  {
   "cell_type": "code",
   "execution_count": null,
   "metadata": {
    "collapsed": false
   },
   "outputs": [],
   "source": [
    "my_taxi = taxi[['longitude', 'latitude', 'heading']]\n",
    "my_taxi.index = my_taxi.index.droplevel(0)  # Remove the common_id\n",
    "\n",
    "print('LINESTRING M({})'.format(\n",
    "    ', '.join(['{} {} {}'.format(lon, lat, hdg) for lon, lat, hdg in my_taxi.values[:10]])\n",
    "))\n"
   ]
  },
  {
   "cell_type": "markdown",
   "metadata": {},
   "source": [
    "### Create CSV of a Single Taxi\n",
    "This is useful for later or more directed testing.  That is, if the entire dataset is read in then this will create CSVs for the entire time range but only for specific taxis.  Then the single taxi file can be read in later for quicker testing."
   ]
  },
  {
   "cell_type": "code",
   "execution_count": null,
   "metadata": {
    "collapsed": false,
    "scrolled": true
   },
   "outputs": [],
   "source": [
    "taxi_ids = [\n",
    "    'B000H6',\n",
    "    'B001B1',\n",
    "    'B001B2',\n",
    "    'B001B6',\n",
    "    'B001B7',\n",
    "    'B001H0',\n",
    "    'B002B1',\n",
    "    'B002V7',\n",
    "    'B002Y1',\n",
    "    'B002Z6'\n",
    "]\n",
    "\n",
    "for taxi_id in taxi_ids:\n",
    "    taxi = taxis.get_group(taxi_id)  # This taxi has duplicate rows.\n",
    "    with open('%s.csv' % taxi_id, 'w') as csv:\n",
    "        csv.write(taxi.to_csv())"
   ]
  },
  {
   "cell_type": "code",
   "execution_count": null,
   "metadata": {
    "collapsed": true
   },
   "outputs": [],
   "source": []
  }
 ],
 "metadata": {
  "kernelspec": {
   "display_name": "Python 3",
   "language": "python",
   "name": "python3"
  },
  "language_info": {
   "codemirror_mode": {
    "name": "ipython",
    "version": 3
   },
   "file_extension": ".py",
   "mimetype": "text/x-python",
   "name": "python",
   "nbconvert_exporter": "python",
   "pygments_lexer": "ipython3",
   "version": "3.5.1"
  }
 },
 "nbformat": 4,
 "nbformat_minor": 0
}
