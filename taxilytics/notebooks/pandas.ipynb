{
 "cells": [
  {
   "cell_type": "code",
   "execution_count": 1,
   "metadata": {
    "collapsed": false
   },
   "outputs": [
    {
     "name": "stdout",
     "output_type": "stream",
     "text": [
      "Populating the interactive namespace from numpy and matplotlib\n"
     ]
    }
   ],
   "source": [
    "%matplotlib inline\n",
    "%pylab inline\n",
    "import pandas as pd\n",
    "import numpy as np\n",
    "import matplotlib.pyplot as plt"
   ]
  },
  {
   "cell_type": "code",
   "execution_count": 2,
   "metadata": {
    "collapsed": false
   },
   "outputs": [
    {
     "data": {
      "text/plain": [
       "0     1\n",
       "1     3\n",
       "2     5\n",
       "3   NaN\n",
       "4     6\n",
       "5     8\n",
       "dtype: float64"
      ]
     },
     "execution_count": 2,
     "metadata": {},
     "output_type": "execute_result"
    }
   ],
   "source": [
    "s = pd.Series([1,3,5,np.nan,6,8])\n",
    "s"
   ]
  },
  {
   "cell_type": "code",
   "execution_count": 3,
   "metadata": {
    "collapsed": false
   },
   "outputs": [
    {
     "data": {
      "text/plain": [
       "DatetimeIndex(['2013-01-01', '2013-01-02', '2013-01-03', '2013-01-04',\n",
       "               '2013-01-05', '2013-01-06'],\n",
       "              dtype='datetime64[ns]', freq='D', tz=None)"
      ]
     },
     "execution_count": 3,
     "metadata": {},
     "output_type": "execute_result"
    }
   ],
   "source": [
    "dates = pd.date_range('20130101', periods=6)\n",
    "dates"
   ]
  },
  {
   "cell_type": "code",
   "execution_count": 4,
   "metadata": {
    "collapsed": false
   },
   "outputs": [
    {
     "data": {
      "text/html": [
       "<div>\n",
       "<table border=\"1\" class=\"dataframe\">\n",
       "  <thead>\n",
       "    <tr style=\"text-align: right;\">\n",
       "      <th></th>\n",
       "      <th>A</th>\n",
       "      <th>B</th>\n",
       "      <th>C</th>\n",
       "      <th>D</th>\n",
       "    </tr>\n",
       "  </thead>\n",
       "  <tbody>\n",
       "    <tr>\n",
       "      <th>2013-01-01</th>\n",
       "      <td>1.002934</td>\n",
       "      <td>0.485300</td>\n",
       "      <td>0.080156</td>\n",
       "      <td>0.116974</td>\n",
       "    </tr>\n",
       "    <tr>\n",
       "      <th>2013-01-02</th>\n",
       "      <td>-1.893044</td>\n",
       "      <td>-0.439677</td>\n",
       "      <td>1.796621</td>\n",
       "      <td>1.495313</td>\n",
       "    </tr>\n",
       "    <tr>\n",
       "      <th>2013-01-03</th>\n",
       "      <td>0.871328</td>\n",
       "      <td>-1.778010</td>\n",
       "      <td>0.783734</td>\n",
       "      <td>-2.106503</td>\n",
       "    </tr>\n",
       "    <tr>\n",
       "      <th>2013-01-04</th>\n",
       "      <td>-0.341300</td>\n",
       "      <td>0.026641</td>\n",
       "      <td>-0.746029</td>\n",
       "      <td>0.177150</td>\n",
       "    </tr>\n",
       "    <tr>\n",
       "      <th>2013-01-05</th>\n",
       "      <td>-0.299831</td>\n",
       "      <td>-1.230301</td>\n",
       "      <td>-0.352773</td>\n",
       "      <td>0.086870</td>\n",
       "    </tr>\n",
       "    <tr>\n",
       "      <th>2013-01-06</th>\n",
       "      <td>-0.996588</td>\n",
       "      <td>-0.862075</td>\n",
       "      <td>-0.252101</td>\n",
       "      <td>0.744499</td>\n",
       "    </tr>\n",
       "  </tbody>\n",
       "</table>\n",
       "</div>"
      ],
      "text/plain": [
       "                   A         B         C         D\n",
       "2013-01-01  1.002934  0.485300  0.080156  0.116974\n",
       "2013-01-02 -1.893044 -0.439677  1.796621  1.495313\n",
       "2013-01-03  0.871328 -1.778010  0.783734 -2.106503\n",
       "2013-01-04 -0.341300  0.026641 -0.746029  0.177150\n",
       "2013-01-05 -0.299831 -1.230301 -0.352773  0.086870\n",
       "2013-01-06 -0.996588 -0.862075 -0.252101  0.744499"
      ]
     },
     "execution_count": 4,
     "metadata": {},
     "output_type": "execute_result"
    }
   ],
   "source": [
    "df = pd.DataFrame(np.random.randn(6,4), index=dates, columns=list('ABCD'))\n",
    "df"
   ]
  },
  {
   "cell_type": "code",
   "execution_count": 5,
   "metadata": {
    "collapsed": false
   },
   "outputs": [
    {
     "data": {
      "text/html": [
       "<div>\n",
       "<table border=\"1\" class=\"dataframe\">\n",
       "  <thead>\n",
       "    <tr style=\"text-align: right;\">\n",
       "      <th></th>\n",
       "      <th>A</th>\n",
       "      <th>B</th>\n",
       "      <th>C</th>\n",
       "      <th>D</th>\n",
       "      <th>E</th>\n",
       "      <th>F</th>\n",
       "    </tr>\n",
       "  </thead>\n",
       "  <tbody>\n",
       "    <tr>\n",
       "      <th>0</th>\n",
       "      <td>1</td>\n",
       "      <td>2013-01-02</td>\n",
       "      <td>1</td>\n",
       "      <td>3</td>\n",
       "      <td>test</td>\n",
       "      <td>foo</td>\n",
       "    </tr>\n",
       "    <tr>\n",
       "      <th>1</th>\n",
       "      <td>1</td>\n",
       "      <td>2013-01-02</td>\n",
       "      <td>1</td>\n",
       "      <td>3</td>\n",
       "      <td>train</td>\n",
       "      <td>foo</td>\n",
       "    </tr>\n",
       "    <tr>\n",
       "      <th>2</th>\n",
       "      <td>1</td>\n",
       "      <td>2013-01-02</td>\n",
       "      <td>1</td>\n",
       "      <td>3</td>\n",
       "      <td>test</td>\n",
       "      <td>foo</td>\n",
       "    </tr>\n",
       "    <tr>\n",
       "      <th>3</th>\n",
       "      <td>1</td>\n",
       "      <td>2013-01-02</td>\n",
       "      <td>1</td>\n",
       "      <td>3</td>\n",
       "      <td>train</td>\n",
       "      <td>foo</td>\n",
       "    </tr>\n",
       "  </tbody>\n",
       "</table>\n",
       "</div>"
      ],
      "text/plain": [
       "   A          B  C  D      E    F\n",
       "0  1 2013-01-02  1  3   test  foo\n",
       "1  1 2013-01-02  1  3  train  foo\n",
       "2  1 2013-01-02  1  3   test  foo\n",
       "3  1 2013-01-02  1  3  train  foo"
      ]
     },
     "execution_count": 5,
     "metadata": {},
     "output_type": "execute_result"
    }
   ],
   "source": [
    "df2 = pd.DataFrame({\n",
    "    'A' : 1.,\n",
    "    'B' : pd.Timestamp('20130102'),\n",
    "    'C' : pd.Series(1,index=list(range(4)),dtype='float32'),\n",
    "    'D' : np.array([3] * 4,dtype='int32'),\n",
    "    'E' : pd.Categorical([\"test\",\"train\",\"test\",\"train\"]),\n",
    "    'F' : 'foo'\n",
    "})\n",
    "df2"
   ]
  },
  {
   "cell_type": "code",
   "execution_count": 6,
   "metadata": {
    "collapsed": false
   },
   "outputs": [
    {
     "data": {
      "text/plain": [
       "A           float64\n",
       "B    datetime64[ns]\n",
       "C           float32\n",
       "D             int32\n",
       "E          category\n",
       "F            object\n",
       "dtype: object"
      ]
     },
     "execution_count": 6,
     "metadata": {},
     "output_type": "execute_result"
    }
   ],
   "source": [
    "df2.dtypes"
   ]
  },
  {
   "cell_type": "code",
   "execution_count": 9,
   "metadata": {
    "collapsed": false
   },
   "outputs": [
    {
     "data": {
      "text/html": [
       "<div style=\"max-height:1000px;max-width:1500px;overflow:auto;\">\n",
       "<table border=\"1\" class=\"dataframe\">\n",
       "  <thead>\n",
       "    <tr style=\"text-align: right;\">\n",
       "      <th></th>\n",
       "      <th>A</th>\n",
       "      <th>B</th>\n",
       "      <th>C</th>\n",
       "      <th>D</th>\n",
       "    </tr>\n",
       "  </thead>\n",
       "  <tbody>\n",
       "    <tr>\n",
       "      <th>2013-01-01</th>\n",
       "      <td>0.396075</td>\n",
       "      <td>1.088798</td>\n",
       "      <td>0.422225</td>\n",
       "      <td>-0.284823</td>\n",
       "    </tr>\n",
       "    <tr>\n",
       "      <th>2013-01-02</th>\n",
       "      <td>1.555711</td>\n",
       "      <td>1.577099</td>\n",
       "      <td>0.825273</td>\n",
       "      <td>-0.336002</td>\n",
       "    </tr>\n",
       "    <tr>\n",
       "      <th>2013-01-03</th>\n",
       "      <td>1.376452</td>\n",
       "      <td>0.335137</td>\n",
       "      <td>1.853852</td>\n",
       "      <td>-0.946076</td>\n",
       "    </tr>\n",
       "    <tr>\n",
       "      <th>2013-01-04</th>\n",
       "      <td>-0.943822</td>\n",
       "      <td>0.403838</td>\n",
       "      <td>0.184801</td>\n",
       "      <td>-0.857485</td>\n",
       "    </tr>\n",
       "    <tr>\n",
       "      <th>2013-01-05</th>\n",
       "      <td>1.302482</td>\n",
       "      <td>1.126506</td>\n",
       "      <td>0.390876</td>\n",
       "      <td>-0.592631</td>\n",
       "    </tr>\n",
       "  </tbody>\n",
       "</table>\n",
       "</div>"
      ],
      "text/plain": [
       "                   A         B         C         D\n",
       "2013-01-01  0.396075  1.088798  0.422225 -0.284823\n",
       "2013-01-02  1.555711  1.577099  0.825273 -0.336002\n",
       "2013-01-03  1.376452  0.335137  1.853852 -0.946076\n",
       "2013-01-04 -0.943822  0.403838  0.184801 -0.857485\n",
       "2013-01-05  1.302482  1.126506  0.390876 -0.592631"
      ]
     },
     "execution_count": 9,
     "metadata": {},
     "output_type": "execute_result"
    }
   ],
   "source": [
    "df.head()"
   ]
  },
  {
   "cell_type": "code",
   "execution_count": 10,
   "metadata": {
    "collapsed": false
   },
   "outputs": [
    {
     "data": {
      "text/html": [
       "<div style=\"max-height:1000px;max-width:1500px;overflow:auto;\">\n",
       "<table border=\"1\" class=\"dataframe\">\n",
       "  <thead>\n",
       "    <tr style=\"text-align: right;\">\n",
       "      <th></th>\n",
       "      <th>A</th>\n",
       "      <th>B</th>\n",
       "      <th>C</th>\n",
       "      <th>D</th>\n",
       "    </tr>\n",
       "  </thead>\n",
       "  <tbody>\n",
       "    <tr>\n",
       "      <th>2013-01-04</th>\n",
       "      <td>-0.943822</td>\n",
       "      <td>0.403838</td>\n",
       "      <td>0.184801</td>\n",
       "      <td>-0.857485</td>\n",
       "    </tr>\n",
       "    <tr>\n",
       "      <th>2013-01-05</th>\n",
       "      <td>1.302482</td>\n",
       "      <td>1.126506</td>\n",
       "      <td>0.390876</td>\n",
       "      <td>-0.592631</td>\n",
       "    </tr>\n",
       "    <tr>\n",
       "      <th>2013-01-06</th>\n",
       "      <td>0.580910</td>\n",
       "      <td>-1.546792</td>\n",
       "      <td>1.411944</td>\n",
       "      <td>-0.384268</td>\n",
       "    </tr>\n",
       "  </tbody>\n",
       "</table>\n",
       "</div>"
      ],
      "text/plain": [
       "                   A         B         C         D\n",
       "2013-01-04 -0.943822  0.403838  0.184801 -0.857485\n",
       "2013-01-05  1.302482  1.126506  0.390876 -0.592631\n",
       "2013-01-06  0.580910 -1.546792  1.411944 -0.384268"
      ]
     },
     "execution_count": 10,
     "metadata": {},
     "output_type": "execute_result"
    }
   ],
   "source": [
    "df.tail(3)"
   ]
  },
  {
   "cell_type": "code",
   "execution_count": 11,
   "metadata": {
    "collapsed": false
   },
   "outputs": [
    {
     "data": {
      "text/plain": [
       "<class 'pandas.tseries.index.DatetimeIndex'>\n",
       "[2013-01-01, ..., 2013-01-06]\n",
       "Length: 6, Freq: D, Timezone: None"
      ]
     },
     "execution_count": 11,
     "metadata": {},
     "output_type": "execute_result"
    }
   ],
   "source": [
    "df.index"
   ]
  },
  {
   "cell_type": "code",
   "execution_count": 12,
   "metadata": {
    "collapsed": false
   },
   "outputs": [
    {
     "data": {
      "text/plain": [
       "Index(['A', 'B', 'C', 'D'], dtype='object')"
      ]
     },
     "execution_count": 12,
     "metadata": {},
     "output_type": "execute_result"
    }
   ],
   "source": [
    "df.columns"
   ]
  },
  {
   "cell_type": "code",
   "execution_count": 13,
   "metadata": {
    "collapsed": false
   },
   "outputs": [
    {
     "data": {
      "text/plain": [
       "array([[ 0.39607498,  1.08879831,  0.42222489, -0.28482317],\n",
       "       [ 1.5557112 ,  1.57709921,  0.82527336, -0.33600224],\n",
       "       [ 1.37645219,  0.33513706,  1.85385179, -0.94607562],\n",
       "       [-0.94382203,  0.40383781,  0.18480116, -0.85748533],\n",
       "       [ 1.30248243,  1.12650564,  0.39087632, -0.59263131],\n",
       "       [ 0.58091043, -1.5467917 ,  1.41194434, -0.38426798]])"
      ]
     },
     "execution_count": 13,
     "metadata": {},
     "output_type": "execute_result"
    }
   ],
   "source": [
    "df.values"
   ]
  },
  {
   "cell_type": "code",
   "execution_count": 14,
   "metadata": {
    "collapsed": false
   },
   "outputs": [
    {
     "data": {
      "text/html": [
       "<div style=\"max-height:1000px;max-width:1500px;overflow:auto;\">\n",
       "<table border=\"1\" class=\"dataframe\">\n",
       "  <thead>\n",
       "    <tr style=\"text-align: right;\">\n",
       "      <th></th>\n",
       "      <th>A</th>\n",
       "      <th>B</th>\n",
       "      <th>C</th>\n",
       "      <th>D</th>\n",
       "    </tr>\n",
       "  </thead>\n",
       "  <tbody>\n",
       "    <tr>\n",
       "      <th>count</th>\n",
       "      <td>6.000000</td>\n",
       "      <td>6.000000</td>\n",
       "      <td>6.000000</td>\n",
       "      <td>6.000000</td>\n",
       "    </tr>\n",
       "    <tr>\n",
       "      <th>mean</th>\n",
       "      <td>0.711302</td>\n",
       "      <td>0.497431</td>\n",
       "      <td>0.848162</td>\n",
       "      <td>-0.566881</td>\n",
       "    </tr>\n",
       "    <tr>\n",
       "      <th>std</th>\n",
       "      <td>0.933890</td>\n",
       "      <td>1.106804</td>\n",
       "      <td>0.657323</td>\n",
       "      <td>0.281109</td>\n",
       "    </tr>\n",
       "    <tr>\n",
       "      <th>min</th>\n",
       "      <td>-0.943822</td>\n",
       "      <td>-1.546792</td>\n",
       "      <td>0.184801</td>\n",
       "      <td>-0.946076</td>\n",
       "    </tr>\n",
       "    <tr>\n",
       "      <th>25%</th>\n",
       "      <td>0.442284</td>\n",
       "      <td>0.352312</td>\n",
       "      <td>0.398713</td>\n",
       "      <td>-0.791272</td>\n",
       "    </tr>\n",
       "    <tr>\n",
       "      <th>50%</th>\n",
       "      <td>0.941696</td>\n",
       "      <td>0.746318</td>\n",
       "      <td>0.623749</td>\n",
       "      <td>-0.488450</td>\n",
       "    </tr>\n",
       "    <tr>\n",
       "      <th>75%</th>\n",
       "      <td>1.357960</td>\n",
       "      <td>1.117079</td>\n",
       "      <td>1.265277</td>\n",
       "      <td>-0.348069</td>\n",
       "    </tr>\n",
       "    <tr>\n",
       "      <th>max</th>\n",
       "      <td>1.555711</td>\n",
       "      <td>1.577099</td>\n",
       "      <td>1.853852</td>\n",
       "      <td>-0.284823</td>\n",
       "    </tr>\n",
       "  </tbody>\n",
       "</table>\n",
       "</div>"
      ],
      "text/plain": [
       "              A         B         C         D\n",
       "count  6.000000  6.000000  6.000000  6.000000\n",
       "mean   0.711302  0.497431  0.848162 -0.566881\n",
       "std    0.933890  1.106804  0.657323  0.281109\n",
       "min   -0.943822 -1.546792  0.184801 -0.946076\n",
       "25%    0.442284  0.352312  0.398713 -0.791272\n",
       "50%    0.941696  0.746318  0.623749 -0.488450\n",
       "75%    1.357960  1.117079  1.265277 -0.348069\n",
       "max    1.555711  1.577099  1.853852 -0.284823"
      ]
     },
     "execution_count": 14,
     "metadata": {},
     "output_type": "execute_result"
    }
   ],
   "source": [
    "df.describe()"
   ]
  },
  {
   "cell_type": "code",
   "execution_count": 15,
   "metadata": {
    "collapsed": false
   },
   "outputs": [
    {
     "data": {
      "text/html": [
       "<div style=\"max-height:1000px;max-width:1500px;overflow:auto;\">\n",
       "<table border=\"1\" class=\"dataframe\">\n",
       "  <thead>\n",
       "    <tr style=\"text-align: right;\">\n",
       "      <th></th>\n",
       "      <th>2013-01-01 00:00:00</th>\n",
       "      <th>2013-01-02 00:00:00</th>\n",
       "      <th>2013-01-03 00:00:00</th>\n",
       "      <th>2013-01-04 00:00:00</th>\n",
       "      <th>2013-01-05 00:00:00</th>\n",
       "      <th>2013-01-06 00:00:00</th>\n",
       "    </tr>\n",
       "  </thead>\n",
       "  <tbody>\n",
       "    <tr>\n",
       "      <th>A</th>\n",
       "      <td>0.396075</td>\n",
       "      <td>1.555711</td>\n",
       "      <td>1.376452</td>\n",
       "      <td>-0.943822</td>\n",
       "      <td>1.302482</td>\n",
       "      <td>0.580910</td>\n",
       "    </tr>\n",
       "    <tr>\n",
       "      <th>B</th>\n",
       "      <td>1.088798</td>\n",
       "      <td>1.577099</td>\n",
       "      <td>0.335137</td>\n",
       "      <td>0.403838</td>\n",
       "      <td>1.126506</td>\n",
       "      <td>-1.546792</td>\n",
       "    </tr>\n",
       "    <tr>\n",
       "      <th>C</th>\n",
       "      <td>0.422225</td>\n",
       "      <td>0.825273</td>\n",
       "      <td>1.853852</td>\n",
       "      <td>0.184801</td>\n",
       "      <td>0.390876</td>\n",
       "      <td>1.411944</td>\n",
       "    </tr>\n",
       "    <tr>\n",
       "      <th>D</th>\n",
       "      <td>-0.284823</td>\n",
       "      <td>-0.336002</td>\n",
       "      <td>-0.946076</td>\n",
       "      <td>-0.857485</td>\n",
       "      <td>-0.592631</td>\n",
       "      <td>-0.384268</td>\n",
       "    </tr>\n",
       "  </tbody>\n",
       "</table>\n",
       "</div>"
      ],
      "text/plain": [
       "   2013-01-01  2013-01-02  2013-01-03  2013-01-04  2013-01-05  2013-01-06\n",
       "A    0.396075    1.555711    1.376452   -0.943822    1.302482    0.580910\n",
       "B    1.088798    1.577099    0.335137    0.403838    1.126506   -1.546792\n",
       "C    0.422225    0.825273    1.853852    0.184801    0.390876    1.411944\n",
       "D   -0.284823   -0.336002   -0.946076   -0.857485   -0.592631   -0.384268"
      ]
     },
     "execution_count": 15,
     "metadata": {},
     "output_type": "execute_result"
    }
   ],
   "source": [
    "df.T"
   ]
  },
  {
   "cell_type": "code",
   "execution_count": 16,
   "metadata": {
    "collapsed": false
   },
   "outputs": [
    {
     "data": {
      "text/html": [
       "<div style=\"max-height:1000px;max-width:1500px;overflow:auto;\">\n",
       "<table border=\"1\" class=\"dataframe\">\n",
       "  <thead>\n",
       "    <tr style=\"text-align: right;\">\n",
       "      <th></th>\n",
       "      <th>D</th>\n",
       "      <th>C</th>\n",
       "      <th>B</th>\n",
       "      <th>A</th>\n",
       "    </tr>\n",
       "  </thead>\n",
       "  <tbody>\n",
       "    <tr>\n",
       "      <th>2013-01-01</th>\n",
       "      <td>-0.284823</td>\n",
       "      <td>0.422225</td>\n",
       "      <td>1.088798</td>\n",
       "      <td>0.396075</td>\n",
       "    </tr>\n",
       "    <tr>\n",
       "      <th>2013-01-02</th>\n",
       "      <td>-0.336002</td>\n",
       "      <td>0.825273</td>\n",
       "      <td>1.577099</td>\n",
       "      <td>1.555711</td>\n",
       "    </tr>\n",
       "    <tr>\n",
       "      <th>2013-01-03</th>\n",
       "      <td>-0.946076</td>\n",
       "      <td>1.853852</td>\n",
       "      <td>0.335137</td>\n",
       "      <td>1.376452</td>\n",
       "    </tr>\n",
       "    <tr>\n",
       "      <th>2013-01-04</th>\n",
       "      <td>-0.857485</td>\n",
       "      <td>0.184801</td>\n",
       "      <td>0.403838</td>\n",
       "      <td>-0.943822</td>\n",
       "    </tr>\n",
       "    <tr>\n",
       "      <th>2013-01-05</th>\n",
       "      <td>-0.592631</td>\n",
       "      <td>0.390876</td>\n",
       "      <td>1.126506</td>\n",
       "      <td>1.302482</td>\n",
       "    </tr>\n",
       "    <tr>\n",
       "      <th>2013-01-06</th>\n",
       "      <td>-0.384268</td>\n",
       "      <td>1.411944</td>\n",
       "      <td>-1.546792</td>\n",
       "      <td>0.580910</td>\n",
       "    </tr>\n",
       "  </tbody>\n",
       "</table>\n",
       "</div>"
      ],
      "text/plain": [
       "                   D         C         B         A\n",
       "2013-01-01 -0.284823  0.422225  1.088798  0.396075\n",
       "2013-01-02 -0.336002  0.825273  1.577099  1.555711\n",
       "2013-01-03 -0.946076  1.853852  0.335137  1.376452\n",
       "2013-01-04 -0.857485  0.184801  0.403838 -0.943822\n",
       "2013-01-05 -0.592631  0.390876  1.126506  1.302482\n",
       "2013-01-06 -0.384268  1.411944 -1.546792  0.580910"
      ]
     },
     "execution_count": 16,
     "metadata": {},
     "output_type": "execute_result"
    }
   ],
   "source": [
    "df.sort_index(axis=1, ascending=False)"
   ]
  },
  {
   "cell_type": "code",
   "execution_count": 17,
   "metadata": {
    "collapsed": false
   },
   "outputs": [
    {
     "data": {
      "text/html": [
       "<div style=\"max-height:1000px;max-width:1500px;overflow:auto;\">\n",
       "<table border=\"1\" class=\"dataframe\">\n",
       "  <thead>\n",
       "    <tr style=\"text-align: right;\">\n",
       "      <th></th>\n",
       "      <th>A</th>\n",
       "      <th>B</th>\n",
       "      <th>C</th>\n",
       "      <th>D</th>\n",
       "    </tr>\n",
       "  </thead>\n",
       "  <tbody>\n",
       "    <tr>\n",
       "      <th>2013-01-06</th>\n",
       "      <td>0.580910</td>\n",
       "      <td>-1.546792</td>\n",
       "      <td>1.411944</td>\n",
       "      <td>-0.384268</td>\n",
       "    </tr>\n",
       "    <tr>\n",
       "      <th>2013-01-03</th>\n",
       "      <td>1.376452</td>\n",
       "      <td>0.335137</td>\n",
       "      <td>1.853852</td>\n",
       "      <td>-0.946076</td>\n",
       "    </tr>\n",
       "    <tr>\n",
       "      <th>2013-01-04</th>\n",
       "      <td>-0.943822</td>\n",
       "      <td>0.403838</td>\n",
       "      <td>0.184801</td>\n",
       "      <td>-0.857485</td>\n",
       "    </tr>\n",
       "    <tr>\n",
       "      <th>2013-01-01</th>\n",
       "      <td>0.396075</td>\n",
       "      <td>1.088798</td>\n",
       "      <td>0.422225</td>\n",
       "      <td>-0.284823</td>\n",
       "    </tr>\n",
       "    <tr>\n",
       "      <th>2013-01-05</th>\n",
       "      <td>1.302482</td>\n",
       "      <td>1.126506</td>\n",
       "      <td>0.390876</td>\n",
       "      <td>-0.592631</td>\n",
       "    </tr>\n",
       "    <tr>\n",
       "      <th>2013-01-02</th>\n",
       "      <td>1.555711</td>\n",
       "      <td>1.577099</td>\n",
       "      <td>0.825273</td>\n",
       "      <td>-0.336002</td>\n",
       "    </tr>\n",
       "  </tbody>\n",
       "</table>\n",
       "</div>"
      ],
      "text/plain": [
       "                   A         B         C         D\n",
       "2013-01-06  0.580910 -1.546792  1.411944 -0.384268\n",
       "2013-01-03  1.376452  0.335137  1.853852 -0.946076\n",
       "2013-01-04 -0.943822  0.403838  0.184801 -0.857485\n",
       "2013-01-01  0.396075  1.088798  0.422225 -0.284823\n",
       "2013-01-05  1.302482  1.126506  0.390876 -0.592631\n",
       "2013-01-02  1.555711  1.577099  0.825273 -0.336002"
      ]
     },
     "execution_count": 17,
     "metadata": {},
     "output_type": "execute_result"
    }
   ],
   "source": [
    "df.sort(columns='B')"
   ]
  },
  {
   "cell_type": "code",
   "execution_count": 18,
   "metadata": {
    "collapsed": false
   },
   "outputs": [
    {
     "data": {
      "text/plain": [
       "2013-01-01    0.396075\n",
       "2013-01-02    1.555711\n",
       "2013-01-03    1.376452\n",
       "2013-01-04   -0.943822\n",
       "2013-01-05    1.302482\n",
       "2013-01-06    0.580910\n",
       "Freq: D, Name: A, dtype: float64"
      ]
     },
     "execution_count": 18,
     "metadata": {},
     "output_type": "execute_result"
    }
   ],
   "source": [
    "df['A']"
   ]
  },
  {
   "cell_type": "code",
   "execution_count": 19,
   "metadata": {
    "collapsed": false
   },
   "outputs": [
    {
     "data": {
      "text/plain": [
       "2013-01-01    0.396075\n",
       "2013-01-02    1.555711\n",
       "2013-01-03    1.376452\n",
       "2013-01-04   -0.943822\n",
       "2013-01-05    1.302482\n",
       "2013-01-06    0.580910\n",
       "Freq: D, Name: A, dtype: float64"
      ]
     },
     "execution_count": 19,
     "metadata": {},
     "output_type": "execute_result"
    }
   ],
   "source": [
    "df.A"
   ]
  },
  {
   "cell_type": "code",
   "execution_count": 20,
   "metadata": {
    "collapsed": false
   },
   "outputs": [
    {
     "data": {
      "text/html": [
       "<div style=\"max-height:1000px;max-width:1500px;overflow:auto;\">\n",
       "<table border=\"1\" class=\"dataframe\">\n",
       "  <thead>\n",
       "    <tr style=\"text-align: right;\">\n",
       "      <th></th>\n",
       "      <th>A</th>\n",
       "      <th>B</th>\n",
       "      <th>C</th>\n",
       "      <th>D</th>\n",
       "    </tr>\n",
       "  </thead>\n",
       "  <tbody>\n",
       "    <tr>\n",
       "      <th>2013-01-01</th>\n",
       "      <td>0.396075</td>\n",
       "      <td>1.088798</td>\n",
       "      <td>0.422225</td>\n",
       "      <td>-0.284823</td>\n",
       "    </tr>\n",
       "    <tr>\n",
       "      <th>2013-01-02</th>\n",
       "      <td>1.555711</td>\n",
       "      <td>1.577099</td>\n",
       "      <td>0.825273</td>\n",
       "      <td>-0.336002</td>\n",
       "    </tr>\n",
       "    <tr>\n",
       "      <th>2013-01-03</th>\n",
       "      <td>1.376452</td>\n",
       "      <td>0.335137</td>\n",
       "      <td>1.853852</td>\n",
       "      <td>-0.946076</td>\n",
       "    </tr>\n",
       "  </tbody>\n",
       "</table>\n",
       "</div>"
      ],
      "text/plain": [
       "                   A         B         C         D\n",
       "2013-01-01  0.396075  1.088798  0.422225 -0.284823\n",
       "2013-01-02  1.555711  1.577099  0.825273 -0.336002\n",
       "2013-01-03  1.376452  0.335137  1.853852 -0.946076"
      ]
     },
     "execution_count": 20,
     "metadata": {},
     "output_type": "execute_result"
    }
   ],
   "source": [
    "df[0:3]"
   ]
  },
  {
   "cell_type": "code",
   "execution_count": 25,
   "metadata": {
    "collapsed": false
   },
   "outputs": [
    {
     "data": {
      "text/html": [
       "<div style=\"max-height:1000px;max-width:1500px;overflow:auto;\">\n",
       "<table border=\"1\" class=\"dataframe\">\n",
       "  <thead>\n",
       "    <tr style=\"text-align: right;\">\n",
       "      <th></th>\n",
       "      <th>A</th>\n",
       "      <th>B</th>\n",
       "      <th>C</th>\n",
       "      <th>D</th>\n",
       "    </tr>\n",
       "  </thead>\n",
       "  <tbody>\n",
       "    <tr>\n",
       "      <th>2013-01-01</th>\n",
       "      <td>0.396075</td>\n",
       "      <td>1.088798</td>\n",
       "      <td>0.422225</td>\n",
       "      <td>-0.284823</td>\n",
       "    </tr>\n",
       "    <tr>\n",
       "      <th>2013-01-04</th>\n",
       "      <td>-0.943822</td>\n",
       "      <td>0.403838</td>\n",
       "      <td>0.184801</td>\n",
       "      <td>-0.857485</td>\n",
       "    </tr>\n",
       "  </tbody>\n",
       "</table>\n",
       "</div>"
      ],
      "text/plain": [
       "                   A         B         C         D\n",
       "2013-01-01  0.396075  1.088798  0.422225 -0.284823\n",
       "2013-01-04 -0.943822  0.403838  0.184801 -0.857485"
      ]
     },
     "execution_count": 25,
     "metadata": {},
     "output_type": "execute_result"
    }
   ],
   "source": [
    "evt = df[df.A<.5]\n",
    "evt"
   ]
  },
  {
   "cell_type": "code",
   "execution_count": 26,
   "metadata": {
    "collapsed": false
   },
   "outputs": [
    {
     "data": {
      "text/html": [
       "<div style=\"max-height:1000px;max-width:1500px;overflow:auto;\">\n",
       "<table border=\"1\" class=\"dataframe\">\n",
       "  <thead>\n",
       "    <tr style=\"text-align: right;\">\n",
       "      <th></th>\n",
       "      <th>A</th>\n",
       "      <th>B</th>\n",
       "      <th>C</th>\n",
       "      <th>D</th>\n",
       "    </tr>\n",
       "  </thead>\n",
       "  <tbody>\n",
       "    <tr>\n",
       "      <th>2013-01-01</th>\n",
       "      <td>0.396075</td>\n",
       "      <td>1.088798</td>\n",
       "      <td>0.422225</td>\n",
       "      <td>-0.284823</td>\n",
       "    </tr>\n",
       "  </tbody>\n",
       "</table>\n",
       "</div>"
      ],
      "text/plain": [
       "                   A         B         C         D\n",
       "2013-01-01  0.396075  1.088798  0.422225 -0.284823"
      ]
     },
     "execution_count": 26,
     "metadata": {},
     "output_type": "execute_result"
    }
   ],
   "source": [
    "evt = evt[evt.A>-.5]\n",
    "evt"
   ]
  },
  {
   "cell_type": "code",
   "execution_count": 28,
   "metadata": {
    "collapsed": false
   },
   "outputs": [
    {
     "data": {
      "text/html": [
       "<div style=\"max-height:1000px;max-width:1500px;overflow:auto;\">\n",
       "<table border=\"1\" class=\"dataframe\">\n",
       "  <thead>\n",
       "    <tr style=\"text-align: right;\">\n",
       "      <th></th>\n",
       "      <th>A</th>\n",
       "      <th>B</th>\n",
       "      <th>C</th>\n",
       "      <th>D</th>\n",
       "      <th>E</th>\n",
       "    </tr>\n",
       "  </thead>\n",
       "  <tbody>\n",
       "    <tr>\n",
       "      <th>2013-01-01</th>\n",
       "      <td>0.396075</td>\n",
       "      <td>1.088798</td>\n",
       "      <td>0.422225</td>\n",
       "      <td>-0.284823</td>\n",
       "      <td>one</td>\n",
       "    </tr>\n",
       "    <tr>\n",
       "      <th>2013-01-02</th>\n",
       "      <td>1.555711</td>\n",
       "      <td>1.577099</td>\n",
       "      <td>0.825273</td>\n",
       "      <td>-0.336002</td>\n",
       "      <td>two</td>\n",
       "    </tr>\n",
       "    <tr>\n",
       "      <th>2013-01-03</th>\n",
       "      <td>1.376452</td>\n",
       "      <td>0.335137</td>\n",
       "      <td>1.853852</td>\n",
       "      <td>-0.946076</td>\n",
       "      <td>three</td>\n",
       "    </tr>\n",
       "    <tr>\n",
       "      <th>2013-01-04</th>\n",
       "      <td>-0.943822</td>\n",
       "      <td>0.403838</td>\n",
       "      <td>0.184801</td>\n",
       "      <td>-0.857485</td>\n",
       "      <td>four</td>\n",
       "    </tr>\n",
       "    <tr>\n",
       "      <th>2013-01-05</th>\n",
       "      <td>1.302482</td>\n",
       "      <td>1.126506</td>\n",
       "      <td>0.390876</td>\n",
       "      <td>-0.592631</td>\n",
       "      <td>five</td>\n",
       "    </tr>\n",
       "    <tr>\n",
       "      <th>2013-01-06</th>\n",
       "      <td>0.580910</td>\n",
       "      <td>-1.546792</td>\n",
       "      <td>1.411944</td>\n",
       "      <td>-0.384268</td>\n",
       "      <td>six</td>\n",
       "    </tr>\n",
       "  </tbody>\n",
       "</table>\n",
       "</div>"
      ],
      "text/plain": [
       "                   A         B         C         D      E\n",
       "2013-01-01  0.396075  1.088798  0.422225 -0.284823    one\n",
       "2013-01-02  1.555711  1.577099  0.825273 -0.336002    two\n",
       "2013-01-03  1.376452  0.335137  1.853852 -0.946076  three\n",
       "2013-01-04 -0.943822  0.403838  0.184801 -0.857485   four\n",
       "2013-01-05  1.302482  1.126506  0.390876 -0.592631   five\n",
       "2013-01-06  0.580910 -1.546792  1.411944 -0.384268    six"
      ]
     },
     "execution_count": 28,
     "metadata": {},
     "output_type": "execute_result"
    }
   ],
   "source": [
    "df2 = df.copy()\n",
    "df2['E']=['one', 'two', 'three', 'four', 'five', 'six']\n",
    "df2"
   ]
  },
  {
   "cell_type": "code",
   "execution_count": 29,
   "metadata": {
    "collapsed": false
   },
   "outputs": [
    {
     "data": {
      "text/html": [
       "<div style=\"max-height:1000px;max-width:1500px;overflow:auto;\">\n",
       "<table border=\"1\" class=\"dataframe\">\n",
       "  <thead>\n",
       "    <tr style=\"text-align: right;\">\n",
       "      <th></th>\n",
       "      <th>A</th>\n",
       "      <th>B</th>\n",
       "      <th>C</th>\n",
       "      <th>D</th>\n",
       "      <th>E</th>\n",
       "    </tr>\n",
       "  </thead>\n",
       "  <tbody>\n",
       "    <tr>\n",
       "      <th>2013-01-02</th>\n",
       "      <td>1.555711</td>\n",
       "      <td>1.577099</td>\n",
       "      <td>0.825273</td>\n",
       "      <td>-0.336002</td>\n",
       "      <td>two</td>\n",
       "    </tr>\n",
       "    <tr>\n",
       "      <th>2013-01-04</th>\n",
       "      <td>-0.943822</td>\n",
       "      <td>0.403838</td>\n",
       "      <td>0.184801</td>\n",
       "      <td>-0.857485</td>\n",
       "      <td>four</td>\n",
       "    </tr>\n",
       "  </tbody>\n",
       "</table>\n",
       "</div>"
      ],
      "text/plain": [
       "                   A         B         C         D     E\n",
       "2013-01-02  1.555711  1.577099  0.825273 -0.336002   two\n",
       "2013-01-04 -0.943822  0.403838  0.184801 -0.857485  four"
      ]
     },
     "execution_count": 29,
     "metadata": {},
     "output_type": "execute_result"
    }
   ],
   "source": [
    "df2[df2['E'].isin(['two','four'])]"
   ]
  },
  {
   "cell_type": "code",
   "execution_count": 30,
   "metadata": {
    "collapsed": false
   },
   "outputs": [
    {
     "data": {
      "text/plain": [
       "2013-01-02    1\n",
       "2013-01-03    2\n",
       "2013-01-04    3\n",
       "2013-01-05    4\n",
       "2013-01-06    5\n",
       "2013-01-07    6\n",
       "Freq: D, dtype: int64"
      ]
     },
     "execution_count": 30,
     "metadata": {},
     "output_type": "execute_result"
    }
   ],
   "source": [
    "s1 = pd.Series([1,2,3,4,5,6],index=pd.date_range('20130102',periods=6))\n",
    "s1"
   ]
  },
  {
   "cell_type": "code",
   "execution_count": 31,
   "metadata": {
    "collapsed": false
   },
   "outputs": [
    {
     "data": {
      "text/html": [
       "<div style=\"max-height:1000px;max-width:1500px;overflow:auto;\">\n",
       "<table border=\"1\" class=\"dataframe\">\n",
       "  <thead>\n",
       "    <tr style=\"text-align: right;\">\n",
       "      <th></th>\n",
       "      <th>A</th>\n",
       "      <th>B</th>\n",
       "      <th>C</th>\n",
       "      <th>D</th>\n",
       "      <th>F</th>\n",
       "    </tr>\n",
       "  </thead>\n",
       "  <tbody>\n",
       "    <tr>\n",
       "      <th>2013-01-01</th>\n",
       "      <td>0.396075</td>\n",
       "      <td>1.088798</td>\n",
       "      <td>0.422225</td>\n",
       "      <td>-0.284823</td>\n",
       "      <td>NaN</td>\n",
       "    </tr>\n",
       "    <tr>\n",
       "      <th>2013-01-02</th>\n",
       "      <td>1.555711</td>\n",
       "      <td>1.577099</td>\n",
       "      <td>0.825273</td>\n",
       "      <td>-0.336002</td>\n",
       "      <td>1</td>\n",
       "    </tr>\n",
       "    <tr>\n",
       "      <th>2013-01-03</th>\n",
       "      <td>1.376452</td>\n",
       "      <td>0.335137</td>\n",
       "      <td>1.853852</td>\n",
       "      <td>-0.946076</td>\n",
       "      <td>2</td>\n",
       "    </tr>\n",
       "    <tr>\n",
       "      <th>2013-01-04</th>\n",
       "      <td>-0.943822</td>\n",
       "      <td>0.403838</td>\n",
       "      <td>0.184801</td>\n",
       "      <td>-0.857485</td>\n",
       "      <td>3</td>\n",
       "    </tr>\n",
       "    <tr>\n",
       "      <th>2013-01-05</th>\n",
       "      <td>1.302482</td>\n",
       "      <td>1.126506</td>\n",
       "      <td>0.390876</td>\n",
       "      <td>-0.592631</td>\n",
       "      <td>4</td>\n",
       "    </tr>\n",
       "    <tr>\n",
       "      <th>2013-01-06</th>\n",
       "      <td>0.580910</td>\n",
       "      <td>-1.546792</td>\n",
       "      <td>1.411944</td>\n",
       "      <td>-0.384268</td>\n",
       "      <td>5</td>\n",
       "    </tr>\n",
       "  </tbody>\n",
       "</table>\n",
       "</div>"
      ],
      "text/plain": [
       "                   A         B         C         D   F\n",
       "2013-01-01  0.396075  1.088798  0.422225 -0.284823 NaN\n",
       "2013-01-02  1.555711  1.577099  0.825273 -0.336002   1\n",
       "2013-01-03  1.376452  0.335137  1.853852 -0.946076   2\n",
       "2013-01-04 -0.943822  0.403838  0.184801 -0.857485   3\n",
       "2013-01-05  1.302482  1.126506  0.390876 -0.592631   4\n",
       "2013-01-06  0.580910 -1.546792  1.411944 -0.384268   5"
      ]
     },
     "execution_count": 31,
     "metadata": {},
     "output_type": "execute_result"
    }
   ],
   "source": [
    "df['F'] = s1\n",
    "df"
   ]
  },
  {
   "cell_type": "code",
   "execution_count": 33,
   "metadata": {
    "collapsed": false
   },
   "outputs": [
    {
     "data": {
      "text/html": [
       "<div style=\"max-height:1000px;max-width:1500px;overflow:auto;\">\n",
       "<table border=\"1\" class=\"dataframe\">\n",
       "  <thead>\n",
       "    <tr style=\"text-align: right;\">\n",
       "      <th></th>\n",
       "      <th>A</th>\n",
       "      <th>B</th>\n",
       "      <th>C</th>\n",
       "      <th>D</th>\n",
       "      <th>E</th>\n",
       "    </tr>\n",
       "  </thead>\n",
       "  <tbody>\n",
       "    <tr>\n",
       "      <th>0</th>\n",
       "      <td>one</td>\n",
       "      <td>A</td>\n",
       "      <td>foo</td>\n",
       "      <td>0.106971</td>\n",
       "      <td>0.550063</td>\n",
       "    </tr>\n",
       "    <tr>\n",
       "      <th>1</th>\n",
       "      <td>one</td>\n",
       "      <td>B</td>\n",
       "      <td>foo</td>\n",
       "      <td>0.054885</td>\n",
       "      <td>0.524655</td>\n",
       "    </tr>\n",
       "    <tr>\n",
       "      <th>2</th>\n",
       "      <td>two</td>\n",
       "      <td>C</td>\n",
       "      <td>foo</td>\n",
       "      <td>-1.605585</td>\n",
       "      <td>-1.616052</td>\n",
       "    </tr>\n",
       "    <tr>\n",
       "      <th>3</th>\n",
       "      <td>three</td>\n",
       "      <td>A</td>\n",
       "      <td>bar</td>\n",
       "      <td>0.717902</td>\n",
       "      <td>-0.474685</td>\n",
       "    </tr>\n",
       "    <tr>\n",
       "      <th>4</th>\n",
       "      <td>one</td>\n",
       "      <td>B</td>\n",
       "      <td>bar</td>\n",
       "      <td>0.001809</td>\n",
       "      <td>-0.854278</td>\n",
       "    </tr>\n",
       "    <tr>\n",
       "      <th>5</th>\n",
       "      <td>one</td>\n",
       "      <td>C</td>\n",
       "      <td>bar</td>\n",
       "      <td>-0.166221</td>\n",
       "      <td>0.799944</td>\n",
       "    </tr>\n",
       "    <tr>\n",
       "      <th>6</th>\n",
       "      <td>two</td>\n",
       "      <td>A</td>\n",
       "      <td>foo</td>\n",
       "      <td>0.875039</td>\n",
       "      <td>2.021538</td>\n",
       "    </tr>\n",
       "    <tr>\n",
       "      <th>7</th>\n",
       "      <td>three</td>\n",
       "      <td>B</td>\n",
       "      <td>foo</td>\n",
       "      <td>1.089635</td>\n",
       "      <td>-0.274905</td>\n",
       "    </tr>\n",
       "    <tr>\n",
       "      <th>8</th>\n",
       "      <td>one</td>\n",
       "      <td>C</td>\n",
       "      <td>foo</td>\n",
       "      <td>0.607103</td>\n",
       "      <td>1.430830</td>\n",
       "    </tr>\n",
       "    <tr>\n",
       "      <th>9</th>\n",
       "      <td>one</td>\n",
       "      <td>A</td>\n",
       "      <td>bar</td>\n",
       "      <td>0.009383</td>\n",
       "      <td>0.914587</td>\n",
       "    </tr>\n",
       "    <tr>\n",
       "      <th>10</th>\n",
       "      <td>two</td>\n",
       "      <td>B</td>\n",
       "      <td>bar</td>\n",
       "      <td>0.371944</td>\n",
       "      <td>1.642694</td>\n",
       "    </tr>\n",
       "    <tr>\n",
       "      <th>11</th>\n",
       "      <td>three</td>\n",
       "      <td>C</td>\n",
       "      <td>bar</td>\n",
       "      <td>-1.085215</td>\n",
       "      <td>0.019637</td>\n",
       "    </tr>\n",
       "  </tbody>\n",
       "</table>\n",
       "</div>"
      ],
      "text/plain": [
       "        A  B    C         D         E\n",
       "0     one  A  foo  0.106971  0.550063\n",
       "1     one  B  foo  0.054885  0.524655\n",
       "2     two  C  foo -1.605585 -1.616052\n",
       "3   three  A  bar  0.717902 -0.474685\n",
       "4     one  B  bar  0.001809 -0.854278\n",
       "5     one  C  bar -0.166221  0.799944\n",
       "6     two  A  foo  0.875039  2.021538\n",
       "7   three  B  foo  1.089635 -0.274905\n",
       "8     one  C  foo  0.607103  1.430830\n",
       "9     one  A  bar  0.009383  0.914587\n",
       "10    two  B  bar  0.371944  1.642694\n",
       "11  three  C  bar -1.085215  0.019637"
      ]
     },
     "execution_count": 33,
     "metadata": {},
     "output_type": "execute_result"
    }
   ],
   "source": [
    "df = pd.DataFrame({\n",
    "    'A' : ['one', 'one', 'two', 'three'] * 3,\n",
    "    'B' : ['A', 'B', 'C'] * 4,\n",
    "    'C' : ['foo', 'foo', 'foo', 'bar', 'bar', 'bar'] * 2,\n",
    "    'D' : np.random.randn(12),\n",
    "    'E' : np.random.randn(12)\n",
    "})\n",
    "df"
   ]
  },
  {
   "cell_type": "code",
   "execution_count": 35,
   "metadata": {
    "collapsed": false
   },
   "outputs": [
    {
     "data": {
      "text/html": [
       "<div style=\"max-height:1000px;max-width:1500px;overflow:auto;\">\n",
       "<table border=\"1\" class=\"dataframe\">\n",
       "  <thead>\n",
       "    <tr style=\"text-align: right;\">\n",
       "      <th></th>\n",
       "      <th>C</th>\n",
       "      <th>bar</th>\n",
       "      <th>foo</th>\n",
       "    </tr>\n",
       "    <tr>\n",
       "      <th>A</th>\n",
       "      <th>B</th>\n",
       "      <th></th>\n",
       "      <th></th>\n",
       "    </tr>\n",
       "  </thead>\n",
       "  <tbody>\n",
       "    <tr>\n",
       "      <th rowspan=\"3\" valign=\"top\">one</th>\n",
       "      <th>A</th>\n",
       "      <td>0.009383</td>\n",
       "      <td>0.106971</td>\n",
       "    </tr>\n",
       "    <tr>\n",
       "      <th>B</th>\n",
       "      <td>0.001809</td>\n",
       "      <td>0.054885</td>\n",
       "    </tr>\n",
       "    <tr>\n",
       "      <th>C</th>\n",
       "      <td>-0.166221</td>\n",
       "      <td>0.607103</td>\n",
       "    </tr>\n",
       "    <tr>\n",
       "      <th rowspan=\"3\" valign=\"top\">three</th>\n",
       "      <th>A</th>\n",
       "      <td>0.717902</td>\n",
       "      <td>NaN</td>\n",
       "    </tr>\n",
       "    <tr>\n",
       "      <th>B</th>\n",
       "      <td>NaN</td>\n",
       "      <td>1.089635</td>\n",
       "    </tr>\n",
       "    <tr>\n",
       "      <th>C</th>\n",
       "      <td>-1.085215</td>\n",
       "      <td>NaN</td>\n",
       "    </tr>\n",
       "    <tr>\n",
       "      <th rowspan=\"3\" valign=\"top\">two</th>\n",
       "      <th>A</th>\n",
       "      <td>NaN</td>\n",
       "      <td>0.875039</td>\n",
       "    </tr>\n",
       "    <tr>\n",
       "      <th>B</th>\n",
       "      <td>0.371944</td>\n",
       "      <td>NaN</td>\n",
       "    </tr>\n",
       "    <tr>\n",
       "      <th>C</th>\n",
       "      <td>NaN</td>\n",
       "      <td>-1.605585</td>\n",
       "    </tr>\n",
       "  </tbody>\n",
       "</table>\n",
       "</div>"
      ],
      "text/plain": [
       "C             bar       foo\n",
       "A     B                    \n",
       "one   A  0.009383  0.106971\n",
       "      B  0.001809  0.054885\n",
       "      C -0.166221  0.607103\n",
       "three A  0.717902       NaN\n",
       "      B       NaN  1.089635\n",
       "      C -1.085215       NaN\n",
       "two   A       NaN  0.875039\n",
       "      B  0.371944       NaN\n",
       "      C       NaN -1.605585"
      ]
     },
     "execution_count": 35,
     "metadata": {},
     "output_type": "execute_result"
    }
   ],
   "source": [
    "pd.pivot_table(df, values='D', index=['A', 'B'], columns=['C'])"
   ]
  },
  {
   "cell_type": "code",
   "execution_count": 36,
   "metadata": {
    "collapsed": false
   },
   "outputs": [
    {
     "data": {
      "text/plain": [
       "<class 'pandas.tseries.index.DatetimeIndex'>\n",
       "[2012-01-01 00:00:00, ..., 2012-01-01 00:01:39]\n",
       "Length: 100, Freq: S, Timezone: None"
      ]
     },
     "execution_count": 36,
     "metadata": {},
     "output_type": "execute_result"
    }
   ],
   "source": [
    "rng = pd.date_range('1/1/2012', periods=100, freq='S')\n",
    "rng"
   ]
  },
  {
   "cell_type": "code",
   "execution_count": 37,
   "metadata": {
    "collapsed": false
   },
   "outputs": [
    {
     "data": {
      "text/plain": [
       "2012-01-01 00:00:00     35\n",
       "2012-01-01 00:00:01    398\n",
       "2012-01-01 00:00:02    149\n",
       "2012-01-01 00:00:03    480\n",
       "2012-01-01 00:00:04    328\n",
       "2012-01-01 00:00:05    436\n",
       "2012-01-01 00:00:06    292\n",
       "2012-01-01 00:00:07    332\n",
       "2012-01-01 00:00:08     86\n",
       "2012-01-01 00:00:09     91\n",
       "2012-01-01 00:00:10    103\n",
       "2012-01-01 00:00:11    168\n",
       "2012-01-01 00:00:12    201\n",
       "2012-01-01 00:00:13    108\n",
       "2012-01-01 00:00:14    221\n",
       "2012-01-01 00:00:15     39\n",
       "2012-01-01 00:00:16    324\n",
       "2012-01-01 00:00:17    465\n",
       "2012-01-01 00:00:18    354\n",
       "2012-01-01 00:00:19    258\n",
       "2012-01-01 00:00:20    178\n",
       "2012-01-01 00:00:21     69\n",
       "2012-01-01 00:00:22    128\n",
       "2012-01-01 00:00:23    394\n",
       "2012-01-01 00:00:24    314\n",
       "2012-01-01 00:00:25    241\n",
       "2012-01-01 00:00:26    273\n",
       "2012-01-01 00:00:27    398\n",
       "2012-01-01 00:00:28    305\n",
       "2012-01-01 00:00:29    413\n",
       "                      ... \n",
       "2012-01-01 00:01:10    202\n",
       "2012-01-01 00:01:11     19\n",
       "2012-01-01 00:01:12    379\n",
       "2012-01-01 00:01:13    116\n",
       "2012-01-01 00:01:14    315\n",
       "2012-01-01 00:01:15    364\n",
       "2012-01-01 00:01:16    138\n",
       "2012-01-01 00:01:17     30\n",
       "2012-01-01 00:01:18    393\n",
       "2012-01-01 00:01:19    360\n",
       "2012-01-01 00:01:20     82\n",
       "2012-01-01 00:01:21    284\n",
       "2012-01-01 00:01:22    352\n",
       "2012-01-01 00:01:23     25\n",
       "2012-01-01 00:01:24    178\n",
       "2012-01-01 00:01:25    268\n",
       "2012-01-01 00:01:26    441\n",
       "2012-01-01 00:01:27    201\n",
       "2012-01-01 00:01:28    452\n",
       "2012-01-01 00:01:29    126\n",
       "2012-01-01 00:01:30     95\n",
       "2012-01-01 00:01:31     80\n",
       "2012-01-01 00:01:32    387\n",
       "2012-01-01 00:01:33    465\n",
       "2012-01-01 00:01:34    205\n",
       "2012-01-01 00:01:35    188\n",
       "2012-01-01 00:01:36     89\n",
       "2012-01-01 00:01:37    422\n",
       "2012-01-01 00:01:38    166\n",
       "2012-01-01 00:01:39    434\n",
       "Freq: S, dtype: int64"
      ]
     },
     "execution_count": 37,
     "metadata": {},
     "output_type": "execute_result"
    }
   ],
   "source": [
    "ts = pd.Series(np.random.randint(0, 500, len(rng)), index=rng)\n",
    "ts"
   ]
  },
  {
   "cell_type": "code",
   "execution_count": 38,
   "metadata": {
    "collapsed": false
   },
   "outputs": [
    {
     "data": {
      "text/plain": [
       "2012-01-01    24249\n",
       "Freq: 5T, dtype: int64"
      ]
     },
     "execution_count": 38,
     "metadata": {},
     "output_type": "execute_result"
    }
   ],
   "source": [
    "ts.resample('5Min', how='sum')"
   ]
  },
  {
   "cell_type": "code",
   "execution_count": 2,
   "metadata": {
    "collapsed": false
   },
   "outputs": [
    {
     "data": {
      "text/plain": [
       "<matplotlib.axes._subplots.AxesSubplot at 0x7fe029779438>"
      ]
     },
     "execution_count": 2,
     "metadata": {},
     "output_type": "execute_result"
    },
    {
     "data": {
      "image/png": "[encoded data removed]",
      "text/plain": [
       "<matplotlib.figure.Figure at 0x7fe029c11c18>"
      ]
     },
     "metadata": {},
     "output_type": "display_data"
    }
   ],
   "source": [
    "ts = pd.Series(np.random.randn(1000), index=pd.date_range('1/1/2015', periods=1000))\n",
    "ts = ts.cumsum()\n",
    "ts.plot()"
   ]
  },
  {
   "cell_type": "code",
   "execution_count": 3,
   "metadata": {
    "collapsed": false
   },
   "outputs": [
    {
     "data": {
      "text/plain": [
       "<matplotlib.legend.Legend at 0x7fe0296b95f8>"
      ]
     },
     "execution_count": 3,
     "metadata": {},
     "output_type": "execute_result"
    },
    {
     "data": {
      "text/plain": [
       "<matplotlib.figure.Figure at 0x7fe0296e11d0>"
      ]
     },
     "metadata": {},
     "output_type": "display_data"
    },
    {
     "data": {
      "image/png": "[encoded data removed]",
      "text/plain": [
       "<matplotlib.figure.Figure at 0x7fe0296b9278>"
      ]
     },
     "metadata": {},
     "output_type": "display_data"
    }
   ],
   "source": [
    "df = pd.DataFrame(\n",
    "    np.random.randn(1000, 4), index=ts.index,\n",
    "    columns=['A', 'B', 'C', 'D']\n",
    ")\n",
    "df = df.cumsum()\n",
    "plt.figure(); df.plot(); plt.legend(loc='best')"
   ]
  },
  {
   "cell_type": "code",
   "execution_count": null,
   "metadata": {
    "collapsed": false
   },
   "outputs": [],
   "source": []
  }
 ],
 "metadata": {
  "kernelspec": {
   "display_name": "Python 3",
   "language": "python",
   "name": "python3"
  },
  "language_info": {
   "codemirror_mode": {
    "name": "ipython",
    "version": 3
   },
   "file_extension": ".py",
   "mimetype": "text/x-python",
   "name": "python",
   "nbconvert_exporter": "python",
   "pygments_lexer": "ipython3",
   "version": "3.5.3"
  }
 },
 "nbformat": 4,
 "nbformat_minor": 0
}
