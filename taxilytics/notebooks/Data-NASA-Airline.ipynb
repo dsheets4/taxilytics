{
 "cells": [
  {
   "cell_type": "code",
   "execution_count": 1,
   "metadata": {
    "collapsed": false
   },
   "outputs": [
    {
     "name": "stdout",
     "output_type": "stream",
     "text": [
      "Populating the interactive namespace from numpy and matplotlib\n"
     ]
    }
   ],
   "source": [
    "%matplotlib inline\n",
    "%pylab inline\n",
    "\n",
    "import matplotlib.pyplot as plt\n",
    "import matplotlib\n",
    "matplotlib.style.use('ggplot')\n",
    "\n",
    "figsize(15, 5)\n",
    "\n",
    "data_dir = '/home/dingbat/data/aviation/nasa/corrected'"
   ]
  },
  {
   "cell_type": "markdown",
   "metadata": {},
   "source": [
    "## Read in the NASA MATLAB File"
   ]
  },
  {
   "cell_type": "markdown",
   "metadata": {},
   "source": [
    "The scipy package offers the ability to load data files from a variety of sources.  MATLAB has actually migrated to using HDF-5 files since they serve well for general series data.  However, the NASA data files are the previous MATLAB format and scipy doesn't have any issue with them.  The following cells provide some information on loading the data and what you get afterward."
   ]
  },
  {
   "cell_type": "code",
   "execution_count": 2,
   "metadata": {
    "collapsed": false
   },
   "outputs": [
    {
     "data": {
      "text/plain": [
       "'/home/dingbat/data/aviation/nasa/corrected/652/652200305311132.mat'"
      ]
     },
     "execution_count": 2,
     "metadata": {},
     "output_type": "execute_result"
    }
   ],
   "source": [
    "import os\n",
    "filename = os.path.join(data_dir, '652/652200305311132.mat')\n",
    "filename"
   ]
  },
  {
   "cell_type": "code",
   "execution_count": 3,
   "metadata": {
    "collapsed": false
   },
   "outputs": [
    {
     "data": {
      "text/plain": [
       "'652'"
      ]
     },
     "execution_count": 3,
     "metadata": {},
     "output_type": "execute_result"
    }
   ],
   "source": [
    "import re\n",
    "RE_FROM_FILENAME = re.compile(\n",
    "    '(\\d{3})(\\d{4})(\\d{2})(\\d{2})(\\d{2})(\\d{2})'\n",
    ")\n",
    "id_idx = 1\n",
    "year_idx = 2\n",
    "mon_idx = 3\n",
    "day_idx = 4\n",
    "hour_idx = 5\n",
    "min_idx = 6\n",
    "filename_data = re.match(\n",
    "    RE_FROM_FILENAME,\n",
    "    os.path.splitext(os.path.split(filename)[1])[0]\n",
    ")\n",
    "filename_data.group(id_idx)"
   ]
  },
  {
   "cell_type": "code",
   "execution_count": 4,
   "metadata": {
    "collapsed": false
   },
   "outputs": [
    {
     "data": {
      "text/plain": [
       "189"
      ]
     },
     "execution_count": 4,
     "metadata": {},
     "output_type": "execute_result"
    }
   ],
   "source": [
    "import scipy.io as sio\n",
    "mat = sio.loadmat(\n",
    "    filename,\n",
    "    squeeze_me=True,\n",
    "    struct_as_record=False\n",
    ")\n",
    "len(mat)"
   ]
  },
  {
   "cell_type": "code",
   "execution_count": 5,
   "metadata": {
    "collapsed": false
   },
   "outputs": [
    {
     "data": {
      "text/plain": [
       "dict"
      ]
     },
     "execution_count": 5,
     "metadata": {},
     "output_type": "execute_result"
    }
   ],
   "source": [
    "type(mat)"
   ]
  },
  {
   "cell_type": "code",
   "execution_count": 6,
   "metadata": {
    "collapsed": false
   },
   "outputs": [
    {
     "data": {
      "text/plain": [
       "False"
      ]
     },
     "execution_count": 6,
     "metadata": {},
     "output_type": "execute_result"
    }
   ],
   "source": [
    "'StartTimeVec' in mat"
   ]
  },
  {
   "cell_type": "code",
   "execution_count": 7,
   "metadata": {
    "collapsed": false
   },
   "outputs": [
    {
     "data": {
      "text/plain": [
       "scipy.io.matlab.mio5_params.mat_struct"
      ]
     },
     "execution_count": 7,
     "metadata": {},
     "output_type": "execute_result"
    }
   ],
   "source": [
    "type(mat['DATE_YEAR'])"
   ]
  },
  {
   "cell_type": "code",
   "execution_count": 8,
   "metadata": {
    "collapsed": false
   },
   "outputs": [
    {
     "data": {
      "text/plain": [
       "numpy.ndarray"
      ]
     },
     "execution_count": 8,
     "metadata": {},
     "output_type": "execute_result"
    }
   ],
   "source": [
    "type(mat['DATE_YEAR'].data)"
   ]
  },
  {
   "cell_type": "code",
   "execution_count": 11,
   "metadata": {
    "collapsed": false
   },
   "outputs": [
    {
     "data": {
      "text/plain": [
       "2003"
      ]
     },
     "execution_count": 11,
     "metadata": {},
     "output_type": "execute_result"
    }
   ],
   "source": [
    "mat['DATE_YEAR'].data[0]"
   ]
  },
  {
   "cell_type": "code",
   "execution_count": 10,
   "metadata": {
    "collapsed": false
   },
   "outputs": [
    {
     "data": {
      "text/plain": [
       "701"
      ]
     },
     "execution_count": 10,
     "metadata": {},
     "output_type": "execute_result"
    }
   ],
   "source": [
    "len(mat['DATE_YEAR'].data)"
   ]
  },
  {
   "cell_type": "code",
   "execution_count": 12,
   "metadata": {
    "collapsed": false
   },
   "outputs": [
    {
     "data": {
      "text/plain": [
       "{'Units': 'Year',\n",
       " 'Alpha': 'DATE.YEAR',\n",
       " '_fieldnames': ['data', 'Rate', 'Units', 'Description', 'Alpha'],\n",
       " 'Description': 'Date (Year)',\n",
       " 'data': array([2003, 2003, 2003, 2003, 2003, 2003, 2003, 2003, 2003, 2003, 2003,\n",
       "        2003, 2003, 2003, 2003, 2003, 2003, 2003, 2003, 2003, 2003, 2003,\n",
       "        2003, 2003, 2003, 2003, 2003, 2003, 2003, 2003, 2003, 2003, 2003,\n",
       "        2003, 2003, 2003, 2003, 2003, 2003, 2003, 2003, 2003, 2003, 2003,\n",
       "        2003, 2003, 2003, 2003, 2003, 2003, 2003, 2003, 2003, 2003, 2003,\n",
       "        2003, 2003, 2003, 2003, 2003, 2003, 2003, 2003, 2003, 2003, 2003,\n",
       "        2003, 2003, 2003, 2003, 2003, 2003, 2003, 2003, 2003, 2003, 2003,\n",
       "        2003, 2003, 2003, 2003, 2003, 2003, 2003, 2003, 2003, 2003, 2003,\n",
       "        2003, 2003, 2003, 2003, 2003, 2003, 2003, 2003, 2003, 2003, 2003,\n",
       "        2003, 2003, 2003, 2003, 2003, 2003, 2003, 2003, 2003, 2003, 2003,\n",
       "        2003, 2003, 2003, 2003, 2003, 2003, 2003, 2003, 2003, 2003, 2003,\n",
       "        2003, 2003, 2003, 2003, 2003, 2003, 2003, 2003, 2003, 2003, 2003,\n",
       "        2003, 2003, 2003, 2003, 2003, 2003, 2003, 2003, 2003, 2003, 2003,\n",
       "        2003, 2003, 2003, 2003, 2003, 2003, 2003, 2003, 2003, 2003, 2003,\n",
       "        2003, 2003, 2003, 2003, 2003, 2003, 2003, 2003, 2003, 2003, 2003,\n",
       "        2003, 2003, 2003, 2003, 2003, 2003, 2003, 2003, 2003, 2003, 2003,\n",
       "        2003, 2003, 2003, 2003, 2003, 2003, 2003, 2003, 2003, 2003, 2003,\n",
       "        2003, 2003, 2003, 2003, 2003, 2003, 2003, 2003, 2003, 2003, 2003,\n",
       "        2003, 2003, 2003, 2003, 2003, 2003, 2003, 2003, 2003, 2003, 2003,\n",
       "        2003, 2003, 2003, 2003, 2003, 2003, 2003, 2003, 2003, 2003, 2003,\n",
       "        2003, 2003, 2003, 2003, 2003, 2003, 2003, 2003, 2003, 2003, 2003,\n",
       "        2003, 2003, 2003, 2003, 2003, 2003, 2003, 2003, 2003, 2003, 2003,\n",
       "        2003, 2003, 2003, 2003, 2003, 2003, 2003, 2003, 2003, 2003, 2003,\n",
       "        2003, 2003, 2003, 2003, 2003, 2003, 2003, 2003, 2003, 2003, 2003,\n",
       "        2003, 2003, 2003, 2003, 2003, 2003, 2003, 2003, 2003, 2003, 2003,\n",
       "        2003, 2003, 2003, 2003, 2003, 2003, 2003, 2003, 2003, 2003, 2003,\n",
       "        2003, 2003, 2003, 2003, 2003, 2003, 2003, 2003, 2003, 2003, 2003,\n",
       "        2003, 2003, 2003, 2003, 2003, 2003, 2003, 2003, 2003, 2003, 2003,\n",
       "        2003, 2003, 2003, 2003, 2003, 2003, 2003, 2003, 2003, 2003, 2003,\n",
       "        2003, 2003, 2003, 2003, 2003, 2003, 2003, 2003, 2003, 2003, 2003,\n",
       "        2003, 2003, 2003, 2003, 2003, 2003, 2003, 2003, 2003, 2003, 2003,\n",
       "        2003, 2003, 2003, 2003, 2003, 2003, 2003, 2003, 2003, 2003, 2003,\n",
       "        2003, 2003, 2003, 2003, 2003, 2003, 2003, 2003, 2003, 2003, 2003,\n",
       "        2003, 2003, 2003, 2003, 2003, 2003, 2003, 2003, 2003, 2003, 2003,\n",
       "        2003, 2003, 2003, 2003, 2003, 2003, 2003, 2003, 2003, 2003, 2003,\n",
       "        2003, 2003, 2003, 2003, 2003, 2003, 2003, 2003, 2003, 2003, 2003,\n",
       "        2003, 2003, 2003, 2003, 2003, 2003, 2003, 2003, 2003, 2003, 2003,\n",
       "        2003, 2003, 2003, 2003, 2003, 2003, 2003, 2003, 2003, 2003, 2003,\n",
       "        2003, 2003, 2003, 2003, 2003, 2003, 2003, 2003, 2003, 2003, 2003,\n",
       "        2003, 2003, 2003, 2003, 2003, 2003, 2003, 2003, 2003, 2003, 2003,\n",
       "        2003, 2003, 2003, 2003, 2003, 2003, 2003, 2003, 2003, 2003, 2003,\n",
       "        2003, 2003, 2003, 2003, 2003, 2003, 2003, 2003, 2003, 2003, 2003,\n",
       "        2003, 2003, 2003, 2003, 2003, 2003, 2003, 2003, 2003, 2003, 2003,\n",
       "        2003, 2003, 2003, 2003, 2003, 2003, 2003, 2003, 2003, 2003, 2003,\n",
       "        2003, 2003, 2003, 2003, 2003, 2003, 2003, 2003, 2003, 2003, 2003,\n",
       "        2003, 2003, 2003, 2003, 2003, 2003, 2003, 2003, 2003, 2003, 2003,\n",
       "        2003, 2003, 2003, 2003, 2003, 2003, 2003, 2003, 2003, 2003, 2003,\n",
       "        2003, 2003, 2003, 2003, 2003, 2003, 2003, 2003, 2003, 2003, 2003,\n",
       "        2003, 2003, 2003, 2003, 2003, 2003, 2003, 2003, 2003, 2003, 2003,\n",
       "        2003, 2003, 2003, 2003, 2003, 2003, 2003, 2003, 2003, 2003, 2003,\n",
       "        2003, 2003, 2003, 2003, 2003, 2003, 2003, 2003, 2003, 2003, 2003,\n",
       "        2003, 2003, 2003, 2003, 2003, 2003, 2003, 2003, 2003, 2003, 2003,\n",
       "        2003, 2003, 2003, 2003, 2003, 2003, 2003, 2003, 2003, 2003, 2003,\n",
       "        2003, 2003, 2003, 2003, 2003, 2003, 2003, 2003, 2003, 2003, 2003,\n",
       "        2003, 2003, 2003, 2003, 2003, 2003, 2003, 2003, 2003, 2003, 2003,\n",
       "        2003, 2003, 2003, 2003, 2003, 2003, 2003, 2003, 2003, 2003, 2003,\n",
       "        2003, 2003, 2003, 2003, 2003, 2003, 2003, 2003, 2003, 2003, 2003,\n",
       "        2003, 2003, 2003, 2003, 2003, 2003, 2003, 2003, 2003, 2003, 2003,\n",
       "        2003, 2003, 2003, 2003, 2003, 2003, 2003, 2003, 2003, 2003, 2003,\n",
       "        2003, 2003, 2003, 2003, 2003, 2003, 2003, 2003, 2003, 2003, 2003,\n",
       "        2003, 2003, 2003, 2003, 2003, 2003, 2003, 2003, 2003, 2003, 2003,\n",
       "        2003, 2003, 2003, 2003, 2003, 2003, 2003, 2003, 2003, 2003, 2003,\n",
       "        2003, 2003, 2003, 2003, 2003, 2003, 2003, 2003, 2003, 2003, 2003,\n",
       "        2003, 2003, 2003, 2003, 2003, 2165, 2165, 2165], dtype=uint16),\n",
       " 'Rate': 0.25}"
      ]
     },
     "execution_count": 12,
     "metadata": {},
     "output_type": "execute_result"
    }
   ],
   "source": [
    "vars(mat['DATE_YEAR'])"
   ]
  },
  {
   "cell_type": "code",
   "execution_count": 13,
   "metadata": {
    "collapsed": false
   },
   "outputs": [
    {
     "data": {
      "text/plain": [
       "0.25"
      ]
     },
     "execution_count": 13,
     "metadata": {},
     "output_type": "execute_result"
    }
   ],
   "source": [
    "mat['DATE_YEAR'].Rate"
   ]
  },
  {
   "cell_type": "code",
   "execution_count": 14,
   "metadata": {
    "collapsed": false
   },
   "outputs": [
    {
     "data": {
      "text/plain": [
       "2"
      ]
     },
     "execution_count": 14,
     "metadata": {},
     "output_type": "execute_result"
    }
   ],
   "source": [
    "mat['GMT_MINUTE'].Rate"
   ]
  },
  {
   "cell_type": "code",
   "execution_count": 15,
   "metadata": {
    "collapsed": false
   },
   "outputs": [
    {
     "data": {
      "text/plain": [
       "'5/31/2003 113118'"
      ]
     },
     "execution_count": 15,
     "metadata": {},
     "output_type": "execute_result"
    }
   ],
   "source": [
    "start_date = '{}/{}/{} {}{}{}'.format(\n",
    "    mat['DATE_MONTH'].data[0],\n",
    "    mat['DATE_DAY'].data[0],\n",
    "    mat['DATE_YEAR'].data[0],\n",
    "    mat['GMT_HOUR'].data[0],\n",
    "    mat['GMT_MINUTE'].data[0],\n",
    "    mat['GMT_SEC'].data[0]\n",
    ")\n",
    "start_date"
   ]
  },
  {
   "cell_type": "code",
   "execution_count": 16,
   "metadata": {
    "collapsed": false
   },
   "outputs": [
    {
     "data": {
      "text/plain": [
       "(Timestamp('2003-05-31 11:31:18+0000', tz='UTC+00:00', offset='4000L'),\n",
       " Timestamp('2003-05-31 11:31:22+0000', tz='UTC+00:00', offset='4000L'))"
      ]
     },
     "execution_count": 16,
     "metadata": {},
     "output_type": "execute_result"
    }
   ],
   "source": [
    "import pandas as pd\n",
    "from datetime import timezone\n",
    "\n",
    "param = mat['DATE_YEAR']\n",
    "timestamps = pd.date_range(\n",
    "    start_date,\n",
    "    periods=len(param.data),\n",
    "    freq='{}L'.format(int(1000*(1.0/param.Rate))),\n",
    "    tz=timezone.utc,\n",
    ")\n",
    "timestamps[0], timestamps[1]"
   ]
  },
  {
   "cell_type": "markdown",
   "metadata": {},
   "source": [
    "## How to Create the Time-Series Data"
   ]
  },
  {
   "cell_type": "markdown",
   "metadata": {},
   "source": [
    "First we need to sort the data because the varying series have to be created individually."
   ]
  },
  {
   "cell_type": "code",
   "execution_count": 17,
   "metadata": {
    "collapsed": false
   },
   "outputs": [],
   "source": [
    "d = {}  # Time series data\n",
    "m = {}  # Meta data\n",
    "for p in mat:\n",
    "    param = mat[p]\n",
    "    # print(p, type(param))\n",
    "    if isinstance(param, sio.matlab.mio5_params.mat_struct):\n",
    "        if param.Rate not in d:\n",
    "            d[param.Rate] = {\n",
    "                'p': {},\n",
    "                't': pd.date_range(\n",
    "                    start_date,\n",
    "                    periods=len(param.data),\n",
    "                    freq='{}U'.format(int(1000000*(1.0/param.Rate))),\n",
    "                    tz=timezone.utc,\n",
    "                    name='timestamp'\n",
    "                ),\n",
    "                'm': {}\n",
    "            }\n",
    "        d[param.Rate]['p'][p] = param.data\n",
    "        d[param.Rate]['m'][p] = {\n",
    "            'rate': param.Rate,\n",
    "            'units': param.Units,\n",
    "            'alpha': param.Alpha,\n",
    "            'description': param.Description\n",
    "        }\n",
    "    else:\n",
    "        m[p] = param"
   ]
  },
  {
   "cell_type": "markdown",
   "metadata": {},
   "source": [
    "The data is organized by rates and then a dataframe is created per rate."
   ]
  },
  {
   "cell_type": "code",
   "execution_count": 18,
   "metadata": {
    "collapsed": false
   },
   "outputs": [
    {
     "data": {
      "text/plain": [
       "[                           ACID  DATE_DAY  DATE_MONTH\n",
       " timestamp                                            \n",
       " 2003-05-31 11:31:18+00:00   652        31           5\n",
       " 2003-05-31 11:31:22+00:00   652        31           5,\n",
       "                                  ABRK  ACMT      AIL_1\n",
       " timestamp                                             \n",
       " 2003-05-31 11:31:18+00:00  119.983559    66  87.766838\n",
       " 2003-05-31 11:31:19+00:00  119.983559    66  87.766838,\n",
       "                                   APUF  CCPC  CCPF\n",
       " timestamp                                         \n",
       " 2003-05-31 11:31:18+00:00            0    20  1930\n",
       " 2003-05-31 11:31:18.500000+00:00     0    20  1930,\n",
       "                                   ALT  ALTR      AOA1\n",
       " timestamp                                            \n",
       " 2003-05-31 11:31:18+00:00         675   -32 -4.042937\n",
       " 2003-05-31 11:31:18.250000+00:00  675   -16 -4.042937,\n",
       "                                       BLAC  CTAC  FPAC\n",
       " timestamp                                             \n",
       " 2003-05-31 11:31:18+00:00         0.006839     0     0\n",
       " 2003-05-31 11:31:18.062500+00:00  0.007816     0     0,\n",
       "                                       PTCH   RALT      ROLL\n",
       " timestamp                                                  \n",
       " 2003-05-31 11:31:18+00:00         0.131832 -0.375 -0.208735\n",
       " 2003-05-31 11:31:18.125000+00:00  0.131832 -0.250 -0.208735]"
      ]
     },
     "execution_count": 18,
     "metadata": {},
     "output_type": "execute_result"
    }
   ],
   "source": [
    "params = {}\n",
    "for k, v in d.items():\n",
    "    rate_params = v\n",
    "    params[k] = pd.DataFrame(rate_params['p'], index=rate_params['t'])\n",
    "[p.iloc[:2, :3] for p in params.values()]  # Select 2 rows from each data"
   ]
  },
  {
   "cell_type": "code",
   "execution_count": 19,
   "metadata": {
    "collapsed": false
   },
   "outputs": [
    {
     "data": {
      "text/plain": [
       "{'__version__': '1.0',\n",
       " '__header__': b'MATLAB 5.0 MAT-file, Platform: GLNXA64, Created on: Tue Jan 28 10:53:16 2014',\n",
       " '__globals__': []}"
      ]
     },
     "execution_count": 19,
     "metadata": {},
     "output_type": "execute_result"
    }
   ],
   "source": [
    "m"
   ]
  },
  {
   "cell_type": "markdown",
   "metadata": {},
   "source": [
    "**Option 2**: Create a single data frame for each rate group.  This ends up being the join of all the current data frames into a single frame."
   ]
  },
  {
   "cell_type": "code",
   "execution_count": 20,
   "metadata": {
    "collapsed": false
   },
   "outputs": [
    {
     "data": {
      "text/html": [
       "<div style=\"max-width:1500px;overflow:auto;\">\n",
       "<table border=\"1\" class=\"dataframe\">\n",
       "  <thead>\n",
       "    <tr style=\"text-align: right;\">\n",
       "      <th></th>\n",
       "      <th>ACID</th>\n",
       "      <th>ABRK</th>\n",
       "      <th>APUF</th>\n",
       "      <th>ALT</th>\n",
       "      <th>PTCH</th>\n",
       "      <th>BLAC</th>\n",
       "    </tr>\n",
       "    <tr>\n",
       "      <th>timestamp</th>\n",
       "      <th></th>\n",
       "      <th></th>\n",
       "      <th></th>\n",
       "      <th></th>\n",
       "      <th></th>\n",
       "      <th></th>\n",
       "    </tr>\n",
       "  </thead>\n",
       "  <tbody>\n",
       "    <tr>\n",
       "      <th>2003-05-31 11:31:26+00:00</th>\n",
       "      <td>652</td>\n",
       "      <td>119.983559</td>\n",
       "      <td>0</td>\n",
       "      <td>675</td>\n",
       "      <td>0.153804</td>\n",
       "      <td>0.002931</td>\n",
       "    </tr>\n",
       "    <tr>\n",
       "      <th>2003-05-31 11:31:26.062500+00:00</th>\n",
       "      <td>NaN</td>\n",
       "      <td>NaN</td>\n",
       "      <td>NaN</td>\n",
       "      <td>NaN</td>\n",
       "      <td>NaN</td>\n",
       "      <td>0.001954</td>\n",
       "    </tr>\n",
       "    <tr>\n",
       "      <th>2003-05-31 11:31:26.125000+00:00</th>\n",
       "      <td>NaN</td>\n",
       "      <td>NaN</td>\n",
       "      <td>NaN</td>\n",
       "      <td>NaN</td>\n",
       "      <td>0.153804</td>\n",
       "      <td>0.002931</td>\n",
       "    </tr>\n",
       "    <tr>\n",
       "      <th>2003-05-31 11:31:26.187500+00:00</th>\n",
       "      <td>NaN</td>\n",
       "      <td>NaN</td>\n",
       "      <td>NaN</td>\n",
       "      <td>NaN</td>\n",
       "      <td>NaN</td>\n",
       "      <td>0.002931</td>\n",
       "    </tr>\n",
       "    <tr>\n",
       "      <th>2003-05-31 11:31:26.250000+00:00</th>\n",
       "      <td>NaN</td>\n",
       "      <td>NaN</td>\n",
       "      <td>NaN</td>\n",
       "      <td>676</td>\n",
       "      <td>0.142818</td>\n",
       "      <td>0.003908</td>\n",
       "    </tr>\n",
       "    <tr>\n",
       "      <th>2003-05-31 11:31:26.312500+00:00</th>\n",
       "      <td>NaN</td>\n",
       "      <td>NaN</td>\n",
       "      <td>NaN</td>\n",
       "      <td>NaN</td>\n",
       "      <td>NaN</td>\n",
       "      <td>0.003908</td>\n",
       "    </tr>\n",
       "    <tr>\n",
       "      <th>2003-05-31 11:31:26.375000+00:00</th>\n",
       "      <td>NaN</td>\n",
       "      <td>NaN</td>\n",
       "      <td>NaN</td>\n",
       "      <td>NaN</td>\n",
       "      <td>0.142818</td>\n",
       "      <td>0.003908</td>\n",
       "    </tr>\n",
       "    <tr>\n",
       "      <th>2003-05-31 11:31:26.437500+00:00</th>\n",
       "      <td>NaN</td>\n",
       "      <td>NaN</td>\n",
       "      <td>NaN</td>\n",
       "      <td>NaN</td>\n",
       "      <td>NaN</td>\n",
       "      <td>0.003908</td>\n",
       "    </tr>\n",
       "    <tr>\n",
       "      <th>2003-05-31 11:31:26.500000+00:00</th>\n",
       "      <td>NaN</td>\n",
       "      <td>NaN</td>\n",
       "      <td>0</td>\n",
       "      <td>675</td>\n",
       "      <td>0.142818</td>\n",
       "      <td>0.004885</td>\n",
       "    </tr>\n",
       "    <tr>\n",
       "      <th>2003-05-31 11:31:26.562500+00:00</th>\n",
       "      <td>NaN</td>\n",
       "      <td>NaN</td>\n",
       "      <td>NaN</td>\n",
       "      <td>NaN</td>\n",
       "      <td>NaN</td>\n",
       "      <td>0.004885</td>\n",
       "    </tr>\n",
       "    <tr>\n",
       "      <th>2003-05-31 11:31:26.625000+00:00</th>\n",
       "      <td>NaN</td>\n",
       "      <td>NaN</td>\n",
       "      <td>NaN</td>\n",
       "      <td>NaN</td>\n",
       "      <td>0.131832</td>\n",
       "      <td>0.004885</td>\n",
       "    </tr>\n",
       "    <tr>\n",
       "      <th>2003-05-31 11:31:26.687500+00:00</th>\n",
       "      <td>NaN</td>\n",
       "      <td>NaN</td>\n",
       "      <td>NaN</td>\n",
       "      <td>NaN</td>\n",
       "      <td>NaN</td>\n",
       "      <td>0.002931</td>\n",
       "    </tr>\n",
       "    <tr>\n",
       "      <th>2003-05-31 11:31:26.750000+00:00</th>\n",
       "      <td>NaN</td>\n",
       "      <td>NaN</td>\n",
       "      <td>NaN</td>\n",
       "      <td>676</td>\n",
       "      <td>0.131832</td>\n",
       "      <td>0.001954</td>\n",
       "    </tr>\n",
       "    <tr>\n",
       "      <th>2003-05-31 11:31:26.812500+00:00</th>\n",
       "      <td>NaN</td>\n",
       "      <td>NaN</td>\n",
       "      <td>NaN</td>\n",
       "      <td>NaN</td>\n",
       "      <td>NaN</td>\n",
       "      <td>0.001954</td>\n",
       "    </tr>\n",
       "    <tr>\n",
       "      <th>2003-05-31 11:31:26.875000+00:00</th>\n",
       "      <td>NaN</td>\n",
       "      <td>NaN</td>\n",
       "      <td>NaN</td>\n",
       "      <td>NaN</td>\n",
       "      <td>0.131832</td>\n",
       "      <td>0.001954</td>\n",
       "    </tr>\n",
       "    <tr>\n",
       "      <th>2003-05-31 11:31:26.937500+00:00</th>\n",
       "      <td>NaN</td>\n",
       "      <td>NaN</td>\n",
       "      <td>NaN</td>\n",
       "      <td>NaN</td>\n",
       "      <td>NaN</td>\n",
       "      <td>0.002931</td>\n",
       "    </tr>\n",
       "    <tr>\n",
       "      <th>2003-05-31 11:31:27+00:00</th>\n",
       "      <td>NaN</td>\n",
       "      <td>119.983559</td>\n",
       "      <td>0</td>\n",
       "      <td>676</td>\n",
       "      <td>0.131832</td>\n",
       "      <td>0.002931</td>\n",
       "    </tr>\n",
       "    <tr>\n",
       "      <th>2003-05-31 11:31:27.062500+00:00</th>\n",
       "      <td>NaN</td>\n",
       "      <td>NaN</td>\n",
       "      <td>NaN</td>\n",
       "      <td>NaN</td>\n",
       "      <td>NaN</td>\n",
       "      <td>0.003908</td>\n",
       "    </tr>\n",
       "    <tr>\n",
       "      <th>2003-05-31 11:31:27.125000+00:00</th>\n",
       "      <td>NaN</td>\n",
       "      <td>NaN</td>\n",
       "      <td>NaN</td>\n",
       "      <td>NaN</td>\n",
       "      <td>0.131832</td>\n",
       "      <td>0.004885</td>\n",
       "    </tr>\n",
       "    <tr>\n",
       "      <th>2003-05-31 11:31:27.187500+00:00</th>\n",
       "      <td>NaN</td>\n",
       "      <td>NaN</td>\n",
       "      <td>NaN</td>\n",
       "      <td>NaN</td>\n",
       "      <td>NaN</td>\n",
       "      <td>0.005862</td>\n",
       "    </tr>\n",
       "    <tr>\n",
       "      <th>2003-05-31 11:31:27.250000+00:00</th>\n",
       "      <td>NaN</td>\n",
       "      <td>NaN</td>\n",
       "      <td>NaN</td>\n",
       "      <td>676</td>\n",
       "      <td>0.131832</td>\n",
       "      <td>0.004885</td>\n",
       "    </tr>\n",
       "    <tr>\n",
       "      <th>2003-05-31 11:31:27.312500+00:00</th>\n",
       "      <td>NaN</td>\n",
       "      <td>NaN</td>\n",
       "      <td>NaN</td>\n",
       "      <td>NaN</td>\n",
       "      <td>NaN</td>\n",
       "      <td>0.002931</td>\n",
       "    </tr>\n",
       "    <tr>\n",
       "      <th>2003-05-31 11:31:27.375000+00:00</th>\n",
       "      <td>NaN</td>\n",
       "      <td>NaN</td>\n",
       "      <td>NaN</td>\n",
       "      <td>NaN</td>\n",
       "      <td>0.131832</td>\n",
       "      <td>0.003908</td>\n",
       "    </tr>\n",
       "    <tr>\n",
       "      <th>2003-05-31 11:31:27.437500+00:00</th>\n",
       "      <td>NaN</td>\n",
       "      <td>NaN</td>\n",
       "      <td>NaN</td>\n",
       "      <td>NaN</td>\n",
       "      <td>NaN</td>\n",
       "      <td>0.003908</td>\n",
       "    </tr>\n",
       "    <tr>\n",
       "      <th>2003-05-31 11:31:27.500000+00:00</th>\n",
       "      <td>NaN</td>\n",
       "      <td>NaN</td>\n",
       "      <td>0</td>\n",
       "      <td>677</td>\n",
       "      <td>0.120846</td>\n",
       "      <td>0.002931</td>\n",
       "    </tr>\n",
       "    <tr>\n",
       "      <th>2003-05-31 11:31:27.562500+00:00</th>\n",
       "      <td>NaN</td>\n",
       "      <td>NaN</td>\n",
       "      <td>NaN</td>\n",
       "      <td>NaN</td>\n",
       "      <td>NaN</td>\n",
       "      <td>0.002931</td>\n",
       "    </tr>\n",
       "    <tr>\n",
       "      <th>2003-05-31 11:31:27.625000+00:00</th>\n",
       "      <td>NaN</td>\n",
       "      <td>NaN</td>\n",
       "      <td>NaN</td>\n",
       "      <td>NaN</td>\n",
       "      <td>0.120846</td>\n",
       "      <td>0.001954</td>\n",
       "    </tr>\n",
       "    <tr>\n",
       "      <th>2003-05-31 11:31:27.687500+00:00</th>\n",
       "      <td>NaN</td>\n",
       "      <td>NaN</td>\n",
       "      <td>NaN</td>\n",
       "      <td>NaN</td>\n",
       "      <td>NaN</td>\n",
       "      <td>0.001954</td>\n",
       "    </tr>\n",
       "    <tr>\n",
       "      <th>2003-05-31 11:31:27.750000+00:00</th>\n",
       "      <td>NaN</td>\n",
       "      <td>NaN</td>\n",
       "      <td>NaN</td>\n",
       "      <td>676</td>\n",
       "      <td>0.120846</td>\n",
       "      <td>0.001954</td>\n",
       "    </tr>\n",
       "    <tr>\n",
       "      <th>2003-05-31 11:31:27.812500+00:00</th>\n",
       "      <td>NaN</td>\n",
       "      <td>NaN</td>\n",
       "      <td>NaN</td>\n",
       "      <td>NaN</td>\n",
       "      <td>NaN</td>\n",
       "      <td>0.002931</td>\n",
       "    </tr>\n",
       "    <tr>\n",
       "      <th>...</th>\n",
       "      <td>...</td>\n",
       "      <td>...</td>\n",
       "      <td>...</td>\n",
       "      <td>...</td>\n",
       "      <td>...</td>\n",
       "      <td>...</td>\n",
       "    </tr>\n",
       "    <tr>\n",
       "      <th>2003-05-31 11:31:28.187500+00:00</th>\n",
       "      <td>NaN</td>\n",
       "      <td>NaN</td>\n",
       "      <td>NaN</td>\n",
       "      <td>NaN</td>\n",
       "      <td>NaN</td>\n",
       "      <td>0.001954</td>\n",
       "    </tr>\n",
       "    <tr>\n",
       "      <th>2003-05-31 11:31:28.250000+00:00</th>\n",
       "      <td>NaN</td>\n",
       "      <td>NaN</td>\n",
       "      <td>NaN</td>\n",
       "      <td>676</td>\n",
       "      <td>0.109860</td>\n",
       "      <td>0.002931</td>\n",
       "    </tr>\n",
       "    <tr>\n",
       "      <th>2003-05-31 11:31:28.312500+00:00</th>\n",
       "      <td>NaN</td>\n",
       "      <td>NaN</td>\n",
       "      <td>NaN</td>\n",
       "      <td>NaN</td>\n",
       "      <td>NaN</td>\n",
       "      <td>0.003908</td>\n",
       "    </tr>\n",
       "    <tr>\n",
       "      <th>2003-05-31 11:31:28.375000+00:00</th>\n",
       "      <td>NaN</td>\n",
       "      <td>NaN</td>\n",
       "      <td>NaN</td>\n",
       "      <td>NaN</td>\n",
       "      <td>0.109860</td>\n",
       "      <td>0.003908</td>\n",
       "    </tr>\n",
       "    <tr>\n",
       "      <th>2003-05-31 11:31:28.437500+00:00</th>\n",
       "      <td>NaN</td>\n",
       "      <td>NaN</td>\n",
       "      <td>NaN</td>\n",
       "      <td>NaN</td>\n",
       "      <td>NaN</td>\n",
       "      <td>0.002931</td>\n",
       "    </tr>\n",
       "    <tr>\n",
       "      <th>2003-05-31 11:31:28.500000+00:00</th>\n",
       "      <td>NaN</td>\n",
       "      <td>NaN</td>\n",
       "      <td>0</td>\n",
       "      <td>676</td>\n",
       "      <td>0.109860</td>\n",
       "      <td>0.002931</td>\n",
       "    </tr>\n",
       "    <tr>\n",
       "      <th>2003-05-31 11:31:28.562500+00:00</th>\n",
       "      <td>NaN</td>\n",
       "      <td>NaN</td>\n",
       "      <td>NaN</td>\n",
       "      <td>NaN</td>\n",
       "      <td>NaN</td>\n",
       "      <td>0.002931</td>\n",
       "    </tr>\n",
       "    <tr>\n",
       "      <th>2003-05-31 11:31:28.625000+00:00</th>\n",
       "      <td>NaN</td>\n",
       "      <td>NaN</td>\n",
       "      <td>NaN</td>\n",
       "      <td>NaN</td>\n",
       "      <td>0.109860</td>\n",
       "      <td>0.002931</td>\n",
       "    </tr>\n",
       "    <tr>\n",
       "      <th>2003-05-31 11:31:28.687500+00:00</th>\n",
       "      <td>NaN</td>\n",
       "      <td>NaN</td>\n",
       "      <td>NaN</td>\n",
       "      <td>NaN</td>\n",
       "      <td>NaN</td>\n",
       "      <td>0.002931</td>\n",
       "    </tr>\n",
       "    <tr>\n",
       "      <th>2003-05-31 11:31:28.750000+00:00</th>\n",
       "      <td>NaN</td>\n",
       "      <td>NaN</td>\n",
       "      <td>NaN</td>\n",
       "      <td>676</td>\n",
       "      <td>0.109860</td>\n",
       "      <td>0.002931</td>\n",
       "    </tr>\n",
       "    <tr>\n",
       "      <th>2003-05-31 11:31:28.812500+00:00</th>\n",
       "      <td>NaN</td>\n",
       "      <td>NaN</td>\n",
       "      <td>NaN</td>\n",
       "      <td>NaN</td>\n",
       "      <td>NaN</td>\n",
       "      <td>0.001954</td>\n",
       "    </tr>\n",
       "    <tr>\n",
       "      <th>2003-05-31 11:31:28.875000+00:00</th>\n",
       "      <td>NaN</td>\n",
       "      <td>NaN</td>\n",
       "      <td>NaN</td>\n",
       "      <td>NaN</td>\n",
       "      <td>0.109860</td>\n",
       "      <td>0.002931</td>\n",
       "    </tr>\n",
       "    <tr>\n",
       "      <th>2003-05-31 11:31:28.937500+00:00</th>\n",
       "      <td>NaN</td>\n",
       "      <td>NaN</td>\n",
       "      <td>NaN</td>\n",
       "      <td>NaN</td>\n",
       "      <td>NaN</td>\n",
       "      <td>0.003908</td>\n",
       "    </tr>\n",
       "    <tr>\n",
       "      <th>2003-05-31 11:31:29+00:00</th>\n",
       "      <td>NaN</td>\n",
       "      <td>119.983559</td>\n",
       "      <td>0</td>\n",
       "      <td>676</td>\n",
       "      <td>0.098874</td>\n",
       "      <td>0.004885</td>\n",
       "    </tr>\n",
       "    <tr>\n",
       "      <th>2003-05-31 11:31:29.062500+00:00</th>\n",
       "      <td>NaN</td>\n",
       "      <td>NaN</td>\n",
       "      <td>NaN</td>\n",
       "      <td>NaN</td>\n",
       "      <td>NaN</td>\n",
       "      <td>0.004885</td>\n",
       "    </tr>\n",
       "    <tr>\n",
       "      <th>2003-05-31 11:31:29.125000+00:00</th>\n",
       "      <td>NaN</td>\n",
       "      <td>NaN</td>\n",
       "      <td>NaN</td>\n",
       "      <td>NaN</td>\n",
       "      <td>0.098874</td>\n",
       "      <td>0.002931</td>\n",
       "    </tr>\n",
       "    <tr>\n",
       "      <th>2003-05-31 11:31:29.187500+00:00</th>\n",
       "      <td>NaN</td>\n",
       "      <td>NaN</td>\n",
       "      <td>NaN</td>\n",
       "      <td>NaN</td>\n",
       "      <td>NaN</td>\n",
       "      <td>0.002931</td>\n",
       "    </tr>\n",
       "    <tr>\n",
       "      <th>2003-05-31 11:31:29.250000+00:00</th>\n",
       "      <td>NaN</td>\n",
       "      <td>NaN</td>\n",
       "      <td>NaN</td>\n",
       "      <td>676</td>\n",
       "      <td>0.087888</td>\n",
       "      <td>0.002931</td>\n",
       "    </tr>\n",
       "    <tr>\n",
       "      <th>2003-05-31 11:31:29.312500+00:00</th>\n",
       "      <td>NaN</td>\n",
       "      <td>NaN</td>\n",
       "      <td>NaN</td>\n",
       "      <td>NaN</td>\n",
       "      <td>NaN</td>\n",
       "      <td>0.001954</td>\n",
       "    </tr>\n",
       "    <tr>\n",
       "      <th>2003-05-31 11:31:29.375000+00:00</th>\n",
       "      <td>NaN</td>\n",
       "      <td>NaN</td>\n",
       "      <td>NaN</td>\n",
       "      <td>NaN</td>\n",
       "      <td>0.087888</td>\n",
       "      <td>0.001954</td>\n",
       "    </tr>\n",
       "    <tr>\n",
       "      <th>2003-05-31 11:31:29.437500+00:00</th>\n",
       "      <td>NaN</td>\n",
       "      <td>NaN</td>\n",
       "      <td>NaN</td>\n",
       "      <td>NaN</td>\n",
       "      <td>NaN</td>\n",
       "      <td>0.000977</td>\n",
       "    </tr>\n",
       "    <tr>\n",
       "      <th>2003-05-31 11:31:29.500000+00:00</th>\n",
       "      <td>NaN</td>\n",
       "      <td>NaN</td>\n",
       "      <td>0</td>\n",
       "      <td>676</td>\n",
       "      <td>0.076902</td>\n",
       "      <td>0.000000</td>\n",
       "    </tr>\n",
       "    <tr>\n",
       "      <th>2003-05-31 11:31:29.562500+00:00</th>\n",
       "      <td>NaN</td>\n",
       "      <td>NaN</td>\n",
       "      <td>NaN</td>\n",
       "      <td>NaN</td>\n",
       "      <td>NaN</td>\n",
       "      <td>-0.000977</td>\n",
       "    </tr>\n",
       "    <tr>\n",
       "      <th>2003-05-31 11:31:29.625000+00:00</th>\n",
       "      <td>NaN</td>\n",
       "      <td>NaN</td>\n",
       "      <td>NaN</td>\n",
       "      <td>NaN</td>\n",
       "      <td>0.076902</td>\n",
       "      <td>-0.003908</td>\n",
       "    </tr>\n",
       "    <tr>\n",
       "      <th>2003-05-31 11:31:29.687500+00:00</th>\n",
       "      <td>NaN</td>\n",
       "      <td>NaN</td>\n",
       "      <td>NaN</td>\n",
       "      <td>NaN</td>\n",
       "      <td>NaN</td>\n",
       "      <td>-0.003908</td>\n",
       "    </tr>\n",
       "    <tr>\n",
       "      <th>2003-05-31 11:31:29.750000+00:00</th>\n",
       "      <td>NaN</td>\n",
       "      <td>NaN</td>\n",
       "      <td>NaN</td>\n",
       "      <td>676</td>\n",
       "      <td>0.065916</td>\n",
       "      <td>-0.003908</td>\n",
       "    </tr>\n",
       "    <tr>\n",
       "      <th>2003-05-31 11:31:29.812500+00:00</th>\n",
       "      <td>NaN</td>\n",
       "      <td>NaN</td>\n",
       "      <td>NaN</td>\n",
       "      <td>NaN</td>\n",
       "      <td>NaN</td>\n",
       "      <td>-0.003908</td>\n",
       "    </tr>\n",
       "    <tr>\n",
       "      <th>2003-05-31 11:31:29.875000+00:00</th>\n",
       "      <td>NaN</td>\n",
       "      <td>NaN</td>\n",
       "      <td>NaN</td>\n",
       "      <td>NaN</td>\n",
       "      <td>0.065916</td>\n",
       "      <td>-0.003908</td>\n",
       "    </tr>\n",
       "    <tr>\n",
       "      <th>2003-05-31 11:31:29.937500+00:00</th>\n",
       "      <td>NaN</td>\n",
       "      <td>NaN</td>\n",
       "      <td>NaN</td>\n",
       "      <td>NaN</td>\n",
       "      <td>NaN</td>\n",
       "      <td>-0.003908</td>\n",
       "    </tr>\n",
       "    <tr>\n",
       "      <th>2003-05-31 11:31:30+00:00</th>\n",
       "      <td>652</td>\n",
       "      <td>119.983559</td>\n",
       "      <td>0</td>\n",
       "      <td>676</td>\n",
       "      <td>0.054930</td>\n",
       "      <td>-0.002931</td>\n",
       "    </tr>\n",
       "  </tbody>\n",
       "</table>\n",
       "<p>65 rows × 6 columns</p>\n",
       "</div>"
      ],
      "text/plain": [
       "                                  ACID        ABRK  APUF  ALT      PTCH  \\\n",
       "timestamp                                                                 \n",
       "2003-05-31 11:31:26+00:00          652  119.983559     0  675  0.153804   \n",
       "2003-05-31 11:31:26.062500+00:00   NaN         NaN   NaN  NaN       NaN   \n",
       "2003-05-31 11:31:26.125000+00:00   NaN         NaN   NaN  NaN  0.153804   \n",
       "2003-05-31 11:31:26.187500+00:00   NaN         NaN   NaN  NaN       NaN   \n",
       "2003-05-31 11:31:26.250000+00:00   NaN         NaN   NaN  676  0.142818   \n",
       "2003-05-31 11:31:26.312500+00:00   NaN         NaN   NaN  NaN       NaN   \n",
       "2003-05-31 11:31:26.375000+00:00   NaN         NaN   NaN  NaN  0.142818   \n",
       "2003-05-31 11:31:26.437500+00:00   NaN         NaN   NaN  NaN       NaN   \n",
       "2003-05-31 11:31:26.500000+00:00   NaN         NaN     0  675  0.142818   \n",
       "2003-05-31 11:31:26.562500+00:00   NaN         NaN   NaN  NaN       NaN   \n",
       "2003-05-31 11:31:26.625000+00:00   NaN         NaN   NaN  NaN  0.131832   \n",
       "2003-05-31 11:31:26.687500+00:00   NaN         NaN   NaN  NaN       NaN   \n",
       "2003-05-31 11:31:26.750000+00:00   NaN         NaN   NaN  676  0.131832   \n",
       "2003-05-31 11:31:26.812500+00:00   NaN         NaN   NaN  NaN       NaN   \n",
       "2003-05-31 11:31:26.875000+00:00   NaN         NaN   NaN  NaN  0.131832   \n",
       "2003-05-31 11:31:26.937500+00:00   NaN         NaN   NaN  NaN       NaN   \n",
       "2003-05-31 11:31:27+00:00          NaN  119.983559     0  676  0.131832   \n",
       "2003-05-31 11:31:27.062500+00:00   NaN         NaN   NaN  NaN       NaN   \n",
       "2003-05-31 11:31:27.125000+00:00   NaN         NaN   NaN  NaN  0.131832   \n",
       "2003-05-31 11:31:27.187500+00:00   NaN         NaN   NaN  NaN       NaN   \n",
       "2003-05-31 11:31:27.250000+00:00   NaN         NaN   NaN  676  0.131832   \n",
       "2003-05-31 11:31:27.312500+00:00   NaN         NaN   NaN  NaN       NaN   \n",
       "2003-05-31 11:31:27.375000+00:00   NaN         NaN   NaN  NaN  0.131832   \n",
       "2003-05-31 11:31:27.437500+00:00   NaN         NaN   NaN  NaN       NaN   \n",
       "2003-05-31 11:31:27.500000+00:00   NaN         NaN     0  677  0.120846   \n",
       "2003-05-31 11:31:27.562500+00:00   NaN         NaN   NaN  NaN       NaN   \n",
       "2003-05-31 11:31:27.625000+00:00   NaN         NaN   NaN  NaN  0.120846   \n",
       "2003-05-31 11:31:27.687500+00:00   NaN         NaN   NaN  NaN       NaN   \n",
       "2003-05-31 11:31:27.750000+00:00   NaN         NaN   NaN  676  0.120846   \n",
       "2003-05-31 11:31:27.812500+00:00   NaN         NaN   NaN  NaN       NaN   \n",
       "...                                ...         ...   ...  ...       ...   \n",
       "2003-05-31 11:31:28.187500+00:00   NaN         NaN   NaN  NaN       NaN   \n",
       "2003-05-31 11:31:28.250000+00:00   NaN         NaN   NaN  676  0.109860   \n",
       "2003-05-31 11:31:28.312500+00:00   NaN         NaN   NaN  NaN       NaN   \n",
       "2003-05-31 11:31:28.375000+00:00   NaN         NaN   NaN  NaN  0.109860   \n",
       "2003-05-31 11:31:28.437500+00:00   NaN         NaN   NaN  NaN       NaN   \n",
       "2003-05-31 11:31:28.500000+00:00   NaN         NaN     0  676  0.109860   \n",
       "2003-05-31 11:31:28.562500+00:00   NaN         NaN   NaN  NaN       NaN   \n",
       "2003-05-31 11:31:28.625000+00:00   NaN         NaN   NaN  NaN  0.109860   \n",
       "2003-05-31 11:31:28.687500+00:00   NaN         NaN   NaN  NaN       NaN   \n",
       "2003-05-31 11:31:28.750000+00:00   NaN         NaN   NaN  676  0.109860   \n",
       "2003-05-31 11:31:28.812500+00:00   NaN         NaN   NaN  NaN       NaN   \n",
       "2003-05-31 11:31:28.875000+00:00   NaN         NaN   NaN  NaN  0.109860   \n",
       "2003-05-31 11:31:28.937500+00:00   NaN         NaN   NaN  NaN       NaN   \n",
       "2003-05-31 11:31:29+00:00          NaN  119.983559     0  676  0.098874   \n",
       "2003-05-31 11:31:29.062500+00:00   NaN         NaN   NaN  NaN       NaN   \n",
       "2003-05-31 11:31:29.125000+00:00   NaN         NaN   NaN  NaN  0.098874   \n",
       "2003-05-31 11:31:29.187500+00:00   NaN         NaN   NaN  NaN       NaN   \n",
       "2003-05-31 11:31:29.250000+00:00   NaN         NaN   NaN  676  0.087888   \n",
       "2003-05-31 11:31:29.312500+00:00   NaN         NaN   NaN  NaN       NaN   \n",
       "2003-05-31 11:31:29.375000+00:00   NaN         NaN   NaN  NaN  0.087888   \n",
       "2003-05-31 11:31:29.437500+00:00   NaN         NaN   NaN  NaN       NaN   \n",
       "2003-05-31 11:31:29.500000+00:00   NaN         NaN     0  676  0.076902   \n",
       "2003-05-31 11:31:29.562500+00:00   NaN         NaN   NaN  NaN       NaN   \n",
       "2003-05-31 11:31:29.625000+00:00   NaN         NaN   NaN  NaN  0.076902   \n",
       "2003-05-31 11:31:29.687500+00:00   NaN         NaN   NaN  NaN       NaN   \n",
       "2003-05-31 11:31:29.750000+00:00   NaN         NaN   NaN  676  0.065916   \n",
       "2003-05-31 11:31:29.812500+00:00   NaN         NaN   NaN  NaN       NaN   \n",
       "2003-05-31 11:31:29.875000+00:00   NaN         NaN   NaN  NaN  0.065916   \n",
       "2003-05-31 11:31:29.937500+00:00   NaN         NaN   NaN  NaN       NaN   \n",
       "2003-05-31 11:31:30+00:00          652  119.983559     0  676  0.054930   \n",
       "\n",
       "                                      BLAC  \n",
       "timestamp                                   \n",
       "2003-05-31 11:31:26+00:00         0.002931  \n",
       "2003-05-31 11:31:26.062500+00:00  0.001954  \n",
       "2003-05-31 11:31:26.125000+00:00  0.002931  \n",
       "2003-05-31 11:31:26.187500+00:00  0.002931  \n",
       "2003-05-31 11:31:26.250000+00:00  0.003908  \n",
       "2003-05-31 11:31:26.312500+00:00  0.003908  \n",
       "2003-05-31 11:31:26.375000+00:00  0.003908  \n",
       "2003-05-31 11:31:26.437500+00:00  0.003908  \n",
       "2003-05-31 11:31:26.500000+00:00  0.004885  \n",
       "2003-05-31 11:31:26.562500+00:00  0.004885  \n",
       "2003-05-31 11:31:26.625000+00:00  0.004885  \n",
       "2003-05-31 11:31:26.687500+00:00  0.002931  \n",
       "2003-05-31 11:31:26.750000+00:00  0.001954  \n",
       "2003-05-31 11:31:26.812500+00:00  0.001954  \n",
       "2003-05-31 11:31:26.875000+00:00  0.001954  \n",
       "2003-05-31 11:31:26.937500+00:00  0.002931  \n",
       "2003-05-31 11:31:27+00:00         0.002931  \n",
       "2003-05-31 11:31:27.062500+00:00  0.003908  \n",
       "2003-05-31 11:31:27.125000+00:00  0.004885  \n",
       "2003-05-31 11:31:27.187500+00:00  0.005862  \n",
       "2003-05-31 11:31:27.250000+00:00  0.004885  \n",
       "2003-05-31 11:31:27.312500+00:00  0.002931  \n",
       "2003-05-31 11:31:27.375000+00:00  0.003908  \n",
       "2003-05-31 11:31:27.437500+00:00  0.003908  \n",
       "2003-05-31 11:31:27.500000+00:00  0.002931  \n",
       "2003-05-31 11:31:27.562500+00:00  0.002931  \n",
       "2003-05-31 11:31:27.625000+00:00  0.001954  \n",
       "2003-05-31 11:31:27.687500+00:00  0.001954  \n",
       "2003-05-31 11:31:27.750000+00:00  0.001954  \n",
       "2003-05-31 11:31:27.812500+00:00  0.002931  \n",
       "...                                    ...  \n",
       "2003-05-31 11:31:28.187500+00:00  0.001954  \n",
       "2003-05-31 11:31:28.250000+00:00  0.002931  \n",
       "2003-05-31 11:31:28.312500+00:00  0.003908  \n",
       "2003-05-31 11:31:28.375000+00:00  0.003908  \n",
       "2003-05-31 11:31:28.437500+00:00  0.002931  \n",
       "2003-05-31 11:31:28.500000+00:00  0.002931  \n",
       "2003-05-31 11:31:28.562500+00:00  0.002931  \n",
       "2003-05-31 11:31:28.625000+00:00  0.002931  \n",
       "2003-05-31 11:31:28.687500+00:00  0.002931  \n",
       "2003-05-31 11:31:28.750000+00:00  0.002931  \n",
       "2003-05-31 11:31:28.812500+00:00  0.001954  \n",
       "2003-05-31 11:31:28.875000+00:00  0.002931  \n",
       "2003-05-31 11:31:28.937500+00:00  0.003908  \n",
       "2003-05-31 11:31:29+00:00         0.004885  \n",
       "2003-05-31 11:31:29.062500+00:00  0.004885  \n",
       "2003-05-31 11:31:29.125000+00:00  0.002931  \n",
       "2003-05-31 11:31:29.187500+00:00  0.002931  \n",
       "2003-05-31 11:31:29.250000+00:00  0.002931  \n",
       "2003-05-31 11:31:29.312500+00:00  0.001954  \n",
       "2003-05-31 11:31:29.375000+00:00  0.001954  \n",
       "2003-05-31 11:31:29.437500+00:00  0.000977  \n",
       "2003-05-31 11:31:29.500000+00:00  0.000000  \n",
       "2003-05-31 11:31:29.562500+00:00 -0.000977  \n",
       "2003-05-31 11:31:29.625000+00:00 -0.003908  \n",
       "2003-05-31 11:31:29.687500+00:00 -0.003908  \n",
       "2003-05-31 11:31:29.750000+00:00 -0.003908  \n",
       "2003-05-31 11:31:29.812500+00:00 -0.003908  \n",
       "2003-05-31 11:31:29.875000+00:00 -0.003908  \n",
       "2003-05-31 11:31:29.937500+00:00 -0.003908  \n",
       "2003-05-31 11:31:30+00:00        -0.002931  \n",
       "\n",
       "[65 rows x 6 columns]"
      ]
     },
     "execution_count": 20,
     "metadata": {},
     "output_type": "execute_result"
    }
   ],
   "source": [
    "params_combined = pd.DataFrame()\n",
    "params_combined = params_combined.join([v for v in params.values()], how='outer')\n",
    "# One from each rate group. 65 rows starts and ends on complete samples.\n",
    "rate_sample = params_combined.ix[128:193, ['ACID', 'ABRK', 'APUF', 'ALT', 'PTCH', 'BLAC']]\n",
    "rate_sample"
   ]
  },
  {
   "cell_type": "code",
   "execution_count": 21,
   "metadata": {
    "collapsed": false
   },
   "outputs": [
    {
     "data": {
      "text/plain": [
       "3"
      ]
     },
     "execution_count": 21,
     "metadata": {},
     "output_type": "execute_result"
    }
   ],
   "source": [
    "test_series = pd.Series([10,10,10,3,3,3,3])\n",
    "test_series.value_counts().index[0]"
   ]
  },
  {
   "cell_type": "code",
   "execution_count": 22,
   "metadata": {
    "collapsed": false
   },
   "outputs": [
    {
     "data": {
      "text/plain": [
       "652"
      ]
     },
     "execution_count": 22,
     "metadata": {},
     "output_type": "execute_result"
    }
   ],
   "source": [
    "obj_id = None\n",
    "for k, v in params.items():\n",
    "    if 'ACID' in v.columns:\n",
    "        obj_id = v['ACID']\n",
    "        break\n",
    "obj_id.value_counts().index[0]"
   ]
  },
  {
   "cell_type": "markdown",
   "metadata": {},
   "source": [
    "## Interpolation"
   ]
  },
  {
   "cell_type": "code",
   "execution_count": 23,
   "metadata": {
    "collapsed": false
   },
   "outputs": [
    {
     "data": {
      "text/html": [
       "<div style=\"max-width:1500px;overflow:auto;\">\n",
       "<table border=\"1\" class=\"dataframe\">\n",
       "  <thead>\n",
       "    <tr style=\"text-align: right;\">\n",
       "      <th></th>\n",
       "      <th>ACID</th>\n",
       "      <th>ABRK</th>\n",
       "      <th>APUF</th>\n",
       "      <th>ALT</th>\n",
       "      <th>PTCH</th>\n",
       "      <th>BLAC</th>\n",
       "    </tr>\n",
       "    <tr>\n",
       "      <th>timestamp</th>\n",
       "      <th></th>\n",
       "      <th></th>\n",
       "      <th></th>\n",
       "      <th></th>\n",
       "      <th></th>\n",
       "      <th></th>\n",
       "    </tr>\n",
       "  </thead>\n",
       "  <tbody>\n",
       "    <tr>\n",
       "      <th>2003-05-31 11:31:26+00:00</th>\n",
       "      <td>652</td>\n",
       "      <td>119.983559</td>\n",
       "      <td>0</td>\n",
       "      <td>675.00</td>\n",
       "      <td>0.153804</td>\n",
       "      <td>0.002931</td>\n",
       "    </tr>\n",
       "    <tr>\n",
       "      <th>2003-05-31 11:31:26.062500+00:00</th>\n",
       "      <td>652</td>\n",
       "      <td>119.983559</td>\n",
       "      <td>0</td>\n",
       "      <td>675.25</td>\n",
       "      <td>0.153804</td>\n",
       "      <td>0.001954</td>\n",
       "    </tr>\n",
       "    <tr>\n",
       "      <th>2003-05-31 11:31:26.125000+00:00</th>\n",
       "      <td>652</td>\n",
       "      <td>119.983559</td>\n",
       "      <td>0</td>\n",
       "      <td>675.50</td>\n",
       "      <td>0.153804</td>\n",
       "      <td>0.002931</td>\n",
       "    </tr>\n",
       "    <tr>\n",
       "      <th>2003-05-31 11:31:26.187500+00:00</th>\n",
       "      <td>652</td>\n",
       "      <td>119.983559</td>\n",
       "      <td>0</td>\n",
       "      <td>675.75</td>\n",
       "      <td>0.148311</td>\n",
       "      <td>0.002931</td>\n",
       "    </tr>\n",
       "    <tr>\n",
       "      <th>2003-05-31 11:31:26.250000+00:00</th>\n",
       "      <td>652</td>\n",
       "      <td>119.983559</td>\n",
       "      <td>0</td>\n",
       "      <td>676.00</td>\n",
       "      <td>0.142818</td>\n",
       "      <td>0.003908</td>\n",
       "    </tr>\n",
       "    <tr>\n",
       "      <th>2003-05-31 11:31:26.312500+00:00</th>\n",
       "      <td>652</td>\n",
       "      <td>119.983559</td>\n",
       "      <td>0</td>\n",
       "      <td>675.75</td>\n",
       "      <td>0.142818</td>\n",
       "      <td>0.003908</td>\n",
       "    </tr>\n",
       "    <tr>\n",
       "      <th>2003-05-31 11:31:26.375000+00:00</th>\n",
       "      <td>652</td>\n",
       "      <td>119.983559</td>\n",
       "      <td>0</td>\n",
       "      <td>675.50</td>\n",
       "      <td>0.142818</td>\n",
       "      <td>0.003908</td>\n",
       "    </tr>\n",
       "    <tr>\n",
       "      <th>2003-05-31 11:31:26.437500+00:00</th>\n",
       "      <td>652</td>\n",
       "      <td>119.983559</td>\n",
       "      <td>0</td>\n",
       "      <td>675.25</td>\n",
       "      <td>0.142818</td>\n",
       "      <td>0.003908</td>\n",
       "    </tr>\n",
       "    <tr>\n",
       "      <th>2003-05-31 11:31:26.500000+00:00</th>\n",
       "      <td>652</td>\n",
       "      <td>119.983559</td>\n",
       "      <td>0</td>\n",
       "      <td>675.00</td>\n",
       "      <td>0.142818</td>\n",
       "      <td>0.004885</td>\n",
       "    </tr>\n",
       "    <tr>\n",
       "      <th>2003-05-31 11:31:26.562500+00:00</th>\n",
       "      <td>652</td>\n",
       "      <td>119.983559</td>\n",
       "      <td>0</td>\n",
       "      <td>675.25</td>\n",
       "      <td>0.137325</td>\n",
       "      <td>0.004885</td>\n",
       "    </tr>\n",
       "    <tr>\n",
       "      <th>2003-05-31 11:31:26.625000+00:00</th>\n",
       "      <td>652</td>\n",
       "      <td>119.983559</td>\n",
       "      <td>0</td>\n",
       "      <td>675.50</td>\n",
       "      <td>0.131832</td>\n",
       "      <td>0.004885</td>\n",
       "    </tr>\n",
       "    <tr>\n",
       "      <th>2003-05-31 11:31:26.687500+00:00</th>\n",
       "      <td>652</td>\n",
       "      <td>119.983559</td>\n",
       "      <td>0</td>\n",
       "      <td>675.75</td>\n",
       "      <td>0.131832</td>\n",
       "      <td>0.002931</td>\n",
       "    </tr>\n",
       "    <tr>\n",
       "      <th>2003-05-31 11:31:26.750000+00:00</th>\n",
       "      <td>652</td>\n",
       "      <td>119.983559</td>\n",
       "      <td>0</td>\n",
       "      <td>676.00</td>\n",
       "      <td>0.131832</td>\n",
       "      <td>0.001954</td>\n",
       "    </tr>\n",
       "    <tr>\n",
       "      <th>2003-05-31 11:31:26.812500+00:00</th>\n",
       "      <td>652</td>\n",
       "      <td>119.983559</td>\n",
       "      <td>0</td>\n",
       "      <td>676.00</td>\n",
       "      <td>0.131832</td>\n",
       "      <td>0.001954</td>\n",
       "    </tr>\n",
       "    <tr>\n",
       "      <th>2003-05-31 11:31:26.875000+00:00</th>\n",
       "      <td>652</td>\n",
       "      <td>119.983559</td>\n",
       "      <td>0</td>\n",
       "      <td>676.00</td>\n",
       "      <td>0.131832</td>\n",
       "      <td>0.001954</td>\n",
       "    </tr>\n",
       "    <tr>\n",
       "      <th>2003-05-31 11:31:26.937500+00:00</th>\n",
       "      <td>652</td>\n",
       "      <td>119.983559</td>\n",
       "      <td>0</td>\n",
       "      <td>676.00</td>\n",
       "      <td>0.131832</td>\n",
       "      <td>0.002931</td>\n",
       "    </tr>\n",
       "    <tr>\n",
       "      <th>2003-05-31 11:31:27+00:00</th>\n",
       "      <td>652</td>\n",
       "      <td>119.983559</td>\n",
       "      <td>0</td>\n",
       "      <td>676.00</td>\n",
       "      <td>0.131832</td>\n",
       "      <td>0.002931</td>\n",
       "    </tr>\n",
       "    <tr>\n",
       "      <th>2003-05-31 11:31:27.062500+00:00</th>\n",
       "      <td>652</td>\n",
       "      <td>119.983559</td>\n",
       "      <td>0</td>\n",
       "      <td>676.00</td>\n",
       "      <td>0.131832</td>\n",
       "      <td>0.003908</td>\n",
       "    </tr>\n",
       "    <tr>\n",
       "      <th>2003-05-31 11:31:27.125000+00:00</th>\n",
       "      <td>652</td>\n",
       "      <td>119.983559</td>\n",
       "      <td>0</td>\n",
       "      <td>676.00</td>\n",
       "      <td>0.131832</td>\n",
       "      <td>0.004885</td>\n",
       "    </tr>\n",
       "    <tr>\n",
       "      <th>2003-05-31 11:31:27.187500+00:00</th>\n",
       "      <td>652</td>\n",
       "      <td>119.983559</td>\n",
       "      <td>0</td>\n",
       "      <td>676.00</td>\n",
       "      <td>0.131832</td>\n",
       "      <td>0.005862</td>\n",
       "    </tr>\n",
       "    <tr>\n",
       "      <th>2003-05-31 11:31:27.250000+00:00</th>\n",
       "      <td>652</td>\n",
       "      <td>119.983559</td>\n",
       "      <td>0</td>\n",
       "      <td>676.00</td>\n",
       "      <td>0.131832</td>\n",
       "      <td>0.004885</td>\n",
       "    </tr>\n",
       "    <tr>\n",
       "      <th>2003-05-31 11:31:27.312500+00:00</th>\n",
       "      <td>652</td>\n",
       "      <td>119.983559</td>\n",
       "      <td>0</td>\n",
       "      <td>676.25</td>\n",
       "      <td>0.131832</td>\n",
       "      <td>0.002931</td>\n",
       "    </tr>\n",
       "    <tr>\n",
       "      <th>2003-05-31 11:31:27.375000+00:00</th>\n",
       "      <td>652</td>\n",
       "      <td>119.983559</td>\n",
       "      <td>0</td>\n",
       "      <td>676.50</td>\n",
       "      <td>0.131832</td>\n",
       "      <td>0.003908</td>\n",
       "    </tr>\n",
       "    <tr>\n",
       "      <th>2003-05-31 11:31:27.437500+00:00</th>\n",
       "      <td>652</td>\n",
       "      <td>119.983559</td>\n",
       "      <td>0</td>\n",
       "      <td>676.75</td>\n",
       "      <td>0.126339</td>\n",
       "      <td>0.003908</td>\n",
       "    </tr>\n",
       "    <tr>\n",
       "      <th>2003-05-31 11:31:27.500000+00:00</th>\n",
       "      <td>652</td>\n",
       "      <td>119.983559</td>\n",
       "      <td>0</td>\n",
       "      <td>677.00</td>\n",
       "      <td>0.120846</td>\n",
       "      <td>0.002931</td>\n",
       "    </tr>\n",
       "    <tr>\n",
       "      <th>2003-05-31 11:31:27.562500+00:00</th>\n",
       "      <td>652</td>\n",
       "      <td>119.983559</td>\n",
       "      <td>0</td>\n",
       "      <td>676.75</td>\n",
       "      <td>0.120846</td>\n",
       "      <td>0.002931</td>\n",
       "    </tr>\n",
       "    <tr>\n",
       "      <th>2003-05-31 11:31:27.625000+00:00</th>\n",
       "      <td>652</td>\n",
       "      <td>119.983559</td>\n",
       "      <td>0</td>\n",
       "      <td>676.50</td>\n",
       "      <td>0.120846</td>\n",
       "      <td>0.001954</td>\n",
       "    </tr>\n",
       "    <tr>\n",
       "      <th>2003-05-31 11:31:27.687500+00:00</th>\n",
       "      <td>652</td>\n",
       "      <td>119.983559</td>\n",
       "      <td>0</td>\n",
       "      <td>676.25</td>\n",
       "      <td>0.120846</td>\n",
       "      <td>0.001954</td>\n",
       "    </tr>\n",
       "    <tr>\n",
       "      <th>2003-05-31 11:31:27.750000+00:00</th>\n",
       "      <td>652</td>\n",
       "      <td>119.983559</td>\n",
       "      <td>0</td>\n",
       "      <td>676.00</td>\n",
       "      <td>0.120846</td>\n",
       "      <td>0.001954</td>\n",
       "    </tr>\n",
       "    <tr>\n",
       "      <th>2003-05-31 11:31:27.812500+00:00</th>\n",
       "      <td>652</td>\n",
       "      <td>119.983559</td>\n",
       "      <td>0</td>\n",
       "      <td>676.00</td>\n",
       "      <td>0.120846</td>\n",
       "      <td>0.002931</td>\n",
       "    </tr>\n",
       "    <tr>\n",
       "      <th>...</th>\n",
       "      <td>...</td>\n",
       "      <td>...</td>\n",
       "      <td>...</td>\n",
       "      <td>...</td>\n",
       "      <td>...</td>\n",
       "      <td>...</td>\n",
       "    </tr>\n",
       "    <tr>\n",
       "      <th>2003-05-31 11:31:28.187500+00:00</th>\n",
       "      <td>652</td>\n",
       "      <td>119.983559</td>\n",
       "      <td>0</td>\n",
       "      <td>676.00</td>\n",
       "      <td>0.109860</td>\n",
       "      <td>0.001954</td>\n",
       "    </tr>\n",
       "    <tr>\n",
       "      <th>2003-05-31 11:31:28.250000+00:00</th>\n",
       "      <td>652</td>\n",
       "      <td>119.983559</td>\n",
       "      <td>0</td>\n",
       "      <td>676.00</td>\n",
       "      <td>0.109860</td>\n",
       "      <td>0.002931</td>\n",
       "    </tr>\n",
       "    <tr>\n",
       "      <th>2003-05-31 11:31:28.312500+00:00</th>\n",
       "      <td>652</td>\n",
       "      <td>119.983559</td>\n",
       "      <td>0</td>\n",
       "      <td>676.00</td>\n",
       "      <td>0.109860</td>\n",
       "      <td>0.003908</td>\n",
       "    </tr>\n",
       "    <tr>\n",
       "      <th>2003-05-31 11:31:28.375000+00:00</th>\n",
       "      <td>652</td>\n",
       "      <td>119.983559</td>\n",
       "      <td>0</td>\n",
       "      <td>676.00</td>\n",
       "      <td>0.109860</td>\n",
       "      <td>0.003908</td>\n",
       "    </tr>\n",
       "    <tr>\n",
       "      <th>2003-05-31 11:31:28.437500+00:00</th>\n",
       "      <td>652</td>\n",
       "      <td>119.983559</td>\n",
       "      <td>0</td>\n",
       "      <td>676.00</td>\n",
       "      <td>0.109860</td>\n",
       "      <td>0.002931</td>\n",
       "    </tr>\n",
       "    <tr>\n",
       "      <th>2003-05-31 11:31:28.500000+00:00</th>\n",
       "      <td>652</td>\n",
       "      <td>119.983559</td>\n",
       "      <td>0</td>\n",
       "      <td>676.00</td>\n",
       "      <td>0.109860</td>\n",
       "      <td>0.002931</td>\n",
       "    </tr>\n",
       "    <tr>\n",
       "      <th>2003-05-31 11:31:28.562500+00:00</th>\n",
       "      <td>652</td>\n",
       "      <td>119.983559</td>\n",
       "      <td>0</td>\n",
       "      <td>676.00</td>\n",
       "      <td>0.109860</td>\n",
       "      <td>0.002931</td>\n",
       "    </tr>\n",
       "    <tr>\n",
       "      <th>2003-05-31 11:31:28.625000+00:00</th>\n",
       "      <td>652</td>\n",
       "      <td>119.983559</td>\n",
       "      <td>0</td>\n",
       "      <td>676.00</td>\n",
       "      <td>0.109860</td>\n",
       "      <td>0.002931</td>\n",
       "    </tr>\n",
       "    <tr>\n",
       "      <th>2003-05-31 11:31:28.687500+00:00</th>\n",
       "      <td>652</td>\n",
       "      <td>119.983559</td>\n",
       "      <td>0</td>\n",
       "      <td>676.00</td>\n",
       "      <td>0.109860</td>\n",
       "      <td>0.002931</td>\n",
       "    </tr>\n",
       "    <tr>\n",
       "      <th>2003-05-31 11:31:28.750000+00:00</th>\n",
       "      <td>652</td>\n",
       "      <td>119.983559</td>\n",
       "      <td>0</td>\n",
       "      <td>676.00</td>\n",
       "      <td>0.109860</td>\n",
       "      <td>0.002931</td>\n",
       "    </tr>\n",
       "    <tr>\n",
       "      <th>2003-05-31 11:31:28.812500+00:00</th>\n",
       "      <td>652</td>\n",
       "      <td>119.983559</td>\n",
       "      <td>0</td>\n",
       "      <td>676.00</td>\n",
       "      <td>0.109860</td>\n",
       "      <td>0.001954</td>\n",
       "    </tr>\n",
       "    <tr>\n",
       "      <th>2003-05-31 11:31:28.875000+00:00</th>\n",
       "      <td>652</td>\n",
       "      <td>119.983559</td>\n",
       "      <td>0</td>\n",
       "      <td>676.00</td>\n",
       "      <td>0.109860</td>\n",
       "      <td>0.002931</td>\n",
       "    </tr>\n",
       "    <tr>\n",
       "      <th>2003-05-31 11:31:28.937500+00:00</th>\n",
       "      <td>652</td>\n",
       "      <td>119.983559</td>\n",
       "      <td>0</td>\n",
       "      <td>676.00</td>\n",
       "      <td>0.104367</td>\n",
       "      <td>0.003908</td>\n",
       "    </tr>\n",
       "    <tr>\n",
       "      <th>2003-05-31 11:31:29+00:00</th>\n",
       "      <td>652</td>\n",
       "      <td>119.983559</td>\n",
       "      <td>0</td>\n",
       "      <td>676.00</td>\n",
       "      <td>0.098874</td>\n",
       "      <td>0.004885</td>\n",
       "    </tr>\n",
       "    <tr>\n",
       "      <th>2003-05-31 11:31:29.062500+00:00</th>\n",
       "      <td>652</td>\n",
       "      <td>119.983559</td>\n",
       "      <td>0</td>\n",
       "      <td>676.00</td>\n",
       "      <td>0.098874</td>\n",
       "      <td>0.004885</td>\n",
       "    </tr>\n",
       "    <tr>\n",
       "      <th>2003-05-31 11:31:29.125000+00:00</th>\n",
       "      <td>652</td>\n",
       "      <td>119.983559</td>\n",
       "      <td>0</td>\n",
       "      <td>676.00</td>\n",
       "      <td>0.098874</td>\n",
       "      <td>0.002931</td>\n",
       "    </tr>\n",
       "    <tr>\n",
       "      <th>2003-05-31 11:31:29.187500+00:00</th>\n",
       "      <td>652</td>\n",
       "      <td>119.983559</td>\n",
       "      <td>0</td>\n",
       "      <td>676.00</td>\n",
       "      <td>0.093381</td>\n",
       "      <td>0.002931</td>\n",
       "    </tr>\n",
       "    <tr>\n",
       "      <th>2003-05-31 11:31:29.250000+00:00</th>\n",
       "      <td>652</td>\n",
       "      <td>119.983559</td>\n",
       "      <td>0</td>\n",
       "      <td>676.00</td>\n",
       "      <td>0.087888</td>\n",
       "      <td>0.002931</td>\n",
       "    </tr>\n",
       "    <tr>\n",
       "      <th>2003-05-31 11:31:29.312500+00:00</th>\n",
       "      <td>652</td>\n",
       "      <td>119.983559</td>\n",
       "      <td>0</td>\n",
       "      <td>676.00</td>\n",
       "      <td>0.087888</td>\n",
       "      <td>0.001954</td>\n",
       "    </tr>\n",
       "    <tr>\n",
       "      <th>2003-05-31 11:31:29.375000+00:00</th>\n",
       "      <td>652</td>\n",
       "      <td>119.983559</td>\n",
       "      <td>0</td>\n",
       "      <td>676.00</td>\n",
       "      <td>0.087888</td>\n",
       "      <td>0.001954</td>\n",
       "    </tr>\n",
       "    <tr>\n",
       "      <th>2003-05-31 11:31:29.437500+00:00</th>\n",
       "      <td>652</td>\n",
       "      <td>119.983559</td>\n",
       "      <td>0</td>\n",
       "      <td>676.00</td>\n",
       "      <td>0.082395</td>\n",
       "      <td>0.000977</td>\n",
       "    </tr>\n",
       "    <tr>\n",
       "      <th>2003-05-31 11:31:29.500000+00:00</th>\n",
       "      <td>652</td>\n",
       "      <td>119.983559</td>\n",
       "      <td>0</td>\n",
       "      <td>676.00</td>\n",
       "      <td>0.076902</td>\n",
       "      <td>0.000000</td>\n",
       "    </tr>\n",
       "    <tr>\n",
       "      <th>2003-05-31 11:31:29.562500+00:00</th>\n",
       "      <td>652</td>\n",
       "      <td>119.983559</td>\n",
       "      <td>0</td>\n",
       "      <td>676.00</td>\n",
       "      <td>0.076902</td>\n",
       "      <td>-0.000977</td>\n",
       "    </tr>\n",
       "    <tr>\n",
       "      <th>2003-05-31 11:31:29.625000+00:00</th>\n",
       "      <td>652</td>\n",
       "      <td>119.983559</td>\n",
       "      <td>0</td>\n",
       "      <td>676.00</td>\n",
       "      <td>0.076902</td>\n",
       "      <td>-0.003908</td>\n",
       "    </tr>\n",
       "    <tr>\n",
       "      <th>2003-05-31 11:31:29.687500+00:00</th>\n",
       "      <td>652</td>\n",
       "      <td>119.983559</td>\n",
       "      <td>0</td>\n",
       "      <td>676.00</td>\n",
       "      <td>0.071409</td>\n",
       "      <td>-0.003908</td>\n",
       "    </tr>\n",
       "    <tr>\n",
       "      <th>2003-05-31 11:31:29.750000+00:00</th>\n",
       "      <td>652</td>\n",
       "      <td>119.983559</td>\n",
       "      <td>0</td>\n",
       "      <td>676.00</td>\n",
       "      <td>0.065916</td>\n",
       "      <td>-0.003908</td>\n",
       "    </tr>\n",
       "    <tr>\n",
       "      <th>2003-05-31 11:31:29.812500+00:00</th>\n",
       "      <td>652</td>\n",
       "      <td>119.983559</td>\n",
       "      <td>0</td>\n",
       "      <td>676.00</td>\n",
       "      <td>0.065916</td>\n",
       "      <td>-0.003908</td>\n",
       "    </tr>\n",
       "    <tr>\n",
       "      <th>2003-05-31 11:31:29.875000+00:00</th>\n",
       "      <td>652</td>\n",
       "      <td>119.983559</td>\n",
       "      <td>0</td>\n",
       "      <td>676.00</td>\n",
       "      <td>0.065916</td>\n",
       "      <td>-0.003908</td>\n",
       "    </tr>\n",
       "    <tr>\n",
       "      <th>2003-05-31 11:31:29.937500+00:00</th>\n",
       "      <td>652</td>\n",
       "      <td>119.983559</td>\n",
       "      <td>0</td>\n",
       "      <td>676.00</td>\n",
       "      <td>0.060423</td>\n",
       "      <td>-0.003908</td>\n",
       "    </tr>\n",
       "    <tr>\n",
       "      <th>2003-05-31 11:31:30+00:00</th>\n",
       "      <td>652</td>\n",
       "      <td>119.983559</td>\n",
       "      <td>0</td>\n",
       "      <td>676.00</td>\n",
       "      <td>0.054930</td>\n",
       "      <td>-0.002931</td>\n",
       "    </tr>\n",
       "  </tbody>\n",
       "</table>\n",
       "<p>65 rows × 6 columns</p>\n",
       "</div>"
      ],
      "text/plain": [
       "                                  ACID        ABRK  APUF     ALT      PTCH  \\\n",
       "timestamp                                                                    \n",
       "2003-05-31 11:31:26+00:00          652  119.983559     0  675.00  0.153804   \n",
       "2003-05-31 11:31:26.062500+00:00   652  119.983559     0  675.25  0.153804   \n",
       "2003-05-31 11:31:26.125000+00:00   652  119.983559     0  675.50  0.153804   \n",
       "2003-05-31 11:31:26.187500+00:00   652  119.983559     0  675.75  0.148311   \n",
       "2003-05-31 11:31:26.250000+00:00   652  119.983559     0  676.00  0.142818   \n",
       "2003-05-31 11:31:26.312500+00:00   652  119.983559     0  675.75  0.142818   \n",
       "2003-05-31 11:31:26.375000+00:00   652  119.983559     0  675.50  0.142818   \n",
       "2003-05-31 11:31:26.437500+00:00   652  119.983559     0  675.25  0.142818   \n",
       "2003-05-31 11:31:26.500000+00:00   652  119.983559     0  675.00  0.142818   \n",
       "2003-05-31 11:31:26.562500+00:00   652  119.983559     0  675.25  0.137325   \n",
       "2003-05-31 11:31:26.625000+00:00   652  119.983559     0  675.50  0.131832   \n",
       "2003-05-31 11:31:26.687500+00:00   652  119.983559     0  675.75  0.131832   \n",
       "2003-05-31 11:31:26.750000+00:00   652  119.983559     0  676.00  0.131832   \n",
       "2003-05-31 11:31:26.812500+00:00   652  119.983559     0  676.00  0.131832   \n",
       "2003-05-31 11:31:26.875000+00:00   652  119.983559     0  676.00  0.131832   \n",
       "2003-05-31 11:31:26.937500+00:00   652  119.983559     0  676.00  0.131832   \n",
       "2003-05-31 11:31:27+00:00          652  119.983559     0  676.00  0.131832   \n",
       "2003-05-31 11:31:27.062500+00:00   652  119.983559     0  676.00  0.131832   \n",
       "2003-05-31 11:31:27.125000+00:00   652  119.983559     0  676.00  0.131832   \n",
       "2003-05-31 11:31:27.187500+00:00   652  119.983559     0  676.00  0.131832   \n",
       "2003-05-31 11:31:27.250000+00:00   652  119.983559     0  676.00  0.131832   \n",
       "2003-05-31 11:31:27.312500+00:00   652  119.983559     0  676.25  0.131832   \n",
       "2003-05-31 11:31:27.375000+00:00   652  119.983559     0  676.50  0.131832   \n",
       "2003-05-31 11:31:27.437500+00:00   652  119.983559     0  676.75  0.126339   \n",
       "2003-05-31 11:31:27.500000+00:00   652  119.983559     0  677.00  0.120846   \n",
       "2003-05-31 11:31:27.562500+00:00   652  119.983559     0  676.75  0.120846   \n",
       "2003-05-31 11:31:27.625000+00:00   652  119.983559     0  676.50  0.120846   \n",
       "2003-05-31 11:31:27.687500+00:00   652  119.983559     0  676.25  0.120846   \n",
       "2003-05-31 11:31:27.750000+00:00   652  119.983559     0  676.00  0.120846   \n",
       "2003-05-31 11:31:27.812500+00:00   652  119.983559     0  676.00  0.120846   \n",
       "...                                ...         ...   ...     ...       ...   \n",
       "2003-05-31 11:31:28.187500+00:00   652  119.983559     0  676.00  0.109860   \n",
       "2003-05-31 11:31:28.250000+00:00   652  119.983559     0  676.00  0.109860   \n",
       "2003-05-31 11:31:28.312500+00:00   652  119.983559     0  676.00  0.109860   \n",
       "2003-05-31 11:31:28.375000+00:00   652  119.983559     0  676.00  0.109860   \n",
       "2003-05-31 11:31:28.437500+00:00   652  119.983559     0  676.00  0.109860   \n",
       "2003-05-31 11:31:28.500000+00:00   652  119.983559     0  676.00  0.109860   \n",
       "2003-05-31 11:31:28.562500+00:00   652  119.983559     0  676.00  0.109860   \n",
       "2003-05-31 11:31:28.625000+00:00   652  119.983559     0  676.00  0.109860   \n",
       "2003-05-31 11:31:28.687500+00:00   652  119.983559     0  676.00  0.109860   \n",
       "2003-05-31 11:31:28.750000+00:00   652  119.983559     0  676.00  0.109860   \n",
       "2003-05-31 11:31:28.812500+00:00   652  119.983559     0  676.00  0.109860   \n",
       "2003-05-31 11:31:28.875000+00:00   652  119.983559     0  676.00  0.109860   \n",
       "2003-05-31 11:31:28.937500+00:00   652  119.983559     0  676.00  0.104367   \n",
       "2003-05-31 11:31:29+00:00          652  119.983559     0  676.00  0.098874   \n",
       "2003-05-31 11:31:29.062500+00:00   652  119.983559     0  676.00  0.098874   \n",
       "2003-05-31 11:31:29.125000+00:00   652  119.983559     0  676.00  0.098874   \n",
       "2003-05-31 11:31:29.187500+00:00   652  119.983559     0  676.00  0.093381   \n",
       "2003-05-31 11:31:29.250000+00:00   652  119.983559     0  676.00  0.087888   \n",
       "2003-05-31 11:31:29.312500+00:00   652  119.983559     0  676.00  0.087888   \n",
       "2003-05-31 11:31:29.375000+00:00   652  119.983559     0  676.00  0.087888   \n",
       "2003-05-31 11:31:29.437500+00:00   652  119.983559     0  676.00  0.082395   \n",
       "2003-05-31 11:31:29.500000+00:00   652  119.983559     0  676.00  0.076902   \n",
       "2003-05-31 11:31:29.562500+00:00   652  119.983559     0  676.00  0.076902   \n",
       "2003-05-31 11:31:29.625000+00:00   652  119.983559     0  676.00  0.076902   \n",
       "2003-05-31 11:31:29.687500+00:00   652  119.983559     0  676.00  0.071409   \n",
       "2003-05-31 11:31:29.750000+00:00   652  119.983559     0  676.00  0.065916   \n",
       "2003-05-31 11:31:29.812500+00:00   652  119.983559     0  676.00  0.065916   \n",
       "2003-05-31 11:31:29.875000+00:00   652  119.983559     0  676.00  0.065916   \n",
       "2003-05-31 11:31:29.937500+00:00   652  119.983559     0  676.00  0.060423   \n",
       "2003-05-31 11:31:30+00:00          652  119.983559     0  676.00  0.054930   \n",
       "\n",
       "                                      BLAC  \n",
       "timestamp                                   \n",
       "2003-05-31 11:31:26+00:00         0.002931  \n",
       "2003-05-31 11:31:26.062500+00:00  0.001954  \n",
       "2003-05-31 11:31:26.125000+00:00  0.002931  \n",
       "2003-05-31 11:31:26.187500+00:00  0.002931  \n",
       "2003-05-31 11:31:26.250000+00:00  0.003908  \n",
       "2003-05-31 11:31:26.312500+00:00  0.003908  \n",
       "2003-05-31 11:31:26.375000+00:00  0.003908  \n",
       "2003-05-31 11:31:26.437500+00:00  0.003908  \n",
       "2003-05-31 11:31:26.500000+00:00  0.004885  \n",
       "2003-05-31 11:31:26.562500+00:00  0.004885  \n",
       "2003-05-31 11:31:26.625000+00:00  0.004885  \n",
       "2003-05-31 11:31:26.687500+00:00  0.002931  \n",
       "2003-05-31 11:31:26.750000+00:00  0.001954  \n",
       "2003-05-31 11:31:26.812500+00:00  0.001954  \n",
       "2003-05-31 11:31:26.875000+00:00  0.001954  \n",
       "2003-05-31 11:31:26.937500+00:00  0.002931  \n",
       "2003-05-31 11:31:27+00:00         0.002931  \n",
       "2003-05-31 11:31:27.062500+00:00  0.003908  \n",
       "2003-05-31 11:31:27.125000+00:00  0.004885  \n",
       "2003-05-31 11:31:27.187500+00:00  0.005862  \n",
       "2003-05-31 11:31:27.250000+00:00  0.004885  \n",
       "2003-05-31 11:31:27.312500+00:00  0.002931  \n",
       "2003-05-31 11:31:27.375000+00:00  0.003908  \n",
       "2003-05-31 11:31:27.437500+00:00  0.003908  \n",
       "2003-05-31 11:31:27.500000+00:00  0.002931  \n",
       "2003-05-31 11:31:27.562500+00:00  0.002931  \n",
       "2003-05-31 11:31:27.625000+00:00  0.001954  \n",
       "2003-05-31 11:31:27.687500+00:00  0.001954  \n",
       "2003-05-31 11:31:27.750000+00:00  0.001954  \n",
       "2003-05-31 11:31:27.812500+00:00  0.002931  \n",
       "...                                    ...  \n",
       "2003-05-31 11:31:28.187500+00:00  0.001954  \n",
       "2003-05-31 11:31:28.250000+00:00  0.002931  \n",
       "2003-05-31 11:31:28.312500+00:00  0.003908  \n",
       "2003-05-31 11:31:28.375000+00:00  0.003908  \n",
       "2003-05-31 11:31:28.437500+00:00  0.002931  \n",
       "2003-05-31 11:31:28.500000+00:00  0.002931  \n",
       "2003-05-31 11:31:28.562500+00:00  0.002931  \n",
       "2003-05-31 11:31:28.625000+00:00  0.002931  \n",
       "2003-05-31 11:31:28.687500+00:00  0.002931  \n",
       "2003-05-31 11:31:28.750000+00:00  0.002931  \n",
       "2003-05-31 11:31:28.812500+00:00  0.001954  \n",
       "2003-05-31 11:31:28.875000+00:00  0.002931  \n",
       "2003-05-31 11:31:28.937500+00:00  0.003908  \n",
       "2003-05-31 11:31:29+00:00         0.004885  \n",
       "2003-05-31 11:31:29.062500+00:00  0.004885  \n",
       "2003-05-31 11:31:29.125000+00:00  0.002931  \n",
       "2003-05-31 11:31:29.187500+00:00  0.002931  \n",
       "2003-05-31 11:31:29.250000+00:00  0.002931  \n",
       "2003-05-31 11:31:29.312500+00:00  0.001954  \n",
       "2003-05-31 11:31:29.375000+00:00  0.001954  \n",
       "2003-05-31 11:31:29.437500+00:00  0.000977  \n",
       "2003-05-31 11:31:29.500000+00:00  0.000000  \n",
       "2003-05-31 11:31:29.562500+00:00 -0.000977  \n",
       "2003-05-31 11:31:29.625000+00:00 -0.003908  \n",
       "2003-05-31 11:31:29.687500+00:00 -0.003908  \n",
       "2003-05-31 11:31:29.750000+00:00 -0.003908  \n",
       "2003-05-31 11:31:29.812500+00:00 -0.003908  \n",
       "2003-05-31 11:31:29.875000+00:00 -0.003908  \n",
       "2003-05-31 11:31:29.937500+00:00 -0.003908  \n",
       "2003-05-31 11:31:30+00:00        -0.002931  \n",
       "\n",
       "[65 rows x 6 columns]"
      ]
     },
     "execution_count": 23,
     "metadata": {},
     "output_type": "execute_result"
    }
   ],
   "source": [
    "interpolated = rate_sample.interpolate(method='linear')\n",
    "interpolated"
   ]
  },
  {
   "cell_type": "markdown",
   "metadata": {},
   "source": [
    "## Persisting the DataFrame for later use"
   ]
  },
  {
   "cell_type": "markdown",
   "metadata": {},
   "source": [
    "### DataFrame to SQL"
   ]
  },
  {
   "cell_type": "markdown",
   "metadata": {},
   "source": [
    "This creates one table per data frame.  For a repository of hundreds of thousands of flights thats going to get pretty heavy pretty quickly...  However, is it SQLite and it was meant to be used at smaller scale so one database per flight with one table per data frame would be tolerable."
   ]
  },
  {
   "cell_type": "code",
   "execution_count": 24,
   "metadata": {
    "collapsed": false
   },
   "outputs": [],
   "source": [
    "import os\n",
    "from sqlalchemy import create_engine"
   ]
  },
  {
   "cell_type": "markdown",
   "metadata": {},
   "source": [
    "#### Combined DataFrame"
   ]
  },
  {
   "cell_type": "code",
   "execution_count": null,
   "metadata": {
    "collapsed": false
   },
   "outputs": [],
   "source": [
    "com_db_file = 'combined.db'\n",
    "def combined_sql_store():\n",
    "    combined_engine = create_engine('sqlite:///{}'.format(com_db_file))\n",
    "    params_combined.to_sql('combined', combined_engine, if_exists='replace')\n",
    "%timeit -n1 combined_sql_store()"
   ]
  },
  {
   "cell_type": "code",
   "execution_count": 50,
   "metadata": {
    "collapsed": false
   },
   "outputs": [
    {
     "data": {
      "text/plain": [
       "'35,774K'"
      ]
     },
     "execution_count": 50,
     "metadata": {},
     "output_type": "execute_result"
    }
   ],
   "source": [
    "'{:,}K'.format(os.path.getsize(com_db_file)//1024)"
   ]
  },
  {
   "cell_type": "markdown",
   "metadata": {},
   "source": [
    "#### Separate DataFrames"
   ]
  },
  {
   "cell_type": "code",
   "execution_count": 52,
   "metadata": {
    "collapsed": false
   },
   "outputs": [
    {
     "name": "stdout",
     "output_type": "stream",
     "text": [
      "1 loops, best of 3: 16.6 s per loop\n"
     ]
    }
   ],
   "source": [
    "sep_db_file = 'separate.db'\n",
    "def separate_sql_store():\n",
    "    separate_engine = create_engine('sqlite:///{}'.format(sep_db_file))\n",
    "    for k, v in params.items():\n",
    "        v.to_sql('Table{}'.format(int(k*1000)), separate_engine, if_exists='replace')\n",
    "%timeit -n1 separate_sql_store()"
   ]
  },
  {
   "cell_type": "code",
   "execution_count": 53,
   "metadata": {
    "collapsed": false
   },
   "outputs": [
    {
     "data": {
      "text/plain": [
       "'22,893K'"
      ]
     },
     "execution_count": 53,
     "metadata": {},
     "output_type": "execute_result"
    }
   ],
   "source": [
    "'{:,}K'.format(os.path.getsize(sep_db_file)//1024)"
   ]
  },
  {
   "cell_type": "markdown",
   "metadata": {},
   "source": [
    "#### Getting Data into Memory"
   ]
  },
  {
   "cell_type": "markdown",
   "metadata": {},
   "source": [
    "SQLite allows placing the database into memory.  However, research would need to go into getting it out of memory to persist it in a database.  Given that saving to the database is at a minimum of 16.6 seconds and occupies nearly 23K, the database approach is not viable if one of the other formats supports serialization so no further study of the SQLite database is expected."
   ]
  },
  {
   "cell_type": "markdown",
   "metadata": {},
   "source": [
    "### DataFrame to HDF5"
   ]
  },
  {
   "cell_type": "markdown",
   "metadata": {},
   "source": [
    "H5 is a popular scientific format.  It offers an interface to access data, stores the data in binary, preserves data types, supportes many data types, and can save data in hierarchies.  It is used as the output data file for satellites and even MATLAB.  Version 1.8.9 introduced the ability to place the H5 data files in memory."
   ]
  },
  {
   "cell_type": "code",
   "execution_count": 54,
   "metadata": {
    "collapsed": false
   },
   "outputs": [
    {
     "data": {
      "text/plain": [
       "'PyTables was built against HDF-5 version 1.8.14'"
      ]
     },
     "execution_count": 54,
     "metadata": {},
     "output_type": "execute_result"
    }
   ],
   "source": [
    "import tables\n",
    "'PyTables was built against HDF-5 version {}'.format(tables.hdf5_version)  # We want at least 1.8.9 for memory backed H5"
   ]
  },
  {
   "cell_type": "markdown",
   "metadata": {},
   "source": [
    "#### Combined DataFrame"
   ]
  },
  {
   "cell_type": "code",
   "execution_count": 87,
   "metadata": {
    "collapsed": false
   },
   "outputs": [
    {
     "name": "stdout",
     "output_type": "stream",
     "text": [
      "1 loops, best of 1: 215 ms per loop\n"
     ]
    }
   ],
   "source": [
    "com_h5_file = 'combined.h5'\n",
    "def combined_h5_store():\n",
    "    combined_store = pd.HDFStore(com_h5_file)\n",
    "    combined_store['Combined'] = params_combined\n",
    "%timeit -n1 -r1 combined_h5_store()"
   ]
  },
  {
   "cell_type": "code",
   "execution_count": 88,
   "metadata": {
    "collapsed": false
   },
   "outputs": [
    {
     "name": "stdout",
     "output_type": "stream",
     "text": [
      "<class 'pandas.io.pytables.HDFStore'>\n",
      "File path: combined.h5\n",
      "/Combined            frame        (shape->[69440,186])\n"
     ]
    }
   ],
   "source": [
    "with pd.HDFStore(com_h5_file) as combined_store:\n",
    "    print(combined_store)"
   ]
  },
  {
   "cell_type": "code",
   "execution_count": 89,
   "metadata": {
    "collapsed": false
   },
   "outputs": [
    {
     "data": {
      "text/plain": [
       "'101,051K'"
      ]
     },
     "execution_count": 89,
     "metadata": {},
     "output_type": "execute_result"
    }
   ],
   "source": [
    "'{:,}K'.format(os.path.getsize(com_h5_file)//1024)"
   ]
  },
  {
   "cell_type": "markdown",
   "metadata": {},
   "source": [
    "#### Separate DataFrame"
   ]
  },
  {
   "cell_type": "code",
   "execution_count": 90,
   "metadata": {
    "collapsed": false
   },
   "outputs": [
    {
     "name": "stdout",
     "output_type": "stream",
     "text": [
      "1 loops, best of 1: 88 ms per loop\n"
     ]
    }
   ],
   "source": [
    "sep_h5_file = 'separate.h5'\n",
    "def separate_h5_store():\n",
    "    separate_store = pd.HDFStore(sep_h5_file)\n",
    "    for k, v in params.items():\n",
    "        separate_store['Table{}'.format(int(k*1000))] = v\n",
    "%timeit -n1 -r1 separate_h5_store()"
   ]
  },
  {
   "cell_type": "code",
   "execution_count": 91,
   "metadata": {
    "collapsed": false
   },
   "outputs": [
    {
     "name": "stdout",
     "output_type": "stream",
     "text": [
      "<class 'pandas.io.pytables.HDFStore'>\n",
      "File path: separate.h5\n",
      "/Table1000             frame        (shape->[4340,88]) \n",
      "/Table16000            frame        (shape->[69440,4]) \n",
      "/Table2000             frame        (shape->[8680,18]) \n",
      "/Table250              frame        (shape->[1085,23]) \n",
      "/Table4000             frame        (shape->[17360,49])\n",
      "/Table8000             frame        (shape->[34720,4]) \n"
     ]
    }
   ],
   "source": [
    "with pd.HDFStore(sep_h5_file) as separate_store:\n",
    "    print(separate_store)"
   ]
  },
  {
   "cell_type": "code",
   "execution_count": 92,
   "metadata": {
    "collapsed": false
   },
   "outputs": [
    {
     "data": {
      "text/plain": [
       "'11,322K'"
      ]
     },
     "execution_count": 92,
     "metadata": {},
     "output_type": "execute_result"
    }
   ],
   "source": [
    "'{:,}K'.format(os.path.getsize(sep_h5_file)//1024)"
   ]
  },
  {
   "cell_type": "markdown",
   "metadata": {},
   "source": [
    "#### Reading in from H5"
   ]
  },
  {
   "cell_type": "code",
   "execution_count": 48,
   "metadata": {
    "collapsed": false
   },
   "outputs": [
    {
     "data": {
      "text/plain": [
       "[                               BLAC  CTAC  FPAC\n",
       " timestamp                                      \n",
       " 2001-04-11 14:40:24+00:00 -0.008793     0     0,\n",
       "                            ALT  ALTR      AOA1\n",
       " timestamp                                     \n",
       " 2001-04-11 14:40:24+00:00  987   -16 -4.306609,\n",
       "                                PTCH  RALT      ROLL\n",
       " timestamp                                          \n",
       " 2001-04-11 14:40:24+00:00 -0.505356  2.25 -0.285638,\n",
       "                                  ABRK  ACMT      AIL_1\n",
       " timestamp                                             \n",
       " 2001-04-11 14:40:24+00:00  119.983559    60  87.275848,\n",
       "                            APUF  CCPC  CCPF\n",
       " timestamp                                  \n",
       " 2001-04-11 14:40:24+00:00     0  1957  1876,\n",
       "                            ACID  DATE_DAY  DATE_MONTH\n",
       " timestamp                                            \n",
       " 2001-04-11 14:40:24+00:00   687        11           4]"
      ]
     },
     "execution_count": 48,
     "metadata": {},
     "output_type": "execute_result"
    }
   ],
   "source": [
    "params2 = {}\n",
    "separate_store = pd.HDFStore(sep_h5_file)\n",
    "for i in separate_store.iteritems():\n",
    "    params2[i[0]] = separate_store[i[0]]\n",
    "separate_store.close()\n",
    "[p.iloc[:1, :3] for p in params2.values()]  # Select 2 rows from each data"
   ]
  },
  {
   "cell_type": "markdown",
   "metadata": {},
   "source": [
    "### DataFrame to Pickle"
   ]
  },
  {
   "cell_type": "markdown",
   "metadata": {},
   "source": [
    "Pickle is python's data serialization interface.  Combined with BytesIO it's possible to serialize data in and out making this the most straight-forward approaches to persisting data to a database and then serializing in and out of memory as needed.  However, pickle is specific to python, which presents a few limitations as well.  One is the obvious fact that the data would always need translated to other formats to use in external tools.  At the moment that is not really expected to be a factor since even the tools available that use H5 would need to be able to use the pandas specific format.  The second is the continued compatibility of python's pickle package.  It went through several formats that were not compatible.  However, they continued to support the previous formats.  Third, pickle results in executing python code.  As long as the pickled representations are protected and not exposed this is OK but it is not good to use pickle on data that is not trusted.  The other formats don't have this problem since they deal with data only."
   ]
  },
  {
   "cell_type": "code",
   "execution_count": 104,
   "metadata": {
    "collapsed": false
   },
   "outputs": [],
   "source": [
    "import pickle"
   ]
  },
  {
   "cell_type": "markdown",
   "metadata": {},
   "source": [
    "#### Combined DataFrame"
   ]
  },
  {
   "cell_type": "code",
   "execution_count": 95,
   "metadata": {
    "collapsed": false
   },
   "outputs": [
    {
     "name": "stdout",
     "output_type": "stream",
     "text": [
      "1 loops, best of 3: 141 ms per loop\n"
     ]
    }
   ],
   "source": [
    "com_pkl_file = 'combined.pkl'\n",
    "def combined_pkl_store():\n",
    "    with open(com_pkl_file, 'wb') as cp:\n",
    "        pickle.dump(params_combined, cp)\n",
    "%timeit -n1 combined_pkl_store()"
   ]
  },
  {
   "cell_type": "code",
   "execution_count": 96,
   "metadata": {
    "collapsed": false
   },
   "outputs": [
    {
     "data": {
      "text/plain": [
       "'101,056K'"
      ]
     },
     "execution_count": 96,
     "metadata": {},
     "output_type": "execute_result"
    }
   ],
   "source": [
    "'{:,}K'.format(os.path.getsize(com_pkl_file)//1024)"
   ]
  },
  {
   "cell_type": "markdown",
   "metadata": {},
   "source": [
    "#### Separate DataFrame"
   ]
  },
  {
   "cell_type": "code",
   "execution_count": 98,
   "metadata": {
    "collapsed": false
   },
   "outputs": [
    {
     "name": "stdout",
     "output_type": "stream",
     "text": [
      "1 loops, best of 3: 18.9 ms per loop\n"
     ]
    }
   ],
   "source": [
    "sep_pkl_file = 'separate.pkl'\n",
    "def separate_pkl_store():\n",
    "    with open(sep_pkl_file, 'wb') as sp:\n",
    "        pickle.dump(params, sp)\n",
    "%timeit -n1 separate_pkl_store()"
   ]
  },
  {
   "cell_type": "code",
   "execution_count": 99,
   "metadata": {
    "collapsed": false
   },
   "outputs": [
    {
     "data": {
      "text/plain": [
       "'11,290K'"
      ]
     },
     "execution_count": 99,
     "metadata": {},
     "output_type": "execute_result"
    }
   ],
   "source": [
    "'{:,}K'.format(os.path.getsize(sep_pkl_file)//1024)"
   ]
  },
  {
   "cell_type": "markdown",
   "metadata": {},
   "source": [
    "#### Pickle to/from Memory"
   ]
  },
  {
   "cell_type": "code",
   "execution_count": 109,
   "metadata": {
    "collapsed": false
   },
   "outputs": [
    {
     "data": {
      "text/plain": [
       "b''"
      ]
     },
     "execution_count": 109,
     "metadata": {},
     "output_type": "execute_result"
    }
   ],
   "source": [
    "from io import BytesIO\n",
    "separate_io = BytesIO()\n",
    "combined_io = BytesIO()\n",
    "combined_io.read()"
   ]
  },
  {
   "cell_type": "code",
   "execution_count": 113,
   "metadata": {
    "collapsed": false
   },
   "outputs": [
    {
     "data": {
      "text/html": [
       "<div style=\"max-height:1000px;max-width:1500px;overflow:auto;\">\n",
       "<table border=\"1\" class=\"dataframe\">\n",
       "  <thead>\n",
       "    <tr style=\"text-align: right;\">\n",
       "      <th></th>\n",
       "      <th>ACID</th>\n",
       "      <th>DATE_DAY</th>\n",
       "      <th>DATE_MONTH</th>\n",
       "      <th>DATE_YEAR</th>\n",
       "      <th>DVER_1</th>\n",
       "      <th>DVER_2</th>\n",
       "      <th>ECYC_1</th>\n",
       "      <th>ECYC_2</th>\n",
       "      <th>ECYC_3</th>\n",
       "      <th>ECYC_4</th>\n",
       "      <th>...</th>\n",
       "      <th>WD</th>\n",
       "      <th>WS</th>\n",
       "      <th>BLAC</th>\n",
       "      <th>CTAC</th>\n",
       "      <th>FPAC</th>\n",
       "      <th>IVV</th>\n",
       "      <th>PTCH</th>\n",
       "      <th>RALT</th>\n",
       "      <th>ROLL</th>\n",
       "      <th>VRTG</th>\n",
       "    </tr>\n",
       "    <tr>\n",
       "      <th>timestamp</th>\n",
       "      <th></th>\n",
       "      <th></th>\n",
       "      <th></th>\n",
       "      <th></th>\n",
       "      <th></th>\n",
       "      <th></th>\n",
       "      <th></th>\n",
       "      <th></th>\n",
       "      <th></th>\n",
       "      <th></th>\n",
       "      <th></th>\n",
       "      <th></th>\n",
       "      <th></th>\n",
       "      <th></th>\n",
       "      <th></th>\n",
       "      <th></th>\n",
       "      <th></th>\n",
       "      <th></th>\n",
       "      <th></th>\n",
       "      <th></th>\n",
       "      <th></th>\n",
       "    </tr>\n",
       "  </thead>\n",
       "  <tbody>\n",
       "    <tr>\n",
       "      <th>2001-04-11 14:40:24+00:00</th>\n",
       "      <td>687</td>\n",
       "      <td>11</td>\n",
       "      <td>4</td>\n",
       "      <td>2001</td>\n",
       "      <td>126</td>\n",
       "      <td>50</td>\n",
       "      <td>6740</td>\n",
       "      <td>6740</td>\n",
       "      <td>6740</td>\n",
       "      <td>8223</td>\n",
       "      <td>...</td>\n",
       "      <td>0</td>\n",
       "      <td>0</td>\n",
       "      <td>-0.008793</td>\n",
       "      <td>0</td>\n",
       "      <td>0</td>\n",
       "      <td>0</td>\n",
       "      <td>-0.505356</td>\n",
       "      <td>2.25</td>\n",
       "      <td>-0.285638</td>\n",
       "      <td>0.992412</td>\n",
       "    </tr>\n",
       "    <tr>\n",
       "      <th>2001-04-11 14:40:24.062500+00:00</th>\n",
       "      <td>NaN</td>\n",
       "      <td>NaN</td>\n",
       "      <td>NaN</td>\n",
       "      <td>NaN</td>\n",
       "      <td>NaN</td>\n",
       "      <td>NaN</td>\n",
       "      <td>NaN</td>\n",
       "      <td>NaN</td>\n",
       "      <td>NaN</td>\n",
       "      <td>NaN</td>\n",
       "      <td>...</td>\n",
       "      <td>NaN</td>\n",
       "      <td>NaN</td>\n",
       "      <td>-0.008793</td>\n",
       "      <td>0</td>\n",
       "      <td>0</td>\n",
       "      <td>0</td>\n",
       "      <td>NaN</td>\n",
       "      <td>NaN</td>\n",
       "      <td>NaN</td>\n",
       "      <td>NaN</td>\n",
       "    </tr>\n",
       "  </tbody>\n",
       "</table>\n",
       "<p>2 rows × 186 columns</p>\n",
       "</div>"
      ],
      "text/plain": [
       "                                  ACID  DATE_DAY  DATE_MONTH  DATE_YEAR  \\\n",
       "timestamp                                                                 \n",
       "2001-04-11 14:40:24+00:00          687        11           4       2001   \n",
       "2001-04-11 14:40:24.062500+00:00   NaN       NaN         NaN        NaN   \n",
       "\n",
       "                                  DVER_1  DVER_2  ECYC_1  ECYC_2  ECYC_3  \\\n",
       "timestamp                                                                  \n",
       "2001-04-11 14:40:24+00:00            126      50    6740    6740    6740   \n",
       "2001-04-11 14:40:24.062500+00:00     NaN     NaN     NaN     NaN     NaN   \n",
       "\n",
       "                                  ECYC_4    ...     WD  WS      BLAC  CTAC  \\\n",
       "timestamp                                   ...                              \n",
       "2001-04-11 14:40:24+00:00           8223    ...      0   0 -0.008793     0   \n",
       "2001-04-11 14:40:24.062500+00:00     NaN    ...    NaN NaN -0.008793     0   \n",
       "\n",
       "                                  FPAC  IVV      PTCH  RALT      ROLL  \\\n",
       "timestamp                                                               \n",
       "2001-04-11 14:40:24+00:00            0    0 -0.505356  2.25 -0.285638   \n",
       "2001-04-11 14:40:24.062500+00:00     0    0       NaN   NaN       NaN   \n",
       "\n",
       "                                      VRTG  \n",
       "timestamp                                   \n",
       "2001-04-11 14:40:24+00:00         0.992412  \n",
       "2001-04-11 14:40:24.062500+00:00       NaN  \n",
       "\n",
       "[2 rows x 186 columns]"
      ]
     },
     "execution_count": 113,
     "metadata": {},
     "output_type": "execute_result"
    }
   ],
   "source": [
    "params_combined[:2]"
   ]
  },
  {
   "cell_type": "code",
   "execution_count": 116,
   "metadata": {
    "collapsed": false
   },
   "outputs": [],
   "source": [
    "separate_io = pickle.dumps(params)\n",
    "combined_io = pickle.dumps(params_combined)"
   ]
  },
  {
   "cell_type": "code",
   "execution_count": 120,
   "metadata": {
    "collapsed": false
   },
   "outputs": [
    {
     "data": {
      "text/plain": [
       "[                           ACID  DATE_DAY  DATE_MONTH\n",
       " timestamp                                            \n",
       " 2001-04-11 14:40:24+00:00   687        11           4,\n",
       "                                  ABRK  ACMT      AIL_1\n",
       " timestamp                                             \n",
       " 2001-04-11 14:40:24+00:00  119.983559    60  87.275848,\n",
       "                            APUF  CCPC  CCPF\n",
       " timestamp                                  \n",
       " 2001-04-11 14:40:24+00:00     0  1957  1876,\n",
       "                            ALT  ALTR      AOA1\n",
       " timestamp                                     \n",
       " 2001-04-11 14:40:24+00:00  987   -16 -4.306609,\n",
       "                                BLAC  CTAC  FPAC\n",
       " timestamp                                      \n",
       " 2001-04-11 14:40:24+00:00 -0.008793     0     0,\n",
       "                                PTCH  RALT      ROLL\n",
       " timestamp                                          \n",
       " 2001-04-11 14:40:24+00:00 -0.505356  2.25 -0.285638]"
      ]
     },
     "execution_count": 120,
     "metadata": {},
     "output_type": "execute_result"
    }
   ],
   "source": [
    "params2 = pickle.loads(separate_io)\n",
    "[p.iloc[:1, :3] for p in params2.values()]"
   ]
  },
  {
   "cell_type": "markdown",
   "metadata": {},
   "source": [
    "### Conclusion"
   ]
  },
  {
   "cell_type": "markdown",
   "metadata": {},
   "source": [
    "1. SQLite\n",
    "   a. It's the slowest of all processes\n",
    "   a. It uses the most storage memory\n",
    "   a. It has the most portable representation for the data\n",
    "   a. The separate data frame form uses 2/3 the memory as combined\n",
    "1. H5\n",
    "   a. It's much faster than SQLite and marginally slower than pickle\n",
    "   a. It is equivalent on storage space to pickle \n",
    "   a. The representation is portable but the index and data are stored separate and large tables (lots of samples) are split into multiple H5 data tables.\n",
    "   a. The separate data frame form uses 1/10th the memory of combined\n",
    "   a. Writing to memory is theoretically possible but will require some experimentation\n",
    "1. Pickle\n",
    "   a. It is the fastest of all forms\n",
    "   a. It's memory is tied for lowest\n",
    "   a. Only python can easily read the representation (may not be compatible to different python implementations)\n",
    "   a. The separate data frame form uses 1/10th the memory of combined\n",
    "   a. The pickle package provides the dumps and loads functions to dump to a bytes object\n",
    "   \n",
    "**Conclusion**: Use pickle to store pandas data to the database"
   ]
  },
  {
   "cell_type": "code",
   "execution_count": 60,
   "metadata": {
    "collapsed": false
   },
   "outputs": [
    {
     "data": {
      "text/plain": [
       "builtin_function_or_method"
      ]
     },
     "execution_count": 60,
     "metadata": {},
     "output_type": "execute_result"
    }
   ],
   "source": [
    "type(np.array)"
   ]
  },
  {
   "cell_type": "code",
   "execution_count": null,
   "metadata": {
    "collapsed": false
   },
   "outputs": [],
   "source": []
  }
 ],
 "metadata": {
  "kernelspec": {
   "display_name": "Python 3",
   "language": "python",
   "name": "python3"
  },
  "language_info": {
   "codemirror_mode": {
    "name": "ipython",
    "version": 3
   },
   "file_extension": ".py",
   "mimetype": "text/x-python",
   "name": "python",
   "nbconvert_exporter": "python",
   "pygments_lexer": "ipython3",
   "version": "3.5.3"
  }
 },
 "nbformat": 4,
 "nbformat_minor": 0
}
