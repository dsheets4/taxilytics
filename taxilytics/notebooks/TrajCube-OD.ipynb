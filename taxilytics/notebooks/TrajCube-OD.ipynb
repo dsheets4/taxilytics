{
 "cells": [
  {
   "cell_type": "markdown",
   "metadata": {},
   "source": [
    "# Data Description: NYC Taxi & Limousine Commission Data\n",
    "This street cube is created using 2011 December Hangzhou data.  This section captures specifics on the data stored in the database that was used to create the TrajCube."
   ]
  },
  {
   "cell_type": "markdown",
   "metadata": {},
   "source": [
    "## Setup Logic\n",
    "This section is just setting up the code to query the database and format the results so that subsequent sections can be more concise."
   ]
  },
  {
   "cell_type": "code",
   "execution_count": 1,
   "metadata": {
    "collapsed": true
   },
   "outputs": [],
   "source": [
    "# Getting a connection via the jango settings.py\n",
    "from django.db import connection\n",
    "\n",
    "cursor = connection.cursor()"
   ]
  },
  {
   "cell_type": "code",
   "execution_count": 2,
   "metadata": {
    "collapsed": true
   },
   "outputs": [],
   "source": [
    "from datetime import datetime\n",
    "from IPython.display import Markdown\n",
    "from itertools import islice\n",
    "from collections import namedtuple\n",
    "from entity.loader.taxi.taxi_common import human_size\n",
    "\n",
    "def format_results(results, limit=None):\n",
    "    try:\n",
    "        if len(results) > 1:\n",
    "            sep = '-:'\n",
    "            nl = '\\n'\n",
    "            col_sep = '|'\n",
    "            if limit:\n",
    "                results = results[:limit]\n",
    "        else:\n",
    "            sep = ' = '\n",
    "            nl = ''\n",
    "            col_sep = ', '\n",
    "        return Markdown(nl.join((\n",
    "            col_sep.join(  # Header row\n",
    "                [f for f in results[0]._fields]\n",
    "            ),\n",
    "            col_sep.join(  # Alignment Row\n",
    "                ['-:'] * len(results[0]._fields)\n",
    "            ) if len(results) > 1 else ' = ',\n",
    "            '\\n'.join(  # Data Rows\n",
    "                [col_sep.join([str(getattr(r, f)) for f in r._fields]) for r in results]\n",
    "            ).rstrip()\n",
    "        )))\n",
    "    except BaseException:\n",
    "        return results\n",
    "\n",
    "num_results = 20  # Default maximum results to print from a query\n",
    "\n",
    "def execute(q_str, max_results=num_results, execute_timeit=True):\n",
    "    if execute_timeit:\n",
    "        if not q == q_str:  # %timeit requires using the global q...\n",
    "            raise Exception(\n",
    "                \"Set global 'q' before calling execute.  Would time {} instead\".format(q)\n",
    "            )\n",
    "        %timeit cursor.execute(q)\n",
    "    \n",
    "    cursor.execute(q_str)\n",
    "    nt_result = namedtuple('Result', [col[0] for col in cursor.description])\n",
    "    return [nt_result(*r) for r in islice(cursor, None, max_results)]"
   ]
  },
  {
   "cell_type": "markdown",
   "metadata": {},
   "source": [
    "## Input Data Statistics\n",
    "The purpose of this section is to see what kind of data is actually in the base data.  This gives an idea about the total amount of data that the street cube is dealing with."
   ]
  },
  {
   "cell_type": "code",
   "execution_count": 3,
   "metadata": {
    "collapsed": false
   },
   "outputs": [
    {
     "name": "stdout",
     "output_type": "stream",
     "text": [
      "Total 29,284,418 trips over 524,541,298 samples.\n",
      "Query execution and results in 0:03:48.667259\n"
     ]
    }
   ],
   "source": [
    "from datetime import datetime\n",
    "from entity.models import Trip\n",
    "from entity.functions import NumPoints\n",
    "\n",
    "start_time = datetime.now()\n",
    "qs = (Trip.objects\n",
    "      .datetimes(field_name='start_datetime', kind='day')\n",
    "      .values('datetimefield')\n",
    "      .annotate(num_trips=Count('id'))\n",
    "      .annotate(num_samples=Sum(NumPoints('geometry')))\n",
    "#       .order_by('start_datetime')\n",
    ")\n",
    "\n",
    "total_trips = total_samples = 0\n",
    "for result in qs:\n",
    "    total_trips += result['num_trips']\n",
    "    if result['num_samples']:  # TODO: Why is this None?\n",
    "        samples = result['num_samples']\n",
    "    else:\n",
    "        samples = 2 * result['num_trips']\n",
    "    total_samples += samples\n",
    "#     print('{}: Trips({:8,}), Samples({:9,})'.format(\n",
    "#             result['datetimefield'].date(), result['num_trips'], samples\n",
    "#     ))\n",
    "print('Total {:,} trips over {:,} samples.'.format(total_trips, total_samples))\n",
    "print('Query execution and results in {}'.format(datetime.now() - start_time))"
   ]
  },
  {
   "cell_type": "code",
   "execution_count": 4,
   "metadata": {
    "collapsed": false
   },
   "outputs": [
    {
     "name": "stdout",
     "output_type": "stream",
     "text": [
      "The slowest run took 588.61 times longer than the fastest. This could mean that an intermediate result is being cached.\n",
      "10000 loops, best of 3: 108 µs per loop\n"
     ]
    },
    {
     "data": {
      "text/markdown": [
       "min_timestamp, max_timestamp = 2005-01-09 02:31:37+00:00, 2080-01-12 11:07:23+00:00"
      ],
      "text/plain": [
       "<IPython.core.display.Markdown object>"
      ]
     },
     "execution_count": 4,
     "metadata": {},
     "output_type": "execute_result"
    }
   ],
   "source": [
    "# Time range of the loaded data\n",
    "q = \"\"\"\n",
    "    SELECT min(start_datetime) as min_timestamp, max(start_datetime) as max_timestamp\n",
    "    FROM entity_trip\n",
    "\"\"\".replace('\\n', ' ')\n",
    "format_results(execute(q))"
   ]
  },
  {
   "cell_type": "markdown",
   "metadata": {},
   "source": [
    "# Cube Statistics\n",
    "Having built the cube it's useful to know how much data was processed to build the cube and what kind of size each dimension has in the cube.  The queries below provide some useful statistics related to the cube that was created above."
   ]
  },
  {
   "cell_type": "raw",
   "metadata": {},
   "source": [
    "[2016-04-17 22:58:24] Cube generation started at 2016-04-17 22:58:24.080131 with 8 workers\n",
    "[2016-04-17 23:20:23] OD Cube generated on 1165321 trips in 0:21:59.012551 for 2011-11-30 <= date < 2012-01-29.\n",
    "[2016-04-17 23:20:23] Combining duplicate records (osm_id, time_inc)\n",
    "[2016-04-17 23:20:40] There are 0.0 duplicate sets.\n",
    "[2016-04-17 23:23:50] OD Cube linked for 500000 cells in 0:03:09.290463 for 500001 <= id < 1000001.\n",
    "[2016-04-17 23:26:54] OD Cube linked for 500000 cells in 0:06:13.719389 for 1000001 <= id < 1165322.\n",
    "[2016-04-17 23:27:41] OD Cube linked for 165321 cells in 0:07:00.482328 for 1 <= id < 500001.\n",
    "[2016-04-17 23:27:41] Creating pre-aggregation for unbound time.\n",
    "[2016-04-17 23:32:07] Creating pre-aggregation for unbound street.\n",
    "[2016-04-17 23:35:41] Creating pre-aggregation for unbound time and street (i.e. totals).\n",
    "[2016-04-17 23:35:46] Built streetcube on 1165321 records in 0:37:22.330475 using 8 workers."
   ]
  },
  {
   "cell_type": "markdown",
   "metadata": {},
   "source": [
    "## Counts for each dimension"
   ]
  },
  {
   "cell_type": "code",
   "execution_count": 5,
   "metadata": {
    "collapsed": false
   },
   "outputs": [
    {
     "name": "stdout",
     "output_type": "stream",
     "text": [
      "The slowest run took 5.06 times longer than the fastest. This could mean that an intermediate result is being cached.\n",
      "10000 loops, best of 3: 87.4 µs per loop\n"
     ]
    },
    {
     "data": {
      "text/markdown": [
       "nonempty_cube_cells = 0"
      ],
      "text/plain": [
       "<IPython.core.display.Markdown object>"
      ]
     },
     "execution_count": 5,
     "metadata": {},
     "output_type": "execute_result"
    }
   ],
   "source": [
    "# Count of the total non-empty cells in the cube.\n",
    "q = \"\"\"\n",
    "    SELECT count(*) as nonempty_cube_cells\n",
    "    FROM streetcube_origindestinationcell\n",
    "    WHERE\n",
    "        time_inc IS NOT NULL\n",
    "        AND\n",
    "        osm_id IS NOT NULL\n",
    "\"\"\"\n",
    "results = execute(q)\n",
    "nonempty_cube_cells = results[0].nonempty_cube_cells\n",
    "format_results(results)"
   ]
  },
  {
   "cell_type": "markdown",
   "metadata": {},
   "source": [
    "### Street segments (unique across pickup and dropoff)\n",
    "The structure of the cube stores the street identifier as a node and then stores two lists representing the pickups from and dropoffs to that street.  So there are basically three metrics related to each row.\n",
    "\n",
    "1. The number of unique streets (combined set of pickup and dropoff)\n",
    "1. The number of streets where pickups occur\n",
    "1. The number of streets where dropoffs occur"
   ]
  },
  {
   "cell_type": "code",
   "execution_count": 6,
   "metadata": {
    "collapsed": false
   },
   "outputs": [
    {
     "name": "stdout",
     "output_type": "stream",
     "text": [
      "The slowest run took 4.09 times longer than the fastest. This could mean that an intermediate result is being cached.\n",
      "10000 loops, best of 3: 78.1 µs per loop\n"
     ]
    },
    {
     "data": {
      "text/markdown": [
       "count_origins = 0"
      ],
      "text/plain": [
       "<IPython.core.display.Markdown object>"
      ]
     },
     "execution_count": 6,
     "metadata": {},
     "output_type": "execute_result"
    }
   ],
   "source": [
    "# Number of unique street segments\n",
    "q = \"\"\"\n",
    "    SELECT count(distinct osm_id) as count_origins\n",
    "    FROM streetcube_origindestinationcell\n",
    "\"\"\"\n",
    "results = execute(q)\n",
    "unique_streets = results[0].count_origins\n",
    "format_results(results)"
   ]
  },
  {
   "cell_type": "code",
   "execution_count": 7,
   "metadata": {
    "collapsed": false
   },
   "outputs": [
    {
     "name": "stdout",
     "output_type": "stream",
     "text": [
      "The slowest run took 90.15 times longer than the fastest. This could mean that an intermediate result is being cached.\n",
      "10000 loops, best of 3: 127 µs per loop\n"
     ]
    },
    {
     "data": {
      "text/markdown": [
       "unique_pickup_locations, unique_dropoff_locations = 0, 0"
      ],
      "text/plain": [
       "<IPython.core.display.Markdown object>"
      ]
     },
     "execution_count": 7,
     "metadata": {},
     "output_type": "execute_result"
    }
   ],
   "source": [
    "# Unique streets for pickups and dropoffs.\n",
    "q = \"\"\"\n",
    "SELECT (\n",
    "    SELECT count(DISTINCT osm_id)\n",
    "    FROM streetcube_origindestinationcell\n",
    "    WHERE\n",
    "        measures ? 'dropoff'\n",
    "        AND\n",
    "        time_inc IS NULL\n",
    "        AND\n",
    "        osm_id IS NOT NULL\n",
    ") as unique_pickup_locations,\n",
    "(\n",
    "    SELECT count(DISTINCT osm_id)\n",
    "    FROM streetcube_origindestinationcell\n",
    "    WHERE\n",
    "        measures ? 'pickup'\n",
    "        AND\n",
    "        time_inc IS NULL\n",
    "        AND\n",
    "        osm_id IS NOT NULL\n",
    ") as unique_dropoff_locations\n",
    "\"\"\".replace('\\n', ' ')\n",
    "format_results(execute(q))"
   ]
  },
  {
   "cell_type": "markdown",
   "metadata": {},
   "source": [
    "### Unique time slots"
   ]
  },
  {
   "cell_type": "code",
   "execution_count": 8,
   "metadata": {
    "collapsed": false
   },
   "outputs": [
    {
     "name": "stdout",
     "output_type": "stream",
     "text": [
      "The slowest run took 5.44 times longer than the fastest. This could mean that an intermediate result is being cached.\n",
      "10000 loops, best of 3: 74.4 µs per loop\n"
     ]
    },
    {
     "data": {
      "text/markdown": [
       "count_times = 0"
      ],
      "text/plain": [
       "<IPython.core.display.Markdown object>"
      ]
     },
     "execution_count": 8,
     "metadata": {},
     "output_type": "execute_result"
    }
   ],
   "source": [
    "# Number of unique time segments in the cube\n",
    "q = \"\"\"\n",
    "    SELECT count(distinct time_inc) as count_times\n",
    "    FROM streetcube_origindestinationcell\n",
    "\"\"\"\n",
    "results = execute(q)\n",
    "unique_times = results[0].count_times\n",
    "format_results(results)"
   ]
  },
  {
   "cell_type": "markdown",
   "metadata": {},
   "source": [
    "### Compare the Dense vs. Sparse Matrix sizes\n",
    "This is intended to give insight into whether the sparse matrix approach is actually saving any space by storing the dimension values as a list instead of hashing into a true 3D array."
   ]
  },
  {
   "cell_type": "code",
   "execution_count": 9,
   "metadata": {
    "collapsed": false
   },
   "outputs": [
    {
     "data": {
      "text/plain": [
       "'Estimated 0.0 to store sparse and 0.0 for dense, saving 0.0.'"
      ]
     },
     "execution_count": 9,
     "metadata": {},
     "output_type": "execute_result"
    }
   ],
   "source": [
    "# Get insight on total savings from a dense representation like imMens uses.\n",
    "size_of_time = 8  # bytes\n",
    "size_of_osm = 8  # bytes\n",
    "size_of_record = 8  # bytes\n",
    "dense_matrix_size = unique_streets * unique_streets * unique_times * size_of_record\n",
    "sparse_matrix_size = nonempty_cube_cells * (\n",
    "    size_of_time + size_of_osm + size_of_osm + size_of_record\n",
    ")\n",
    "'Estimated {} to store sparse and {} for dense, saving {}.'.format(\n",
    "    human_size(sparse_matrix_size),\n",
    "    human_size(dense_matrix_size),\n",
    "    human_size(dense_matrix_size-sparse_matrix_size)\n",
    ")"
   ]
  },
  {
   "cell_type": "markdown",
   "metadata": {},
   "source": [
    "## Cube Size on Disk"
   ]
  },
  {
   "cell_type": "code",
   "execution_count": 10,
   "metadata": {
    "collapsed": false
   },
   "outputs": [
    {
     "data": {
      "text/plain": [
       "'Total DB including entity data is 153 GB on disk.'"
      ]
     },
     "execution_count": 10,
     "metadata": {},
     "output_type": "execute_result"
    }
   ],
   "source": [
    "# Get the size on disk of the cube table.\n",
    "q = \"\"\"\n",
    "SELECT pg_size_pretty(sum(\n",
    "    CAST(pg_relation_size(C.oid) AS BIGINT)\n",
    ")) AS \"total_db_size\"\n",
    "FROM pg_class C\n",
    "LEFT JOIN pg_namespace N ON (N.oid = C.relnamespace)\n",
    "WHERE nspname NOT IN ('pg_catalog', 'information_schema')\n",
    "\"\"\"\n",
    "results = execute(q, execute_timeit=False)\n",
    "'Total DB including entity data is {} on disk.'.format(results[0].total_db_size)"
   ]
  },
  {
   "cell_type": "code",
   "execution_count": 11,
   "metadata": {
    "collapsed": false
   },
   "outputs": [
    {
     "data": {
      "text/plain": [
       "'TrajCube::OD is size 32 kB on disk.'"
      ]
     },
     "execution_count": 11,
     "metadata": {},
     "output_type": "execute_result"
    }
   ],
   "source": [
    "# Get the size on disk of the cube table.\n",
    "q = \"\"\"\n",
    "    SELECT pg_size_pretty(\n",
    "        pg_total_relation_size('streetcube_origindestinationcell')\n",
    "    ) AS traj_cube_size__od\n",
    "\"\"\"\n",
    "results = execute(q, execute_timeit=False)\n",
    "'TrajCube::OD is size {} on disk.'.format(results[0].traj_cube_size__od)"
   ]
  },
  {
   "cell_type": "markdown",
   "metadata": {},
   "source": [
    "# Queries\n",
    "There are some general queries that are identified as common tasks for the system:\n",
    "\n",
    "1. Find the Top N streets for pickup/dropoff in a given time and/or area\n",
    "1. Find pickup locations with diverse dropoff locations (i.e. what location goes to the most different dropoff locations)\n",
    "1. Find pickup locations with common dropoff (i.e. same pickup and dropoff locations)\n",
    "1. Calculate aggregations across streets in a given time and/or area\n",
    "\n",
    "### Find Top N streets for pickup, dropoff, and both\n",
    "There is a desire to identify locations and times where there are many people being dropped off and picked up in the same location.  Relaxing the query below can also individually find areas with only high dropoffs or areas with high pickups independently."
   ]
  },
  {
   "cell_type": "code",
   "execution_count": 12,
   "metadata": {
    "collapsed": false
   },
   "outputs": [
    {
     "name": "stdout",
     "output_type": "stream",
     "text": [
      "The slowest run took 191.89 times longer than the fastest. This could mean that an intermediate result is being cached.\n",
      "10000 loops, best of 3: 140 µs per loop\n"
     ]
    },
    {
     "data": {
      "text/plain": [
       "[]"
      ]
     },
     "execution_count": 12,
     "metadata": {},
     "output_type": "execute_result"
    }
   ],
   "source": [
    "q = \"\"\"\n",
    "    SELECT\n",
    "        time_inc,\n",
    "        osm_id,\n",
    "        (measures->'pickup'->>'count')::int as pickups,\n",
    "        (measures->'dropoff'->>'count')::int as dropoffs\n",
    "    FROM streetcube_origindestinationcell\n",
    "    WHERE \n",
    "        measures ?& array['pickup', 'dropoff']\n",
    "        AND time_inc IS NOT NULL AND osm_id IS NOT NULL\n",
    "        AND (measures->'pickup'->>'count')::int > 100\n",
    "        AND (measures->'dropoff'->>'count')::int > 100\n",
    "    ORDER BY pickups DESC, dropoffs DESC\n",
    "    LIMIT 5\n",
    "\"\"\".replace('\\n', ' ')\n",
    "format_results(execute(q))"
   ]
  },
  {
   "cell_type": "markdown",
   "metadata": {},
   "source": [
    "### Find areas where people travel to disperse locations\n",
    "Some areas that have a high degree of pickups might have different profiles.  Most likely each taxi travels to a different destination.  This query finds the pickup locations that have the most diverse set of dropoff locations."
   ]
  },
  {
   "cell_type": "code",
   "execution_count": 13,
   "metadata": {
    "collapsed": false
   },
   "outputs": [
    {
     "name": "stdout",
     "output_type": "stream",
     "text": [
      "The slowest run took 4.10 times longer than the fastest. This could mean that an intermediate result is being cached.\n",
      "10000 loops, best of 3: 163 µs per loop\n"
     ]
    },
    {
     "data": {
      "text/plain": [
       "[]"
      ]
     },
     "execution_count": 13,
     "metadata": {},
     "output_type": "execute_result"
    }
   ],
   "source": [
    "q = \"\"\"\n",
    "    WITH counts AS (\n",
    "        WITH expanded AS (\n",
    "            SELECT\n",
    "                id,\n",
    "                time_inc,\n",
    "                jsonb_object_keys(measures->'dropoff'->'items') as keys\n",
    "                FROM streetcube_origindestinationcell\n",
    "                WHERE measures ? 'dropoff'\n",
    "                AND time_inc IS NOT NULL AND osm_id is NOT NULL\n",
    "        )\n",
    "        SELECT\n",
    "            id,\n",
    "            time_inc,\n",
    "            count(DISTINCT keys) as unique_dropoff_count\n",
    "        FROM expanded\n",
    "        GROUP BY id, time_inc\n",
    "    )\n",
    "    SELECT * \n",
    "    FROM counts\n",
    "    WHERE unique_dropoff_count > 90\n",
    "    ORDER BY unique_dropoff_count DESC\n",
    "    LIMIT 5\n",
    "\"\"\".replace('\\n', ' ')\n",
    "results = execute(q)\n",
    "format_results(results)"
   ]
  },
  {
   "cell_type": "markdown",
   "metadata": {},
   "source": [
    "### Find areas that travel to common locations\n",
    "Another mobility pattern is when a lot of trip happen between common locations.  This is interesting since it identifies a connection between the two locations.  The resulting query identifies the two locations with the most trips between them."
   ]
  },
  {
   "cell_type": "code",
   "execution_count": 14,
   "metadata": {
    "collapsed": false
   },
   "outputs": [
    {
     "name": "stdout",
     "output_type": "stream",
     "text": [
      "The slowest run took 213.51 times longer than the fastest. This could mean that an intermediate result is being cached.\n",
      "1000 loops, best of 3: 165 µs per loop\n"
     ]
    },
    {
     "data": {
      "text/plain": [
       "[]"
      ]
     },
     "execution_count": 14,
     "metadata": {},
     "output_type": "execute_result"
    }
   ],
   "source": [
    "q = \"\"\"\n",
    "    WITH counts AS (\n",
    "        SELECT\n",
    "            id as pickup_id,\n",
    "            osm_id,\n",
    "            time_inc,\n",
    "            d.key::int as dropoff_id,\n",
    "            d.value::text::int as trip_count\n",
    "        FROM\n",
    "            streetcube_origindestinationcell,\n",
    "            jsonb_each(measures->'dropoff'->'items') as d\n",
    "        WHERE measures ? 'dropoff'\n",
    "        AND time_inc IS NOT NULL AND osm_id is NOT NULL    \n",
    "    )\n",
    "    SELECT *\n",
    "    FROM counts\n",
    "    WHERE trip_count > 5\n",
    "    AND dropoff_id != pickup_id\n",
    "    ORDER BY trip_count\n",
    "    LIMIT 5\n",
    "\"\"\".replace('\\n', ' ')\n",
    "results = execute(q)\n",
    "pickup_osm_list = tuple(str(r.osm_id) for r in results)\n",
    "format_results(results)"
   ]
  },
  {
   "cell_type": "markdown",
   "metadata": {},
   "source": [
    "# Linking Data\n",
    "In the origin-destination cube the data needs to be linked so there is a need to find data related to the start and end points of each trip.\n",
    "\n",
    "### Pickup Perspective: Find the dropoffs locations when provided pickup streets\n",
    "This is the table from the perspective of pickup locations.  That is, the input list represents a set of street identifiers, such as could be selected graphically, and the goal is to identify the linked dropoff locations."
   ]
  },
  {
   "cell_type": "code",
   "execution_count": 15,
   "metadata": {
    "collapsed": false
   },
   "outputs": [
    {
     "ename": "ProgrammingError",
     "evalue": "syntax error at or near \")\"\nLINE 1: ...ff'             AND             pickup.osm_id IN ()         ...\n                                                             ^\n",
     "output_type": "error",
     "traceback": [
      "\u001b[0;31m---------------------------------------------------------------------------\u001b[0m",
      "\u001b[0;31mProgrammingError\u001b[0m                          Traceback (most recent call last)",
      "\u001b[0;32m/home/dingbat/src/taxi/venv/lib/python3.5/site-packages/django/db/backends/utils.py\u001b[0m in \u001b[0;36mexecute\u001b[0;34m(self, sql, params)\u001b[0m\n\u001b[1;32m     61\u001b[0m             \u001b[0;32mif\u001b[0m \u001b[0mparams\u001b[0m \u001b[0;32mis\u001b[0m \u001b[0;32mNone\u001b[0m\u001b[0;34m:\u001b[0m\u001b[0;34m\u001b[0m\u001b[0m\n\u001b[0;32m---> 62\u001b[0;31m                 \u001b[0;32mreturn\u001b[0m \u001b[0mself\u001b[0m\u001b[0;34m.\u001b[0m\u001b[0mcursor\u001b[0m\u001b[0;34m.\u001b[0m\u001b[0mexecute\u001b[0m\u001b[0;34m(\u001b[0m\u001b[0msql\u001b[0m\u001b[0;34m)\u001b[0m\u001b[0;34m\u001b[0m\u001b[0m\n\u001b[0m\u001b[1;32m     63\u001b[0m             \u001b[0;32melse\u001b[0m\u001b[0;34m:\u001b[0m\u001b[0;34m\u001b[0m\u001b[0m\n",
      "\u001b[0;31mProgrammingError\u001b[0m: syntax error at or near \")\"\nLINE 1: ...ff'             AND             pickup.osm_id IN ()         ...\n                                                             ^\n",
      "\nThe above exception was the direct cause of the following exception:\n",
      "\u001b[0;31mProgrammingError\u001b[0m                          Traceback (most recent call last)",
      "\u001b[0;32m<ipython-input-15-24163ec41810>\u001b[0m in \u001b[0;36m<module>\u001b[0;34m()\u001b[0m\n\u001b[1;32m     30\u001b[0m     \u001b[0mLIMIT\u001b[0m \u001b[0;36m5\u001b[0m\u001b[0;34m\u001b[0m\u001b[0m\n\u001b[1;32m     31\u001b[0m \"\"\" % str(pickup_osm_list)).replace('\\n', ' ')\n\u001b[0;32m---> 32\u001b[0;31m \u001b[0mresults\u001b[0m \u001b[0;34m=\u001b[0m \u001b[0mexecute\u001b[0m\u001b[0;34m(\u001b[0m\u001b[0mq\u001b[0m\u001b[0;34m)\u001b[0m\u001b[0;34m\u001b[0m\u001b[0m\n\u001b[0m\u001b[1;32m     33\u001b[0m \u001b[0mformat_results\u001b[0m\u001b[0;34m(\u001b[0m\u001b[0mresults\u001b[0m\u001b[0;34m)\u001b[0m\u001b[0;34m\u001b[0m\u001b[0m\n",
      "\u001b[0;32m<ipython-input-2-b8349c166974>\u001b[0m in \u001b[0;36mexecute\u001b[0;34m(q_str, max_results, execute_timeit)\u001b[0m\n\u001b[1;32m     39\u001b[0m                 \u001b[0;34m\"Set global 'q' before calling execute.  Would time {} instead\"\u001b[0m\u001b[0;34m.\u001b[0m\u001b[0mformat\u001b[0m\u001b[0;34m(\u001b[0m\u001b[0mq\u001b[0m\u001b[0;34m)\u001b[0m\u001b[0;34m\u001b[0m\u001b[0m\n\u001b[1;32m     40\u001b[0m             )\n\u001b[0;32m---> 41\u001b[0;31m         \u001b[0mget_ipython\u001b[0m\u001b[0;34m(\u001b[0m\u001b[0;34m)\u001b[0m\u001b[0;34m.\u001b[0m\u001b[0mmagic\u001b[0m\u001b[0;34m(\u001b[0m\u001b[0;34m'timeit cursor.execute(q)'\u001b[0m\u001b[0;34m)\u001b[0m\u001b[0;34m\u001b[0m\u001b[0m\n\u001b[0m\u001b[1;32m     42\u001b[0m \u001b[0;34m\u001b[0m\u001b[0m\n\u001b[1;32m     43\u001b[0m     \u001b[0mcursor\u001b[0m\u001b[0;34m.\u001b[0m\u001b[0mexecute\u001b[0m\u001b[0;34m(\u001b[0m\u001b[0mq_str\u001b[0m\u001b[0;34m)\u001b[0m\u001b[0;34m\u001b[0m\u001b[0m\n",
      "\u001b[0;32m/home/dingbat/src/taxi/venv/lib/python3.5/site-packages/IPython/core/interactiveshell.py\u001b[0m in \u001b[0;36mmagic\u001b[0;34m(self, arg_s)\u001b[0m\n\u001b[1;32m   2144\u001b[0m         \u001b[0mmagic_name\u001b[0m\u001b[0;34m,\u001b[0m \u001b[0m_\u001b[0m\u001b[0;34m,\u001b[0m \u001b[0mmagic_arg_s\u001b[0m \u001b[0;34m=\u001b[0m \u001b[0marg_s\u001b[0m\u001b[0;34m.\u001b[0m\u001b[0mpartition\u001b[0m\u001b[0;34m(\u001b[0m\u001b[0;34m' '\u001b[0m\u001b[0;34m)\u001b[0m\u001b[0;34m\u001b[0m\u001b[0m\n\u001b[1;32m   2145\u001b[0m         \u001b[0mmagic_name\u001b[0m \u001b[0;34m=\u001b[0m \u001b[0mmagic_name\u001b[0m\u001b[0;34m.\u001b[0m\u001b[0mlstrip\u001b[0m\u001b[0;34m(\u001b[0m\u001b[0mprefilter\u001b[0m\u001b[0;34m.\u001b[0m\u001b[0mESC_MAGIC\u001b[0m\u001b[0;34m)\u001b[0m\u001b[0;34m\u001b[0m\u001b[0m\n\u001b[0;32m-> 2146\u001b[0;31m         \u001b[0;32mreturn\u001b[0m \u001b[0mself\u001b[0m\u001b[0;34m.\u001b[0m\u001b[0mrun_line_magic\u001b[0m\u001b[0;34m(\u001b[0m\u001b[0mmagic_name\u001b[0m\u001b[0;34m,\u001b[0m \u001b[0mmagic_arg_s\u001b[0m\u001b[0;34m)\u001b[0m\u001b[0;34m\u001b[0m\u001b[0m\n\u001b[0m\u001b[1;32m   2147\u001b[0m \u001b[0;34m\u001b[0m\u001b[0m\n\u001b[1;32m   2148\u001b[0m     \u001b[0;31m#-------------------------------------------------------------------------\u001b[0m\u001b[0;34m\u001b[0m\u001b[0;34m\u001b[0m\u001b[0m\n",
      "\u001b[0;32m/home/dingbat/src/taxi/venv/lib/python3.5/site-packages/IPython/core/interactiveshell.py\u001b[0m in \u001b[0;36mrun_line_magic\u001b[0;34m(self, magic_name, line)\u001b[0m\n\u001b[1;32m   2065\u001b[0m                 \u001b[0mkwargs\u001b[0m\u001b[0;34m[\u001b[0m\u001b[0;34m'local_ns'\u001b[0m\u001b[0;34m]\u001b[0m \u001b[0;34m=\u001b[0m \u001b[0msys\u001b[0m\u001b[0;34m.\u001b[0m\u001b[0m_getframe\u001b[0m\u001b[0;34m(\u001b[0m\u001b[0mstack_depth\u001b[0m\u001b[0;34m)\u001b[0m\u001b[0;34m.\u001b[0m\u001b[0mf_locals\u001b[0m\u001b[0;34m\u001b[0m\u001b[0m\n\u001b[1;32m   2066\u001b[0m             \u001b[0;32mwith\u001b[0m \u001b[0mself\u001b[0m\u001b[0;34m.\u001b[0m\u001b[0mbuiltin_trap\u001b[0m\u001b[0;34m:\u001b[0m\u001b[0;34m\u001b[0m\u001b[0m\n\u001b[0;32m-> 2067\u001b[0;31m                 \u001b[0mresult\u001b[0m \u001b[0;34m=\u001b[0m \u001b[0mfn\u001b[0m\u001b[0;34m(\u001b[0m\u001b[0;34m*\u001b[0m\u001b[0margs\u001b[0m\u001b[0;34m,\u001b[0m\u001b[0;34m**\u001b[0m\u001b[0mkwargs\u001b[0m\u001b[0;34m)\u001b[0m\u001b[0;34m\u001b[0m\u001b[0m\n\u001b[0m\u001b[1;32m   2068\u001b[0m             \u001b[0;32mreturn\u001b[0m \u001b[0mresult\u001b[0m\u001b[0;34m\u001b[0m\u001b[0m\n\u001b[1;32m   2069\u001b[0m \u001b[0;34m\u001b[0m\u001b[0m\n",
      "\u001b[0;32m<decorator-gen-58>\u001b[0m in \u001b[0;36mtimeit\u001b[0;34m(self, line, cell)\u001b[0m\n",
      "\u001b[0;32m/home/dingbat/src/taxi/venv/lib/python3.5/site-packages/IPython/core/magic.py\u001b[0m in \u001b[0;36m<lambda>\u001b[0;34m(f, *a, **k)\u001b[0m\n\u001b[1;32m    186\u001b[0m     \u001b[0;31m# but it's overkill for just that one bit of state.\u001b[0m\u001b[0;34m\u001b[0m\u001b[0;34m\u001b[0m\u001b[0m\n\u001b[1;32m    187\u001b[0m     \u001b[0;32mdef\u001b[0m \u001b[0mmagic_deco\u001b[0m\u001b[0;34m(\u001b[0m\u001b[0marg\u001b[0m\u001b[0;34m)\u001b[0m\u001b[0;34m:\u001b[0m\u001b[0;34m\u001b[0m\u001b[0m\n\u001b[0;32m--> 188\u001b[0;31m         \u001b[0mcall\u001b[0m \u001b[0;34m=\u001b[0m \u001b[0;32mlambda\u001b[0m \u001b[0mf\u001b[0m\u001b[0;34m,\u001b[0m \u001b[0;34m*\u001b[0m\u001b[0ma\u001b[0m\u001b[0;34m,\u001b[0m \u001b[0;34m**\u001b[0m\u001b[0mk\u001b[0m\u001b[0;34m:\u001b[0m \u001b[0mf\u001b[0m\u001b[0;34m(\u001b[0m\u001b[0;34m*\u001b[0m\u001b[0ma\u001b[0m\u001b[0;34m,\u001b[0m \u001b[0;34m**\u001b[0m\u001b[0mk\u001b[0m\u001b[0;34m)\u001b[0m\u001b[0;34m\u001b[0m\u001b[0m\n\u001b[0m\u001b[1;32m    189\u001b[0m \u001b[0;34m\u001b[0m\u001b[0m\n\u001b[1;32m    190\u001b[0m         \u001b[0;32mif\u001b[0m \u001b[0mcallable\u001b[0m\u001b[0;34m(\u001b[0m\u001b[0marg\u001b[0m\u001b[0;34m)\u001b[0m\u001b[0;34m:\u001b[0m\u001b[0;34m\u001b[0m\u001b[0m\n",
      "\u001b[0;32m/home/dingbat/src/taxi/venv/lib/python3.5/site-packages/IPython/core/magics/execution.py\u001b[0m in \u001b[0;36mtimeit\u001b[0;34m(self, line, cell)\u001b[0m\n\u001b[1;32m   1038\u001b[0m             \u001b[0mnumber\u001b[0m \u001b[0;34m=\u001b[0m \u001b[0;36m1\u001b[0m\u001b[0;34m\u001b[0m\u001b[0m\n\u001b[1;32m   1039\u001b[0m             \u001b[0;32mfor\u001b[0m \u001b[0m_\u001b[0m \u001b[0;32min\u001b[0m \u001b[0mrange\u001b[0m\u001b[0;34m(\u001b[0m\u001b[0;36m1\u001b[0m\u001b[0;34m,\u001b[0m \u001b[0;36m10\u001b[0m\u001b[0;34m)\u001b[0m\u001b[0;34m:\u001b[0m\u001b[0;34m\u001b[0m\u001b[0m\n\u001b[0;32m-> 1040\u001b[0;31m                 \u001b[0mtime_number\u001b[0m \u001b[0;34m=\u001b[0m \u001b[0mtimer\u001b[0m\u001b[0;34m.\u001b[0m\u001b[0mtimeit\u001b[0m\u001b[0;34m(\u001b[0m\u001b[0mnumber\u001b[0m\u001b[0;34m)\u001b[0m\u001b[0;34m\u001b[0m\u001b[0m\n\u001b[0m\u001b[1;32m   1041\u001b[0m                 \u001b[0mworst_tuning\u001b[0m \u001b[0;34m=\u001b[0m \u001b[0mmax\u001b[0m\u001b[0;34m(\u001b[0m\u001b[0mworst_tuning\u001b[0m\u001b[0;34m,\u001b[0m \u001b[0mtime_number\u001b[0m \u001b[0;34m/\u001b[0m \u001b[0mnumber\u001b[0m\u001b[0;34m)\u001b[0m\u001b[0;34m\u001b[0m\u001b[0m\n\u001b[1;32m   1042\u001b[0m                 \u001b[0;32mif\u001b[0m \u001b[0mtime_number\u001b[0m \u001b[0;34m>=\u001b[0m \u001b[0;36m0.2\u001b[0m\u001b[0;34m:\u001b[0m\u001b[0;34m\u001b[0m\u001b[0m\n",
      "\u001b[0;32m/home/dingbat/src/taxi/venv/lib/python3.5/site-packages/IPython/core/magics/execution.py\u001b[0m in \u001b[0;36mtimeit\u001b[0;34m(self, number)\u001b[0m\n\u001b[1;32m    137\u001b[0m         \u001b[0mgc\u001b[0m\u001b[0;34m.\u001b[0m\u001b[0mdisable\u001b[0m\u001b[0;34m(\u001b[0m\u001b[0;34m)\u001b[0m\u001b[0;34m\u001b[0m\u001b[0m\n\u001b[1;32m    138\u001b[0m         \u001b[0;32mtry\u001b[0m\u001b[0;34m:\u001b[0m\u001b[0;34m\u001b[0m\u001b[0m\n\u001b[0;32m--> 139\u001b[0;31m             \u001b[0mtiming\u001b[0m \u001b[0;34m=\u001b[0m \u001b[0mself\u001b[0m\u001b[0;34m.\u001b[0m\u001b[0minner\u001b[0m\u001b[0;34m(\u001b[0m\u001b[0mit\u001b[0m\u001b[0;34m,\u001b[0m \u001b[0mself\u001b[0m\u001b[0;34m.\u001b[0m\u001b[0mtimer\u001b[0m\u001b[0;34m)\u001b[0m\u001b[0;34m\u001b[0m\u001b[0m\n\u001b[0m\u001b[1;32m    140\u001b[0m         \u001b[0;32mfinally\u001b[0m\u001b[0;34m:\u001b[0m\u001b[0;34m\u001b[0m\u001b[0m\n\u001b[1;32m    141\u001b[0m             \u001b[0;32mif\u001b[0m \u001b[0mgcold\u001b[0m\u001b[0;34m:\u001b[0m\u001b[0;34m\u001b[0m\u001b[0m\n",
      "\u001b[0;32m<magic-timeit>\u001b[0m in \u001b[0;36minner\u001b[0;34m(_it, _timer)\u001b[0m\n",
      "\u001b[0;32m/home/dingbat/src/taxi/venv/lib/python3.5/site-packages/django/db/backends/utils.py\u001b[0m in \u001b[0;36mexecute\u001b[0;34m(self, sql, params)\u001b[0m\n\u001b[1;32m     62\u001b[0m                 \u001b[0;32mreturn\u001b[0m \u001b[0mself\u001b[0m\u001b[0;34m.\u001b[0m\u001b[0mcursor\u001b[0m\u001b[0;34m.\u001b[0m\u001b[0mexecute\u001b[0m\u001b[0;34m(\u001b[0m\u001b[0msql\u001b[0m\u001b[0;34m)\u001b[0m\u001b[0;34m\u001b[0m\u001b[0m\n\u001b[1;32m     63\u001b[0m             \u001b[0;32melse\u001b[0m\u001b[0;34m:\u001b[0m\u001b[0;34m\u001b[0m\u001b[0m\n\u001b[0;32m---> 64\u001b[0;31m                 \u001b[0;32mreturn\u001b[0m \u001b[0mself\u001b[0m\u001b[0;34m.\u001b[0m\u001b[0mcursor\u001b[0m\u001b[0;34m.\u001b[0m\u001b[0mexecute\u001b[0m\u001b[0;34m(\u001b[0m\u001b[0msql\u001b[0m\u001b[0;34m,\u001b[0m \u001b[0mparams\u001b[0m\u001b[0;34m)\u001b[0m\u001b[0;34m\u001b[0m\u001b[0m\n\u001b[0m\u001b[1;32m     65\u001b[0m \u001b[0;34m\u001b[0m\u001b[0m\n\u001b[1;32m     66\u001b[0m     \u001b[0;32mdef\u001b[0m \u001b[0mexecutemany\u001b[0m\u001b[0;34m(\u001b[0m\u001b[0mself\u001b[0m\u001b[0;34m,\u001b[0m \u001b[0msql\u001b[0m\u001b[0;34m,\u001b[0m \u001b[0mparam_list\u001b[0m\u001b[0;34m)\u001b[0m\u001b[0;34m:\u001b[0m\u001b[0;34m\u001b[0m\u001b[0m\n",
      "\u001b[0;32m/home/dingbat/src/taxi/venv/lib/python3.5/site-packages/django/db/utils.py\u001b[0m in \u001b[0;36m__exit__\u001b[0;34m(self, exc_type, exc_value, traceback)\u001b[0m\n\u001b[1;32m     93\u001b[0m                 \u001b[0;32mif\u001b[0m \u001b[0mdj_exc_type\u001b[0m \u001b[0;32mnot\u001b[0m \u001b[0;32min\u001b[0m \u001b[0;34m(\u001b[0m\u001b[0mDataError\u001b[0m\u001b[0;34m,\u001b[0m \u001b[0mIntegrityError\u001b[0m\u001b[0;34m)\u001b[0m\u001b[0;34m:\u001b[0m\u001b[0;34m\u001b[0m\u001b[0m\n\u001b[1;32m     94\u001b[0m                     \u001b[0mself\u001b[0m\u001b[0;34m.\u001b[0m\u001b[0mwrapper\u001b[0m\u001b[0;34m.\u001b[0m\u001b[0merrors_occurred\u001b[0m \u001b[0;34m=\u001b[0m \u001b[0;32mTrue\u001b[0m\u001b[0;34m\u001b[0m\u001b[0m\n\u001b[0;32m---> 95\u001b[0;31m                 \u001b[0msix\u001b[0m\u001b[0;34m.\u001b[0m\u001b[0mreraise\u001b[0m\u001b[0;34m(\u001b[0m\u001b[0mdj_exc_type\u001b[0m\u001b[0;34m,\u001b[0m \u001b[0mdj_exc_value\u001b[0m\u001b[0;34m,\u001b[0m \u001b[0mtraceback\u001b[0m\u001b[0;34m)\u001b[0m\u001b[0;34m\u001b[0m\u001b[0m\n\u001b[0m\u001b[1;32m     96\u001b[0m \u001b[0;34m\u001b[0m\u001b[0m\n\u001b[1;32m     97\u001b[0m     \u001b[0;32mdef\u001b[0m \u001b[0m__call__\u001b[0m\u001b[0;34m(\u001b[0m\u001b[0mself\u001b[0m\u001b[0;34m,\u001b[0m \u001b[0mfunc\u001b[0m\u001b[0;34m)\u001b[0m\u001b[0;34m:\u001b[0m\u001b[0;34m\u001b[0m\u001b[0m\n",
      "\u001b[0;32m/home/dingbat/src/taxi/venv/lib/python3.5/site-packages/django/utils/six.py\u001b[0m in \u001b[0;36mreraise\u001b[0;34m(tp, value, tb)\u001b[0m\n\u001b[1;32m    683\u001b[0m             \u001b[0mvalue\u001b[0m \u001b[0;34m=\u001b[0m \u001b[0mtp\u001b[0m\u001b[0;34m(\u001b[0m\u001b[0;34m)\u001b[0m\u001b[0;34m\u001b[0m\u001b[0m\n\u001b[1;32m    684\u001b[0m         \u001b[0;32mif\u001b[0m \u001b[0mvalue\u001b[0m\u001b[0;34m.\u001b[0m\u001b[0m__traceback__\u001b[0m \u001b[0;32mis\u001b[0m \u001b[0;32mnot\u001b[0m \u001b[0mtb\u001b[0m\u001b[0;34m:\u001b[0m\u001b[0;34m\u001b[0m\u001b[0m\n\u001b[0;32m--> 685\u001b[0;31m             \u001b[0;32mraise\u001b[0m \u001b[0mvalue\u001b[0m\u001b[0;34m.\u001b[0m\u001b[0mwith_traceback\u001b[0m\u001b[0;34m(\u001b[0m\u001b[0mtb\u001b[0m\u001b[0;34m)\u001b[0m\u001b[0;34m\u001b[0m\u001b[0m\n\u001b[0m\u001b[1;32m    686\u001b[0m         \u001b[0;32mraise\u001b[0m \u001b[0mvalue\u001b[0m\u001b[0;34m\u001b[0m\u001b[0m\n\u001b[1;32m    687\u001b[0m \u001b[0;34m\u001b[0m\u001b[0m\n",
      "\u001b[0;32m/home/dingbat/src/taxi/venv/lib/python3.5/site-packages/django/db/backends/utils.py\u001b[0m in \u001b[0;36mexecute\u001b[0;34m(self, sql, params)\u001b[0m\n\u001b[1;32m     60\u001b[0m         \u001b[0;32mwith\u001b[0m \u001b[0mself\u001b[0m\u001b[0;34m.\u001b[0m\u001b[0mdb\u001b[0m\u001b[0;34m.\u001b[0m\u001b[0mwrap_database_errors\u001b[0m\u001b[0;34m:\u001b[0m\u001b[0;34m\u001b[0m\u001b[0m\n\u001b[1;32m     61\u001b[0m             \u001b[0;32mif\u001b[0m \u001b[0mparams\u001b[0m \u001b[0;32mis\u001b[0m \u001b[0;32mNone\u001b[0m\u001b[0;34m:\u001b[0m\u001b[0;34m\u001b[0m\u001b[0m\n\u001b[0;32m---> 62\u001b[0;31m                 \u001b[0;32mreturn\u001b[0m \u001b[0mself\u001b[0m\u001b[0;34m.\u001b[0m\u001b[0mcursor\u001b[0m\u001b[0;34m.\u001b[0m\u001b[0mexecute\u001b[0m\u001b[0;34m(\u001b[0m\u001b[0msql\u001b[0m\u001b[0;34m)\u001b[0m\u001b[0;34m\u001b[0m\u001b[0m\n\u001b[0m\u001b[1;32m     63\u001b[0m             \u001b[0;32melse\u001b[0m\u001b[0;34m:\u001b[0m\u001b[0;34m\u001b[0m\u001b[0m\n\u001b[1;32m     64\u001b[0m                 \u001b[0;32mreturn\u001b[0m \u001b[0mself\u001b[0m\u001b[0;34m.\u001b[0m\u001b[0mcursor\u001b[0m\u001b[0;34m.\u001b[0m\u001b[0mexecute\u001b[0m\u001b[0;34m(\u001b[0m\u001b[0msql\u001b[0m\u001b[0;34m,\u001b[0m \u001b[0mparams\u001b[0m\u001b[0;34m)\u001b[0m\u001b[0;34m\u001b[0m\u001b[0m\n",
      "\u001b[0;31mProgrammingError\u001b[0m: syntax error at or near \")\"\nLINE 1: ...ff'             AND             pickup.osm_id IN ()         ...\n                                                             ^\n"
     ]
    }
   ],
   "source": [
    "q = (\"\"\"\n",
    "    WITH pickup_base AS (\n",
    "        SELECT\n",
    "            pickup.id as pickup_id,\n",
    "            pickup.osm_id as pickup_street,\n",
    "            pickup.time_inc as pickup_time,\n",
    "            items.key::int as dropoff_id,\n",
    "            items.value::text::int as dropoff_count\n",
    "        FROM\n",
    "            streetcube_origindestinationcell as pickup,\n",
    "            jsonb_each(pickup.measures->'dropoff'->'items') as items\n",
    "        WHERE\n",
    "            pickup.measures ? 'dropoff'\n",
    "            AND\n",
    "            pickup.osm_id IN %s\n",
    "            AND time_inc IS NOT NULL AND osm_id is NOT NULL\n",
    "    )\n",
    "    SELECT\n",
    "        pickup_street,\n",
    "        pickup_time,\n",
    "        dropoff.osm_id as dropoff_street,\n",
    "        dropoff.time_inc as dropoff_time,\n",
    "        dropoff_count\n",
    "    FROM\n",
    "        pickup_base,\n",
    "        streetcube_origindestinationcell as dropoff\n",
    "    WHERE\n",
    "        dropoff.id = dropoff_id\n",
    "    ORDER BY dropoff_count DESC\n",
    "    LIMIT 5\n",
    "\"\"\" % str(pickup_osm_list)).replace('\\n', ' ')\n",
    "results = execute(q)\n",
    "format_results(results)"
   ]
  },
  {
   "cell_type": "markdown",
   "metadata": {},
   "source": [
    "### Dropoff Perspective: Find pickup locations related to provided dropoff locations\n",
    "This is the same as the list above except that it does the query by finding where people are coming from in the given locations."
   ]
  },
  {
   "cell_type": "code",
   "execution_count": null,
   "metadata": {
    "collapsed": false
   },
   "outputs": [],
   "source": [
    "q = (\"\"\"\n",
    "    WITH dropoff_base AS (\n",
    "        SELECT\n",
    "            dropoff.id as dropoff_id,\n",
    "            dropoff.osm_id as dropoff_street,\n",
    "            dropoff.time_inc as dropoff_time,\n",
    "            items.key::int as pickup_id,\n",
    "            items.value::text::int as pickup_count\n",
    "        FROM\n",
    "            streetcube_origindestinationcell as dropoff,\n",
    "            jsonb_each(dropoff.measures->'pickup'->'items') as items\n",
    "        WHERE\n",
    "            dropoff.osm_id IN {}\n",
    "            AND\n",
    "            dropoff.measures ? 'pickup'\n",
    "            AND time_inc IS NOT NULL AND osm_id is NOT NULL\n",
    "    )\n",
    "    SELECT\n",
    "        dropoff_street,\n",
    "        dropoff_time,\n",
    "        pickup.osm_id as pickup_street,\n",
    "        pickup.time_inc as pickup_time,\n",
    "        pickup_count\n",
    "    FROM\n",
    "        dropoff_base,\n",
    "        streetcube_origindestinationcell as pickup\n",
    "    WHERE\n",
    "        pickup.id = pickup_id\n",
    "    ORDER BY pickup_count DESC\n",
    "    LIMIT 5\n",
    "\"\"\".format(pickup_osm_list)).replace('\\n', ' ')\n",
    "results = execute(q)\n",
    "format_results(results)"
   ]
  },
  {
   "cell_type": "markdown",
   "metadata": {},
   "source": [
    "# Aggregations Across Dimensions\n",
    "This section provides the queries that aggregate across a single dimension.  These will be used to save the aggregation in the cube for faster recall later when that dimension is unconstrained in the query.\n",
    "\n",
    "The supported queries include:\n",
    "1. Aggregate in the time dimension\n",
    "1. Aggregate in the general street psuedo-dimension\n",
    "1. Aggregate in the pickup dimension\n",
    "1. Aggregate in the dropoff dimension\n",
    "\n",
    "## Unbound time aggregation\n",
    "This is where the time dimension is not bound, meaning that all records must be analyzed regardless of time.  For example, which street has the most pickups or dropoffs."
   ]
  },
  {
   "cell_type": "code",
   "execution_count": null,
   "metadata": {
    "collapsed": false
   },
   "outputs": [],
   "source": [
    "q = \"\"\"\n",
    "    WITH expanded_measures AS (\n",
    "        SELECT \n",
    "            osm_id,\n",
    "            m.key,\n",
    "            (m.value->>'count')::bigint as count\n",
    "        FROM streetcube_origindestinationcell, jsonb_each(measures) as m\n",
    "        WHERE time_inc IS NULL and osm_id IS NOT NULL\n",
    "    )\n",
    "    SELECT *\n",
    "    FROM expanded_measures\n",
    "    ORDER BY count DESC\n",
    "    LIMIT 6\n",
    "\"\"\".format(pickup_osm_list)\n",
    "results = execute(q)\n",
    "format_results(results)"
   ]
  },
  {
   "cell_type": "markdown",
   "metadata": {},
   "source": [
    "## Unbound street aggregation\n",
    "This is where the street dimension is not bound and all records related must be combined.  This aggregation can be used to answer questions such as:\n",
    "1. In this set of times, which street has the most pickups/dropoffs\n",
    "1. Which times have the most pickups/dropoffs?  What are the pickup/dropoff streets?"
   ]
  },
  {
   "cell_type": "code",
   "execution_count": null,
   "metadata": {
    "collapsed": false
   },
   "outputs": [],
   "source": [
    "q = \"\"\"\n",
    "    WITH expanded_measures AS (\n",
    "        SELECT \n",
    "            time_inc,\n",
    "            m.key,\n",
    "            (m.value->>'count')::bigint as count\n",
    "        FROM streetcube_origindestinationcell, jsonb_each(measures) as m\n",
    "        WHERE time_inc IS NOT NULL and osm_id IS NULL\n",
    "    )\n",
    "    SELECT *\n",
    "    FROM expanded_measures\n",
    "    ORDER BY count DESC\n",
    "    LIMIT 6\n",
    "\"\"\".format(pickup_osm_list)\n",
    "results = execute(q)\n",
    "format_results(results)"
   ]
  },
  {
   "cell_type": "markdown",
   "metadata": {},
   "source": [
    "## Rollup along pickup/dropoff locations and time\n",
    "Each (time, street) pair provides a list of pickup and dropoff locations associated with it.  Along with that list is a pre-calculated measure that is the aggregation across the entire list.  This aggregation is seen in many of the previous queries where the returned lists have structures such as:\n",
    "<pre>\n",
    "{\n",
    "    'dropoff': {\n",
    "       'items': { ... },\n",
    "       'count': 24\n",
    "    },\n",
    "    'pickup': {\n",
    "       'items': { ... },\n",
    "       'count': 17\n",
    "    }\n",
    "}\n",
    "</pre>\n",
    "In the example above, from the street and time referenced by this record, there are 24 outgoing edges (i.e. 24 trips from this street to other streets.  There are 17 incoming edges, meaning that 17 trips started somewhere and complete at this street.  The effect of having this pre-aggregation can be observed when the desired query does not require specifics about both ends of the trip, such as when simply trying to summarize the number of trips leaving a particular street as in the examples below that quantify performing the query with and without the pre-aggregation.\n",
    "\n",
    "### Not using the pre-rollup aggregation"
   ]
  },
  {
   "cell_type": "code",
   "execution_count": null,
   "metadata": {
    "collapsed": false
   },
   "outputs": [],
   "source": [
    "# Rollup along the pickup locations\n",
    "q = (\"\"\"\n",
    "    WITH pickup_base AS (\n",
    "        SELECT\n",
    "            pickup.id as pickup_id,\n",
    "            pickup.osm_id as pickup_street,\n",
    "            pickup.time_inc as pickup_time,\n",
    "            item.key::int as dropoff_id,\n",
    "            item.value::text::int as dropoff_count\n",
    "        FROM\n",
    "            streetcube_origindestinationcell as pickup,\n",
    "            jsonb_each(pickup.measures->'dropoff'->'items') as item\n",
    "        WHERE\n",
    "            pickup.osm_id IN %s\n",
    "            AND pickup.time_inc IS NOT NULL\n",
    "            AND pickup.measures ? 'dropoff'\n",
    "    )\n",
    "    SELECT\n",
    "        pickup_street,\n",
    "        sum(dropoff_count) as dropoff_count\n",
    "    FROM\n",
    "        pickup_base,\n",
    "        streetcube_origindestinationcell as dropoff\n",
    "    WHERE\n",
    "        dropoff.id = dropoff_id\n",
    "    GROUP BY pickup_street\n",
    "    ORDER BY dropoff_count DESC\n",
    "\"\"\" % str(pickup_osm_list)).replace('\\n', ' ')\n",
    "results = execute(q)\n",
    "format_results(results)"
   ]
  },
  {
   "cell_type": "markdown",
   "metadata": {},
   "source": [
    "### Using pre-rollup aggregation data"
   ]
  },
  {
   "cell_type": "code",
   "execution_count": null,
   "metadata": {
    "collapsed": false
   },
   "outputs": [],
   "source": [
    "# Rollup along the pickup locations.  This finds the same answer as above but much faster.\n",
    "q = (\"\"\"\n",
    "    SELECT\n",
    "        pickup.osm_id as pickup_street,\n",
    "        sum((pickup.measures->'dropoff'->>'count')::int) as dropoff_count\n",
    "    FROM\n",
    "        streetcube_origindestinationcell as pickup\n",
    "    WHERE\n",
    "        pickup.osm_id IN %s\n",
    "        AND pickup.measures ? 'dropoff'\n",
    "        AND pickup.time_inc IS NOT NULL\n",
    "    GROUP BY pickup_street\n",
    "    ORDER BY dropoff_count DESC\n",
    "\"\"\" % str(pickup_osm_list)).replace('\\n', ' ')\n",
    "results = execute(q)\n",
    "format_results(results)"
   ]
  },
  {
   "cell_type": "code",
   "execution_count": null,
   "metadata": {
    "collapsed": false
   },
   "outputs": [],
   "source": [
    "# Just getting the total number of pickup and dropoff.  Note that this can also provide the totals\n",
    "# for individual streets so that getting the total pickups or dropoffs\n",
    "q = \"\"\"\n",
    "    SELECT\n",
    "        m.key as measure_label,\n",
    "        (m.value->>'count')::bigint as count\n",
    "    FROM\n",
    "        streetcube_origindestinationcell as od,\n",
    "        jsonb_each(measures) as m\n",
    "    WHERE\n",
    "        osm_id IS NULL AND time_inc IS NULL\n",
    "\"\"\".replace('\\n', ' ')\n",
    "results = execute(q)\n",
    "format_results(results)"
   ]
  },
  {
   "cell_type": "markdown",
   "metadata": {},
   "source": [
    "# Other Queries\n",
    "## Organizing data by month"
   ]
  },
  {
   "cell_type": "code",
   "execution_count": null,
   "metadata": {
    "collapsed": false
   },
   "outputs": [],
   "source": [
    "q = (\"\"\"\n",
    "    WITH agg AS (\n",
    "        WITH time_base AS (\n",
    "            WITH expanded_items AS (\n",
    "                WITH expanded_measures AS (\n",
    "                    SELECT\n",
    "                        time_inc,\n",
    "                        m.key as measure_label,\n",
    "                        (m.value->'items') as items\n",
    "                    FROM\n",
    "                        streetcube_origindestinationcell,\n",
    "                        jsonb_each(measures) as m\n",
    "                    WHERE osm_id IS NULL AND time_inc IS NOT NULL\n",
    "                )\n",
    "                SELECT\n",
    "                    time_inc,\n",
    "                    measure_label,\n",
    "                        item.key as item_id,\n",
    "                        item.value::text::int as item_count\n",
    "                    FROM\n",
    "                        expanded_measures,\n",
    "                        jsonb_each(items) as item\n",
    "            )\n",
    "            SELECT\n",
    "                time_inc,\n",
    "                extract(DAY FROM time_inc) as day_of_month,\n",
    "                extract(ISODOW FROM time_inc) as day_of_week,\n",
    "                extract(DOY FROM time_inc) as day_of_year,\n",
    "                extract(ISOYEAR FROM time_inc) as year,\n",
    "                extract(MONTH FROM time_inc) as month,\n",
    "                extract(WEEK FROM time_inc) as week,\n",
    "                extract(HOUR FROM time_inc) as hour,\n",
    "                (SELECT extract(ISODOW FROM time_inc) <=5) as workday,\n",
    "                measure_label,\n",
    "                item_id,\n",
    "                item_count\n",
    "            FROM expanded_items\n",
    "        )\n",
    "        SELECT\n",
    "            month,\n",
    "            measure_label,\n",
    "            sum(item_count) as total_count\n",
    "        FROM time_base\n",
    "        GROUP BY month, measure_label\n",
    "    )\n",
    "    SELECT\n",
    "        month::int,\n",
    "        json_object_agg(\n",
    "            measure_label, total_count\n",
    "        ) as measures\n",
    "    FROM agg\n",
    "    GROUP BY month\n",
    "    ORDER BY month\n",
    "\"\"\").replace('\\n', ' ')\n",
    "results = execute(q)\n",
    "format_results(results)"
   ]
  }
 ],
 "metadata": {
  "kernelspec": {
   "display_name": "Django Shell-Plus",
   "language": "python",
   "name": "django_extensions"
  },
  "language_info": {
   "codemirror_mode": {
    "name": "ipython",
    "version": 3
   },
   "file_extension": ".py",
   "mimetype": "text/x-python",
   "name": "python",
   "nbconvert_exporter": "python",
   "pygments_lexer": "ipython3",
   "version": "3.5.1"
  }
 },
 "nbformat": 4,
 "nbformat_minor": 0
}
